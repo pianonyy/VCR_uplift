{
  "nbformat": 4,
  "nbformat_minor": 0,
  "metadata": {
    "accelerator": "GPU",
    "colab": {
      "name": "Siamese_networks.ipynb",
      "provenance": [],
      "collapsed_sections": []
    },
    "kernelspec": {
      "display_name": "Python 3",
      "name": "python3"
    }
  },
  "cells": [
    {
      "cell_type": "code",
      "metadata": {
        "id": "Z2SJ-abn1cFt"
      },
      "source": [
        "import numpy as np\n",
        "import pandas as pd\n",
        "from sklearn.metrics import auc\n",
        "from sklearn.utils.extmath import stable_cumsum\n",
        "from sklearn.utils.validation import check_consistent_length\n",
        "\n",
        "def uplift_curve(y_true, uplift, treatment):\n",
        "    \n",
        "\n",
        "    check_consistent_length(y_true, uplift, treatment)\n",
        "    \n",
        "    y_true, uplift, treatment = np.array(y_true), np.array(uplift), np.array(treatment)\n",
        "\n",
        "    desc_score_indices = np.argsort(uplift, kind=\"mergesort\")[::-1]\n",
        "    y_true, uplift, treatment = y_true[desc_score_indices], uplift[desc_score_indices], treatment[desc_score_indices]\n",
        "\n",
        "    y_true_ctrl, y_true_trmnt = y_true.copy(), y_true.copy()\n",
        "\n",
        "    y_true_ctrl[treatment == 1] = 0\n",
        "    y_true_trmnt[treatment == 0] = 0\n",
        "\n",
        "    distinct_value_indices = np.where(np.diff(uplift))[0]\n",
        "    threshold_indices = np.r_[distinct_value_indices, uplift.size - 1]\n",
        "\n",
        "    num_trmnt = stable_cumsum(treatment)[threshold_indices]\n",
        "    y_trmnt = stable_cumsum(y_true_trmnt)[threshold_indices]\n",
        "\n",
        "    num_all = threshold_indices + 1\n",
        "\n",
        "    num_ctrl = num_all - num_trmnt\n",
        "    y_ctrl = stable_cumsum(y_true_ctrl)[threshold_indices]\n",
        "\n",
        "    curve_values = (np.divide(y_trmnt, num_trmnt, out=np.zeros_like(y_trmnt), where=num_trmnt != 0) -\n",
        "                    np.divide(y_ctrl, num_ctrl, out=np.zeros_like(y_ctrl), where=num_ctrl != 0)) * num_all\n",
        "\n",
        "    if num_all.size == 0 or curve_values[0] != 0 or num_all[0] != 0:\n",
        "        # Add an extra threshold position if necessary\n",
        "        # to make sure that the curve starts at (0, 0)\n",
        "        num_all = np.r_[0, num_all]\n",
        "        curve_values = np.r_[0, curve_values]\n",
        "\n",
        "    return num_all, curve_values\n",
        "\n",
        "\n",
        "def perfect_uplift_curve(y_true, treatment):\n",
        "   \n",
        "\n",
        "    check_consistent_length(y_true, treatment)\n",
        "    \n",
        "    y_true, treatment = np.array(y_true), np.array(treatment)\n",
        "\n",
        "    cr_num = np.sum((y_true == 1) & (treatment == 0))  # Control Responders\n",
        "    tn_num = np.sum((y_true == 0) & (treatment == 1))  # Treated Non-Responders\n",
        "\n",
        "    # express an ideal uplift curve through y_true and treatment\n",
        "    summand = y_true if cr_num > tn_num else treatment\n",
        "    perfect_uplift = 2 * (y_true == treatment) + summand\n",
        "\n",
        "    return uplift_curve(y_true, perfect_uplift, treatment)\n",
        "\n",
        "\n",
        "def uplift_auc_score(y_true, uplift, treatment):\n",
        "   \n",
        "\n",
        "    check_consistent_length(y_true, uplift, treatment)\n",
        "    \n",
        "    y_true, uplift, treatment = np.array(y_true), np.array(uplift), np.array(treatment)\n",
        "\n",
        "    x_actual, y_actual = uplift_curve(y_true, uplift, treatment)\n",
        "    x_perfect, y_perfect = perfect_uplift_curve(y_true, treatment)\n",
        "    x_baseline, y_baseline = np.array([0, x_perfect[-1]]), np.array([0, y_perfect[-1]])\n",
        "\n",
        "    auc_score_baseline = auc(x_baseline, y_baseline)\n",
        "    auc_score_perfect = auc(x_perfect, y_perfect) - auc_score_baseline\n",
        "    auc_score_actual = auc(x_actual, y_actual) - auc_score_baseline\n",
        "\n",
        "    return auc_score_actual / auc_score_perfect"
      ],
      "execution_count": null,
      "outputs": []
    },
    {
      "cell_type": "code",
      "metadata": {
        "id": "KsvphRCT4Xr_"
      },
      "source": [
        "import torch\n",
        "import torch.nn as nn\n",
        "import torch.optim as optim\n",
        "from torch.utils.data import Dataset, DataLoader\n",
        "\n",
        "import warnings\n",
        "import numpy as np\n",
        "from sklearn.utils.extmath import stable_cumsum\n",
        "from sklearn.utils.validation import check_consistent_length\n",
        "from sklearn.metrics import auc\n",
        "\n",
        "from torch.autograd import Variable\n",
        "\n",
        "\n",
        "from numpy import asarray\n",
        "from numpy import savez_compressed"
      ],
      "execution_count": null,
      "outputs": []
    },
    {
      "cell_type": "code",
      "metadata": {
        "colab": {
          "base_uri": "https://localhost:8080/"
        },
        "id": "zPX_jtIXxsxR",
        "outputId": "7c8a018a-4f09-40d0-e0a0-f405e6d6c153"
      },
      "source": [
        "!git clone https://github.com/pianonyy/UPLIFT_modeling.git"
      ],
      "execution_count": null,
      "outputs": [
        {
          "output_type": "stream",
          "text": [
            "Cloning into 'UPLIFT_modeling'...\n",
            "remote: Enumerating objects: 301, done.\u001b[K\n",
            "remote: Counting objects: 100% (301/301), done.\u001b[K\n",
            "remote: Compressing objects: 100% (221/221), done.\u001b[K\n",
            "remote: Total 567 (delta 153), reused 192 (delta 74), pack-reused 266\u001b[K\n",
            "Receiving objects: 100% (567/567), 13.66 MiB | 13.55 MiB/s, done.\n",
            "Resolving deltas: 100% (265/265), done.\n"
          ],
          "name": "stdout"
        }
      ]
    },
    {
      "cell_type": "code",
      "metadata": {
        "colab": {
          "base_uri": "https://localhost:8080/"
        },
        "id": "uvZ2ZOU9xxYf",
        "outputId": "dbf3e719-0b90-4d8a-ff9f-160ed6208d55"
      },
      "source": [
        "!pip install -e UPLIFT_modeling/"
      ],
      "execution_count": null,
      "outputs": [
        {
          "output_type": "stream",
          "text": [
            "Obtaining file:///content/UPLIFT_modeling\n",
            "Requirement already satisfied: numpy>=1.7 in /usr/local/lib/python3.7/dist-packages (from uplift==0.1) (1.19.5)\n",
            "Requirement already satisfied: scipy>=0.9 in /usr/local/lib/python3.7/dist-packages (from uplift==0.1) (1.4.1)\n",
            "Requirement already satisfied: cython in /usr/local/lib/python3.7/dist-packages (from uplift==0.1) (0.29.21)\n",
            "Requirement already satisfied: joblib in /usr/local/lib/python3.7/dist-packages (from uplift==0.1) (1.0.1)\n",
            "Installing collected packages: uplift\n",
            "  Running setup.py develop for uplift\n",
            "Successfully installed uplift\n"
          ],
          "name": "stdout"
        }
      ]
    },
    {
      "cell_type": "code",
      "metadata": {
        "id": "UQSBY7CdGF-U"
      },
      "source": [
        "import logging\n",
        "from os.path import join as pjoin\n",
        "from typing import Tuple\n",
        "\n",
        "import pandas as pd\n",
        "from sklearn.preprocessing import LabelEncoder\n",
        "\n",
        "N_PURCHASES_ROWS = None\n",
        "DATA_PATH = '/content/drive/MyDrive/' \n",
        "logger = logging.getLogger(__name__)\n",
        "\n",
        "\n",
        "def load_clients() -> pd.DataFrame:\n",
        "    return pd.read_csv(\n",
        "        pjoin(DATA_PATH, 'clients.csv'),\n",
        "        parse_dates=['first_issue_date', 'first_redeem_date'],\n",
        "    )\n",
        "\n",
        "\n",
        "def prepare_clients() -> Tuple[pd.DataFrame, LabelEncoder]:\n",
        "    logger.info('Preparing clients...')\n",
        "    clients = load_clients()\n",
        "    client_encoder = LabelEncoder()\n",
        "    clients['client_id'] = client_encoder.fit_transform(clients['client_id'])\n",
        "    logger.info('Clients are ready')\n",
        "    return clients, client_encoder\n",
        "\n",
        "\n",
        "def load_products() -> pd.DataFrame:\n",
        "    return pd.read_csv(pjoin(DATA_PATH, 'products.csv'))\n",
        "\n",
        "\n",
        "def prepare_products() -> Tuple[pd.DataFrame, LabelEncoder]:\n",
        "    logger.info('Preparing products...')\n",
        "    products = load_products()\n",
        "    product_encoder = LabelEncoder()\n",
        "    products['product_id'] = product_encoder. \\\n",
        "        fit_transform(products['product_id'])\n",
        "\n",
        "    products.fillna(-1, inplace=True)\n",
        "\n",
        "    for col in [\n",
        "        'level_1', 'level_2', 'level_3', 'level_4',\n",
        "        'segment_id', 'brand_id', 'vendor_id',\n",
        "    ]:\n",
        "        products[col] = LabelEncoder().fit_transform(products[col].astype(str))\n",
        "    logger.info('Products are ready')\n",
        "    return products, product_encoder\n",
        "\n",
        "\n",
        "def load_purchases() -> pd.DataFrame:\n",
        "    logger.info('Loading purchases...')\n",
        "    purchases = pd.read_csv(\n",
        "        pjoin(DATA_PATH, 'purchases.csv'),\n",
        "        nrows=N_PURCHASES_ROWS,\n",
        "    )\n",
        "    logger.info('Purchases are loaded')\n",
        "    return purchases\n",
        "\n",
        "\n",
        "def prepare_purchases(\n",
        "        client_encoder: LabelEncoder,\n",
        "        product_encoder: LabelEncoder,\n",
        ") -> pd.DataFrame:\n",
        "    logger.info('Preparing purchases...')\n",
        "    purchases = load_purchases()\n",
        "\n",
        "    logger.info('Handling n/a values...')\n",
        "    purchases.dropna(\n",
        "        subset=['client_id', 'product_id'],\n",
        "        how='any',\n",
        "        inplace=True,\n",
        "    )\n",
        "    purchases.fillna(-1, inplace=True)\n",
        "\n",
        "    logger.info('Label encoding...')\n",
        "    purchases['client_id'] = client_encoder.transform(purchases['client_id'])\n",
        "    purchases['product_id'] = product_encoder.transform(purchases['product_id'])\n",
        "    for col in ['transaction_id', 'store_id']:\n",
        "        purchases[col] = LabelEncoder(). \\\n",
        "            fit_transform(purchases[col].astype(str))\n",
        "\n",
        "    logger.info('Date and time conversion...')\n",
        "    purchases['datetime'] = pd.to_datetime(\n",
        "        purchases['transaction_datetime'],\n",
        "        format='%Y-%m-%d %H:%M:%S',\n",
        "    )\n",
        "    purchases.drop(columns=['transaction_datetime'], inplace=True)\n",
        "\n",
        "    logger.info('Purchases are ready')\n",
        "    return purchases\n",
        "\n",
        "\n",
        "def load_train() -> pd.DataFrame:\n",
        "    return pd.read_csv(\n",
        "        pjoin(DATA_PATH, 'uplift_train.csv'),\n",
        "        index_col='client_id',\n",
        "    )\n",
        "\n",
        "\n",
        "def load_test() -> pd.DataFrame:\n",
        "    return pd.read_csv(\n",
        "        pjoin(DATA_PATH, 'uplift_test.csv'),\n",
        "        index_col='client_id',\n",
        "    )\n"
      ],
      "execution_count": null,
      "outputs": []
    },
    {
      "cell_type": "code",
      "metadata": {
        "colab": {
          "base_uri": "https://localhost:8080/"
        },
        "id": "J8JO4biyK97B",
        "outputId": "f997239b-757e-452f-b7b6-e7d13a23f431"
      },
      "source": [
        "!unzip /content/drive/MyDrive/features.zip"
      ],
      "execution_count": null,
      "outputs": [
        {
          "output_type": "stream",
          "text": [
            "Archive:  /content/drive/MyDrive/features.zip\n",
            "  inflating: features.pkl            \n"
          ],
          "name": "stdout"
        }
      ]
    },
    {
      "cell_type": "code",
      "metadata": {
        "colab": {
          "base_uri": "https://localhost:8080/"
        },
        "id": "Et_g8OCuS1Fi",
        "outputId": "073fc430-6b56-41e9-ded8-313977f6f1ab"
      },
      "source": [
        "!pip install pickle5"
      ],
      "execution_count": null,
      "outputs": [
        {
          "output_type": "stream",
          "text": [
            "Collecting pickle5\n",
            "\u001b[?25l  Downloading https://files.pythonhosted.org/packages/f7/4c/5c4dd0462c8d3a6bc4af500a6af240763c2ebd1efdc736fc2c946d44b70a/pickle5-0.0.11.tar.gz (132kB)\n",
            "\r\u001b[K     |██▌                             | 10kB 21.6MB/s eta 0:00:01\r\u001b[K     |█████                           | 20kB 14.8MB/s eta 0:00:01\r\u001b[K     |███████▍                        | 30kB 12.6MB/s eta 0:00:01\r\u001b[K     |██████████                      | 40kB 12.1MB/s eta 0:00:01\r\u001b[K     |████████████▍                   | 51kB 7.7MB/s eta 0:00:01\r\u001b[K     |██████████████▉                 | 61kB 7.4MB/s eta 0:00:01\r\u001b[K     |█████████████████▍              | 71kB 8.4MB/s eta 0:00:01\r\u001b[K     |███████████████████▉            | 81kB 9.3MB/s eta 0:00:01\r\u001b[K     |██████████████████████▎         | 92kB 8.8MB/s eta 0:00:01\r\u001b[K     |████████████████████████▉       | 102kB 7.7MB/s eta 0:00:01\r\u001b[K     |███████████████████████████▎    | 112kB 7.7MB/s eta 0:00:01\r\u001b[K     |█████████████████████████████▊  | 122kB 7.7MB/s eta 0:00:01\r\u001b[K     |████████████████████████████████| 133kB 7.7MB/s \n",
            "\u001b[?25hBuilding wheels for collected packages: pickle5\n",
            "  Building wheel for pickle5 (setup.py) ... \u001b[?25l\u001b[?25hdone\n",
            "  Created wheel for pickle5: filename=pickle5-0.0.11-cp37-cp37m-linux_x86_64.whl size=219253 sha256=7245a3b28da818a3793dc58eb09f00bdd082b379d5dbbce1e3c31f8ab8e38b30\n",
            "  Stored in directory: /root/.cache/pip/wheels/a6/90/95/f889ca4aa8b0e0c7f21c8470b6f5d6032f0390a3a141a9a3bd\n",
            "Successfully built pickle5\n",
            "Installing collected packages: pickle5\n",
            "Successfully installed pickle5-0.0.11\n"
          ],
          "name": "stdout"
        }
      ]
    },
    {
      "cell_type": "code",
      "metadata": {
        "colab": {
          "base_uri": "https://localhost:8080/"
        },
        "id": "PV94X1S55omZ",
        "outputId": "3763c3d1-617a-43f1-8eb0-9750d76f2199"
      },
      "source": [
        "import pickle5\n",
        "\n",
        "RANDOM_STATE = 12\n",
        "\n",
        "from sklearn.model_selection import train_test_split\n",
        "\n",
        "train = load_train()\n",
        "indices_train = train.index\n",
        "with open('features.pkl', 'rb') as f:\n",
        "        features: pd.DataFrame = pickle5.load(f)\n",
        "\n",
        "features.set_index('client_id', inplace=True)\n",
        "X_train = features.loc[indices_train, :]\n",
        "\n",
        "\n",
        "\n",
        "treatment_train = train.loc[indices_train, 'treatment_flg'].values\n",
        "y_train = train.loc[indices_train, 'target'].values\n",
        "\n",
        "X_train['treatment'] = treatment_train\n",
        "X_train['target'] = y_train\n",
        "\n",
        "X_train.loc[(X_train['target'] == 1) & (X_train['treatment'] == 1),'Z_trans'] = 2\n",
        "X_train.loc[(X_train['target'] == 1) & (X_train['treatment'] == 0),'Z_trans'] =  -2\n",
        "X_train.loc[X_train['Z_trans'].isnull(), 'Z_trans'] = 0\n",
        "\n",
        "print(X_train[['Z_trans','treatment','target']])\n",
        "\n",
        "\n",
        "\n",
        "indices_learn, indices_valid = train_test_split(\n",
        "        X_train.index,\n",
        "        test_size=0.3,\n",
        "        random_state = RANDOM_STATE,\n",
        ")\n",
        "\n",
        "all = X_train.copy()\n",
        "X_train =all.loc[indices_learn,]\n",
        "X_test = all.loc[indices_valid,]\n",
        "\n",
        "\n",
        "treatment_train = X_train['treatment']\n",
        "y_train = X_train['target']\n",
        "Z_trans_train = X_train['Z_trans']\n",
        "\n",
        "treatment_test = X_test['treatment']\n",
        "y_test = X_test['target']\n",
        "Z_trans_test = X_test['Z_trans']\n",
        "\n",
        "\n",
        "X_train=X_train.drop('Z_trans',axis = 1)\n",
        "X_train=X_train.drop('target',axis = 1)\n",
        "X_train=X_train.drop('treatment',axis = 1)\n",
        "\n",
        "X_test=X_test.drop('Z_trans',axis = 1)\n",
        "X_test=X_test.drop('target',axis = 1)\n",
        "X_test=X_test.drop('treatment',axis = 1)\n",
        "\n",
        "\n",
        "# print(treatment_test)\n",
        "# print(treatment_train)\n",
        "\n",
        "print(\"propensity score in train:\", treatment_train[treatment_train == 1].shape[0] / treatment_train.shape[0])\n",
        "print(\"propensity score in test:\", treatment_test[treatment_test == 1].shape[0] / treatment_test.shape[0])\n",
        "\n"
      ],
      "execution_count": null,
      "outputs": [
        {
          "output_type": "stream",
          "text": [
            "            Z_trans  treatment  target\n",
            "client_id                             \n",
            "000012768d     -2.0          0       1\n",
            "000036f903      2.0          1       1\n",
            "00010925a5      2.0          1       1\n",
            "0001f552b0      2.0          1       1\n",
            "00020e7b18      2.0          1       1\n",
            "...             ...        ...     ...\n",
            "fffcb91f10      0.0          1       0\n",
            "fffd5cd0c6      2.0          1       1\n",
            "fffd63dfe3      2.0          1       1\n",
            "fffd8c9d7d      0.0          1       0\n",
            "fffe0abb97      0.0          0       0\n",
            "\n",
            "[200035 rows x 3 columns]\n",
            "propensity score in train: 0.49853596526309774\n",
            "propensity score in test: 0.5027911549549249\n"
          ],
          "name": "stdout"
        }
      ]
    },
    {
      "cell_type": "code",
      "metadata": {
        "colab": {
          "base_uri": "https://localhost:8080/"
        },
        "id": "DD8glUCpg9aw",
        "outputId": "130e2953-dd96-4f9d-d941-5639886b0ffc"
      },
      "source": [
        "# from sklearn.preprocessing import OneHotEncoder\r\n",
        "# from sklearn import preprocessing\r\n",
        "\r\n",
        "# Z_train_dummies = pd.get_dummies(Z_trans_train)\r\n",
        "# Z_test_dummies = pd.get_dummies(Z_trans_test)\r\n",
        "\r\n",
        "# print(Z_train_dummies)\r\n",
        "# print(Z_test_dummies)"
      ],
      "execution_count": null,
      "outputs": [
        {
          "output_type": "stream",
          "text": [
            "            -2.0   0.0   2.0\n",
            "client_id                   \n",
            "5803624422     0     1     0\n",
            "20b7b05f7d     1     0     0\n",
            "0c10e0113f     0     1     0\n",
            "1761677f2d     0     0     1\n",
            "aa188a0008     1     0     0\n",
            "...          ...   ...   ...\n",
            "4ef8dd16ad     0     0     1\n",
            "a54f58238b     0     0     1\n",
            "2e7eeaca71     0     1     0\n",
            "332b911361     0     0     1\n",
            "c13eba9d88     0     1     0\n",
            "\n",
            "[140024 rows x 3 columns]\n",
            "            -2.0   0.0   2.0\n",
            "client_id                   \n",
            "353f2648f3     0     1     0\n",
            "f0d6002166     0     1     0\n",
            "af4f3039fe     0     0     1\n",
            "34b4ce6c2a     0     0     1\n",
            "7046ea76d3     0     0     1\n",
            "...          ...   ...   ...\n",
            "d5c9592f5f     1     0     0\n",
            "555d2436d3     1     0     0\n",
            "bc21e85e6e     1     0     0\n",
            "aa4d24e82f     0     1     0\n",
            "ad18c83a2e     0     0     1\n",
            "\n",
            "[60011 rows x 3 columns]\n"
          ],
          "name": "stdout"
        }
      ]
    },
    {
      "cell_type": "code",
      "metadata": {
        "colab": {
          "base_uri": "https://localhost:8080/"
        },
        "id": "lEkkrFERTR6O",
        "outputId": "3e2429cc-cb12-467e-e68c-779fd27e801f"
      },
      "source": [
        "from sklearn.preprocessing import StandardScaler \n",
        "import numpy as np\n",
        "\n",
        "\n",
        "scaler = StandardScaler(with_std = True, with_mean = True)\n",
        "\n",
        "X_train_0 = X_train.copy()\n",
        "# X_train_0['treatment'] = 0\n",
        "\n",
        "X_train_1 = X_train.copy()\n",
        "# X_train_1['treatment'] = 1\n",
        "\n",
        "X_train_1 = X_train_1.astype('float32')\n",
        "X_train_1 = X_train_1.replace([np.inf, -np.inf], np.nan).fillna(0)\n",
        "X_train_1 = scaler.fit_transform(X_train_1)\n",
        "\n",
        "X_train_0 = X_train_0.astype('float32')\n",
        "X_train_0 = X_train_0.replace([np.inf, -np.inf], np.nan).fillna(0)\n",
        "X_train_0 = scaler.fit_transform(X_train_0)\n",
        "\n",
        "\n",
        "X_test_0 = X_test.copy()\n",
        "# X_test_0['treatment'] = 0\n",
        "\n",
        "X_test_1 = X_test.copy()\n",
        "# X_test_1['treatment'] = 1\n",
        "\n",
        "X_test_1 = X_test_1.astype('float32')\n",
        "X_test_1 = X_test_1.replace([np.inf, -np.inf], np.nan).fillna(0)\n",
        "X_test_1 = scaler.fit_transform(X_test_1)\n",
        "\n",
        "X_test_0 = X_test_0.astype('float32')\n",
        "X_test_0 = X_test_0.replace([np.inf, -np.inf], np.nan).fillna(0)\n",
        "X_test_0 = scaler.fit_transform(X_test_0)\n",
        "\n",
        "X_test_0 = np.c_[ X_test_0, np.zeros(X_test_0.shape[0]) ]\n",
        "X_test_1 = np.c_[ X_test_1, np.ones(X_test_1.shape[0]) ] \n",
        "\n",
        "X_train_0 = np.c_[ X_train_0, np.zeros(X_train_0.shape[0]) ]\n",
        "X_train_1 = np.c_[ X_train_1, np.ones(X_train_1.shape[0]) ]\n",
        "\n",
        "# X_train_0 = np.c_[ X_train_0, treatment_train ]\n",
        "# X_train_1 = np.c_[ X_train_1, treatment_train ]\n",
        "\n",
        "# X_train_0 = np.c_[ X_train_0, y_train ]\n",
        "# X_train_1 = np.c_[ X_train_1, y_train ]\n",
        "\n",
        "# X_train_0 = np.c_[ X_train_0, Z_trans_train ]\n",
        "# X_train_1 = np.c_[ X_train_1, Z_trans_train ]\n",
        "\n",
        "\n",
        "\n",
        "\n",
        "\n",
        "\n",
        "print(X_train_0, \"size = \", type(X_train_0))\n",
        "print(X_train_1, \"size = \", X_train_1.shape)\n",
        "\n",
        "print(X_test_0, \"size = \", X_test_0.shape)\n",
        "print(X_test_1, \"size = \", X_test_1.shape)\n",
        "\n",
        "\n",
        "# np.savetxt('train_0.txt', X_train_0, delimiter=',')\n",
        "# np.savetxt('train_1.txt', X_train_1, delimiter=',')"
      ],
      "execution_count": null,
      "outputs": [
        {
          "output_type": "stream",
          "text": [
            "/usr/local/lib/python3.7/dist-packages/numpy/lib/nanfunctions.py:1544: RuntimeWarning: overflow encountered in multiply\n",
            "  sqr = np.multiply(arr, arr, out=arr)\n",
            "/usr/local/lib/python3.7/dist-packages/numpy/lib/nanfunctions.py:1544: RuntimeWarning: overflow encountered in multiply\n",
            "  sqr = np.multiply(arr, arr, out=arr)\n",
            "/usr/local/lib/python3.7/dist-packages/numpy/lib/nanfunctions.py:1544: RuntimeWarning: overflow encountered in multiply\n",
            "  sqr = np.multiply(arr, arr, out=arr)\n",
            "/usr/local/lib/python3.7/dist-packages/numpy/lib/nanfunctions.py:1544: RuntimeWarning: overflow encountered in multiply\n",
            "  sqr = np.multiply(arr, arr, out=arr)\n"
          ],
          "name": "stderr"
        },
        {
          "output_type": "stream",
          "text": [
            "[[-0.44834757 -0.76292139  1.07323432 ... -0.63726395 -0.76138622\n",
            "   0.        ]\n",
            " [ 2.23041248 -0.76292139 -0.93176299 ...  0.31792825  0.18582669\n",
            "   0.        ]\n",
            " [-0.44834757 -0.76292139  1.07323432 ... -0.12555383 -0.28777978\n",
            "   0.        ]\n",
            " ...\n",
            " [-0.44834757 -0.76292139  1.07323432 ...  0.52261227  0.7024883\n",
            "   0.        ]\n",
            " [-0.44834757  1.31075096 -0.93176299 ... -0.70549196 -0.67527598\n",
            "   0.        ]\n",
            " [-0.44834757 -0.76292139  1.07323432 ...  0.59084028  1.00387418\n",
            "   0.        ]] size =  <class 'numpy.ndarray'>\n",
            "[[-0.44834757 -0.76292139  1.07323432 ... -0.63726395 -0.76138622\n",
            "   1.        ]\n",
            " [ 2.23041248 -0.76292139 -0.93176299 ...  0.31792825  0.18582669\n",
            "   1.        ]\n",
            " [-0.44834757 -0.76292139  1.07323432 ... -0.12555383 -0.28777978\n",
            "   1.        ]\n",
            " ...\n",
            " [-0.44834757 -0.76292139  1.07323432 ...  0.52261227  0.7024883\n",
            "   1.        ]\n",
            " [-0.44834757  1.31075096 -0.93176299 ... -0.70549196 -0.67527598\n",
            "   1.        ]\n",
            " [-0.44834757 -0.76292139  1.07323432 ...  0.59084028  1.00387418\n",
            "   1.        ]] size =  (140024, 334)\n",
            "[[-0.44917509 -0.76564211  1.07793105 ... -1.14727926 -1.23297393\n",
            "   0.        ]\n",
            " [-0.44917509  1.30609334 -0.92770314 ... -0.77350336 -0.80430514\n",
            "   0.        ]\n",
            " [-0.44917509 -0.76564211  1.07793105 ... -1.28319776 -1.27584076\n",
            "   0.        ]\n",
            " ...\n",
            " [-0.44917509  1.30609334 -0.92770314 ...  0.21190564  0.22449981\n",
            "   0.        ]\n",
            " [-0.44917509 -0.76564211  1.07793105 ...  0.07598715  0.05303232\n",
            "   0.        ]\n",
            " [-0.44917509 -0.76564211  1.07793105 ... -0.29778868 -0.37563643\n",
            "   0.        ]] size =  (60011, 334)\n",
            "[[-0.44917509 -0.76564211  1.07793105 ... -1.14727926 -1.23297393\n",
            "   1.        ]\n",
            " [-0.44917509  1.30609334 -0.92770314 ... -0.77350336 -0.80430514\n",
            "   1.        ]\n",
            " [-0.44917509 -0.76564211  1.07793105 ... -1.28319776 -1.27584076\n",
            "   1.        ]\n",
            " ...\n",
            " [-0.44917509  1.30609334 -0.92770314 ...  0.21190564  0.22449981\n",
            "   1.        ]\n",
            " [-0.44917509 -0.76564211  1.07793105 ...  0.07598715  0.05303232\n",
            "   1.        ]\n",
            " [-0.44917509 -0.76564211  1.07793105 ... -0.29778868 -0.37563643\n",
            "   1.        ]] size =  (60011, 334)\n"
          ],
          "name": "stdout"
        }
      ]
    },
    {
      "cell_type": "code",
      "metadata": {
        "colab": {
          "base_uri": "https://localhost:8080/"
        },
        "id": "6H9vuwkoJpZ8",
        "outputId": "1f49b6d1-14a2-4f5b-ebba-b5aa79cb07cb"
      },
      "source": [
        "!7z a -tzip -mx5 -r0 /content/archive.zip train_0.txt train_1.txt"
      ],
      "execution_count": null,
      "outputs": [
        {
          "output_type": "stream",
          "text": [
            "\n",
            "7-Zip [64] 16.02 : Copyright (c) 1999-2016 Igor Pavlov : 2016-05-21\n",
            "p7zip Version 16.02 (locale=en_US.UTF-8,Utf16=on,HugeFiles=on,64 bits,2 CPUs Intel(R) Xeon(R) CPU @ 2.20GHz (406F0),ASM,AES-NI)\n",
            "\n",
            "Open archive: /content/archive.zip\n",
            "--\n",
            "Path = /content/archive.zip\n",
            "Type = zip\n",
            "Physical Size = 732823300\n",
            "\n",
            "Scanning the drive:\n",
            "  0M Scan \b\b\b\b\b\b\b\b\b\b          \b\b\b\b\b\b\b\b\b\b2 files, 2416192878 bytes (2305 MiB)\n",
            "\n",
            "Updating archive: /content/archive.zip\n",
            "\n",
            "Items to compress: 2\n",
            "\n",
            "  0%\b\b\b\b    \b\b\b\b  0% 2 U train_1.txt\b\b\b\b\b\b\b\b\b\b\b\b\b\b\b\b\b\b\b\b                    \b\b\b\b\b\b\b\b\b\b\b\b\b\b\b\b\b\b\b\b  1% 2 U train_1.txt\b\b\b\b\b\b\b\b\b\b\b\b\b\b\b\b\b\b\b\b                    \b\b\b\b\b\b\b\b\b\b\b\b\b\b\b\b\b\b\b\b  2% 2 U train_1.txt\b\b\b\b\b\b\b\b\b\b\b\b\b\b\b\b\b\b\b\b                    \b\b\b\b\b\b\b\b\b\b\b\b\b\b\b\b\b\b\b\b  3% 2 U train_1.txt\b\b\b\b\b\b\b\b\b\b\b\b\b\b\b\b\b\b\b\b                    \b\b\b\b\b\b\b\b\b\b\b\b\b\b\b\b\b\b\b\b  4% 2 U train_1.txt\b\b\b\b\b\b\b\b\b\b\b\b\b\b\b\b\b\b\b\b                    \b\b\b\b\b\b\b\b\b\b\b\b\b\b\b\b\b\b\b\b  5% 2 U train_1.txt\b\b\b\b\b\b\b\b\b\b\b\b\b\b\b\b\b\b\b\b                    \b\b\b\b\b\b\b\b\b\b\b\b\b\b\b\b\b\b\b\b  6% 2 U train_1.txt\b\b\b\b\b\b\b\b\b\b\b\b\b\b\b\b\b\b\b\b                    \b\b\b\b\b\b\b\b\b\b\b\b\b\b\b\b\b\b\b\b  7% 2 U train_1.txt\b\b\b\b\b\b\b\b\b\b\b\b\b\b\b\b\b\b\b\b                    \b\b\b\b\b\b\b\b\b\b\b\b\b\b\b\b\b\b\b\b  8% 2 U train_1.txt\b\b\b\b\b\b\b\b\b\b\b\b\b\b\b\b\b\b\b\b                    \b\b\b\b\b\b\b\b\b\b\b\b\b\b\b\b\b\b\b\b  9% 2 U train_1.txt\b\b\b\b\b\b\b\b\b\b\b\b\b\b\b\b\b\b\b\b                    \b\b\b\b\b\b\b\b\b\b\b\b\b\b\b\b\b\b\b\b 10% 2 U train_1.txt\b\b\b\b\b\b\b\b\b\b\b\b\b\b\b\b\b\b\b\b                    \b\b\b\b\b\b\b\b\b\b\b\b\b\b\b\b\b\b\b\b 11% 2 U train_1.txt\b\b\b\b\b\b\b\b\b\b\b\b\b\b\b\b\b\b\b\b                    \b\b\b\b\b\b\b\b\b\b\b\b\b\b\b\b\b\b\b\b 12% 2 U train_1.txt\b\b\b\b\b\b\b\b\b\b\b\b\b\b\b\b\b\b\b\b                    \b\b\b\b\b\b\b\b\b\b\b\b\b\b\b\b\b\b\b\b 13% 2 U train_1.txt\b\b\b\b\b\b\b\b\b\b\b\b\b\b\b\b\b\b\b\b                    \b\b\b\b\b\b\b\b\b\b\b\b\b\b\b\b\b\b\b\b 14% 2 U train_1.txt\b\b\b\b\b\b\b\b\b\b\b\b\b\b\b\b\b\b\b\b                    \b\b\b\b\b\b\b\b\b\b\b\b\b\b\b\b\b\b\b\b 15% 2 U train_1.txt\b\b\b\b\b\b\b\b\b\b\b\b\b\b\b\b\b\b\b\b                    \b\b\b\b\b\b\b\b\b\b\b\b\b\b\b\b\b\b\b\b 16% 2 U train_1.txt\b\b\b\b\b\b\b\b\b\b\b\b\b\b\b\b\b\b\b\b                    \b\b\b\b\b\b\b\b\b\b\b\b\b\b\b\b\b\b\b\b 17% 2 U train_1.txt\b\b\b\b\b\b\b\b\b\b\b\b\b\b\b\b\b\b\b\b                    \b\b\b\b\b\b\b\b\b\b\b\b\b\b\b\b\b\b\b\b 18% 2 U train_1.txt\b\b\b\b\b\b\b\b\b\b\b\b\b\b\b\b\b\b\b\b                    \b\b\b\b\b\b\b\b\b\b\b\b\b\b\b\b\b\b\b\b 19% 2 U train_1.txt\b\b\b\b\b\b\b\b\b\b\b\b\b\b\b\b\b\b\b\b                    \b\b\b\b\b\b\b\b\b\b\b\b\b\b\b\b\b\b\b\b 20% 2 U train_1.txt\b\b\b\b\b\b\b\b\b\b\b\b\b\b\b\b\b\b\b\b                    \b\b\b\b\b\b\b\b\b\b\b\b\b\b\b\b\b\b\b\b 21% 2 U train_1.txt\b\b\b\b\b\b\b\b\b\b\b\b\b\b\b\b\b\b\b\b                    \b\b\b\b\b\b\b\b\b\b\b\b\b\b\b\b\b\b\b\b 22% 2 U train_1.txt\b\b\b\b\b\b\b\b\b\b\b\b\b\b\b\b\b\b\b\b                    \b\b\b\b\b\b\b\b\b\b\b\b\b\b\b\b\b\b\b\b 23% 2 U train_1.txt\b\b\b\b\b\b\b\b\b\b\b\b\b\b\b\b\b\b\b\b                    \b\b\b\b\b\b\b\b\b\b\b\b\b\b\b\b\b\b\b\b 24% 2 U train_1.txt\b\b\b\b\b\b\b\b\b\b\b\b\b\b\b\b\b\b\b\b                    \b\b\b\b\b\b\b\b\b\b\b\b\b\b\b\b\b\b\b\b 25% 2 U train_1.txt\b\b\b\b\b\b\b\b\b\b\b\b\b\b\b\b\b\b\b\b                    \b\b\b\b\b\b\b\b\b\b\b\b\b\b\b\b\b\b\b\b 26% 2 U train_1.txt\b\b\b\b\b\b\b\b\b\b\b\b\b\b\b\b\b\b\b\b                    \b\b\b\b\b\b\b\b\b\b\b\b\b\b\b\b\b\b\b\b 27% 2 U train_1.txt\b\b\b\b\b\b\b\b\b\b\b\b\b\b\b\b\b\b\b\b                    \b\b\b\b\b\b\b\b\b\b\b\b\b\b\b\b\b\b\b\b 28% 2 U train_1.txt\b\b\b\b\b\b\b\b\b\b\b\b\b\b\b\b\b\b\b\b                    \b\b\b\b\b\b\b\b\b\b\b\b\b\b\b\b\b\b\b\b 29% 2 U train_1.txt\b\b\b\b\b\b\b\b\b\b\b\b\b\b\b\b\b\b\b\b                    \b\b\b\b\b\b\b\b\b\b\b\b\b\b\b\b\b\b\b\b 30% 2 U train_1.txt\b\b\b\b\b\b\b\b\b\b\b\b\b\b\b\b\b\b\b\b                    \b\b\b\b\b\b\b\b\b\b\b\b\b\b\b\b\b\b\b\b 31% 2 U train_1.txt\b\b\b\b\b\b\b\b\b\b\b\b\b\b\b\b\b\b\b\b                    \b\b\b\b\b\b\b\b\b\b\b\b\b\b\b\b\b\b\b\b 32% 2 U train_1.txt\b\b\b\b\b\b\b\b\b\b\b\b\b\b\b\b\b\b\b\b                    \b\b\b\b\b\b\b\b\b\b\b\b\b\b\b\b\b\b\b\b 33% 2 U train_1.txt\b\b\b\b\b\b\b\b\b\b\b\b\b\b\b\b\b\b\b\b                    \b\b\b\b\b\b\b\b\b\b\b\b\b\b\b\b\b\b\b\b 34% 2 U train_1.txt\b\b\b\b\b\b\b\b\b\b\b\b\b\b\b\b\b\b\b\b                    \b\b\b\b\b\b\b\b\b\b\b\b\b\b\b\b\b\b\b\b 35% 2 U train_1.txt\b\b\b\b\b\b\b\b\b\b\b\b\b\b\b\b\b\b\b\b                    \b\b\b\b\b\b\b\b\b\b\b\b\b\b\b\b\b\b\b\b 36% 2 U train_1.txt\b\b\b\b\b\b\b\b\b\b\b\b\b\b\b\b\b\b\b\b                    \b\b\b\b\b\b\b\b\b\b\b\b\b\b\b\b\b\b\b\b 37% 2 U train_1.txt\b\b\b\b\b\b\b\b\b\b\b\b\b\b\b\b\b\b\b\b                    \b\b\b\b\b\b\b\b\b\b\b\b\b\b\b\b\b\b\b\b 38% 2 U train_1.txt\b\b\b\b\b\b\b\b\b\b\b\b\b\b\b\b\b\b\b\b                    \b\b\b\b\b\b\b\b\b\b\b\b\b\b\b\b\b\b\b\b 39% 2 U train_1.txt\b\b\b\b\b\b\b\b\b\b\b\b\b\b\b\b\b\b\b\b                    \b\b\b\b\b\b\b\b\b\b\b\b\b\b\b\b\b\b\b\b 40% 2 U train_1.txt\b\b\b\b\b\b\b\b\b\b\b\b\b\b\b\b\b\b\b\b                    \b\b\b\b\b\b\b\b\b\b\b\b\b\b\b\b\b\b\b\b 41% 2 U train_1.txt\b\b\b\b\b\b\b\b\b\b\b\b\b\b\b\b\b\b\b\b                    \b\b\b\b\b\b\b\b\b\b\b\b\b\b\b\b\b\b\b\b 42% 2 U train_1.txt\b\b\b\b\b\b\b\b\b\b\b\b\b\b\b\b\b\b\b\b                    \b\b\b\b\b\b\b\b\b\b\b\b\b\b\b\b\b\b\b\b 43% 2 U train_1.txt\b\b\b\b\b\b\b\b\b\b\b\b\b\b\b\b\b\b\b\b                    \b\b\b\b\b\b\b\b\b\b\b\b\b\b\b\b\b\b\b\b 44% 2 U train_1.txt\b\b\b\b\b\b\b\b\b\b\b\b\b\b\b\b\b\b\b\b                    \b\b\b\b\b\b\b\b\b\b\b\b\b\b\b\b\b\b\b\b 45% 2 U train_1.txt\b\b\b\b\b\b\b\b\b\b\b\b\b\b\b\b\b\b\b\b                    \b\b\b\b\b\b\b\b\b\b\b\b\b\b\b\b\b\b\b\b 46% 2 U train_1.txt\b\b\b\b\b\b\b\b\b\b\b\b\b\b\b\b\b\b\b\b                    \b\b\b\b\b\b\b\b\b\b\b\b\b\b\b\b\b\b\b\b 47% 2 U train_1.txt\b\b\b\b\b\b\b\b\b\b\b\b\b\b\b\b\b\b\b\b                    \b\b\b\b\b\b\b\b\b\b\b\b\b\b\b\b\b\b\b\b 48% 2 U train_1.txt\b\b\b\b\b\b\b\b\b\b\b\b\b\b\b\b\b\b\b\b                    \b\b\b\b\b\b\b\b\b\b\b\b\b\b\b\b\b\b\b\b 49% 2 U train_1.txt\b\b\b\b\b\b\b\b\b\b\b\b\b\b\b\b\b\b\b\b                    \b\b\b\b\b\b\b\b\b\b\b\b\b\b\b\b\b\b\b\b 50% 2 U train_1.txt\b\b\b\b\b\b\b\b\b\b\b\b\b\b\b\b\b\b\b\b                    \b\b\b\b\b\b\b\b\b\b\b\b\b\b\b\b\b\b\b\b 51% 2 U train_1.txt\b\b\b\b\b\b\b\b\b\b\b\b\b\b\b\b\b\b\b\b                    \b\b\b\b\b\b\b\b\b\b\b\b\b\b\b\b\b\b\b\b 52% 2 U train_1.txt\b\b\b\b\b\b\b\b\b\b\b\b\b\b\b\b\b\b\b\b                    \b\b\b\b\b\b\b\b\b\b\b\b\b\b\b\b\b\b\b\b 53% 2 U train_1.txt\b\b\b\b\b\b\b\b\b\b\b\b\b\b\b\b\b\b\b\b                    \b\b\b\b\b\b\b\b\b\b\b\b\b\b\b\b\b\b\b\b 54% 2 U train_1.txt\b\b\b\b\b\b\b\b\b\b\b\b\b\b\b\b\b\b\b\b                    \b\b\b\b\b\b\b\b\b\b\b\b\b\b\b\b\b\b\b\b 55% 2 U train_1.txt\b\b\b\b\b\b\b\b\b\b\b\b\b\b\b\b\b\b\b\b                    \b\b\b\b\b\b\b\b\b\b\b\b\b\b\b\b\b\b\b\b 56% 2 U train_1.txt\b\b\b\b\b\b\b\b\b\b\b\b\b\b\b\b\b\b\b\b                    \b\b\b\b\b\b\b\b\b\b\b\b\b\b\b\b\b\b\b\b 57% 2 U train_1.txt\b\b\b\b\b\b\b\b\b\b\b\b\b\b\b\b\b\b\b\b                    \b\b\b\b\b\b\b\b\b\b\b\b\b\b\b\b\b\b\b\b 58% 2 U train_1.txt\b\b\b\b\b\b\b\b\b\b\b\b\b\b\b\b\b\b\b\b                    \b\b\b\b\b\b\b\b\b\b\b\b\b\b\b\b\b\b\b\b 59% 2 U train_1.txt\b\b\b\b\b\b\b\b\b\b\b\b\b\b\b\b\b\b\b\b                    \b\b\b\b\b\b\b\b\b\b\b\b\b\b\b\b\b\b\b\b 60% 2 U train_1.txt\b\b\b\b\b\b\b\b\b\b\b\b\b\b\b\b\b\b\b\b                    \b\b\b\b\b\b\b\b\b\b\b\b\b\b\b\b\b\b\b\b 61% 2 U train_1.txt\b\b\b\b\b\b\b\b\b\b\b\b\b\b\b\b\b\b\b\b                    \b\b\b\b\b\b\b\b\b\b\b\b\b\b\b\b\b\b\b\b 62% 2 U train_1.txt\b\b\b\b\b\b\b\b\b\b\b\b\b\b\b\b\b\b\b\b                    \b\b\b\b\b\b\b\b\b\b\b\b\b\b\b\b\b\b\b\b 63% 2 U train_1.txt\b\b\b\b\b\b\b\b\b\b\b\b\b\b\b\b\b\b\b\b                    \b\b\b\b\b\b\b\b\b\b\b\b\b\b\b\b\b\b\b\b 64% 2 U train_1.txt\b\b\b\b\b\b\b\b\b\b\b\b\b\b\b\b\b\b\b\b                    \b\b\b\b\b\b\b\b\b\b\b\b\b\b\b\b\b\b\b\b 65% 2 U train_1.txt\b\b\b\b\b\b\b\b\b\b\b\b\b\b\b\b\b\b\b\b                    \b\b\b\b\b\b\b\b\b\b\b\b\b\b\b\b\b\b\b\b 66% 2 U train_1.txt\b\b\b\b\b\b\b\b\b\b\b\b\b\b\b\b\b\b\b\b                    \b\b\b\b\b\b\b\b\b\b\b\b\b\b\b\b\b\b\b\b 67% 2 U train_1.txt\b\b\b\b\b\b\b\b\b\b\b\b\b\b\b\b\b\b\b\b                    \b\b\b\b\b\b\b\b\b\b\b\b\b\b\b\b\b\b\b\b 68% 2 U train_1.txt\b\b\b\b\b\b\b\b\b\b\b\b\b\b\b\b\b\b\b\b                    \b\b\b\b\b\b\b\b\b\b\b\b\b\b\b\b\b\b\b\b 69% 2 U train_1.txt\b\b\b\b\b\b\b\b\b\b\b\b\b\b\b\b\b\b\b\b                    \b\b\b\b\b\b\b\b\b\b\b\b\b\b\b\b\b\b\b\b 70% 2 U train_1.txt\b\b\b\b\b\b\b\b\b\b\b\b\b\b\b\b\b\b\b\b                    \b\b\b\b\b\b\b\b\b\b\b\b\b\b\b\b\b\b\b\b 71% 2 U train_1.txt\b\b\b\b\b\b\b\b\b\b\b\b\b\b\b\b\b\b\b\b                    \b\b\b\b\b\b\b\b\b\b\b\b\b\b\b\b\b\b\b\b 72% 2 U train_1.txt\b\b\b\b\b\b\b\b\b\b\b\b\b\b\b\b\b\b\b\b                    \b\b\b\b\b\b\b\b\b\b\b\b\b\b\b\b\b\b\b\b 73% 2 U train_1.txt\b\b\b\b\b\b\b\b\b\b\b\b\b\b\b\b\b\b\b\b                    \b\b\b\b\b\b\b\b\b\b\b\b\b\b\b\b\b\b\b\b 74% 2 U train_1.txt\b\b\b\b\b\b\b\b\b\b\b\b\b\b\b\b\b\b\b\b                    \b\b\b\b\b\b\b\b\b\b\b\b\b\b\b\b\b\b\b\b 75% 2 U train_1.txt\b\b\b\b\b\b\b\b\b\b\b\b\b\b\b\b\b\b\b\b                    \b\b\b\b\b\b\b\b\b\b\b\b\b\b\b\b\b\b\b\b 76% 2 U train_1.txt\b\b\b\b\b\b\b\b\b\b\b\b\b\b\b\b\b\b\b\b                    \b\b\b\b\b\b\b\b\b\b\b\b\b\b\b\b\b\b\b\b 77% 2 U train_1.txt\b\b\b\b\b\b\b\b\b\b\b\b\b\b\b\b\b\b\b\b                    \b\b\b\b\b\b\b\b\b\b\b\b\b\b\b\b\b\b\b\b 78% 2 U train_1.txt\b\b\b\b\b\b\b\b\b\b\b\b\b\b\b\b\b\b\b\b                    \b\b\b\b\b\b\b\b\b\b\b\b\b\b\b\b\b\b\b\b 79% 2 U train_1.txt\b\b\b\b\b\b\b\b\b\b\b\b\b\b\b\b\b\b\b\b                    \b\b\b\b\b\b\b\b\b\b\b\b\b\b\b\b\b\b\b\b 80% 2 U train_1.txt\b\b\b\b\b\b\b\b\b\b\b\b\b\b\b\b\b\b\b\b                    \b\b\b\b\b\b\b\b\b\b\b\b\b\b\b\b\b\b\b\b 81% 2 U train_1.txt\b\b\b\b\b\b\b\b\b\b\b\b\b\b\b\b\b\b\b\b                    \b\b\b\b\b\b\b\b\b\b\b\b\b\b\b\b\b\b\b\b 82% 2 U train_1.txt\b\b\b\b\b\b\b\b\b\b\b\b\b\b\b\b\b\b\b\b                    \b\b\b\b\b\b\b\b\b\b\b\b\b\b\b\b\b\b\b\b 83% 2 U train_1.txt\b\b\b\b\b\b\b\b\b\b\b\b\b\b\b\b\b\b\b\b                    \b\b\b\b\b\b\b\b\b\b\b\b\b\b\b\b\b\b\b\b 84% 2 U train_1.txt\b\b\b\b\b\b\b\b\b\b\b\b\b\b\b\b\b\b\b\b                    \b\b\b\b\b\b\b\b\b\b\b\b\b\b\b\b\b\b\b\b 85% 2 U train_1.txt\b\b\b\b\b\b\b\b\b\b\b\b\b\b\b\b\b\b\b\b                    \b\b\b\b\b\b\b\b\b\b\b\b\b\b\b\b\b\b\b\b 86% 2 U train_1.txt\b\b\b\b\b\b\b\b\b\b\b\b\b\b\b\b\b\b\b\b                    \b\b\b\b\b\b\b\b\b\b\b\b\b\b\b\b\b\b\b\b 87% 2 U train_1.txt\b\b\b\b\b\b\b\b\b\b\b\b\b\b\b\b\b\b\b\b                    \b\b\b\b\b\b\b\b\b\b\b\b\b\b\b\b\b\b\b\b 88% 2 U train_1.txt\b\b\b\b\b\b\b\b\b\b\b\b\b\b\b\b\b\b\b\b                    \b\b\b\b\b\b\b\b\b\b\b\b\b\b\b\b\b\b\b\b 89% 2 U train_1.txt\b\b\b\b\b\b\b\b\b\b\b\b\b\b\b\b\b\b\b\b                    \b\b\b\b\b\b\b\b\b\b\b\b\b\b\b\b\b\b\b\b 90% 2 U train_1.txt\b\b\b\b\b\b\b\b\b\b\b\b\b\b\b\b\b\b\b\b                    \b\b\b\b\b\b\b\b\b\b\b\b\b\b\b\b\b\b\b\b 91% 2 U train_1.txt\b\b\b\b\b\b\b\b\b\b\b\b\b\b\b\b\b\b\b\b                    \b\b\b\b\b\b\b\b\b\b\b\b\b\b\b\b\b\b\b\b 92% 2 U train_1.txt\b\b\b\b\b\b\b\b\b\b\b\b\b\b\b\b\b\b\b\b                    \b\b\b\b\b\b\b\b\b\b\b\b\b\b\b\b\b\b\b\b 93% 2 U train_1.txt\b\b\b\b\b\b\b\b\b\b\b\b\b\b\b\b\b\b\b\b                    \b\b\b\b\b\b\b\b\b\b\b\b\b\b\b\b\b\b\b\b 94% 2 U train_1.txt\b\b\b\b\b\b\b\b\b\b\b\b\b\b\b\b\b\b\b\b                    \b\b\b\b\b\b\b\b\b\b\b\b\b\b\b\b\b\b\b\b 95% 2 U train_1.txt\b\b\b\b\b\b\b\b\b\b\b\b\b\b\b\b\b\b\b\b                    \b\b\b\b\b\b\b\b\b\b\b\b\b\b\b\b\b\b\b\b 96% 2 U train_1.txt\b\b\b\b\b\b\b\b\b\b\b\b\b\b\b\b\b\b\b\b                    \b\b\b\b\b\b\b\b\b\b\b\b\b\b\b\b\b\b\b\b 97% 2 U train_1.txt\b\b\b\b\b\b\b\b\b\b\b\b\b\b\b\b\b\b\b\b                    \b\b\b\b\b\b\b\b\b\b\b\b\b\b\b\b\b\b\b\b 98% 2 U train_1.txt\b\b\b\b\b\b\b\b\b\b\b\b\b\b\b\b\b\b\b\b                    \b\b\b\b\b\b\b\b\b\b\b\b\b\b\b\b\b\b\b\b 99% 2 U train_1.txt\b\b\b\b\b\b\b\b\b\b\b\b\b\b\b\b\b\b\b\b                    \b\b\b\b\b\b\b\b\b\b\b\b\b\b\b\b\b\b\b\b\n",
            "Files read from disk: 2\n",
            "Archive size: 689590120 bytes (658 MiB)\n",
            "Everything is Ok\n"
          ],
          "name": "stdout"
        }
      ]
    },
    {
      "cell_type": "code",
      "metadata": {
        "id": "ZCR8UhfJt3eI"
      },
      "source": [
        "class trainData(Dataset):\n",
        "    \n",
        "    def __init__(self, X_data_0,X_data_1,Z_trans,treatment, y_data):\n",
        "        self.X_data_0 = X_data_0\n",
        "        self.X_data_1 = X_data_1\n",
        "        self.Z_trans = Z_trans\n",
        "        self.treatment = treatment\n",
        "        self.y_data = y_data\n",
        "        \n",
        "    def __getitem__(self, index):\n",
        "        return self.X_data_0[index], self.X_data_1[index],self.Z_trans[index], self.treatment[index], self.y_data[index]\n",
        "        \n",
        "    def __len__ (self):\n",
        "        return len(self.X_data_0)\n",
        "\n",
        "\n",
        "train_data = trainData(torch.FloatTensor(X_train_0),torch.FloatTensor(X_train_1),torch.FloatTensor(Z_trans_train),torch.FloatTensor(treatment_train), \n",
        "                       torch.FloatTensor(y_train))\n",
        "## test data    \n",
        "\n",
        "class testData(Dataset):\n",
        "    \n",
        "    def __init__(self, X_data_0,X_data_1,Z_trans,treatment,y_data):\n",
        "        self.X_data_0 = X_data_0\n",
        "        self.X_data_1 = X_data_1\n",
        "        self.Z_trans = Z_trans\n",
        "        self.treatment = treatment\n",
        "        self.y_data = y_data\n",
        "        \n",
        "    def __getitem__(self, index):\n",
        "        return self.X_data_0[index], self.X_data_1[index],self.Z_trans[index], self.treatment[index], self.y_data[index]\n",
        "        \n",
        "    def __len__ (self):\n",
        "        return len(self.X_data_0)\n",
        "    \n",
        "\n",
        "test_data = testData(torch.FloatTensor(X_test_0),torch.FloatTensor(X_test_1), torch.FloatTensor(Z_trans_test),torch.FloatTensor(treatment_test), \n",
        "                       torch.FloatTensor(y_test))"
      ],
      "execution_count": null,
      "outputs": []
    },
    {
      "cell_type": "code",
      "metadata": {
        "id": "5QFze6m8QwSX"
      },
      "source": [
        "import matplotlib.pyplot as plt\n",
        "import numpy as np\n",
        "import pylab\n",
        "\n",
        "  \n",
        "from sklearn.utils.validation import check_consistent_length\n",
        "\n",
        "\n",
        "\n",
        "def plot_qini_curve(y_reactions, uplift_score, treatment, random=True, perfect=True):\n",
        "    \"\"\"Plot Qini curves from predictions.\"\"\"\n",
        "   \n",
        "    check_consistent_length(y_reactions, uplift_score, treatment)\n",
        "    y_reactions, uplift_score, treatment = np.array(y_reactions), np.array(uplift_score), np.array(treatment)\n",
        "\n",
        "   \n",
        "\n",
        "    x_actual, y_actual = qini_curve(y_reactions, uplift_score, treatment)\n",
        "\n",
        "    pylab.plot(x_actual, y_actual, label='Our model', color='green')\n",
        "    if random:\n",
        "        x_baseline, y_baseline = x_actual, x_actual * y_actual[-1] / len(y_reactions)\n",
        "        pylab.plot(x_baseline, y_baseline, label='Random model', color='black')\n",
        "        \n",
        "\n",
        "    if perfect:\n",
        "        x_perfect, y_perfect = perfect_qini_curve(y_reactions, treatment)\n",
        "        # print(\"1 point\", x_perfect[1], y_perfect[1])\n",
        "        # print(\"2 point\", x_perfect[2], y_perfect[2])\n",
        "        # print(\"3 point\", x_perfect[3], y_perfect[3])\n",
        "        pylab.plot(x_perfect, y_perfect, label='Perfect model', color='Red')\n",
        "        \n",
        "    #pylab.fill_between(x_perfect, y_baseline, y_perfect, color=\"blue\")\n",
        "    pylab.grid(True)\n",
        "    pylab.xlabel('Treat num')\n",
        "    pylab.ylabel('Uplift reactions')\n",
        "    pylab.title('Qini curve')\n",
        "    pylab.legend(loc='lower right')\n",
        "    return pylab\n",
        "\n",
        "\n"
      ],
      "execution_count": null,
      "outputs": []
    },
    {
      "cell_type": "markdown",
      "metadata": {
        "id": "DpZxmbiJjDFZ"
      },
      "source": [
        "cross entropy with Z_dummies ( не работает )"
      ]
    },
    {
      "cell_type": "code",
      "metadata": {
        "id": "BDc2stYwjCzO"
      },
      "source": [
        "# import torch\r\n",
        "# from torch.autograd import Variable\r\n",
        "# import torch.nn as nn\r\n",
        "# import torch.nn.functional as F\r\n",
        "\r\n",
        "# import random\r\n",
        "# import numpy as np\r\n",
        "# import torch.optim as optim\r\n",
        "# import matplotlib.pyplot as plt\r\n",
        "# from statistics import mean\r\n",
        "\r\n",
        "# batch_size = 35006   # Number of samples in each batch\r\n",
        "# batch_size_test=7 #7\r\n",
        "# epoch_num = 19  # Number of epochs to train the network  to do try more epochs\r\n",
        "# lr = 0.001        # Learning rate\r\n",
        "\r\n",
        "\r\n",
        "\r\n",
        "\r\n",
        "\r\n",
        "# class Model(nn.Module):\r\n",
        "#     def __init__(self):\r\n",
        "#         super(Model, self).__init__()\r\n",
        "#         self.fc1 = nn.Linear(334, 200)\r\n",
        "#         self.fc2 = nn.Linear(200, 100)\r\n",
        "#         self.fc3 = nn.Linear(100, 3)\r\n",
        "\r\n",
        "#     def forward(self, x):\r\n",
        "        \r\n",
        "#         x = F.relu(self.fc1(x))\r\n",
        "#         x = F.relu(self.fc2(x))\r\n",
        "#         x = self.fc3(x)\r\n",
        "#         m = nn.Softmax()\r\n",
        "#         return m(x)\r\n",
        "        \r\n",
        "\r\n",
        "# model = Model()\r\n",
        "# alpha = 1.0\r\n",
        "\r\n",
        "# # device = torch.device(\"cuda:0\" if torch.cuda.is_available() else \"cpu\")\r\n",
        "# # print(device)\r\n",
        "# # model.to(device)\r\n",
        "# # print(model)\r\n",
        "\r\n",
        "\r\n",
        "# # #convert to torch structure\r\n",
        "# # X_test_1_tensor = torch.FloatTensor(X_test_1) \r\n",
        "# # X_test_0_tensor = torch.FloatTensor(X_test_0)\r\n",
        "\r\n",
        "\r\n",
        "# # #convert to torch structure\r\n",
        "# # treatment_test = treatment_test.to_numpy()\r\n",
        "# # treatment_test = torch.from_numpy(treatment_test).int()\r\n",
        "# # treatment_test = Variable(treatment_test)\r\n",
        "\r\n",
        "\r\n",
        "# # #convert to torch structure\r\n",
        "# # y_test = y_test.to_numpy()\r\n",
        "# # y_test = torch.from_numpy(y_test).float()\r\n",
        "# # y_test  = Variable(y_test)\r\n",
        "\r\n",
        "\r\n",
        "# # #convert to torch structure\r\n",
        "# # Z_trans_test = Z_trans_test.to_numpy()\r\n",
        "# # Z_trans_test = torch.from_numpy(Z_trans_test).float()\r\n",
        "# # Z_trans_test = Variable(Z_trans_test)\r\n",
        "\r\n",
        "\r\n",
        "# #init loaders\r\n",
        "# train_loader = DataLoader(dataset=train_data, batch_size=batch_size, shuffle=True)\r\n",
        "# test_loader = DataLoader(dataset=test_data, batch_size=batch_size_test, shuffle=True)\r\n",
        "\r\n",
        "\r\n",
        "\r\n",
        "\r\n",
        "# # define the loss (criterion) and create an optimizer\r\n",
        "# optimizer = optim.Adam(model.parameters())\r\n",
        "\r\n",
        "# # define lists of losses to store\r\n",
        "# all_losses  = []\r\n",
        "# test_losses = []\r\n",
        "# min_losses = []\r\n",
        "\r\n",
        "\r\n",
        "# model.train()\r\n",
        "# # epochs loop\r\n",
        "# for ep in range(epoch_num):  \r\n",
        "#     print(\".......................... epoch =\",ep,\"..........................\")\r\n",
        "#     batch_loss = []\r\n",
        "#     # batches loop\r\n",
        "#     for X_batch_0,X_batch_1,Z_batch,treatment_batch, y_batch in train_loader:\r\n",
        "       \r\n",
        "       \r\n",
        "        \r\n",
        "#         batch_1_feat = X_batch_1\r\n",
        "#         batch_0_feat = X_batch_0\r\n",
        "        \r\n",
        "#         batch_label = y_batch\r\n",
        "#         batch_Z_trans = Z_batch\r\n",
        "\r\n",
        "#         optimizer.zero_grad()\r\n",
        "#         # Forward pass (predict)\r\n",
        "#         mu_1_target_class = model(batch_1_feat)\r\n",
        "#         mu_0_target_class = model(batch_0_feat)\r\n",
        "\r\n",
        "#         #convert to torch structure\r\n",
        "#         treatment_batch = treatment_batch\r\n",
        "       \r\n",
        "\r\n",
        "#         # mu_0_target_class = torch.reshape(mu_0_target_class, shape = (-1,))\r\n",
        "#         # mu_1_target_class = torch.reshape(mu_1_target_class, shape =(-1,) )\r\n",
        "        \r\n",
        "     \r\n",
        "\r\n",
        "\r\n",
        "       \r\n",
        "#         #implements mu = T * mu_1 + (1-T) * mu_0\r\n",
        "#         # uplift_pred_Y = treatment_batch * mu_1_target_class + (ones - treatment_batch) * mu_0_target_class \r\n",
        "\r\n",
        "        \r\n",
        "\r\n",
        "        \r\n",
        "       \r\n",
        "\r\n",
        "       \r\n",
        "        \r\n",
        "        \r\n",
        "#         #declare losses\r\n",
        "#         loss_cross = nn.CrossEntropyLoss()\r\n",
        "      \r\n",
        "\r\n",
        "#         #implements uplift_predicted = mu_1 - mu_0\r\n",
        "#         uplift_pred = mu_1_target_class - mu_0_target_class \r\n",
        "        \r\n",
        "#         # Z_trans_train = torch.Tensor(Z_batch) \r\n",
        "#         # Z_dummies = torch.nn.functional.one_hot(Z_trans_train.to(torch.int64), num_classes = 3)\r\n",
        "\r\n",
        "#         Z_trans_train = Z_batch.to(torch.int64)\r\n",
        "#         print(\"Z_train\",Z_trans_train)\r\n",
        "\r\n",
        "#         pred_uplift = mu_1_target_class - mu_0_target_class\r\n",
        "#         print(\"uplift_pred\", pred_uplift)\r\n",
        "\r\n",
        "       \r\n",
        "        \r\n",
        "\r\n",
        "#         sum_of_losses = torch.mean(  loss_cross(mu_1_target_class-mu_0_target_class,Z_trans_train) )\r\n",
        "#         # print(loss_contrastive)\r\n",
        "#         batch_loss.append(sum_of_losses)\r\n",
        "#         # print(\"train AUQC:\", qini_auc_score(batch_label.cpu().detach().numpy(), uplift_pred.cpu().detach().numpy(), treatment_batch.cpu().detach().numpy() ))\r\n",
        "\r\n",
        "        \r\n",
        "#         # print(batch_n, loss_contrastive)\r\n",
        "\r\n",
        "\r\n",
        "#         # plot_qini_curve(batch_label.cpu().detach().numpy(), uplift_pred.cpu().detach().numpy(), treatment_batch.cpu().detach().numpy())\r\n",
        "#         # print(qini_auc_score(batch_label.cpu().detach().numpy(), uplift_pred.cpu().detach().numpy(), treatment_batch.cpu().detach().numpy() ))\r\n",
        "        \r\n",
        "#         # Backward pass and updates\r\n",
        "#         sum_of_losses.backward()                     # calculate the gradients\r\n",
        "#         optimizer.step()                    # update the weights\r\n",
        "#         # i += batch_size\r\n",
        "#         #end for !!!!!!!!!!!!!!!!!!!\r\n",
        "\r\n",
        "#     # plot_qini_curve(batch_label.cpu().detach().numpy(), uplift_pred.cpu().detach().numpy(), treatment_batch.cpu().detach().numpy())\r\n",
        "#     # print(qini_auc_score(batch_label.cpu().detach().numpy(), uplift_pred.cpu().detach().numpy(), treatment_batch.cpu().detach().numpy() ))\r\n",
        "#     batch_loss  = list(batch_loss)\r\n",
        "#     all_losses.append( sum(batch_loss) / len(batch_loss) ) \r\n",
        "\r\n",
        "#     # # #work with test dataset\r\n",
        "#     # print('work with test dataset')\r\n",
        "#     # batch_loss = []\r\n",
        "#     # for X_batch_0,X_batch_1,Z_batch,treatment_batch, y_batch in test_loader:\r\n",
        "        \r\n",
        "       \r\n",
        "        \r\n",
        "#     #     batch_1_feat = X_batch_1\r\n",
        "#     #     batch_0_feat = X_batch_0\r\n",
        "        \r\n",
        "#     #     batch_label = y_batch\r\n",
        "#     #     batch_Z_trans = Z_batch\r\n",
        "\r\n",
        "#     #     optimizer.zero_grad()\r\n",
        "#     #     # Forward pass (predict)\r\n",
        "#     #     mu_1_target_class = model(batch_1_feat)\r\n",
        "#     #     mu_0_target_class = model(batch_0_feat)\r\n",
        "\r\n",
        "       \r\n",
        "       \r\n",
        "\r\n",
        "#     #     # mu_0_target_class = torch.reshape(mu_0_target_class, shape = (-1,))\r\n",
        "#     #     # mu_1_target_class = torch.reshape(mu_1_target_class, shape =(-1,) )\r\n",
        "        \r\n",
        "#     #     # print(\"mu_0\", mu_0_target_class)\r\n",
        "#     #     # print(\"mu_1\", mu_1_target_class)\r\n",
        "\r\n",
        "#     #     ones = np.ones(shape = batch_size_test)\r\n",
        "#     #     ones = torch.from_numpy(ones).float()\r\n",
        "        \r\n",
        "     \r\n",
        "#     #     #implements mu = T * mu_1 + (1-T) * mu_0\r\n",
        "#     #     uplift_pred_Y = treatment_batch * mu_1_target_class + (ones - treatment_batch) * mu_0_target_class \r\n",
        "\r\n",
        "#     #     #declare losses\r\n",
        "#     #     loss_cross = nn.BCELoss(reduction = 'mean')\r\n",
        "#     #     loss_MSE = nn.MSELoss()\r\n",
        "\r\n",
        "#     #     #implements uplift_predicted = mu_1 - mu_0\r\n",
        "#     #     uplift_pred = mu_1_target_class - mu_0_target_class   \r\n",
        "\r\n",
        "#     #     sum_of_losses = torch.mean(  (1-alpha) * loss_MSE(batch_Z_trans, uplift_pred) + alpha * loss_cross( uplift_pred_Y, batch_label))\r\n",
        "       \r\n",
        "#     #     batch_loss.append(sum_of_losses)\r\n",
        "        \r\n",
        "\r\n",
        "        \r\n",
        "#     #     # print(batch_n, loss_contrastive)\r\n",
        "\r\n",
        "\r\n",
        "#     #     # plot_qini_curve(batch_label.cpu().detach().numpy(), uplift_pred.cpu().detach().numpy(), treatment_batch.cpu().detach().numpy())\r\n",
        "#     #     # print(qini_auc_score(batch_label.cpu().detach().numpy(), uplift_pred.cpu().detach().numpy(), treatment_batch.cpu().detach().numpy() ))\r\n",
        "        \r\n",
        "        \r\n",
        "        \r\n",
        "#         #end for\r\n",
        "#     # batch_loss  = list(batch_loss)\r\n",
        "#     # test_losses.append( sum(batch_loss) / len(batch_loss) ) \r\n",
        "    \r\n",
        "\r\n",
        "    \r\n",
        "   \r\n",
        "\r\n",
        "# import matplotlib.pyplot as plt\r\n",
        "\r\n",
        "# plt.plot(all_losses, color='green',label='train')\r\n",
        "# plt.title('train vs test')\r\n",
        "# plt.xlabel('epoch_num')\r\n",
        "# plt.ylabel('loss sum')\r\n",
        "\r\n",
        "\r\n",
        "\r\n",
        "# # plt.plot(test_losses, color='blue',label='test')\r\n",
        "# # plt.legend()\r\n",
        "\r\n",
        "\r\n",
        "# # plt.show()\r\n",
        "\r\n",
        "\r\n",
        "\r\n"
      ],
      "execution_count": null,
      "outputs": []
    },
    {
      "cell_type": "markdown",
      "metadata": {
        "id": "ltIEM_3G_6AV"
      },
      "source": [
        "4 эпохи"
      ]
    },
    {
      "cell_type": "code",
      "metadata": {
        "colab": {
          "base_uri": "https://localhost:8080/",
          "height": 438
        },
        "id": "ro0CHMRE_7k_",
        "outputId": "51f9d6ca-d055-4673-e446-9792376614ef"
      },
      "source": [
        "import torch\r\n",
        "from torch.autograd import Variable\r\n",
        "import torch.nn as nn\r\n",
        "import torch.nn.functional as F\r\n",
        "\r\n",
        "import random\r\n",
        "import numpy as np\r\n",
        "import torch.optim as optim\r\n",
        "import matplotlib.pyplot as plt\r\n",
        "from statistics import mean\r\n",
        "\r\n",
        "batch_size = 23 # 250-500  # Number of samples in each batch to do(/9)\r\n",
        "batch_size_test=60011  \r\n",
        "\r\n",
        "\r\n",
        "epoch_num = 4  # Number of epochs to train the network\r\n",
        "lr = 0.001        # Learning rate\r\n",
        "\r\n",
        "\r\n",
        "#140000 - train\r\n",
        "#60011 - test\r\n",
        "\r\n",
        "class Model(nn.Module):\r\n",
        "    def __init__(self):\r\n",
        "        super(Model, self).__init__()\r\n",
        "        self.fc1 = nn.Linear(334, 200)\r\n",
        "        self.fc2 = nn.Linear(200, 100)\r\n",
        "        self.fc3 = nn.Linear(100, 1)\r\n",
        "\r\n",
        "    def forward(self, x):\r\n",
        "        \r\n",
        "        x = F.relu(self.fc1(x))\r\n",
        "        x = F.relu(self.fc2(x))\r\n",
        "        x = self.fc3(x)\r\n",
        "        m = nn.Sigmoid()\r\n",
        "        return m(x)\r\n",
        "\r\n",
        "# class Model(nn.Module):\r\n",
        "#     def __init__(self):\r\n",
        "#         super(Model, self).__init__()\r\n",
        "        \r\n",
        "#         self.fc1 = nn.Linear(334, 290)\r\n",
        "#         self.fc2 = nn.Linear(290, 210)\r\n",
        "#         self.fc3 = nn.Linear(210, 170)\r\n",
        "#         self.fc4 = nn.Linear(170, 130)\r\n",
        "#         self.fc5 = nn.Linear(130, 90)\r\n",
        "#         self.fc6 = nn.Linear(90, 10)\r\n",
        "#         self.fc7 = nn.Linear(10, 1)\r\n",
        "\r\n",
        "\r\n",
        "#         # # ...\r\n",
        "#         # self.fc2 = nn.Linear(200, 100)\r\n",
        "\r\n",
        "\r\n",
        "#         # self.fc3 = nn.Linear(100, 1) # conv1d??\r\n",
        "\r\n",
        "#     def forward(self, x):\r\n",
        "        \r\n",
        "#         x = F.relu(self.fc1(x))  #leaky_relu ???\r\n",
        "#         x = F.relu(self.fc2(x))\r\n",
        "#         x = F.relu(self.fc3(x))  #leaky_relu ???\r\n",
        "#         x = F.relu(self.fc4(x))\r\n",
        "#         x = F.relu(self.fc5(x))  #leaky_relu ???\r\n",
        "#         x = F.relu(self.fc6(x))\r\n",
        "#         x = self.fc7(x)\r\n",
        "#         m = nn.Sigmoid()\r\n",
        "#         return m(x)\r\n",
        "        \r\n",
        "\r\n",
        "# class Model(nn.Module):\r\n",
        "#     def __init__(self): \r\n",
        "#         super(Model, self).__init__()\r\n",
        "#         self.classifier = nn.Sequential(\r\n",
        "#             nn.Linear(334, 200),\r\n",
        "#             nn.BatchNorm1d(200), #applying batch norm\r\n",
        "#             nn.ReLU(),\r\n",
        "#             nn.Linear(200, 100),\r\n",
        "#             nn.BatchNorm1d(100),\r\n",
        "#             nn.ReLU(),\r\n",
        "#             nn.Linear(100, 1)\r\n",
        "#         )\r\n",
        "             \r\n",
        "#     def forward(self, x):\r\n",
        "#         x = x.view(x.size(0), -1)\r\n",
        "#         x = self.classifier(x)\r\n",
        "#         m = nn.Sigmoid()\r\n",
        "#         return m(x)\r\n",
        "#         # return x\r\n",
        "\r\n",
        "model = Model()\r\n",
        "alpha = 0.3\r\n",
        "\r\n",
        "# device = torch.device(\"cuda:0\" if torch.cuda.is_available() else \"cpu\")\r\n",
        "# print(device)\r\n",
        "# model.to(device)\r\n",
        "# print(model)\r\n",
        "\r\n",
        "\r\n",
        "# #convert to torch structure\r\n",
        "# X_test_1_tensor = torch.FloatTensor(X_test_1) \r\n",
        "# X_test_0_tensor = torch.FloatTensor(X_test_0)\r\n",
        "\r\n",
        "\r\n",
        "# #convert to torch structure\r\n",
        "# treatment_test = treatment_test.to_numpy()\r\n",
        "# treatment_test = torch.from_numpy(treatment_test).int()\r\n",
        "# treatment_test = Variable(treatment_test)\r\n",
        "\r\n",
        "\r\n",
        "# #convert to torch structure\r\n",
        "# y_test = y_test.to_numpy()\r\n",
        "# y_test = torch.from_numpy(y_test).float()\r\n",
        "# y_test  = Variable(y_test)\r\n",
        "\r\n",
        "\r\n",
        "# #convert to torch structure\r\n",
        "# Z_trans_test = Z_trans_test.to_numpy()\r\n",
        "# Z_trans_test = torch.from_numpy(Z_trans_test).float()\r\n",
        "# Z_trans_test = Variable(Z_trans_test)\r\n",
        "\r\n",
        "\r\n",
        "#init loaders\r\n",
        "train_loader = DataLoader(dataset=train_data, batch_size=batch_size, shuffle=True)\r\n",
        "test_loader = DataLoader(dataset=test_data, batch_size=batch_size_test, shuffle=True)\r\n",
        "\r\n",
        "\r\n",
        "\r\n",
        "\r\n",
        "# define the loss (criterion) and create an optimizer\r\n",
        "optimizer = optim.Adam(model.parameters(),lr = lr)\r\n",
        "\r\n",
        "# sgd??   \r\n",
        "\r\n",
        "# define lists of losses to store\r\n",
        "all_losses  = []\r\n",
        "test_losses = []\r\n",
        "min_losses = []\r\n",
        "\r\n",
        "\r\n",
        "\r\n",
        "# epochs loop\r\n",
        "for ep in range(epoch_num):  \r\n",
        "    model.train()\r\n",
        "    print(\".......................... epoch =\",ep,\"..........................\")\r\n",
        "    batch_loss = []\r\n",
        "    # batches loop\r\n",
        "    for X_batch_0,X_batch_1,Z_batch,treatment_batch, y_batch in train_loader:\r\n",
        "       \r\n",
        "       \r\n",
        "        \r\n",
        "        batch_1_feat = X_batch_1\r\n",
        "        batch_0_feat = X_batch_0\r\n",
        "        \r\n",
        "        batch_label = y_batch\r\n",
        "        batch_Z_trans = Z_batch\r\n",
        "\r\n",
        "        optimizer.zero_grad()\r\n",
        "        # Forward pass (predict)\r\n",
        "        mu_1_target_class = model(batch_1_feat)\r\n",
        "        mu_0_target_class = model(batch_0_feat)\r\n",
        "\r\n",
        "        #convert to torch structure\r\n",
        "        treatment_batch = treatment_batch\r\n",
        "       \r\n",
        "\r\n",
        "        mu_0_target_class = torch.reshape(mu_0_target_class, shape = (-1,))\r\n",
        "        mu_1_target_class = torch.reshape(mu_1_target_class, shape =(-1,) )\r\n",
        "        \r\n",
        "        # print(\"mu_0\", mu_0_target_class)\r\n",
        "        # print(\"mu_1\", mu_1_target_class)\r\n",
        "\r\n",
        "        ones = np.ones(shape = batch_size)\r\n",
        "        ones = torch.from_numpy(ones).float()\r\n",
        "        \r\n",
        "\r\n",
        "       \r\n",
        "        #implements mu = T * mu_1 + (1-T) * mu_0\r\n",
        "        uplift_pred_Y = treatment_batch * mu_1_target_class + (ones - treatment_batch) * mu_0_target_class \r\n",
        "\r\n",
        "        \r\n",
        "\r\n",
        "        \r\n",
        "       \r\n",
        "\r\n",
        "       \r\n",
        "        \r\n",
        "        \r\n",
        "        #declare losses\r\n",
        "        loss_cross = nn.BCELoss(reduction = 'mean')\r\n",
        "        loss_MSE = nn.MSELoss()\r\n",
        "\r\n",
        "        #implements uplift_predicted = mu_1 - mu_0\r\n",
        "        uplift_pred = mu_1_target_class - mu_0_target_class \r\n",
        "        \r\n",
        "        \r\n",
        "        # print(\"uplift_pred\", uplift_pred)\r\n",
        "\r\n",
        "        \r\n",
        "\r\n",
        "        \r\n",
        "\r\n",
        "        sum_of_losses = torch.mean(  (1-alpha) * loss_MSE(batch_Z_trans, uplift_pred) + alpha * loss_cross( uplift_pred_Y, batch_label))\r\n",
        "        # print(loss_contrastive)\r\n",
        "        batch_loss.append(sum_of_losses)\r\n",
        "        # print(\"train AUQC:\", qini_auc_score(batch_label.cpu().detach().numpy(), uplift_pred.cpu().detach().numpy(), treatment_batch.cpu().detach().numpy() ))\r\n",
        "\r\n",
        "        \r\n",
        "        # print(batch_n, loss_contrastive)\r\n",
        "\r\n",
        "\r\n",
        "        # plot_qini_curve(batch_label.cpu().detach().numpy(), uplift_pred.cpu().detach().numpy(), treatment_batch.cpu().detach().numpy())\r\n",
        "        # print(qini_auc_score(batch_label.cpu().detach().numpy(), uplift_pred.cpu().detach().numpy(), treatment_batch.cpu().detach().numpy() ))\r\n",
        "        \r\n",
        "        # Backward pass and updates\r\n",
        "        sum_of_losses.backward()                     # calculate the gradients\r\n",
        "        optimizer.step()                    # update the weights\r\n",
        "        # i += batch_size\r\n",
        "        #end for !!!!!!!!!!!!!!!!!!!\r\n",
        "\r\n",
        "    # plot_qini_curve(batch_label.cpu().detach().numpy(), uplift_pred.cpu().detach().numpy(), treatment_batch.cpu().detach().numpy())\r\n",
        "    # print(qini_auc_score(batch_label.cpu().detach().numpy(), uplift_pred.cpu().detach().numpy(), treatment_batch.cpu().detach().numpy() ))\r\n",
        "    batch_loss  = list(batch_loss)\r\n",
        "    all_losses.append( sum(batch_loss) / len(batch_loss) ) \r\n",
        "\r\n",
        "    # #work with test dataset\r\n",
        "    print('work with test dataset')\r\n",
        "    batch_loss = []\r\n",
        "\r\n",
        "   \r\n",
        "    model.eval()\r\n",
        "    \r\n",
        "    for X_batch_0,X_batch_1,Z_batch,treatment_batch, y_batch in test_loader:\r\n",
        "        \r\n",
        "       \r\n",
        "        \r\n",
        "        batch_1_feat = X_batch_1\r\n",
        "        batch_0_feat = X_batch_0\r\n",
        "        \r\n",
        "        batch_label = y_batch\r\n",
        "        batch_Z_trans = Z_batch\r\n",
        "\r\n",
        "        # optimizer.zero_grad()\r\n",
        "        # Forward pass (predict)\r\n",
        "        mu_1_target_class = model(batch_1_feat)\r\n",
        "        mu_0_target_class = model(batch_0_feat)\r\n",
        "\r\n",
        "       \r\n",
        "       \r\n",
        "\r\n",
        "        mu_0_target_class = torch.reshape(mu_0_target_class, shape = (-1,))\r\n",
        "        mu_1_target_class = torch.reshape(mu_1_target_class, shape =(-1,) )\r\n",
        "        \r\n",
        "        # print(\"mu_0\", mu_0_target_class)\r\n",
        "        # print(\"mu_1\", mu_1_target_class)\r\n",
        "\r\n",
        "        ones = np.ones(shape = batch_size_test)\r\n",
        "        ones = torch.from_numpy(ones).float()\r\n",
        "        \r\n",
        "     \r\n",
        "        #implements mu = T * mu_1 + (1-T) * mu_0\r\n",
        "        uplift_pred_Y = treatment_batch * mu_1_target_class + (ones - treatment_batch) * mu_0_target_class \r\n",
        "\r\n",
        "        #declare losses\r\n",
        "        loss_cross = nn.BCELoss(reduction = 'mean')\r\n",
        "        loss_MSE = nn.MSELoss()\r\n",
        "\r\n",
        "        #implements uplift_predicted = mu_1 - mu_0\r\n",
        "        uplift_pred = mu_1_target_class - mu_0_target_class   \r\n",
        "        \r\n",
        "\r\n",
        "        # scatter plot for mse parametres to do !!!\r\n",
        "        sum_of_losses = torch.mean(  (1-alpha) * loss_MSE(batch_Z_trans, uplift_pred) + alpha * loss_cross( uplift_pred_Y, batch_label))\r\n",
        "       \r\n",
        "        batch_loss.append(sum_of_losses)\r\n",
        "        \r\n",
        "\r\n",
        "        \r\n",
        "        # print(batch_n, loss_contrastive)\r\n",
        "\r\n",
        "\r\n",
        "        # plot_qini_curve(batch_label.cpu().detach().numpy(), uplift_pred.cpu().detach().numpy(), treatment_batch.cpu().detach().numpy())\r\n",
        "        # print(qini_auc_score(batch_label.cpu().detach().numpy(), uplift_pred.cpu().detach().numpy(), treatment_batch.cpu().detach().numpy() ))\r\n",
        "        \r\n",
        "        \r\n",
        "        \r\n",
        "    #     #end for\r\n",
        "    batch_loss  = list(batch_loss)\r\n",
        "    test_losses.append( sum(batch_loss) / len(batch_loss) ) \r\n",
        "    \r\n",
        "\r\n",
        "    \r\n",
        "   \r\n",
        "\r\n",
        "import matplotlib.pyplot as plt\r\n",
        "\r\n",
        "plt.plot(all_losses, color='green',label='train')\r\n",
        "plt.title('train vs test')\r\n",
        "plt.xlabel('epoch_num')\r\n",
        "plt.ylabel('loss sum')\r\n",
        "\r\n",
        "\r\n",
        "\r\n",
        "plt.plot(test_losses, color='blue',label='test')\r\n",
        "plt.legend()\r\n",
        "\r\n",
        "\r\n",
        "plt.show()\r\n",
        "\r\n",
        "\r\n",
        "\r\n"
      ],
      "execution_count": null,
      "outputs": [
        {
          "output_type": "stream",
          "text": [
            ".......................... epoch = 0 ..........................\n",
            "work with test dataset\n",
            ".......................... epoch = 1 ..........................\n",
            "work with test dataset\n",
            ".......................... epoch = 2 ..........................\n",
            "work with test dataset\n",
            ".......................... epoch = 3 ..........................\n",
            "work with test dataset\n"
          ],
          "name": "stdout"
        },
        {
          "output_type": "display_data",
          "data": {
            "image/png": "[encoded data removed]",
            "text/plain": [
              "<Figure size 432x288 with 1 Axes>"
            ]
          },
          "metadata": {
            "tags": [],
            "needs_background": "light"
          }
        }
      ]
    },
    {
      "cell_type": "markdown",
      "metadata": {
        "id": "Fxf52gsqYnIF"
      },
      "source": [
        "neural network with dataloader (то, что работает ) "
      ]
    },
    {
      "cell_type": "code",
      "metadata": {
        "colab": {
          "base_uri": "https://localhost:8080/",
          "height": 438
        },
        "id": "D26MHedEYmpz",
        "outputId": "e3bb3d1b-0c0b-4bcc-83a8-36bff4455344"
      },
      "source": [
        "import torch\n",
        "from torch.autograd import Variable\n",
        "import torch.nn as nn\n",
        "import torch.nn.functional as F\n",
        "\n",
        "import random\n",
        "import numpy as np\n",
        "import torch.optim as optim\n",
        "import matplotlib.pyplot as plt\n",
        "from statistics import mean\n",
        "\n",
        "batch_size = 23 # 250-500  # Number of samples in each batch to do(/9)\n",
        "batch_size_test=60011  \n",
        "\n",
        "\n",
        "epoch_num = 4  # Number of epochs to train the network\n",
        "lr = 0.001        # Learning rate\n",
        "\n",
        "\n",
        "#140000 - train\n",
        "#60011 - test\n",
        "\n",
        "class Model(nn.Module):\n",
        "    def __init__(self):\n",
        "        super(Model, self).__init__()\n",
        "        self.fc1 = nn.Linear(334, 200)\n",
        "        self.fc2 = nn.Linear(200, 100)\n",
        "        self.fc3 = nn.Linear(100, 1)\n",
        "\n",
        "    def forward(self, x):\n",
        "        \n",
        "        x = F.relu(self.fc1(x))\n",
        "        x = F.relu(self.fc2(x))\n",
        "        x = self.fc3(x)\n",
        "        m = nn.Sigmoid()\n",
        "        return m(x)\n",
        "\n",
        "# class Model(nn.Module):\n",
        "#     def __init__(self):\n",
        "#         super(Model, self).__init__()\n",
        "        \n",
        "#         self.fc1 = nn.Linear(334, 290)\n",
        "#         self.fc2 = nn.Linear(290, 210)\n",
        "#         self.fc3 = nn.Linear(210, 170)\n",
        "#         self.fc4 = nn.Linear(170, 130)\n",
        "#         self.fc5 = nn.Linear(130, 90)\n",
        "#         self.fc6 = nn.Linear(90, 10)\n",
        "#         self.fc7 = nn.Linear(10, 1)\n",
        "\n",
        "\n",
        "#         # # ...\n",
        "#         # self.fc2 = nn.Linear(200, 100)\n",
        "\n",
        "\n",
        "#         # self.fc3 = nn.Linear(100, 1) # conv1d??\n",
        "\n",
        "#     def forward(self, x):\n",
        "        \n",
        "#         x = F.relu(self.fc1(x))  #leaky_relu ???\n",
        "#         x = F.relu(self.fc2(x))\n",
        "#         x = F.relu(self.fc3(x))  #leaky_relu ???\n",
        "#         x = F.relu(self.fc4(x))\n",
        "#         x = F.relu(self.fc5(x))  #leaky_relu ???\n",
        "#         x = F.relu(self.fc6(x))\n",
        "#         x = self.fc7(x)\n",
        "#         m = nn.Sigmoid()\n",
        "#         return m(x)\n",
        "        \n",
        "\n",
        "# class Model(nn.Module):\n",
        "#     def __init__(self): \n",
        "#         super(Model, self).__init__()\n",
        "#         self.classifier = nn.Sequential(\n",
        "#             nn.Linear(334, 200),\n",
        "#             nn.BatchNorm1d(200), #applying batch norm\n",
        "#             nn.ReLU(),\n",
        "#             nn.Linear(200, 100),\n",
        "#             nn.BatchNorm1d(100),\n",
        "#             nn.ReLU(),\n",
        "#             nn.Linear(100, 1)\n",
        "#         )\n",
        "             \n",
        "#     def forward(self, x):\n",
        "#         x = x.view(x.size(0), -1)\n",
        "#         x = self.classifier(x)\n",
        "#         m = nn.Sigmoid()\n",
        "#         return m(x)\n",
        "#         # return x\n",
        "\n",
        "model = Model()\n",
        "alpha = 0.3\n",
        "\n",
        "# device = torch.device(\"cuda:0\" if torch.cuda.is_available() else \"cpu\")\n",
        "# print(device)\n",
        "# model.to(device)\n",
        "# print(model)\n",
        "\n",
        "\n",
        "# #convert to torch structure\n",
        "# X_test_1_tensor = torch.FloatTensor(X_test_1) \n",
        "# X_test_0_tensor = torch.FloatTensor(X_test_0)\n",
        "\n",
        "\n",
        "# #convert to torch structure\n",
        "# treatment_test = treatment_test.to_numpy()\n",
        "# treatment_test = torch.from_numpy(treatment_test).int()\n",
        "# treatment_test = Variable(treatment_test)\n",
        "\n",
        "\n",
        "# #convert to torch structure\n",
        "# y_test = y_test.to_numpy()\n",
        "# y_test = torch.from_numpy(y_test).float()\n",
        "# y_test  = Variable(y_test)\n",
        "\n",
        "\n",
        "# #convert to torch structure\n",
        "# Z_trans_test = Z_trans_test.to_numpy()\n",
        "# Z_trans_test = torch.from_numpy(Z_trans_test).float()\n",
        "# Z_trans_test = Variable(Z_trans_test)\n",
        "\n",
        "\n",
        "#init loaders\n",
        "train_loader = DataLoader(dataset=train_data, batch_size=batch_size, shuffle=True)\n",
        "test_loader = DataLoader(dataset=test_data, batch_size=batch_size_test, shuffle=True)\n",
        "\n",
        "\n",
        "\n",
        "\n",
        "# define the loss (criterion) and create an optimizer\n",
        "optimizer = optim.Adam(model.parameters(),lr = lr)\n",
        "\n",
        "# sgd??   \n",
        "\n",
        "# define lists of losses to store\n",
        "all_losses  = []\n",
        "test_losses = []\n",
        "min_losses = []\n",
        "\n",
        "\n",
        "\n",
        "# epochs loop\n",
        "for ep in range(epoch_num):  \n",
        "    model.train()\n",
        "    print(\".......................... epoch =\",ep,\"..........................\")\n",
        "    batch_loss = []\n",
        "    # batches loop\n",
        "    for X_batch_0,X_batch_1,Z_batch,treatment_batch, y_batch in train_loader:\n",
        "       \n",
        "       \n",
        "        \n",
        "        batch_1_feat = X_batch_1\n",
        "        batch_0_feat = X_batch_0\n",
        "        \n",
        "        batch_label = y_batch\n",
        "        batch_Z_trans = Z_batch\n",
        "\n",
        "        optimizer.zero_grad()\n",
        "        # Forward pass (predict)\n",
        "        mu_1_target_class = model(batch_1_feat)\n",
        "        mu_0_target_class = model(batch_0_feat)\n",
        "\n",
        "        #convert to torch structure\n",
        "        treatment_batch = treatment_batch\n",
        "       \n",
        "\n",
        "        mu_0_target_class = torch.reshape(mu_0_target_class, shape = (-1,))\n",
        "        mu_1_target_class = torch.reshape(mu_1_target_class, shape =(-1,) )\n",
        "        \n",
        "        # print(\"mu_0\", mu_0_target_class)\n",
        "        # print(\"mu_1\", mu_1_target_class)\n",
        "\n",
        "        ones = np.ones(shape = batch_size)\n",
        "        ones = torch.from_numpy(ones).float()\n",
        "        \n",
        "\n",
        "       \n",
        "        #implements mu = T * mu_1 + (1-T) * mu_0\n",
        "        uplift_pred_Y = treatment_batch * mu_1_target_class + (ones - treatment_batch) * mu_0_target_class \n",
        "\n",
        "        \n",
        "\n",
        "        \n",
        "       \n",
        "\n",
        "       \n",
        "        \n",
        "        \n",
        "        #declare losses\n",
        "        loss_cross = nn.BCELoss(reduction = 'mean')\n",
        "        loss_MSE = nn.MSELoss()\n",
        "\n",
        "        #implements uplift_predicted = mu_1 - mu_0\n",
        "        uplift_pred = mu_1_target_class - mu_0_target_class \n",
        "        \n",
        "        \n",
        "        # print(\"uplift_pred\", uplift_pred)\n",
        "\n",
        "        \n",
        "\n",
        "        \n",
        "\n",
        "        sum_of_losses = torch.mean(  (1-alpha) * loss_MSE(batch_Z_trans, uplift_pred) + alpha * loss_cross( uplift_pred_Y, batch_label))\n",
        "        # print(loss_contrastive)\n",
        "        batch_loss.append(sum_of_losses)\n",
        "        # print(\"train AUQC:\", qini_auc_score(batch_label.cpu().detach().numpy(), uplift_pred.cpu().detach().numpy(), treatment_batch.cpu().detach().numpy() ))\n",
        "\n",
        "        \n",
        "        # print(batch_n, loss_contrastive)\n",
        "\n",
        "\n",
        "        # plot_qini_curve(batch_label.cpu().detach().numpy(), uplift_pred.cpu().detach().numpy(), treatment_batch.cpu().detach().numpy())\n",
        "        # print(qini_auc_score(batch_label.cpu().detach().numpy(), uplift_pred.cpu().detach().numpy(), treatment_batch.cpu().detach().numpy() ))\n",
        "        \n",
        "        # Backward pass and updates\n",
        "        sum_of_losses.backward()                     # calculate the gradients\n",
        "        optimizer.step()                    # update the weights\n",
        "        # i += batch_size\n",
        "        #end for !!!!!!!!!!!!!!!!!!!\n",
        "\n",
        "    # plot_qini_curve(batch_label.cpu().detach().numpy(), uplift_pred.cpu().detach().numpy(), treatment_batch.cpu().detach().numpy())\n",
        "    # print(qini_auc_score(batch_label.cpu().detach().numpy(), uplift_pred.cpu().detach().numpy(), treatment_batch.cpu().detach().numpy() ))\n",
        "    batch_loss  = list(batch_loss)\n",
        "    all_losses.append( sum(batch_loss) / len(batch_loss) ) \n",
        "\n",
        "    # #work with test dataset\n",
        "    print('work with test dataset')\n",
        "    batch_loss = []\n",
        "\n",
        "   \n",
        "    model.eval()\n",
        "    \n",
        "    for X_batch_0,X_batch_1,Z_batch,treatment_batch, y_batch in test_loader:\n",
        "        \n",
        "       \n",
        "        \n",
        "        batch_1_feat = X_batch_1\n",
        "        batch_0_feat = X_batch_0\n",
        "        \n",
        "        batch_label = y_batch\n",
        "        batch_Z_trans = Z_batch\n",
        "\n",
        "        # optimizer.zero_grad()\n",
        "        # Forward pass (predict)\n",
        "        mu_1_target_class = model(batch_1_feat)\n",
        "        mu_0_target_class = model(batch_0_feat)\n",
        "\n",
        "       \n",
        "       \n",
        "\n",
        "        mu_0_target_class = torch.reshape(mu_0_target_class, shape = (-1,))\n",
        "        mu_1_target_class = torch.reshape(mu_1_target_class, shape =(-1,) )\n",
        "        \n",
        "        # print(\"mu_0\", mu_0_target_class)\n",
        "        # print(\"mu_1\", mu_1_target_class)\n",
        "\n",
        "        ones = np.ones(shape = batch_size_test)\n",
        "        ones = torch.from_numpy(ones).float()\n",
        "        \n",
        "     \n",
        "        #implements mu = T * mu_1 + (1-T) * mu_0\n",
        "        uplift_pred_Y = treatment_batch * mu_1_target_class + (ones - treatment_batch) * mu_0_target_class \n",
        "\n",
        "        #declare losses\n",
        "        loss_cross = nn.BCELoss(reduction = 'mean')\n",
        "        loss_MSE = nn.MSELoss()\n",
        "\n",
        "        #implements uplift_predicted = mu_1 - mu_0\n",
        "        uplift_pred = mu_1_target_class - mu_0_target_class   \n",
        "        \n",
        "\n",
        "        # scatter plot for mse parametres to do !!!\n",
        "        sum_of_losses = torch.mean(  (1-alpha) * loss_MSE(batch_Z_trans, uplift_pred) + alpha * loss_cross( uplift_pred_Y, batch_label))\n",
        "       \n",
        "        batch_loss.append(sum_of_losses)\n",
        "        \n",
        "\n",
        "        \n",
        "        # print(batch_n, loss_contrastive)\n",
        "\n",
        "\n",
        "        # plot_qini_curve(batch_label.cpu().detach().numpy(), uplift_pred.cpu().detach().numpy(), treatment_batch.cpu().detach().numpy())\n",
        "        # print(qini_auc_score(batch_label.cpu().detach().numpy(), uplift_pred.cpu().detach().numpy(), treatment_batch.cpu().detach().numpy() ))\n",
        "        \n",
        "        \n",
        "        \n",
        "    #     #end for\n",
        "    batch_loss  = list(batch_loss)\n",
        "    test_losses.append( sum(batch_loss) / len(batch_loss) ) \n",
        "    \n",
        "\n",
        "    \n",
        "   \n",
        "\n",
        "import matplotlib.pyplot as plt\n",
        "\n",
        "plt.plot(all_losses, color='green',label='train')\n",
        "plt.title('train vs test')\n",
        "plt.xlabel('epoch_num')\n",
        "plt.ylabel('loss sum')\n",
        "\n",
        "\n",
        "\n",
        "plt.plot(test_losses, color='blue',label='test')\n",
        "plt.legend()\n",
        "\n",
        "\n",
        "plt.show()\n",
        "\n",
        "\n",
        "\n"
      ],
      "execution_count": null,
      "outputs": [
        {
          "output_type": "stream",
          "text": [
            ".......................... epoch = 0 ..........................\n",
            "work with test dataset\n",
            ".......................... epoch = 1 ..........................\n",
            "work with test dataset\n",
            ".......................... epoch = 2 ..........................\n",
            "work with test dataset\n",
            ".......................... epoch = 3 ..........................\n",
            "work with test dataset\n"
          ],
          "name": "stdout"
        },
        {
          "output_type": "display_data",
          "data": {
            "image/png": "[encoded data removed]",
            "text/plain": [
              "<Figure size 432x288 with 1 Axes>"
            ]
          },
          "metadata": {
            "tags": [],
            "needs_background": "light"
          }
        }
      ]
    },
    {
      "cell_type": "code",
      "metadata": {
        "colab": {
          "base_uri": "https://localhost:8080/"
        },
        "id": "RrwCYhMD614w",
        "outputId": "c0e3c12a-c6ce-4e1f-ed3d-db960f905689"
      },
      "source": [
        "from UPLIFT_modeling.uplift.metrics import Kendall_rank_correlation, qini_auc_score, uplift_at_k\r\n",
        "\r\n",
        "all_res_uplift = []\r\n",
        "all_res_auqc = []\r\n",
        "all_res_rank_correlation = []\r\n",
        "all_res_auuc = []\r\n",
        "\r\n",
        "for j in range( 1, 101, 1):\r\n",
        "\r\n",
        "    #logger.info(f\"Random state =:{j}\")\r\n",
        "    RANDOM_STATE = j\r\n",
        "    indices_learn_new, indices_valid_new = train_test_split(\r\n",
        "        indices_valid,\r\n",
        "        test_size=0.35,\r\n",
        "        random_state = RANDOM_STATE,\r\n",
        "    )\r\n",
        "   \r\n",
        "\r\n",
        "    X_valid = features.loc[indices_valid_new, :]\r\n",
        "    treatment_valid = train.loc[indices_valid_new, 'treatment_flg'].values\r\n",
        "    target_valid = train.loc[indices_valid_new, 'target'].values\r\n",
        "\r\n",
        "    X_valid_0 = X_valid.copy()\r\n",
        "    X_valid_1 = X_valid.copy()\r\n",
        "\r\n",
        "    X_valid_1 = X_valid_1.astype('float32')\r\n",
        "    X_valid_1 = X_valid_1.replace([np.inf, -np.inf], np.nan).fillna(0)\r\n",
        "    X_valid_1 = scaler.fit_transform(X_valid_1)\r\n",
        "\r\n",
        "    X_valid_0 = X_valid_0.astype('float32')\r\n",
        "    X_valid_0 = X_valid_0.replace([np.inf, -np.inf], np.nan).fillna(0)\r\n",
        "    X_valid_0 = scaler.fit_transform(X_valid_0)\r\n",
        "\r\n",
        "    X_valid_0 = np.c_[ X_valid_0, np.zeros(X_valid_0.shape[0]) ]\r\n",
        "    X_valid_1 = np.c_[ X_valid_1, np.ones(X_valid_1.shape[0]) ] \r\n",
        "\r\n",
        "    model.eval()\r\n",
        "    X_valid_1 = torch.FloatTensor(X_valid_1)\r\n",
        "    X_valid_0 = torch.FloatTensor(X_valid_0)\r\n",
        "    \r\n",
        "    mu_1 = model(X_valid_1)\r\n",
        "    mu_0 = model(X_valid_0)\r\n",
        "    valid_pred = mu_1-mu_0\r\n",
        "    \r\n",
        "    valid_pred = valid_pred.detach().numpy()\r\n",
        "    valid_pred = valid_pred.reshape((-1,)) \r\n",
        "  \r\n",
        "    valid_pred = pd.Series(valid_pred, index = indices_valid_new)\r\n",
        "    \r\n",
        "    # valid_pred = clf.predict(X_valid)\r\n",
        "    AUQC = qini_auc_score(target_valid, valid_pred, treatment_valid)\r\n",
        "   \r\n",
        "    valid_scores = uplift_at_k(target_valid, valid_pred, treatment_valid)\r\n",
        "    tau, p_value = Kendall_rank_correlation(target_valid, valid_pred, treatment_valid)\r\n",
        "    auuc = uplift_auc_score(target_valid, valid_pred, treatment_valid)\r\n",
        "    \r\n",
        "    all_res_uplift.append(valid_scores)\r\n",
        "    all_res_auqc.append(AUQC)\r\n",
        "    all_res_rank_correlation.append(tau)\r\n",
        "    all_res_auuc.append(auuc)\r\n",
        "    \r\n",
        "print('Число замеров', j)\r\n",
        "print('AUQC: mean: ', np.mean(all_res_auqc),\"| std: \", np.std(all_res_auqc, ddof=1))\r\n",
        "print('uplift30%: mean: ', np.mean(all_res_uplift),\"| std: \",np.std(all_res_uplift, ddof=1))\r\n",
        "print('Kendall_rank_correlation: mean: ',np.mean(all_res_rank_correlation), \"| std: \", np.std(all_res_rank_correlation,ddof=1))\r\n",
        "print('AUUC: mean: ',np.mean(all_res_auuc), \"| std: \", np.std(all_res_auuc,ddof=1))"
      ],
      "execution_count": null,
      "outputs": [
        {
          "output_type": "stream",
          "text": [
            "/usr/local/lib/python3.7/dist-packages/numpy/lib/nanfunctions.py:1544: RuntimeWarning:\n",
            "\n",
            "overflow encountered in multiply\n",
            "\n",
            "/usr/local/lib/python3.7/dist-packages/numpy/lib/nanfunctions.py:1544: RuntimeWarning:\n",
            "\n",
            "overflow encountered in multiply\n",
            "\n"
          ],
          "name": "stderr"
        },
        {
          "output_type": "stream",
          "text": [
            "Kendal uplift rank correlation =  0.5555555555555555 with p_value =  0.02860945767195767\n"
          ],
          "name": "stdout"
        },
        {
          "output_type": "stream",
          "text": [
            "/usr/local/lib/python3.7/dist-packages/numpy/lib/nanfunctions.py:1544: RuntimeWarning:\n",
            "\n",
            "overflow encountered in multiply\n",
            "\n",
            "/usr/local/lib/python3.7/dist-packages/numpy/lib/nanfunctions.py:1544: RuntimeWarning:\n",
            "\n",
            "overflow encountered in multiply\n",
            "\n"
          ],
          "name": "stderr"
        },
        {
          "output_type": "stream",
          "text": [
            "Kendal uplift rank correlation =  0.6888888888888888 with p_value =  0.00468694885361552\n"
          ],
          "name": "stdout"
        },
        {
          "output_type": "stream",
          "text": [
            "/usr/local/lib/python3.7/dist-packages/numpy/lib/nanfunctions.py:1544: RuntimeWarning:\n",
            "\n",
            "overflow encountered in multiply\n",
            "\n",
            "/usr/local/lib/python3.7/dist-packages/numpy/lib/nanfunctions.py:1544: RuntimeWarning:\n",
            "\n",
            "overflow encountered in multiply\n",
            "\n"
          ],
          "name": "stderr"
        },
        {
          "output_type": "stream",
          "text": [
            "Kendal uplift rank correlation =  0.28888888888888886 with p_value =  0.2912483465608466\n"
          ],
          "name": "stdout"
        },
        {
          "output_type": "stream",
          "text": [
            "/usr/local/lib/python3.7/dist-packages/numpy/lib/nanfunctions.py:1544: RuntimeWarning:\n",
            "\n",
            "overflow encountered in multiply\n",
            "\n",
            "/usr/local/lib/python3.7/dist-packages/numpy/lib/nanfunctions.py:1544: RuntimeWarning:\n",
            "\n",
            "overflow encountered in multiply\n",
            "\n"
          ],
          "name": "stderr"
        },
        {
          "output_type": "stream",
          "text": [
            "Kendal uplift rank correlation =  0.6 with p_value =  0.016666115520282188\n"
          ],
          "name": "stdout"
        },
        {
          "output_type": "stream",
          "text": [
            "/usr/local/lib/python3.7/dist-packages/numpy/lib/nanfunctions.py:1544: RuntimeWarning:\n",
            "\n",
            "overflow encountered in multiply\n",
            "\n",
            "/usr/local/lib/python3.7/dist-packages/numpy/lib/nanfunctions.py:1544: RuntimeWarning:\n",
            "\n",
            "overflow encountered in multiply\n",
            "\n"
          ],
          "name": "stderr"
        },
        {
          "output_type": "stream",
          "text": [
            "Kendal uplift rank correlation =  0.6444444444444444 with p_value =  0.009148478835978836\n"
          ],
          "name": "stdout"
        },
        {
          "output_type": "stream",
          "text": [
            "/usr/local/lib/python3.7/dist-packages/numpy/lib/nanfunctions.py:1544: RuntimeWarning:\n",
            "\n",
            "overflow encountered in multiply\n",
            "\n",
            "/usr/local/lib/python3.7/dist-packages/numpy/lib/nanfunctions.py:1544: RuntimeWarning:\n",
            "\n",
            "overflow encountered in multiply\n",
            "\n"
          ],
          "name": "stderr"
        },
        {
          "output_type": "stream",
          "text": [
            "Kendal uplift rank correlation =  0.3333333333333333 with p_value =  0.21637345679012346\n"
          ],
          "name": "stdout"
        },
        {
          "output_type": "stream",
          "text": [
            "/usr/local/lib/python3.7/dist-packages/numpy/lib/nanfunctions.py:1544: RuntimeWarning:\n",
            "\n",
            "overflow encountered in multiply\n",
            "\n",
            "/usr/local/lib/python3.7/dist-packages/numpy/lib/nanfunctions.py:1544: RuntimeWarning:\n",
            "\n",
            "overflow encountered in multiply\n",
            "\n"
          ],
          "name": "stderr"
        },
        {
          "output_type": "stream",
          "text": [
            "Kendal uplift rank correlation =  0.4222222222222222 with p_value =  0.10831349206349207\n"
          ],
          "name": "stdout"
        },
        {
          "output_type": "stream",
          "text": [
            "/usr/local/lib/python3.7/dist-packages/numpy/lib/nanfunctions.py:1544: RuntimeWarning:\n",
            "\n",
            "overflow encountered in multiply\n",
            "\n",
            "/usr/local/lib/python3.7/dist-packages/numpy/lib/nanfunctions.py:1544: RuntimeWarning:\n",
            "\n",
            "overflow encountered in multiply\n",
            "\n"
          ],
          "name": "stderr"
        },
        {
          "output_type": "stream",
          "text": [
            "Kendal uplift rank correlation =  0.19999999999999998 with p_value =  0.4843127204585538\n"
          ],
          "name": "stdout"
        },
        {
          "output_type": "stream",
          "text": [
            "/usr/local/lib/python3.7/dist-packages/numpy/lib/nanfunctions.py:1544: RuntimeWarning:\n",
            "\n",
            "overflow encountered in multiply\n",
            "\n",
            "/usr/local/lib/python3.7/dist-packages/numpy/lib/nanfunctions.py:1544: RuntimeWarning:\n",
            "\n",
            "overflow encountered in multiply\n",
            "\n"
          ],
          "name": "stderr"
        },
        {
          "output_type": "stream",
          "text": [
            "Kendal uplift rank correlation =  0.28888888888888886 with p_value =  0.2912483465608466\n"
          ],
          "name": "stdout"
        },
        {
          "output_type": "stream",
          "text": [
            "/usr/local/lib/python3.7/dist-packages/numpy/lib/nanfunctions.py:1544: RuntimeWarning:\n",
            "\n",
            "overflow encountered in multiply\n",
            "\n",
            "/usr/local/lib/python3.7/dist-packages/numpy/lib/nanfunctions.py:1544: RuntimeWarning:\n",
            "\n",
            "overflow encountered in multiply\n",
            "\n"
          ],
          "name": "stderr"
        },
        {
          "output_type": "stream",
          "text": [
            "Kendal uplift rank correlation =  0.28888888888888886 with p_value =  0.2912483465608466\n"
          ],
          "name": "stdout"
        },
        {
          "output_type": "stream",
          "text": [
            "/usr/local/lib/python3.7/dist-packages/numpy/lib/nanfunctions.py:1544: RuntimeWarning:\n",
            "\n",
            "overflow encountered in multiply\n",
            "\n",
            "/usr/local/lib/python3.7/dist-packages/numpy/lib/nanfunctions.py:1544: RuntimeWarning:\n",
            "\n",
            "overflow encountered in multiply\n",
            "\n"
          ],
          "name": "stderr"
        },
        {
          "output_type": "stream",
          "text": [
            "Kendal uplift rank correlation =  0.37777777777777777 with p_value =  0.1557418430335097\n"
          ],
          "name": "stdout"
        },
        {
          "output_type": "stream",
          "text": [
            "/usr/local/lib/python3.7/dist-packages/numpy/lib/nanfunctions.py:1544: RuntimeWarning:\n",
            "\n",
            "overflow encountered in multiply\n",
            "\n",
            "/usr/local/lib/python3.7/dist-packages/numpy/lib/nanfunctions.py:1544: RuntimeWarning:\n",
            "\n",
            "overflow encountered in multiply\n",
            "\n"
          ],
          "name": "stderr"
        },
        {
          "output_type": "stream",
          "text": [
            "Kendal uplift rank correlation =  0.5555555555555555 with p_value =  0.02860945767195767\n"
          ],
          "name": "stdout"
        },
        {
          "output_type": "stream",
          "text": [
            "/usr/local/lib/python3.7/dist-packages/numpy/lib/nanfunctions.py:1544: RuntimeWarning:\n",
            "\n",
            "overflow encountered in multiply\n",
            "\n",
            "/usr/local/lib/python3.7/dist-packages/numpy/lib/nanfunctions.py:1544: RuntimeWarning:\n",
            "\n",
            "overflow encountered in multiply\n",
            "\n"
          ],
          "name": "stderr"
        },
        {
          "output_type": "stream",
          "text": [
            "Kendal uplift rank correlation =  0.5111111111111111 with p_value =  0.04662257495590829\n"
          ],
          "name": "stdout"
        },
        {
          "output_type": "stream",
          "text": [
            "/usr/local/lib/python3.7/dist-packages/numpy/lib/nanfunctions.py:1544: RuntimeWarning:\n",
            "\n",
            "overflow encountered in multiply\n",
            "\n",
            "/usr/local/lib/python3.7/dist-packages/numpy/lib/nanfunctions.py:1544: RuntimeWarning:\n",
            "\n",
            "overflow encountered in multiply\n",
            "\n"
          ],
          "name": "stderr"
        },
        {
          "output_type": "stream",
          "text": [
            "Kendal uplift rank correlation =  0.24444444444444444 with p_value =  0.38071979717813054\n"
          ],
          "name": "stdout"
        },
        {
          "output_type": "stream",
          "text": [
            "/usr/local/lib/python3.7/dist-packages/numpy/lib/nanfunctions.py:1544: RuntimeWarning:\n",
            "\n",
            "overflow encountered in multiply\n",
            "\n",
            "/usr/local/lib/python3.7/dist-packages/numpy/lib/nanfunctions.py:1544: RuntimeWarning:\n",
            "\n",
            "overflow encountered in multiply\n",
            "\n"
          ],
          "name": "stderr"
        },
        {
          "output_type": "stream",
          "text": [
            "Kendal uplift rank correlation =  0.5555555555555555 with p_value =  0.02860945767195767\n"
          ],
          "name": "stdout"
        },
        {
          "output_type": "stream",
          "text": [
            "/usr/local/lib/python3.7/dist-packages/numpy/lib/nanfunctions.py:1544: RuntimeWarning:\n",
            "\n",
            "overflow encountered in multiply\n",
            "\n",
            "/usr/local/lib/python3.7/dist-packages/numpy/lib/nanfunctions.py:1544: RuntimeWarning:\n",
            "\n",
            "overflow encountered in multiply\n",
            "\n"
          ],
          "name": "stderr"
        },
        {
          "output_type": "stream",
          "text": [
            "Kendal uplift rank correlation =  0.4666666666666666 with p_value =  0.07255015432098766\n"
          ],
          "name": "stdout"
        },
        {
          "output_type": "stream",
          "text": [
            "/usr/local/lib/python3.7/dist-packages/numpy/lib/nanfunctions.py:1544: RuntimeWarning:\n",
            "\n",
            "overflow encountered in multiply\n",
            "\n",
            "/usr/local/lib/python3.7/dist-packages/numpy/lib/nanfunctions.py:1544: RuntimeWarning:\n",
            "\n",
            "overflow encountered in multiply\n",
            "\n"
          ],
          "name": "stderr"
        },
        {
          "output_type": "stream",
          "text": [
            "Kendal uplift rank correlation =  0.4222222222222222 with p_value =  0.10831349206349207\n"
          ],
          "name": "stdout"
        },
        {
          "output_type": "stream",
          "text": [
            "/usr/local/lib/python3.7/dist-packages/numpy/lib/nanfunctions.py:1544: RuntimeWarning:\n",
            "\n",
            "overflow encountered in multiply\n",
            "\n",
            "/usr/local/lib/python3.7/dist-packages/numpy/lib/nanfunctions.py:1544: RuntimeWarning:\n",
            "\n",
            "overflow encountered in multiply\n",
            "\n"
          ],
          "name": "stderr"
        },
        {
          "output_type": "stream",
          "text": [
            "Kendal uplift rank correlation =  0.5111111111111111 with p_value =  0.04662257495590829\n"
          ],
          "name": "stdout"
        },
        {
          "output_type": "stream",
          "text": [
            "/usr/local/lib/python3.7/dist-packages/numpy/lib/nanfunctions.py:1544: RuntimeWarning:\n",
            "\n",
            "overflow encountered in multiply\n",
            "\n",
            "/usr/local/lib/python3.7/dist-packages/numpy/lib/nanfunctions.py:1544: RuntimeWarning:\n",
            "\n",
            "overflow encountered in multiply\n",
            "\n"
          ],
          "name": "stderr"
        },
        {
          "output_type": "stream",
          "text": [
            "Kendal uplift rank correlation =  0.3333333333333333 with p_value =  0.21637345679012346\n"
          ],
          "name": "stdout"
        },
        {
          "output_type": "stream",
          "text": [
            "/usr/local/lib/python3.7/dist-packages/numpy/lib/nanfunctions.py:1544: RuntimeWarning:\n",
            "\n",
            "overflow encountered in multiply\n",
            "\n",
            "/usr/local/lib/python3.7/dist-packages/numpy/lib/nanfunctions.py:1544: RuntimeWarning:\n",
            "\n",
            "overflow encountered in multiply\n",
            "\n"
          ],
          "name": "stderr"
        },
        {
          "output_type": "stream",
          "text": [
            "Kendal uplift rank correlation =  0.5111111111111111 with p_value =  0.04662257495590829\n"
          ],
          "name": "stdout"
        },
        {
          "output_type": "stream",
          "text": [
            "/usr/local/lib/python3.7/dist-packages/numpy/lib/nanfunctions.py:1544: RuntimeWarning:\n",
            "\n",
            "overflow encountered in multiply\n",
            "\n",
            "/usr/local/lib/python3.7/dist-packages/numpy/lib/nanfunctions.py:1544: RuntimeWarning:\n",
            "\n",
            "overflow encountered in multiply\n",
            "\n"
          ],
          "name": "stderr"
        },
        {
          "output_type": "stream",
          "text": [
            "Kendal uplift rank correlation =  0.4666666666666666 with p_value =  0.07255015432098766\n"
          ],
          "name": "stdout"
        },
        {
          "output_type": "stream",
          "text": [
            "/usr/local/lib/python3.7/dist-packages/numpy/lib/nanfunctions.py:1544: RuntimeWarning:\n",
            "\n",
            "overflow encountered in multiply\n",
            "\n",
            "/usr/local/lib/python3.7/dist-packages/numpy/lib/nanfunctions.py:1544: RuntimeWarning:\n",
            "\n",
            "overflow encountered in multiply\n",
            "\n"
          ],
          "name": "stderr"
        },
        {
          "output_type": "stream",
          "text": [
            "Kendal uplift rank correlation =  0.3333333333333333 with p_value =  0.21637345679012346\n"
          ],
          "name": "stdout"
        },
        {
          "output_type": "stream",
          "text": [
            "/usr/local/lib/python3.7/dist-packages/numpy/lib/nanfunctions.py:1544: RuntimeWarning:\n",
            "\n",
            "overflow encountered in multiply\n",
            "\n",
            "/usr/local/lib/python3.7/dist-packages/numpy/lib/nanfunctions.py:1544: RuntimeWarning:\n",
            "\n",
            "overflow encountered in multiply\n",
            "\n"
          ],
          "name": "stderr"
        },
        {
          "output_type": "stream",
          "text": [
            "Kendal uplift rank correlation =  0.19999999999999998 with p_value =  0.4843127204585538\n"
          ],
          "name": "stdout"
        },
        {
          "output_type": "stream",
          "text": [
            "/usr/local/lib/python3.7/dist-packages/numpy/lib/nanfunctions.py:1544: RuntimeWarning:\n",
            "\n",
            "overflow encountered in multiply\n",
            "\n",
            "/usr/local/lib/python3.7/dist-packages/numpy/lib/nanfunctions.py:1544: RuntimeWarning:\n",
            "\n",
            "overflow encountered in multiply\n",
            "\n"
          ],
          "name": "stderr"
        },
        {
          "output_type": "stream",
          "text": [
            "Kendal uplift rank correlation =  0.4222222222222222 with p_value =  0.10831349206349207\n"
          ],
          "name": "stdout"
        },
        {
          "output_type": "stream",
          "text": [
            "/usr/local/lib/python3.7/dist-packages/numpy/lib/nanfunctions.py:1544: RuntimeWarning:\n",
            "\n",
            "overflow encountered in multiply\n",
            "\n",
            "/usr/local/lib/python3.7/dist-packages/numpy/lib/nanfunctions.py:1544: RuntimeWarning:\n",
            "\n",
            "overflow encountered in multiply\n",
            "\n"
          ],
          "name": "stderr"
        },
        {
          "output_type": "stream",
          "text": [
            "Kendal uplift rank correlation =  0.4222222222222222 with p_value =  0.10831349206349207\n"
          ],
          "name": "stdout"
        },
        {
          "output_type": "stream",
          "text": [
            "/usr/local/lib/python3.7/dist-packages/numpy/lib/nanfunctions.py:1544: RuntimeWarning:\n",
            "\n",
            "overflow encountered in multiply\n",
            "\n",
            "/usr/local/lib/python3.7/dist-packages/numpy/lib/nanfunctions.py:1544: RuntimeWarning:\n",
            "\n",
            "overflow encountered in multiply\n",
            "\n"
          ],
          "name": "stderr"
        },
        {
          "output_type": "stream",
          "text": [
            "Kendal uplift rank correlation =  0.4222222222222222 with p_value =  0.10831349206349207\n"
          ],
          "name": "stdout"
        },
        {
          "output_type": "stream",
          "text": [
            "/usr/local/lib/python3.7/dist-packages/numpy/lib/nanfunctions.py:1544: RuntimeWarning:\n",
            "\n",
            "overflow encountered in multiply\n",
            "\n",
            "/usr/local/lib/python3.7/dist-packages/numpy/lib/nanfunctions.py:1544: RuntimeWarning:\n",
            "\n",
            "overflow encountered in multiply\n",
            "\n"
          ],
          "name": "stderr"
        },
        {
          "output_type": "stream",
          "text": [
            "Kendal uplift rank correlation =  0.5111111111111111 with p_value =  0.04662257495590829\n"
          ],
          "name": "stdout"
        },
        {
          "output_type": "stream",
          "text": [
            "/usr/local/lib/python3.7/dist-packages/numpy/lib/nanfunctions.py:1544: RuntimeWarning:\n",
            "\n",
            "overflow encountered in multiply\n",
            "\n",
            "/usr/local/lib/python3.7/dist-packages/numpy/lib/nanfunctions.py:1544: RuntimeWarning:\n",
            "\n",
            "overflow encountered in multiply\n",
            "\n"
          ],
          "name": "stderr"
        },
        {
          "output_type": "stream",
          "text": [
            "Kendal uplift rank correlation =  0.4666666666666666 with p_value =  0.07255015432098766\n"
          ],
          "name": "stdout"
        },
        {
          "output_type": "stream",
          "text": [
            "/usr/local/lib/python3.7/dist-packages/numpy/lib/nanfunctions.py:1544: RuntimeWarning:\n",
            "\n",
            "overflow encountered in multiply\n",
            "\n",
            "/usr/local/lib/python3.7/dist-packages/numpy/lib/nanfunctions.py:1544: RuntimeWarning:\n",
            "\n",
            "overflow encountered in multiply\n",
            "\n"
          ],
          "name": "stderr"
        },
        {
          "output_type": "stream",
          "text": [
            "Kendal uplift rank correlation =  0.6888888888888888 with p_value =  0.00468694885361552\n"
          ],
          "name": "stdout"
        },
        {
          "output_type": "stream",
          "text": [
            "/usr/local/lib/python3.7/dist-packages/numpy/lib/nanfunctions.py:1544: RuntimeWarning:\n",
            "\n",
            "overflow encountered in multiply\n",
            "\n",
            "/usr/local/lib/python3.7/dist-packages/numpy/lib/nanfunctions.py:1544: RuntimeWarning:\n",
            "\n",
            "overflow encountered in multiply\n",
            "\n"
          ],
          "name": "stderr"
        },
        {
          "output_type": "stream",
          "text": [
            "Kendal uplift rank correlation =  0.4666666666666666 with p_value =  0.07255015432098766\n"
          ],
          "name": "stdout"
        },
        {
          "output_type": "stream",
          "text": [
            "/usr/local/lib/python3.7/dist-packages/numpy/lib/nanfunctions.py:1544: RuntimeWarning:\n",
            "\n",
            "overflow encountered in multiply\n",
            "\n",
            "/usr/local/lib/python3.7/dist-packages/numpy/lib/nanfunctions.py:1544: RuntimeWarning:\n",
            "\n",
            "overflow encountered in multiply\n",
            "\n"
          ],
          "name": "stderr"
        },
        {
          "output_type": "stream",
          "text": [
            "Kendal uplift rank correlation =  0.3333333333333333 with p_value =  0.21637345679012346\n"
          ],
          "name": "stdout"
        },
        {
          "output_type": "stream",
          "text": [
            "/usr/local/lib/python3.7/dist-packages/numpy/lib/nanfunctions.py:1544: RuntimeWarning:\n",
            "\n",
            "overflow encountered in multiply\n",
            "\n",
            "/usr/local/lib/python3.7/dist-packages/numpy/lib/nanfunctions.py:1544: RuntimeWarning:\n",
            "\n",
            "overflow encountered in multiply\n",
            "\n"
          ],
          "name": "stderr"
        },
        {
          "output_type": "stream",
          "text": [
            "Kendal uplift rank correlation =  0.4666666666666666 with p_value =  0.07255015432098766\n"
          ],
          "name": "stdout"
        },
        {
          "output_type": "stream",
          "text": [
            "/usr/local/lib/python3.7/dist-packages/numpy/lib/nanfunctions.py:1544: RuntimeWarning:\n",
            "\n",
            "overflow encountered in multiply\n",
            "\n",
            "/usr/local/lib/python3.7/dist-packages/numpy/lib/nanfunctions.py:1544: RuntimeWarning:\n",
            "\n",
            "overflow encountered in multiply\n",
            "\n"
          ],
          "name": "stderr"
        },
        {
          "output_type": "stream",
          "text": [
            "Kendal uplift rank correlation =  0.6 with p_value =  0.016666115520282188\n"
          ],
          "name": "stdout"
        },
        {
          "output_type": "stream",
          "text": [
            "/usr/local/lib/python3.7/dist-packages/numpy/lib/nanfunctions.py:1544: RuntimeWarning:\n",
            "\n",
            "overflow encountered in multiply\n",
            "\n",
            "/usr/local/lib/python3.7/dist-packages/numpy/lib/nanfunctions.py:1544: RuntimeWarning:\n",
            "\n",
            "overflow encountered in multiply\n",
            "\n"
          ],
          "name": "stderr"
        },
        {
          "output_type": "stream",
          "text": [
            "Kendal uplift rank correlation =  0.37777777777777777 with p_value =  0.1557418430335097\n"
          ],
          "name": "stdout"
        },
        {
          "output_type": "stream",
          "text": [
            "/usr/local/lib/python3.7/dist-packages/numpy/lib/nanfunctions.py:1544: RuntimeWarning:\n",
            "\n",
            "overflow encountered in multiply\n",
            "\n",
            "/usr/local/lib/python3.7/dist-packages/numpy/lib/nanfunctions.py:1544: RuntimeWarning:\n",
            "\n",
            "overflow encountered in multiply\n",
            "\n"
          ],
          "name": "stderr"
        },
        {
          "output_type": "stream",
          "text": [
            "Kendal uplift rank correlation =  0.24444444444444444 with p_value =  0.38071979717813054\n"
          ],
          "name": "stdout"
        },
        {
          "output_type": "stream",
          "text": [
            "/usr/local/lib/python3.7/dist-packages/numpy/lib/nanfunctions.py:1544: RuntimeWarning:\n",
            "\n",
            "overflow encountered in multiply\n",
            "\n",
            "/usr/local/lib/python3.7/dist-packages/numpy/lib/nanfunctions.py:1544: RuntimeWarning:\n",
            "\n",
            "overflow encountered in multiply\n",
            "\n"
          ],
          "name": "stderr"
        },
        {
          "output_type": "stream",
          "text": [
            "Kendal uplift rank correlation =  0.4222222222222222 with p_value =  0.10831349206349207\n"
          ],
          "name": "stdout"
        },
        {
          "output_type": "stream",
          "text": [
            "/usr/local/lib/python3.7/dist-packages/numpy/lib/nanfunctions.py:1544: RuntimeWarning:\n",
            "\n",
            "overflow encountered in multiply\n",
            "\n",
            "/usr/local/lib/python3.7/dist-packages/numpy/lib/nanfunctions.py:1544: RuntimeWarning:\n",
            "\n",
            "overflow encountered in multiply\n",
            "\n"
          ],
          "name": "stderr"
        },
        {
          "output_type": "stream",
          "text": [
            "Kendal uplift rank correlation =  0.28888888888888886 with p_value =  0.2912483465608466\n"
          ],
          "name": "stdout"
        },
        {
          "output_type": "stream",
          "text": [
            "/usr/local/lib/python3.7/dist-packages/numpy/lib/nanfunctions.py:1544: RuntimeWarning:\n",
            "\n",
            "overflow encountered in multiply\n",
            "\n",
            "/usr/local/lib/python3.7/dist-packages/numpy/lib/nanfunctions.py:1544: RuntimeWarning:\n",
            "\n",
            "overflow encountered in multiply\n",
            "\n"
          ],
          "name": "stderr"
        },
        {
          "output_type": "stream",
          "text": [
            "Kendal uplift rank correlation =  0.5555555555555555 with p_value =  0.02860945767195767\n"
          ],
          "name": "stdout"
        },
        {
          "output_type": "stream",
          "text": [
            "/usr/local/lib/python3.7/dist-packages/numpy/lib/nanfunctions.py:1544: RuntimeWarning:\n",
            "\n",
            "overflow encountered in multiply\n",
            "\n",
            "/usr/local/lib/python3.7/dist-packages/numpy/lib/nanfunctions.py:1544: RuntimeWarning:\n",
            "\n",
            "overflow encountered in multiply\n",
            "\n"
          ],
          "name": "stderr"
        },
        {
          "output_type": "stream",
          "text": [
            "Kendal uplift rank correlation =  0.5555555555555555 with p_value =  0.02860945767195767\n"
          ],
          "name": "stdout"
        },
        {
          "output_type": "stream",
          "text": [
            "/usr/local/lib/python3.7/dist-packages/numpy/lib/nanfunctions.py:1544: RuntimeWarning:\n",
            "\n",
            "overflow encountered in multiply\n",
            "\n",
            "/usr/local/lib/python3.7/dist-packages/numpy/lib/nanfunctions.py:1544: RuntimeWarning:\n",
            "\n",
            "overflow encountered in multiply\n",
            "\n"
          ],
          "name": "stderr"
        },
        {
          "output_type": "stream",
          "text": [
            "Kendal uplift rank correlation =  0.5555555555555555 with p_value =  0.02860945767195767\n"
          ],
          "name": "stdout"
        },
        {
          "output_type": "stream",
          "text": [
            "/usr/local/lib/python3.7/dist-packages/numpy/lib/nanfunctions.py:1544: RuntimeWarning:\n",
            "\n",
            "overflow encountered in multiply\n",
            "\n",
            "/usr/local/lib/python3.7/dist-packages/numpy/lib/nanfunctions.py:1544: RuntimeWarning:\n",
            "\n",
            "overflow encountered in multiply\n",
            "\n"
          ],
          "name": "stderr"
        },
        {
          "output_type": "stream",
          "text": [
            "Kendal uplift rank correlation =  0.28888888888888886 with p_value =  0.2912483465608466\n"
          ],
          "name": "stdout"
        },
        {
          "output_type": "stream",
          "text": [
            "/usr/local/lib/python3.7/dist-packages/numpy/lib/nanfunctions.py:1544: RuntimeWarning:\n",
            "\n",
            "overflow encountered in multiply\n",
            "\n",
            "/usr/local/lib/python3.7/dist-packages/numpy/lib/nanfunctions.py:1544: RuntimeWarning:\n",
            "\n",
            "overflow encountered in multiply\n",
            "\n"
          ],
          "name": "stderr"
        },
        {
          "output_type": "stream",
          "text": [
            "Kendal uplift rank correlation =  0.5555555555555555 with p_value =  0.02860945767195767\n"
          ],
          "name": "stdout"
        },
        {
          "output_type": "stream",
          "text": [
            "/usr/local/lib/python3.7/dist-packages/numpy/lib/nanfunctions.py:1544: RuntimeWarning:\n",
            "\n",
            "overflow encountered in multiply\n",
            "\n",
            "/usr/local/lib/python3.7/dist-packages/numpy/lib/nanfunctions.py:1544: RuntimeWarning:\n",
            "\n",
            "overflow encountered in multiply\n",
            "\n"
          ],
          "name": "stderr"
        },
        {
          "output_type": "stream",
          "text": [
            "Kendal uplift rank correlation =  0.4666666666666666 with p_value =  0.07255015432098766\n"
          ],
          "name": "stdout"
        },
        {
          "output_type": "stream",
          "text": [
            "/usr/local/lib/python3.7/dist-packages/numpy/lib/nanfunctions.py:1544: RuntimeWarning:\n",
            "\n",
            "overflow encountered in multiply\n",
            "\n",
            "/usr/local/lib/python3.7/dist-packages/numpy/lib/nanfunctions.py:1544: RuntimeWarning:\n",
            "\n",
            "overflow encountered in multiply\n",
            "\n"
          ],
          "name": "stderr"
        },
        {
          "output_type": "stream",
          "text": [
            "Kendal uplift rank correlation =  0.4222222222222222 with p_value =  0.10831349206349207\n"
          ],
          "name": "stdout"
        },
        {
          "output_type": "stream",
          "text": [
            "/usr/local/lib/python3.7/dist-packages/numpy/lib/nanfunctions.py:1544: RuntimeWarning:\n",
            "\n",
            "overflow encountered in multiply\n",
            "\n",
            "/usr/local/lib/python3.7/dist-packages/numpy/lib/nanfunctions.py:1544: RuntimeWarning:\n",
            "\n",
            "overflow encountered in multiply\n",
            "\n"
          ],
          "name": "stderr"
        },
        {
          "output_type": "stream",
          "text": [
            "Kendal uplift rank correlation =  0.37777777777777777 with p_value =  0.1557418430335097\n"
          ],
          "name": "stdout"
        },
        {
          "output_type": "stream",
          "text": [
            "/usr/local/lib/python3.7/dist-packages/numpy/lib/nanfunctions.py:1544: RuntimeWarning:\n",
            "\n",
            "overflow encountered in multiply\n",
            "\n",
            "/usr/local/lib/python3.7/dist-packages/numpy/lib/nanfunctions.py:1544: RuntimeWarning:\n",
            "\n",
            "overflow encountered in multiply\n",
            "\n"
          ],
          "name": "stderr"
        },
        {
          "output_type": "stream",
          "text": [
            "Kendal uplift rank correlation =  0.6444444444444444 with p_value =  0.009148478835978836\n"
          ],
          "name": "stdout"
        },
        {
          "output_type": "stream",
          "text": [
            "/usr/local/lib/python3.7/dist-packages/numpy/lib/nanfunctions.py:1544: RuntimeWarning:\n",
            "\n",
            "overflow encountered in multiply\n",
            "\n",
            "/usr/local/lib/python3.7/dist-packages/numpy/lib/nanfunctions.py:1544: RuntimeWarning:\n",
            "\n",
            "overflow encountered in multiply\n",
            "\n"
          ],
          "name": "stderr"
        },
        {
          "output_type": "stream",
          "text": [
            "Kendal uplift rank correlation =  0.6 with p_value =  0.016666115520282188\n"
          ],
          "name": "stdout"
        },
        {
          "output_type": "stream",
          "text": [
            "/usr/local/lib/python3.7/dist-packages/numpy/lib/nanfunctions.py:1544: RuntimeWarning:\n",
            "\n",
            "overflow encountered in multiply\n",
            "\n",
            "/usr/local/lib/python3.7/dist-packages/numpy/lib/nanfunctions.py:1544: RuntimeWarning:\n",
            "\n",
            "overflow encountered in multiply\n",
            "\n"
          ],
          "name": "stderr"
        },
        {
          "output_type": "stream",
          "text": [
            "Kendal uplift rank correlation =  0.5555555555555555 with p_value =  0.02860945767195767\n"
          ],
          "name": "stdout"
        },
        {
          "output_type": "stream",
          "text": [
            "/usr/local/lib/python3.7/dist-packages/numpy/lib/nanfunctions.py:1544: RuntimeWarning:\n",
            "\n",
            "overflow encountered in multiply\n",
            "\n",
            "/usr/local/lib/python3.7/dist-packages/numpy/lib/nanfunctions.py:1544: RuntimeWarning:\n",
            "\n",
            "overflow encountered in multiply\n",
            "\n"
          ],
          "name": "stderr"
        },
        {
          "output_type": "stream",
          "text": [
            "Kendal uplift rank correlation =  0.19999999999999998 with p_value =  0.4843127204585538\n"
          ],
          "name": "stdout"
        },
        {
          "output_type": "stream",
          "text": [
            "/usr/local/lib/python3.7/dist-packages/numpy/lib/nanfunctions.py:1544: RuntimeWarning:\n",
            "\n",
            "overflow encountered in multiply\n",
            "\n",
            "/usr/local/lib/python3.7/dist-packages/numpy/lib/nanfunctions.py:1544: RuntimeWarning:\n",
            "\n",
            "overflow encountered in multiply\n",
            "\n"
          ],
          "name": "stderr"
        },
        {
          "output_type": "stream",
          "text": [
            "Kendal uplift rank correlation =  0.4222222222222222 with p_value =  0.10831349206349207\n"
          ],
          "name": "stdout"
        },
        {
          "output_type": "stream",
          "text": [
            "/usr/local/lib/python3.7/dist-packages/numpy/lib/nanfunctions.py:1544: RuntimeWarning:\n",
            "\n",
            "overflow encountered in multiply\n",
            "\n",
            "/usr/local/lib/python3.7/dist-packages/numpy/lib/nanfunctions.py:1544: RuntimeWarning:\n",
            "\n",
            "overflow encountered in multiply\n",
            "\n"
          ],
          "name": "stderr"
        },
        {
          "output_type": "stream",
          "text": [
            "Kendal uplift rank correlation =  0.28888888888888886 with p_value =  0.2912483465608466\n"
          ],
          "name": "stdout"
        },
        {
          "output_type": "stream",
          "text": [
            "/usr/local/lib/python3.7/dist-packages/numpy/lib/nanfunctions.py:1544: RuntimeWarning:\n",
            "\n",
            "overflow encountered in multiply\n",
            "\n",
            "/usr/local/lib/python3.7/dist-packages/numpy/lib/nanfunctions.py:1544: RuntimeWarning:\n",
            "\n",
            "overflow encountered in multiply\n",
            "\n"
          ],
          "name": "stderr"
        },
        {
          "output_type": "stream",
          "text": [
            "Kendal uplift rank correlation =  0.4222222222222222 with p_value =  0.10831349206349207\n"
          ],
          "name": "stdout"
        },
        {
          "output_type": "stream",
          "text": [
            "/usr/local/lib/python3.7/dist-packages/numpy/lib/nanfunctions.py:1544: RuntimeWarning:\n",
            "\n",
            "overflow encountered in multiply\n",
            "\n",
            "/usr/local/lib/python3.7/dist-packages/numpy/lib/nanfunctions.py:1544: RuntimeWarning:\n",
            "\n",
            "overflow encountered in multiply\n",
            "\n"
          ],
          "name": "stderr"
        },
        {
          "output_type": "stream",
          "text": [
            "Kendal uplift rank correlation =  -0.1111111111111111 with p_value =  0.7274895282186948\n"
          ],
          "name": "stdout"
        },
        {
          "output_type": "stream",
          "text": [
            "/usr/local/lib/python3.7/dist-packages/numpy/lib/nanfunctions.py:1544: RuntimeWarning:\n",
            "\n",
            "overflow encountered in multiply\n",
            "\n",
            "/usr/local/lib/python3.7/dist-packages/numpy/lib/nanfunctions.py:1544: RuntimeWarning:\n",
            "\n",
            "overflow encountered in multiply\n",
            "\n"
          ],
          "name": "stderr"
        },
        {
          "output_type": "stream",
          "text": [
            "Kendal uplift rank correlation =  0.4666666666666666 with p_value =  0.07255015432098766\n"
          ],
          "name": "stdout"
        },
        {
          "output_type": "stream",
          "text": [
            "/usr/local/lib/python3.7/dist-packages/numpy/lib/nanfunctions.py:1544: RuntimeWarning:\n",
            "\n",
            "overflow encountered in multiply\n",
            "\n",
            "/usr/local/lib/python3.7/dist-packages/numpy/lib/nanfunctions.py:1544: RuntimeWarning:\n",
            "\n",
            "overflow encountered in multiply\n",
            "\n"
          ],
          "name": "stderr"
        },
        {
          "output_type": "stream",
          "text": [
            "Kendal uplift rank correlation =  0.6 with p_value =  0.016666115520282188\n"
          ],
          "name": "stdout"
        },
        {
          "output_type": "stream",
          "text": [
            "/usr/local/lib/python3.7/dist-packages/numpy/lib/nanfunctions.py:1544: RuntimeWarning:\n",
            "\n",
            "overflow encountered in multiply\n",
            "\n",
            "/usr/local/lib/python3.7/dist-packages/numpy/lib/nanfunctions.py:1544: RuntimeWarning:\n",
            "\n",
            "overflow encountered in multiply\n",
            "\n"
          ],
          "name": "stderr"
        },
        {
          "output_type": "stream",
          "text": [
            "Kendal uplift rank correlation =  0.4222222222222222 with p_value =  0.10831349206349207\n"
          ],
          "name": "stdout"
        },
        {
          "output_type": "stream",
          "text": [
            "/usr/local/lib/python3.7/dist-packages/numpy/lib/nanfunctions.py:1544: RuntimeWarning:\n",
            "\n",
            "overflow encountered in multiply\n",
            "\n",
            "/usr/local/lib/python3.7/dist-packages/numpy/lib/nanfunctions.py:1544: RuntimeWarning:\n",
            "\n",
            "overflow encountered in multiply\n",
            "\n"
          ],
          "name": "stderr"
        },
        {
          "output_type": "stream",
          "text": [
            "Kendal uplift rank correlation =  0.4222222222222222 with p_value =  0.10831349206349207\n"
          ],
          "name": "stdout"
        },
        {
          "output_type": "stream",
          "text": [
            "/usr/local/lib/python3.7/dist-packages/numpy/lib/nanfunctions.py:1544: RuntimeWarning:\n",
            "\n",
            "overflow encountered in multiply\n",
            "\n",
            "/usr/local/lib/python3.7/dist-packages/numpy/lib/nanfunctions.py:1544: RuntimeWarning:\n",
            "\n",
            "overflow encountered in multiply\n",
            "\n"
          ],
          "name": "stderr"
        },
        {
          "output_type": "stream",
          "text": [
            "Kendal uplift rank correlation =  0.4222222222222222 with p_value =  0.10831349206349207\n"
          ],
          "name": "stdout"
        },
        {
          "output_type": "stream",
          "text": [
            "/usr/local/lib/python3.7/dist-packages/numpy/lib/nanfunctions.py:1544: RuntimeWarning:\n",
            "\n",
            "overflow encountered in multiply\n",
            "\n",
            "/usr/local/lib/python3.7/dist-packages/numpy/lib/nanfunctions.py:1544: RuntimeWarning:\n",
            "\n",
            "overflow encountered in multiply\n",
            "\n"
          ],
          "name": "stderr"
        },
        {
          "output_type": "stream",
          "text": [
            "Kendal uplift rank correlation =  0.37777777777777777 with p_value =  0.1557418430335097\n"
          ],
          "name": "stdout"
        },
        {
          "output_type": "stream",
          "text": [
            "/usr/local/lib/python3.7/dist-packages/numpy/lib/nanfunctions.py:1544: RuntimeWarning:\n",
            "\n",
            "overflow encountered in multiply\n",
            "\n",
            "/usr/local/lib/python3.7/dist-packages/numpy/lib/nanfunctions.py:1544: RuntimeWarning:\n",
            "\n",
            "overflow encountered in multiply\n",
            "\n"
          ],
          "name": "stderr"
        },
        {
          "output_type": "stream",
          "text": [
            "Kendal uplift rank correlation =  0.5555555555555555 with p_value =  0.02860945767195767\n"
          ],
          "name": "stdout"
        },
        {
          "output_type": "stream",
          "text": [
            "/usr/local/lib/python3.7/dist-packages/numpy/lib/nanfunctions.py:1544: RuntimeWarning:\n",
            "\n",
            "overflow encountered in multiply\n",
            "\n",
            "/usr/local/lib/python3.7/dist-packages/numpy/lib/nanfunctions.py:1544: RuntimeWarning:\n",
            "\n",
            "overflow encountered in multiply\n",
            "\n"
          ],
          "name": "stderr"
        },
        {
          "output_type": "stream",
          "text": [
            "Kendal uplift rank correlation =  0.37777777777777777 with p_value =  0.1557418430335097\n"
          ],
          "name": "stdout"
        },
        {
          "output_type": "stream",
          "text": [
            "/usr/local/lib/python3.7/dist-packages/numpy/lib/nanfunctions.py:1544: RuntimeWarning:\n",
            "\n",
            "overflow encountered in multiply\n",
            "\n",
            "/usr/local/lib/python3.7/dist-packages/numpy/lib/nanfunctions.py:1544: RuntimeWarning:\n",
            "\n",
            "overflow encountered in multiply\n",
            "\n"
          ],
          "name": "stderr"
        },
        {
          "output_type": "stream",
          "text": [
            "Kendal uplift rank correlation =  0.28888888888888886 with p_value =  0.2912483465608466\n"
          ],
          "name": "stdout"
        },
        {
          "output_type": "stream",
          "text": [
            "/usr/local/lib/python3.7/dist-packages/numpy/lib/nanfunctions.py:1544: RuntimeWarning:\n",
            "\n",
            "overflow encountered in multiply\n",
            "\n",
            "/usr/local/lib/python3.7/dist-packages/numpy/lib/nanfunctions.py:1544: RuntimeWarning:\n",
            "\n",
            "overflow encountered in multiply\n",
            "\n"
          ],
          "name": "stderr"
        },
        {
          "output_type": "stream",
          "text": [
            "Kendal uplift rank correlation =  0.24444444444444444 with p_value =  0.38071979717813054\n"
          ],
          "name": "stdout"
        },
        {
          "output_type": "stream",
          "text": [
            "/usr/local/lib/python3.7/dist-packages/numpy/lib/nanfunctions.py:1544: RuntimeWarning:\n",
            "\n",
            "overflow encountered in multiply\n",
            "\n",
            "/usr/local/lib/python3.7/dist-packages/numpy/lib/nanfunctions.py:1544: RuntimeWarning:\n",
            "\n",
            "overflow encountered in multiply\n",
            "\n"
          ],
          "name": "stderr"
        },
        {
          "output_type": "stream",
          "text": [
            "Kendal uplift rank correlation =  0.4666666666666666 with p_value =  0.07255015432098766\n"
          ],
          "name": "stdout"
        },
        {
          "output_type": "stream",
          "text": [
            "/usr/local/lib/python3.7/dist-packages/numpy/lib/nanfunctions.py:1544: RuntimeWarning:\n",
            "\n",
            "overflow encountered in multiply\n",
            "\n",
            "/usr/local/lib/python3.7/dist-packages/numpy/lib/nanfunctions.py:1544: RuntimeWarning:\n",
            "\n",
            "overflow encountered in multiply\n",
            "\n"
          ],
          "name": "stderr"
        },
        {
          "output_type": "stream",
          "text": [
            "Kendal uplift rank correlation =  0.3333333333333333 with p_value =  0.21637345679012346\n"
          ],
          "name": "stdout"
        },
        {
          "output_type": "stream",
          "text": [
            "/usr/local/lib/python3.7/dist-packages/numpy/lib/nanfunctions.py:1544: RuntimeWarning:\n",
            "\n",
            "overflow encountered in multiply\n",
            "\n",
            "/usr/local/lib/python3.7/dist-packages/numpy/lib/nanfunctions.py:1544: RuntimeWarning:\n",
            "\n",
            "overflow encountered in multiply\n",
            "\n"
          ],
          "name": "stderr"
        },
        {
          "output_type": "stream",
          "text": [
            "Kendal uplift rank correlation =  0.5111111111111111 with p_value =  0.04662257495590829\n"
          ],
          "name": "stdout"
        },
        {
          "output_type": "stream",
          "text": [
            "/usr/local/lib/python3.7/dist-packages/numpy/lib/nanfunctions.py:1544: RuntimeWarning:\n",
            "\n",
            "overflow encountered in multiply\n",
            "\n",
            "/usr/local/lib/python3.7/dist-packages/numpy/lib/nanfunctions.py:1544: RuntimeWarning:\n",
            "\n",
            "overflow encountered in multiply\n",
            "\n"
          ],
          "name": "stderr"
        },
        {
          "output_type": "stream",
          "text": [
            "Kendal uplift rank correlation =  0.1111111111111111 with p_value =  0.7274895282186948\n"
          ],
          "name": "stdout"
        },
        {
          "output_type": "stream",
          "text": [
            "/usr/local/lib/python3.7/dist-packages/numpy/lib/nanfunctions.py:1544: RuntimeWarning:\n",
            "\n",
            "overflow encountered in multiply\n",
            "\n",
            "/usr/local/lib/python3.7/dist-packages/numpy/lib/nanfunctions.py:1544: RuntimeWarning:\n",
            "\n",
            "overflow encountered in multiply\n",
            "\n"
          ],
          "name": "stderr"
        },
        {
          "output_type": "stream",
          "text": [
            "Kendal uplift rank correlation =  0.4222222222222222 with p_value =  0.10831349206349207\n"
          ],
          "name": "stdout"
        },
        {
          "output_type": "stream",
          "text": [
            "/usr/local/lib/python3.7/dist-packages/numpy/lib/nanfunctions.py:1544: RuntimeWarning:\n",
            "\n",
            "overflow encountered in multiply\n",
            "\n",
            "/usr/local/lib/python3.7/dist-packages/numpy/lib/nanfunctions.py:1544: RuntimeWarning:\n",
            "\n",
            "overflow encountered in multiply\n",
            "\n"
          ],
          "name": "stderr"
        },
        {
          "output_type": "stream",
          "text": [
            "Kendal uplift rank correlation =  0.5555555555555555 with p_value =  0.02860945767195767\n"
          ],
          "name": "stdout"
        },
        {
          "output_type": "stream",
          "text": [
            "/usr/local/lib/python3.7/dist-packages/numpy/lib/nanfunctions.py:1544: RuntimeWarning:\n",
            "\n",
            "overflow encountered in multiply\n",
            "\n",
            "/usr/local/lib/python3.7/dist-packages/numpy/lib/nanfunctions.py:1544: RuntimeWarning:\n",
            "\n",
            "overflow encountered in multiply\n",
            "\n"
          ],
          "name": "stderr"
        },
        {
          "output_type": "stream",
          "text": [
            "Kendal uplift rank correlation =  0.5111111111111111 with p_value =  0.04662257495590829\n"
          ],
          "name": "stdout"
        },
        {
          "output_type": "stream",
          "text": [
            "/usr/local/lib/python3.7/dist-packages/numpy/lib/nanfunctions.py:1544: RuntimeWarning:\n",
            "\n",
            "overflow encountered in multiply\n",
            "\n",
            "/usr/local/lib/python3.7/dist-packages/numpy/lib/nanfunctions.py:1544: RuntimeWarning:\n",
            "\n",
            "overflow encountered in multiply\n",
            "\n"
          ],
          "name": "stderr"
        },
        {
          "output_type": "stream",
          "text": [
            "Kendal uplift rank correlation =  0.6888888888888888 with p_value =  0.00468694885361552\n"
          ],
          "name": "stdout"
        },
        {
          "output_type": "stream",
          "text": [
            "/usr/local/lib/python3.7/dist-packages/numpy/lib/nanfunctions.py:1544: RuntimeWarning:\n",
            "\n",
            "overflow encountered in multiply\n",
            "\n",
            "/usr/local/lib/python3.7/dist-packages/numpy/lib/nanfunctions.py:1544: RuntimeWarning:\n",
            "\n",
            "overflow encountered in multiply\n",
            "\n"
          ],
          "name": "stderr"
        },
        {
          "output_type": "stream",
          "text": [
            "Kendal uplift rank correlation =  0.6 with p_value =  0.016666115520282188\n"
          ],
          "name": "stdout"
        },
        {
          "output_type": "stream",
          "text": [
            "/usr/local/lib/python3.7/dist-packages/numpy/lib/nanfunctions.py:1544: RuntimeWarning:\n",
            "\n",
            "overflow encountered in multiply\n",
            "\n",
            "/usr/local/lib/python3.7/dist-packages/numpy/lib/nanfunctions.py:1544: RuntimeWarning:\n",
            "\n",
            "overflow encountered in multiply\n",
            "\n"
          ],
          "name": "stderr"
        },
        {
          "output_type": "stream",
          "text": [
            "Kendal uplift rank correlation =  0.4222222222222222 with p_value =  0.10831349206349207\n"
          ],
          "name": "stdout"
        },
        {
          "output_type": "stream",
          "text": [
            "/usr/local/lib/python3.7/dist-packages/numpy/lib/nanfunctions.py:1544: RuntimeWarning:\n",
            "\n",
            "overflow encountered in multiply\n",
            "\n",
            "/usr/local/lib/python3.7/dist-packages/numpy/lib/nanfunctions.py:1544: RuntimeWarning:\n",
            "\n",
            "overflow encountered in multiply\n",
            "\n"
          ],
          "name": "stderr"
        },
        {
          "output_type": "stream",
          "text": [
            "Kendal uplift rank correlation =  0.4666666666666666 with p_value =  0.07255015432098766\n"
          ],
          "name": "stdout"
        },
        {
          "output_type": "stream",
          "text": [
            "/usr/local/lib/python3.7/dist-packages/numpy/lib/nanfunctions.py:1544: RuntimeWarning:\n",
            "\n",
            "overflow encountered in multiply\n",
            "\n",
            "/usr/local/lib/python3.7/dist-packages/numpy/lib/nanfunctions.py:1544: RuntimeWarning:\n",
            "\n",
            "overflow encountered in multiply\n",
            "\n"
          ],
          "name": "stderr"
        },
        {
          "output_type": "stream",
          "text": [
            "Kendal uplift rank correlation =  0.3333333333333333 with p_value =  0.21637345679012346\n"
          ],
          "name": "stdout"
        },
        {
          "output_type": "stream",
          "text": [
            "/usr/local/lib/python3.7/dist-packages/numpy/lib/nanfunctions.py:1544: RuntimeWarning:\n",
            "\n",
            "overflow encountered in multiply\n",
            "\n",
            "/usr/local/lib/python3.7/dist-packages/numpy/lib/nanfunctions.py:1544: RuntimeWarning:\n",
            "\n",
            "overflow encountered in multiply\n",
            "\n"
          ],
          "name": "stderr"
        },
        {
          "output_type": "stream",
          "text": [
            "Kendal uplift rank correlation =  0.24444444444444444 with p_value =  0.38071979717813054\n"
          ],
          "name": "stdout"
        },
        {
          "output_type": "stream",
          "text": [
            "/usr/local/lib/python3.7/dist-packages/numpy/lib/nanfunctions.py:1544: RuntimeWarning:\n",
            "\n",
            "overflow encountered in multiply\n",
            "\n",
            "/usr/local/lib/python3.7/dist-packages/numpy/lib/nanfunctions.py:1544: RuntimeWarning:\n",
            "\n",
            "overflow encountered in multiply\n",
            "\n"
          ],
          "name": "stderr"
        },
        {
          "output_type": "stream",
          "text": [
            "Kendal uplift rank correlation =  0.4666666666666666 with p_value =  0.07255015432098766\n"
          ],
          "name": "stdout"
        },
        {
          "output_type": "stream",
          "text": [
            "/usr/local/lib/python3.7/dist-packages/numpy/lib/nanfunctions.py:1544: RuntimeWarning:\n",
            "\n",
            "overflow encountered in multiply\n",
            "\n",
            "/usr/local/lib/python3.7/dist-packages/numpy/lib/nanfunctions.py:1544: RuntimeWarning:\n",
            "\n",
            "overflow encountered in multiply\n",
            "\n"
          ],
          "name": "stderr"
        },
        {
          "output_type": "stream",
          "text": [
            "Kendal uplift rank correlation =  0.28888888888888886 with p_value =  0.2912483465608466\n"
          ],
          "name": "stdout"
        },
        {
          "output_type": "stream",
          "text": [
            "/usr/local/lib/python3.7/dist-packages/numpy/lib/nanfunctions.py:1544: RuntimeWarning:\n",
            "\n",
            "overflow encountered in multiply\n",
            "\n",
            "/usr/local/lib/python3.7/dist-packages/numpy/lib/nanfunctions.py:1544: RuntimeWarning:\n",
            "\n",
            "overflow encountered in multiply\n",
            "\n"
          ],
          "name": "stderr"
        },
        {
          "output_type": "stream",
          "text": [
            "Kendal uplift rank correlation =  0.19999999999999998 with p_value =  0.4843127204585538\n"
          ],
          "name": "stdout"
        },
        {
          "output_type": "stream",
          "text": [
            "/usr/local/lib/python3.7/dist-packages/numpy/lib/nanfunctions.py:1544: RuntimeWarning:\n",
            "\n",
            "overflow encountered in multiply\n",
            "\n",
            "/usr/local/lib/python3.7/dist-packages/numpy/lib/nanfunctions.py:1544: RuntimeWarning:\n",
            "\n",
            "overflow encountered in multiply\n",
            "\n"
          ],
          "name": "stderr"
        },
        {
          "output_type": "stream",
          "text": [
            "Kendal uplift rank correlation =  0.5555555555555555 with p_value =  0.02860945767195767\n"
          ],
          "name": "stdout"
        },
        {
          "output_type": "stream",
          "text": [
            "/usr/local/lib/python3.7/dist-packages/numpy/lib/nanfunctions.py:1544: RuntimeWarning:\n",
            "\n",
            "overflow encountered in multiply\n",
            "\n",
            "/usr/local/lib/python3.7/dist-packages/numpy/lib/nanfunctions.py:1544: RuntimeWarning:\n",
            "\n",
            "overflow encountered in multiply\n",
            "\n"
          ],
          "name": "stderr"
        },
        {
          "output_type": "stream",
          "text": [
            "Kendal uplift rank correlation =  0.7333333333333333 with p_value =  0.002212852733686067\n"
          ],
          "name": "stdout"
        },
        {
          "output_type": "stream",
          "text": [
            "/usr/local/lib/python3.7/dist-packages/numpy/lib/nanfunctions.py:1544: RuntimeWarning:\n",
            "\n",
            "overflow encountered in multiply\n",
            "\n",
            "/usr/local/lib/python3.7/dist-packages/numpy/lib/nanfunctions.py:1544: RuntimeWarning:\n",
            "\n",
            "overflow encountered in multiply\n",
            "\n"
          ],
          "name": "stderr"
        },
        {
          "output_type": "stream",
          "text": [
            "Kendal uplift rank correlation =  0.19999999999999998 with p_value =  0.4843127204585538\n"
          ],
          "name": "stdout"
        },
        {
          "output_type": "stream",
          "text": [
            "/usr/local/lib/python3.7/dist-packages/numpy/lib/nanfunctions.py:1544: RuntimeWarning:\n",
            "\n",
            "overflow encountered in multiply\n",
            "\n",
            "/usr/local/lib/python3.7/dist-packages/numpy/lib/nanfunctions.py:1544: RuntimeWarning:\n",
            "\n",
            "overflow encountered in multiply\n",
            "\n"
          ],
          "name": "stderr"
        },
        {
          "output_type": "stream",
          "text": [
            "Kendal uplift rank correlation =  0.28888888888888886 with p_value =  0.2912483465608466\n"
          ],
          "name": "stdout"
        },
        {
          "output_type": "stream",
          "text": [
            "/usr/local/lib/python3.7/dist-packages/numpy/lib/nanfunctions.py:1544: RuntimeWarning:\n",
            "\n",
            "overflow encountered in multiply\n",
            "\n",
            "/usr/local/lib/python3.7/dist-packages/numpy/lib/nanfunctions.py:1544: RuntimeWarning:\n",
            "\n",
            "overflow encountered in multiply\n",
            "\n"
          ],
          "name": "stderr"
        },
        {
          "output_type": "stream",
          "text": [
            "Kendal uplift rank correlation =  0.5111111111111111 with p_value =  0.04662257495590829\n"
          ],
          "name": "stdout"
        },
        {
          "output_type": "stream",
          "text": [
            "/usr/local/lib/python3.7/dist-packages/numpy/lib/nanfunctions.py:1544: RuntimeWarning:\n",
            "\n",
            "overflow encountered in multiply\n",
            "\n",
            "/usr/local/lib/python3.7/dist-packages/numpy/lib/nanfunctions.py:1544: RuntimeWarning:\n",
            "\n",
            "overflow encountered in multiply\n",
            "\n"
          ],
          "name": "stderr"
        },
        {
          "output_type": "stream",
          "text": [
            "Kendal uplift rank correlation =  0.3333333333333333 with p_value =  0.21637345679012346\n"
          ],
          "name": "stdout"
        },
        {
          "output_type": "stream",
          "text": [
            "/usr/local/lib/python3.7/dist-packages/numpy/lib/nanfunctions.py:1544: RuntimeWarning:\n",
            "\n",
            "overflow encountered in multiply\n",
            "\n",
            "/usr/local/lib/python3.7/dist-packages/numpy/lib/nanfunctions.py:1544: RuntimeWarning:\n",
            "\n",
            "overflow encountered in multiply\n",
            "\n"
          ],
          "name": "stderr"
        },
        {
          "output_type": "stream",
          "text": [
            "Kendal uplift rank correlation =  0.5111111111111111 with p_value =  0.04662257495590829\n"
          ],
          "name": "stdout"
        },
        {
          "output_type": "stream",
          "text": [
            "/usr/local/lib/python3.7/dist-packages/numpy/lib/nanfunctions.py:1544: RuntimeWarning:\n",
            "\n",
            "overflow encountered in multiply\n",
            "\n",
            "/usr/local/lib/python3.7/dist-packages/numpy/lib/nanfunctions.py:1544: RuntimeWarning:\n",
            "\n",
            "overflow encountered in multiply\n",
            "\n"
          ],
          "name": "stderr"
        },
        {
          "output_type": "stream",
          "text": [
            "Kendal uplift rank correlation =  0.4666666666666666 with p_value =  0.07255015432098766\n"
          ],
          "name": "stdout"
        },
        {
          "output_type": "stream",
          "text": [
            "/usr/local/lib/python3.7/dist-packages/numpy/lib/nanfunctions.py:1544: RuntimeWarning:\n",
            "\n",
            "overflow encountered in multiply\n",
            "\n",
            "/usr/local/lib/python3.7/dist-packages/numpy/lib/nanfunctions.py:1544: RuntimeWarning:\n",
            "\n",
            "overflow encountered in multiply\n",
            "\n"
          ],
          "name": "stderr"
        },
        {
          "output_type": "stream",
          "text": [
            "Kendal uplift rank correlation =  0.24444444444444444 with p_value =  0.38071979717813054\n"
          ],
          "name": "stdout"
        },
        {
          "output_type": "stream",
          "text": [
            "/usr/local/lib/python3.7/dist-packages/numpy/lib/nanfunctions.py:1544: RuntimeWarning:\n",
            "\n",
            "overflow encountered in multiply\n",
            "\n",
            "/usr/local/lib/python3.7/dist-packages/numpy/lib/nanfunctions.py:1544: RuntimeWarning:\n",
            "\n",
            "overflow encountered in multiply\n",
            "\n"
          ],
          "name": "stderr"
        },
        {
          "output_type": "stream",
          "text": [
            "Kendal uplift rank correlation =  0.4666666666666666 with p_value =  0.07255015432098766\n"
          ],
          "name": "stdout"
        },
        {
          "output_type": "stream",
          "text": [
            "/usr/local/lib/python3.7/dist-packages/numpy/lib/nanfunctions.py:1544: RuntimeWarning:\n",
            "\n",
            "overflow encountered in multiply\n",
            "\n",
            "/usr/local/lib/python3.7/dist-packages/numpy/lib/nanfunctions.py:1544: RuntimeWarning:\n",
            "\n",
            "overflow encountered in multiply\n",
            "\n"
          ],
          "name": "stderr"
        },
        {
          "output_type": "stream",
          "text": [
            "Kendal uplift rank correlation =  0.28888888888888886 with p_value =  0.2912483465608466\n"
          ],
          "name": "stdout"
        },
        {
          "output_type": "stream",
          "text": [
            "/usr/local/lib/python3.7/dist-packages/numpy/lib/nanfunctions.py:1544: RuntimeWarning:\n",
            "\n",
            "overflow encountered in multiply\n",
            "\n",
            "/usr/local/lib/python3.7/dist-packages/numpy/lib/nanfunctions.py:1544: RuntimeWarning:\n",
            "\n",
            "overflow encountered in multiply\n",
            "\n"
          ],
          "name": "stderr"
        },
        {
          "output_type": "stream",
          "text": [
            "Kendal uplift rank correlation =  0.5111111111111111 with p_value =  0.04662257495590829\n"
          ],
          "name": "stdout"
        },
        {
          "output_type": "stream",
          "text": [
            "/usr/local/lib/python3.7/dist-packages/numpy/lib/nanfunctions.py:1544: RuntimeWarning:\n",
            "\n",
            "overflow encountered in multiply\n",
            "\n",
            "/usr/local/lib/python3.7/dist-packages/numpy/lib/nanfunctions.py:1544: RuntimeWarning:\n",
            "\n",
            "overflow encountered in multiply\n",
            "\n"
          ],
          "name": "stderr"
        },
        {
          "output_type": "stream",
          "text": [
            "Kendal uplift rank correlation =  0.911111111111111 with p_value =  2.9761904761904762e-05\n"
          ],
          "name": "stdout"
        },
        {
          "output_type": "stream",
          "text": [
            "/usr/local/lib/python3.7/dist-packages/numpy/lib/nanfunctions.py:1544: RuntimeWarning:\n",
            "\n",
            "overflow encountered in multiply\n",
            "\n",
            "/usr/local/lib/python3.7/dist-packages/numpy/lib/nanfunctions.py:1544: RuntimeWarning:\n",
            "\n",
            "overflow encountered in multiply\n",
            "\n"
          ],
          "name": "stderr"
        },
        {
          "output_type": "stream",
          "text": [
            "Kendal uplift rank correlation =  0.28888888888888886 with p_value =  0.2912483465608466\n"
          ],
          "name": "stdout"
        },
        {
          "output_type": "stream",
          "text": [
            "/usr/local/lib/python3.7/dist-packages/numpy/lib/nanfunctions.py:1544: RuntimeWarning:\n",
            "\n",
            "overflow encountered in multiply\n",
            "\n",
            "/usr/local/lib/python3.7/dist-packages/numpy/lib/nanfunctions.py:1544: RuntimeWarning:\n",
            "\n",
            "overflow encountered in multiply\n",
            "\n"
          ],
          "name": "stderr"
        },
        {
          "output_type": "stream",
          "text": [
            "Kendal uplift rank correlation =  0.6 with p_value =  0.016666115520282188\n"
          ],
          "name": "stdout"
        },
        {
          "output_type": "stream",
          "text": [
            "/usr/local/lib/python3.7/dist-packages/numpy/lib/nanfunctions.py:1544: RuntimeWarning:\n",
            "\n",
            "overflow encountered in multiply\n",
            "\n",
            "/usr/local/lib/python3.7/dist-packages/numpy/lib/nanfunctions.py:1544: RuntimeWarning:\n",
            "\n",
            "overflow encountered in multiply\n",
            "\n"
          ],
          "name": "stderr"
        },
        {
          "output_type": "stream",
          "text": [
            "Kendal uplift rank correlation =  0.19999999999999998 with p_value =  0.4843127204585538\n"
          ],
          "name": "stdout"
        },
        {
          "output_type": "stream",
          "text": [
            "/usr/local/lib/python3.7/dist-packages/numpy/lib/nanfunctions.py:1544: RuntimeWarning:\n",
            "\n",
            "overflow encountered in multiply\n",
            "\n",
            "/usr/local/lib/python3.7/dist-packages/numpy/lib/nanfunctions.py:1544: RuntimeWarning:\n",
            "\n",
            "overflow encountered in multiply\n",
            "\n"
          ],
          "name": "stderr"
        },
        {
          "output_type": "stream",
          "text": [
            "Kendal uplift rank correlation =  0.4222222222222222 with p_value =  0.10831349206349207\n"
          ],
          "name": "stdout"
        },
        {
          "output_type": "stream",
          "text": [
            "/usr/local/lib/python3.7/dist-packages/numpy/lib/nanfunctions.py:1544: RuntimeWarning:\n",
            "\n",
            "overflow encountered in multiply\n",
            "\n",
            "/usr/local/lib/python3.7/dist-packages/numpy/lib/nanfunctions.py:1544: RuntimeWarning:\n",
            "\n",
            "overflow encountered in multiply\n",
            "\n"
          ],
          "name": "stderr"
        },
        {
          "output_type": "stream",
          "text": [
            "Kendal uplift rank correlation =  0.6 with p_value =  0.016666115520282188\n"
          ],
          "name": "stdout"
        },
        {
          "output_type": "stream",
          "text": [
            "/usr/local/lib/python3.7/dist-packages/numpy/lib/nanfunctions.py:1544: RuntimeWarning:\n",
            "\n",
            "overflow encountered in multiply\n",
            "\n",
            "/usr/local/lib/python3.7/dist-packages/numpy/lib/nanfunctions.py:1544: RuntimeWarning:\n",
            "\n",
            "overflow encountered in multiply\n",
            "\n"
          ],
          "name": "stderr"
        },
        {
          "output_type": "stream",
          "text": [
            "Kendal uplift rank correlation =  0.3333333333333333 with p_value =  0.21637345679012346\n"
          ],
          "name": "stdout"
        },
        {
          "output_type": "stream",
          "text": [
            "/usr/local/lib/python3.7/dist-packages/numpy/lib/nanfunctions.py:1544: RuntimeWarning:\n",
            "\n",
            "overflow encountered in multiply\n",
            "\n",
            "/usr/local/lib/python3.7/dist-packages/numpy/lib/nanfunctions.py:1544: RuntimeWarning:\n",
            "\n",
            "overflow encountered in multiply\n",
            "\n"
          ],
          "name": "stderr"
        },
        {
          "output_type": "stream",
          "text": [
            "Kendal uplift rank correlation =  0.37777777777777777 with p_value =  0.1557418430335097\n"
          ],
          "name": "stdout"
        },
        {
          "output_type": "stream",
          "text": [
            "/usr/local/lib/python3.7/dist-packages/numpy/lib/nanfunctions.py:1544: RuntimeWarning:\n",
            "\n",
            "overflow encountered in multiply\n",
            "\n",
            "/usr/local/lib/python3.7/dist-packages/numpy/lib/nanfunctions.py:1544: RuntimeWarning:\n",
            "\n",
            "overflow encountered in multiply\n",
            "\n"
          ],
          "name": "stderr"
        },
        {
          "output_type": "stream",
          "text": [
            "Kendal uplift rank correlation =  0.5555555555555555 with p_value =  0.02860945767195767\n",
            "Число замеров 100\n",
            "AUQC: mean:  723797.8087892927 | std:  340631.7282155845\n",
            "uplift30%: mean:  0.05274711713281108 | std:  0.011127808525418314\n",
            "Kendall_rank_correlation: mean:  0.42933333333333334 | std:  0.1517041245785407\n",
            "AUUC: mean:  0.01195040683235274 | std:  0.005543724239963879\n"
          ],
          "name": "stdout"
        }
      ]
    },
    {
      "cell_type": "code",
      "metadata": {
        "id": "Te0hK3Mv3Hkh"
      },
      "source": [
        "def uplift_at_k(y_target, prediction_score, treatment, rate=0.3):\r\n",
        "\r\n",
        "    check_consistent_length(y_target, prediction_score, treatment)\r\n",
        "    prediction_score = np.array(prediction_score)\r\n",
        "    order = np.argsort(prediction_score, kind='mergesort')[::-1]\r\n",
        "    # order = np.argsort(-prediction_score)\r\n",
        "    treatment_n = int((treatment == 1).sum() * rate)\r\n",
        "    treatment_p = y_target[order][treatment[order] == 1][:treatment_n].mean()\r\n",
        "    control_n = int((treatment == 0).sum() * rate)\r\n",
        "    control_p = y_target[order][treatment[order] == 0][:control_n].mean()\r\n",
        "    score = treatment_p - control_p\r\n",
        "    return score\r\n"
      ],
      "execution_count": null,
      "outputs": []
    },
    {
      "cell_type": "code",
      "metadata": {
        "id": "mMrXSfMTiVDd",
        "colab": {
          "base_uri": "https://localhost:8080/"
        },
        "outputId": "54356bff-76be-4da7-8ddb-1c787c430542"
      },
      "source": [
        "X_test_1 = torch.FloatTensor(X_test_1)\n",
        "X_test_0 = torch.FloatTensor(X_test_0)\n",
        "\n",
        "model.eval()\n",
        "\n",
        "mu_1 = model(X_test_1)\n",
        "mu_0 = model(X_test_0)\n",
        "\n",
        "pred = mu_1-mu_0\n",
        "\n",
        "# print(pred)\n",
        "\n",
        "# print(torch.min(pred))\n",
        "\n",
        "pred = pred.detach().numpy()\n",
        "\n",
        "# print(pred)\n",
        "# print(y_test)\n",
        "\n",
        "pred = pred.reshape((-1,)) \n",
        "# print(pred)\n",
        "  \n",
        "pred = pd.Series(pred, index = y_test.index)\n",
        "\n",
        "print(\"qini_auc_score\",qini_auc_score(y_test, pred, treatment_test))\n",
        "\n",
        "\n",
        "print(\"uplift_at_30%\",uplift_at_k(y_test, pred, treatment_test))\n",
        "# print(y_train[0:10])\n",
        "# print(\"------------------\")\n",
        "# print(treatment_train[0:10])\n",
        "\n",
        "\n",
        "\n",
        "\n"
      ],
      "execution_count": null,
      "outputs": [
        {
          "output_type": "stream",
          "text": [
            "qini_auc_score 8800997.231153477\n",
            "uplift_at_30% 0.06049210261626348\n"
          ],
          "name": "stdout"
        }
      ]
    },
    {
      "cell_type": "code",
      "metadata": {
        "colab": {
          "base_uri": "https://localhost:8080/",
          "height": 299
        },
        "id": "ZYSyNf7N6WVp",
        "outputId": "7e3ffc7d-041e-4a20-c8dd-cb6d74f36d8a"
      },
      "source": [
        "from UPLIFT_modeling.uplift.metrics import qini_curve\r\n",
        "x,y = qini_curve(y_test, pred, treatment_test)\r\n",
        "plt.plot(x, y)\r\n",
        "plt.plot([ x[0], x[len(x)-1] ], [ y[0], y[len(y) - 1  ]] )\r\n",
        "plt.title('alpha=0.3 - лучший результат')"
      ],
      "execution_count": null,
      "outputs": [
        {
          "output_type": "execute_result",
          "data": {
            "text/plain": [
              "Text(0.5, 1.0, 'alpha=0.3 - лучший результат')"
            ]
          },
          "metadata": {
            "tags": []
          },
          "execution_count": 63
        },
        {
          "output_type": "display_data",
          "data": {
            "image/png": "[encoded data removed]",
            "text/plain": [
              "<Figure size 432x288 with 1 Axes>"
            ]
          },
          "metadata": {
            "tags": [],
            "needs_background": "light"
          }
        }
      ]
    },
    {
      "cell_type": "code",
      "metadata": {
        "colab": {
          "base_uri": "https://localhost:8080/",
          "height": 186
        },
        "id": "embVSUfReUlH",
        "outputId": "4d0b5e10-9a5f-45a4-9148-0182af2c86de"
      },
      "source": [
        "from UPLIFT_modeling.uplift.vizualization import plot_qini_curve\r\n",
        "plot_qini_curve(y_test, pred, treatment_test)"
      ],
      "execution_count": null,
      "outputs": [
        {
          "output_type": "error",
          "ename": "NameError",
          "evalue": "ignored",
          "traceback": [
            "\u001b[0;31m---------------------------------------------------------------------------\u001b[0m",
            "\u001b[0;31mNameError\u001b[0m                                 Traceback (most recent call last)",
            "\u001b[0;32m<ipython-input-5-0aef1749b352>\u001b[0m in \u001b[0;36m<module>\u001b[0;34m()\u001b[0m\n\u001b[1;32m      1\u001b[0m \u001b[0;32mfrom\u001b[0m \u001b[0mUPLIFT_modeling\u001b[0m\u001b[0;34m.\u001b[0m\u001b[0muplift\u001b[0m\u001b[0;34m.\u001b[0m\u001b[0mvizualization\u001b[0m \u001b[0;32mimport\u001b[0m \u001b[0mplot_qini_curve\u001b[0m\u001b[0;34m\u001b[0m\u001b[0;34m\u001b[0m\u001b[0m\n\u001b[0;32m----> 2\u001b[0;31m \u001b[0mplot_qini_curve\u001b[0m\u001b[0;34m(\u001b[0m\u001b[0my_test\u001b[0m\u001b[0;34m,\u001b[0m \u001b[0mpred\u001b[0m\u001b[0;34m,\u001b[0m \u001b[0mtreatment_test\u001b[0m\u001b[0;34m)\u001b[0m\u001b[0;34m\u001b[0m\u001b[0;34m\u001b[0m\u001b[0m\n\u001b[0m",
            "\u001b[0;31mNameError\u001b[0m: name 'y_test' is not defined"
          ]
        }
      ]
    },
    {
      "cell_type": "markdown",
      "metadata": {
        "id": "e3pG4SIWxshm"
      },
      "source": [
        "6912405.144559544 alpha = 0.2\r\n",
        "\r\n",
        "alpha = 0.0  0\r\n",
        "\r\n",
        "alpha = 0.1 663*10^4   0.048\r\n",
        "\r\n",
        "alpha = 0.2   760*10^4\r\n",
        "\r\n",
        "alpha = 0.3    804*10^4   0.053\r\n",
        "\r\n",
        "alpha = 0.4   605*10^4  0.049\r\n",
        "\r\n",
        "alpha = 0.5   688*10^4 0.054\r\n",
        "\r\n",
        "alpha = 0.6   635*10^4 0.047\r\n",
        "\r\n",
        "alpha = 0.7  728*10^4  0.057\r\n",
        "\r\n",
        "alpha = 0.8  379*10^4 0.051\r\n",
        "\r\n",
        "alpha = 0.9 365*10^4 0.044\r\n",
        "\r\n",
        "alpha = 1.0 145*10^4  0.042\r\n"
      ]
    },
    {
      "cell_type": "code",
      "metadata": {
        "colab": {
          "base_uri": "https://localhost:8080/",
          "height": 295
        },
        "id": "EUxzIshC0lpL",
        "outputId": "f261aa71-3b5d-45f5-c4cc-be88483cf0b5"
      },
      "source": [
        "import matplotlib.pyplot as plt\r\n",
        "\r\n",
        "\r\n",
        "plt.plot(['0.0','0.1','0.2','0.3','0.4','0.5','0.6','0.7','0.8','0.9','1.0'], [0, 663, 760, 804, 605,688,635,728,379,365,145])\r\n",
        "plt.title('Сравнение вкладов каждого из лосс')\r\n",
        "plt.xlabel('alpha')\r\n",
        "plt.ylabel('площадь под qini кривой (auqc)')\r\n",
        "\r\n",
        "plt.show()"
      ],
      "execution_count": null,
      "outputs": [
        {
          "output_type": "display_data",
          "data": {
            "image/png": "[encoded data removed]",
            "text/plain": [
              "<Figure size 432x288 with 1 Axes>"
            ]
          },
          "metadata": {
            "tags": [],
            "needs_background": "light"
          }
        }
      ]
    },
    {
      "cell_type": "code",
      "metadata": {
        "id": "JPMlwkGzDX2m"
      },
      "source": [
        "X_train_1 = torch.FloatTensor(X_train_1)\r\n",
        "X_train_0 = torch.FloatTensor(X_train_0)\r\n",
        "\r\n",
        "\r\n",
        "\r\n",
        "\r\n",
        "\r\n",
        "model.eval()\r\n",
        "\r\n",
        "mu_1 = model(X_train_1)\r\n",
        "mu_0 = model(X_train_0)\r\n",
        "\r\n",
        "pred = mu_1-mu_0\r\n",
        "\r\n",
        "print(pred)\r\n",
        "\r\n",
        "pred = pred.detach().numpy()\r\n",
        "print(qini_auc_score(y_train, pred, treatment_train))\r\n",
        "\r\n",
        "# print(y_train[0:10])\r\n",
        "# print(\"------------------\")\r\n",
        "# print(treatment_train[0:10])\r\n",
        "# plot_qini_curve(y_train, pred, treatment_train)\r\n",
        "\r\n",
        "# tm_uplift_at_k = uplift_at_k(y_true=y_train, uplift=pred, treatment=treatment_train,\r\n",
        "#                              strategy='overall', k=0.3)\r\n",
        "\r\n",
        "print(tm_uplift_at_k)\r\n",
        "\r\n",
        "# print(torch.max(pred))"
      ],
      "execution_count": null,
      "outputs": []
    },
    {
      "cell_type": "markdown",
      "metadata": {
        "id": "cz4cLfVvZHIL"
      },
      "source": [
        "proposing network with sigmoid\n",
        "\n",
        "\n",
        "\n"
      ]
    },
    {
      "cell_type": "code",
      "metadata": {
        "id": "i3IxOEpZZEXc"
      },
      "source": [
        "import torch\n",
        "from torch.autograd import Variable\n",
        "import torch.nn as nn\n",
        "import torch.nn.functional as F\n",
        "\n",
        "import random\n",
        "import numpy as np\n",
        "import torch.optim as optim\n",
        "import matplotlib.pyplot as plt\n",
        "from statistics import mean\n",
        "\n",
        "batch_size = 35006   # Number of samples in each batch\n",
        "epoch_num = 40   # Number of epochs to train the network\n",
        "lr = 0.0001        # Learning rate\n",
        "\n",
        "\n",
        "\n",
        "\n",
        "\n",
        "class Model(nn.Module):\n",
        "    def __init__(self):\n",
        "        super(Model, self).__init__()\n",
        "        self.fc1 = nn.Linear(334, 200)\n",
        "        self.fc2 = nn.Linear(200, 100)\n",
        "        self.fc3 = nn.Linear(100, 1)\n",
        "\n",
        "    def forward(self, x):\n",
        "        \n",
        "        x = F.relu(self.fc1(x))\n",
        "        x = F.relu(self.fc2(x))\n",
        "        x = self.fc3(x)\n",
        "        m = nn.Sigmoid()\n",
        "        return m(x)\n",
        "        \n",
        "\n",
        "model = Model()\n",
        "alpha = 0.8\n",
        "\n",
        "# device = torch.device(\"cuda:0\" if torch.cuda.is_available() else \"cpu\")\n",
        "# print(device)\n",
        "# model.to(device)\n",
        "# print(model)\n",
        "\n",
        "\n",
        "# #convert to torch structure\n",
        "# X_test_1_tensor = torch.FloatTensor(X_test_1) \n",
        "# X_test_0_tensor = torch.FloatTensor(X_test_0)\n",
        "\n",
        "\n",
        "# #convert to torch structure\n",
        "# treatment_test = treatment_test.to_numpy()\n",
        "# treatment_test = torch.from_numpy(treatment_test).int()\n",
        "# treatment_test = Variable(treatment_test)\n",
        "\n",
        "\n",
        "# #convert to torch structure\n",
        "# y_test = y_test.to_numpy()\n",
        "# y_test = torch.from_numpy(y_test).float()\n",
        "# y_test  = Variable(y_test)\n",
        "\n",
        "\n",
        "# #convert to torch structure\n",
        "# Z_trans_test = Z_trans_test.to_numpy()\n",
        "# Z_trans_test = torch.from_numpy(Z_trans_test).float()\n",
        "# Z_trans_test = Variable(Z_trans_test)\n",
        "\n",
        "\n",
        "#init loaders\n",
        "# train_loader = DataLoader(dataset=train_data, batch_size=batch_size, shuffle=True)\n",
        "# test_loader = DataLoader(dataset=test_data, batch_size=1)\n",
        "\n",
        "\n",
        "# calculate the number of batches per epoch\n",
        "batch_per_ep = X_train.shape[0] // batch_size\n",
        "\n",
        "# define the loss (criterion) and create an optimizer\n",
        "optimizer = optim.Adam(model.parameters())\n",
        "\n",
        "# define lists of losses to store\n",
        "all_losses  = []\n",
        "test_losses = []\n",
        "min_losses = []\n",
        "\n",
        "\n",
        "model.train()\n",
        "# epochs loop\n",
        "for ep in range(epoch_num):  \n",
        "    print(\".......................... epoch =\",ep,\"..........................\")\n",
        "    i = 0\n",
        "    # batches loop\n",
        "    for batch_n in range(batch_per_ep):  \n",
        "        batch_loss = []\n",
        "       \n",
        "        \n",
        "        batch_1_feat = torch.FloatTensor(X_train_1[i:i+batch_size])\n",
        "        batch_0_feat = torch.FloatTensor(X_train_0[i:i+batch_size])\n",
        "        \n",
        "        batch_label = y_train[i:i+batch_size]\n",
        "        batch_Z_trans = Z_trans_train[i:i+batch_size]\n",
        "\n",
        "        optimizer.zero_grad()\n",
        "        # Forward pass (predict)\n",
        "        mu_1_target_class = model(batch_1_feat)\n",
        "        mu_0_target_class = model(batch_0_feat)\n",
        "\n",
        "        #convert to torch structure\n",
        "        treatment_batch = treatment_train[i:i+batch_size]\n",
        "        treatment_batch = treatment_batch.to_numpy()\n",
        "        treatment_batch = torch.from_numpy(treatment_batch).int()\n",
        "        treatment_batch = Variable(treatment_batch)\n",
        "\n",
        "        mu_0_target_class = torch.reshape(mu_0_target_class, shape = (-1,))\n",
        "        mu_1_target_class = torch.reshape(mu_1_target_class, shape =(-1,) )\n",
        "        \n",
        "        # print(\"mu_0\", mu_0_target_class)\n",
        "        # print(\"mu_1\", mu_1_target_class)\n",
        "\n",
        "        ones = np.ones(shape = batch_size)\n",
        "        ones = torch.from_numpy(ones).float()\n",
        "        \n",
        "\n",
        "       \n",
        "        #implements mu = T * mu_1 + (1-T) * mu_0\n",
        "        uplift_pred_Y = treatment_batch * mu_1_target_class + (ones - treatment_batch) * mu_0_target_class \n",
        "\n",
        "        \n",
        "\n",
        "        \n",
        "        #convert to torch structure\n",
        "        batch_label = batch_label.to_numpy()\n",
        "        batch_label = torch.from_numpy(batch_label).float()\n",
        "        batch_label = Variable(batch_label)\n",
        "\n",
        "       \n",
        "        #convert to torch structure\n",
        "        batch_Z_trans = batch_Z_trans.to_numpy()\n",
        "        batch_Z_trans = torch.from_numpy(batch_Z_trans).float()\n",
        "        batch_Z_trans = Variable(batch_Z_trans)\n",
        "        batch_Z_trans = torch.reshape(batch_Z_trans, shape = (-1,))\n",
        "        \n",
        "        #declare losses\n",
        "        loss_cross = nn.BCELoss(reduction = 'mean')\n",
        "        loss_MSE = nn.MSELoss()\n",
        "\n",
        "        #implements uplift_predicted = mu_1 - mu_0\n",
        "        uplift_pred = mu_1_target_class - mu_0_target_class \n",
        "        \n",
        "        \n",
        "        # print(\"uplift_pred\", uplift_pred)\n",
        "\n",
        "        \n",
        "\n",
        "        \n",
        "\n",
        "        sum_of_losses = torch.mean(  (1-alpha) * loss_MSE(batch_Z_trans, uplift_pred) + alpha * loss_cross( uplift_pred_Y, batch_label))\n",
        "        # print(loss_contrastive)\n",
        "        batch_loss.append(sum_of_losses)\n",
        "        # print(\"train AUQC:\", qini_auc_score(batch_label.cpu().detach().numpy(), uplift_pred.cpu().detach().numpy(), treatment_batch.cpu().detach().numpy() ))\n",
        "\n",
        "        \n",
        "        # print(batch_n, loss_contrastive)\n",
        "\n",
        "\n",
        "        # plot_qini_curve(batch_label.cpu().detach().numpy(), uplift_pred.cpu().detach().numpy(), treatment_batch.cpu().detach().numpy())\n",
        "        # print(qini_auc_score(batch_label.cpu().detach().numpy(), uplift_pred.cpu().detach().numpy(), treatment_batch.cpu().detach().numpy() ))\n",
        "        \n",
        "        # Backward pass and updates\n",
        "        sum_of_losses.backward()                     # calculate the gradients\n",
        "        optimizer.step()                    # update the weights\n",
        "        i += batch_size\n",
        "        #end for !!!!!!!!!!!!!!!!!!!\n",
        "\n",
        "    # plot_qini_curve(batch_label.cpu().detach().numpy(), uplift_pred.cpu().detach().numpy(), treatment_batch.cpu().detach().numpy())\n",
        "    print(qini_auc_score(batch_label.cpu().detach().numpy(), uplift_pred.cpu().detach().numpy(), treatment_batch.cpu().detach().numpy() ))\n",
        "    batch_loss  = list(batch_loss)\n",
        "    all_losses.append( sum(batch_loss) / len(batch_loss) ) \n",
        "\n",
        "    # #work with test dataset\n",
        "\n",
        "    # mu_1 = model(X_test_1_tensor)\n",
        "    # mu_0 = model(X_test_0_tensor)\n",
        "\n",
        "    # mu_1_target_class = mu_1\n",
        "    # mu_0_target_class = mu_0\n",
        "\n",
        "    # ones = np.ones(shape = X_test_1.shape[0])\n",
        "    # ones = torch.from_numpy(ones).float()\n",
        "\n",
        "    # #implements mu = T * mu_1 + (1-T) * mu_0\n",
        "    # uplift_pred_Y = treatment_test * mu_1_target_class + (ones - treatment_test) * mu_0_target_class \n",
        "\n",
        "    # mu_0_target_class = torch.reshape(mu_0_target_class, (-1,))\n",
        "    # mu_1_target_class = torch.reshape(mu_1_target_class, (-1,))\n",
        "    \n",
        "\n",
        "    \n",
        "   \n",
        "    \n",
        "    # #declare losses\n",
        "    # loss_cross = nn.BCELoss(reduction = 'mean')\n",
        "    # loss_MSE = nn.MSELoss()\n",
        "\n",
        "    # #implements uplift_predicted = mu_1 - mu_0\n",
        "    # uplift_pred = mu_1_target_class - mu_0_target_class \n",
        "\n",
        "    # sum_of_losses =torch.mean(  (1-alpha) * loss_MSE(Z_trans_test, uplift_pred) + alpha * loss_cross( uplift_pred_Y, y_test) )\n",
        "    # test_losses.append(sum_of_losses)\n",
        "\n",
        "import matplotlib.pyplot as plt\n",
        "\n",
        "plt.plot(all_losses, color='green')\n",
        "plt.title('sum_of_losses')\n",
        "plt.show()\n",
        "\n",
        "# plt.plot(test_losses, color='blue')\n",
        "# plt.title('sum_of_losses')\n",
        "# plt.show()\n",
        "\n",
        "\n",
        "\n"
      ],
      "execution_count": null,
      "outputs": []
    },
    {
      "cell_type": "code",
      "metadata": {
        "id": "QpsL9Oq8PKVN"
      },
      "source": [
        "X_train_1 = torch.FloatTensor(X_train_1)\n",
        "X_train_0 = torch.FloatTensor(X_train_0)\n",
        "\n",
        "\n",
        "\n",
        "model.eval()\n",
        "\n",
        "mu_1 = model(X_train_1)\n",
        "mu_0 = model(X_train_0)\n",
        "\n",
        "pred = mu_1-mu_0\n",
        "print(qini_auc_score(y_train, pred.detach().numpy(), treatment_train))\n",
        "\n",
        "print(pred)\n",
        "print(torch.max(pred))"
      ],
      "execution_count": null,
      "outputs": []
    },
    {
      "cell_type": "markdown",
      "metadata": {
        "id": "gFLXT97dapoc"
      },
      "source": [
        "example of siamese network!!!!\n",
        "2 out, softmax two classification\n",
        "\n",
        "\n",
        " "
      ]
    },
    {
      "cell_type": "code",
      "metadata": {
        "id": "qzEBJvdtZdi-",
        "colab": {
          "base_uri": "https://localhost:8080/",
          "height": 742
        },
        "outputId": "eb431ec9-56cd-47a7-d456-eb70af269b10"
      },
      "source": [
        "from __future__ import print_function\n",
        "import torch\n",
        "from torch.autograd import Variable\n",
        "import torch.nn as nn\n",
        "import torch.nn.functional as F\n",
        "\n",
        "import random\n",
        "import numpy as np\n",
        "import torch.optim as optim\n",
        "import matplotlib.pyplot as plt\n",
        "from statistics import mean\n",
        "\n",
        "batch_size = 55   # Number of samples in each batch\n",
        "epoch_num = 12      # Number of epochs to train the network\n",
        "lr = 0.001        # Learning rate\n",
        "import torch.nn.functional as F\n",
        "\n",
        "\n",
        "\n",
        "\n",
        "class Model(nn.Module):\n",
        "    def __init__(self):\n",
        "        super(Model, self).__init__()\n",
        "        self.fc1 = nn.Linear(334, 200)\n",
        "        self.fc2 = nn.Linear(200, 100)\n",
        "        self.fc3 = nn.Linear(100, 2)\n",
        "\n",
        "    def forward(self, x):\n",
        "        x = F.relu(self.fc1(x))\n",
        "        x = F.relu(self.fc2(x))\n",
        "        x = self.fc3(x)\n",
        "        return torch.exp(F.log_softmax(x,dim=1))    # F.log_softmax = log( exp(x_i) / exp(x).sum() )\n",
        "        #return x\n",
        "\n",
        "\n",
        "\n",
        "model = Model()\n",
        "alpha = 0.3\n",
        "\n",
        "\n",
        "# calculate the number of batches per epoch\n",
        "batch_per_ep = X_train.shape[0] // batch_size\n",
        "\n",
        "# define the loss (criterion) and create an optimizer\n",
        "optimizer = optim.SGD(model.parameters(), lr=lr)\n",
        "\n",
        "X_test_1_tensor = torch.FloatTensor(X_test_1)\n",
        "X_test_0_tensor = torch.FloatTensor(X_test_0)\n",
        "\n",
        "treatment_test = treatment_test.to_numpy()\n",
        "treatment_test = torch.from_numpy(treatment_test).int()\n",
        "treatment_test = Variable(treatment_test)\n",
        "\n",
        "y_test = y_test.to_numpy()\n",
        "y_test = torch.from_numpy(y_test ).float()\n",
        "y_test  = Variable(y_test )\n",
        "\n",
        "\n",
        "#convert to torch structure\n",
        "Z_trans_test = Z_trans_test.to_numpy()\n",
        "Z_trans_test = torch.from_numpy(Z_trans_test).float()\n",
        "Z_trans_test = Variable(Z_trans_test)\n",
        "\n",
        "Z_trans_test = torch.reshape(Z_trans_test, (X_test_1.shape[0],1))\n",
        "\n",
        "all_losses  = []\n",
        "test_losses = []\n",
        "min_losses = []\n",
        "\n",
        "for ep in range(epoch_num):  # epochs loop\n",
        "    print(\"..........................epoch =\",ep,\"..........................\")\n",
        "    i = 0\n",
        "    for batch_n in range(batch_per_ep):  # batches loop\n",
        "        batch_loss = []\n",
        "       \n",
        "        \n",
        "        batch_1_feat = torch.FloatTensor(X_train_1[i:i+batch_size])\n",
        "        batch_0_feat = torch.FloatTensor(X_train_0[i:i+batch_size])\n",
        "        \n",
        "        batch_label = y_train[i:i+batch_size]\n",
        "        batch_Z_trans = Z_trans_train[i:i+batch_size]\n",
        "\n",
        "        # Reset gradients\n",
        "        # optimizer.zero_grad()\n",
        "\n",
        "        # Forward pass\n",
        "        mu_1 = model(batch_1_feat)\n",
        "        mu_0 = model(batch_0_feat)\n",
        "\n",
        "        mu_1_target_class = mu_1[:,1]\n",
        "        mu_0_target_class = mu_0[:,1]\n",
        "\n",
        "        treatment_batch = treatment_train[i:i+batch_size]\n",
        "        treatment_batch = treatment_batch.to_numpy()\n",
        "        treatment_batch = torch.from_numpy(treatment_batch).int()\n",
        "        treatment_batch = Variable(treatment_batch)\n",
        "\n",
        "\n",
        "        \n",
        "        \n",
        "        ones = np.ones(shape = batch_size)\n",
        "        ones = torch.from_numpy(ones).float()\n",
        "        #implements mu = T * mu_1 + (1-T) * mu_0\n",
        "        uplift_pred_Y = treatment_batch * mu_1_target_class + (ones - treatment_batch) * mu_0_target_class \n",
        "\n",
        "\n",
        "        mu_0_target_class = torch.reshape(mu_0_target_class, (batch_size,1))\n",
        "        mu_1_target_class = torch.reshape(mu_1_target_class, (batch_size,1))\n",
        "        #convert to torch structure\n",
        "        batch_label = batch_label.to_numpy()\n",
        "        batch_label = torch.from_numpy(batch_label).float()\n",
        "        batch_label = Variable(batch_label)\n",
        "\n",
        "       \n",
        "        #convert to torch structure\n",
        "        batch_Z_trans = batch_Z_trans.to_numpy()\n",
        "        batch_Z_trans = torch.from_numpy(batch_Z_trans).float()\n",
        "        batch_Z_trans = Variable(batch_Z_trans)\n",
        "\n",
        "        batch_Z_trans = torch.reshape(batch_Z_trans, (batch_size,1))\n",
        "        \n",
        "        #declare losses\n",
        "        loss_cross = nn.BCELoss(reduction = 'sum')\n",
        "        loss_MSE = nn.MSELoss()\n",
        "\n",
        "        #implements uplift_predicted = mu_1 - mu_0\n",
        "        uplift_pred = mu_1_target_class - mu_0_target_class \n",
        "        \n",
        "\n",
        "        \n",
        "        loss_contrastive = torch.mean(  (1-alpha) * loss_MSE(batch_Z_trans, uplift_pred) + alpha * loss_cross( uplift_pred_Y, batch_label))\n",
        "        \n",
        "        batch_loss.append(loss_contrastive)\n",
        "        \n",
        "\n",
        "        \n",
        "        # print(batch_n, loss_contrastive)\n",
        "\n",
        "\n",
        "        optimizer.zero_grad()\n",
        "        # Backward pass and updates\n",
        "        loss_contrastive.backward()                     # calculate the gradients\n",
        "        optimizer.step()                    # update the weights\n",
        "        i += batch_size\n",
        "        #end for!!!!!!!!!!!!!!!!!!!\n",
        "\n",
        "    batch_loss  = list(batch_loss)\n",
        "    all_losses.append( sum(batch_loss) / len(batch_loss)) \n",
        "    #work with test dataset\n",
        "\n",
        "    mu_1 = model(X_test_1_tensor)\n",
        "    mu_0 = model(X_test_0_tensor)\n",
        "\n",
        "    mu_1_target_class = mu_1[:,1]\n",
        "    mu_0_target_class = mu_0[:,1]\n",
        "\n",
        "    ones = np.ones(shape = X_test_1.shape[0])\n",
        "    ones = torch.from_numpy(ones).float()\n",
        "\n",
        "    #implements mu = T * mu_1 + (1-T) * mu_0\n",
        "    uplift_pred_Y = treatment_test * mu_1_target_class + (ones - treatment_test) * mu_0_target_class \n",
        "\n",
        "    mu_0_target_class = torch.reshape(mu_0_target_class, (X_test_1.shape[0],1))\n",
        "    mu_1_target_class = torch.reshape(mu_1_target_class, (X_test_1.shape[0],1))\n",
        "    \n",
        "\n",
        "    \n",
        "   \n",
        "    \n",
        "    #declare losses\n",
        "    loss_cross = nn.BCELoss(reduction = 'sum')\n",
        "    loss_MSE = nn.MSELoss()\n",
        "\n",
        "    #implements uplift_predicted = mu_1 - mu_0\n",
        "    uplift_pred = mu_1_target_class - mu_0_target_class \n",
        "\n",
        "    loss_contrastive =torch.mean(  (1-alpha) * loss_MSE(Z_trans_test, uplift_pred) + alpha * loss_cross( uplift_pred_Y, y_test))\n",
        "    test_losses.append(loss_contrastive)\n",
        "    \n",
        "    # print(qini_auc_score(y_test.cpu().detach().numpy(), uplift_pred.cpu().detach().numpy(), treatment_test.cpu().detach().numpy() ))\n",
        "\n",
        "import matplotlib.pyplot as plt\n",
        "plt.plot(all_losses,color='blue')\n",
        "# plt.plot(test_losses, color='green')\n",
        "plt.title('Contrastive Loss')\n",
        "plt.show()\n",
        "\n",
        "plt.plot(all_losses,color='blue')\n",
        "plt.show()"
      ],
      "execution_count": null,
      "outputs": [
        {
          "output_type": "stream",
          "text": [
            "..........................epoch = 0 ..........................\n",
            "..........................epoch = 1 ..........................\n",
            "..........................epoch = 2 ..........................\n",
            "..........................epoch = 3 ..........................\n",
            "..........................epoch = 4 ..........................\n",
            "..........................epoch = 5 ..........................\n",
            "..........................epoch = 6 ..........................\n",
            "..........................epoch = 7 ..........................\n",
            "..........................epoch = 8 ..........................\n",
            "..........................epoch = 9 ..........................\n",
            "..........................epoch = 10 ..........................\n",
            "..........................epoch = 11 ..........................\n"
          ],
          "name": "stdout"
        },
        {
          "output_type": "display_data",
          "data": {
            "image/png": "[encoded data removed]",
            "text/plain": [
              "<Figure size 432x288 with 1 Axes>"
            ]
          },
          "metadata": {
            "tags": [],
            "needs_background": "light"
          }
        },
        {
          "output_type": "display_data",
          "data": {
            "image/png": "[encoded data removed]",
            "text/plain": [
              "<Figure size 432x288 with 1 Axes>"
            ]
          },
          "metadata": {
            "tags": [],
            "needs_background": "light"
          }
        }
      ]
    },
    {
      "cell_type": "code",
      "metadata": {
        "colab": {
          "base_uri": "https://localhost:8080/",
          "height": 430
        },
        "id": "oqmylLF-06iI",
        "outputId": "89f35b83-2fb7-489b-eaee-19aa4493c160"
      },
      "source": [
        "\r\n",
        "from UPLIFT_modeling.uplift.metrics import uplift_at_k,qini_auc_score\r\n",
        "\r\n",
        "X_test_1 = torch.FloatTensor(X_test_1)\r\n",
        "X_test_0 = torch.FloatTensor(X_test_0)\r\n",
        "\r\n",
        "model.eval()\r\n",
        "\r\n",
        "mu_1 = model(X_test_1)\r\n",
        "mu_0 = model(X_test_0)\r\n",
        "\r\n",
        "pred = mu_1-mu_0\r\n",
        "\r\n",
        "\r\n",
        "\r\n",
        "pred = pred.detach().numpy()\r\n",
        "\r\n",
        "\r\n",
        "\r\n",
        "\r\n",
        "\r\n",
        "# pred = pred.reshape((-1,)) \r\n",
        "\r\n",
        "  \r\n",
        "# pred = pd.Series(pred, index = y_test.index)\r\n",
        "\r\n",
        "\r\n",
        "print(y_test.shape)\r\n",
        "print(pred.shape)\r\n",
        "print(treatment_test.shape)\r\n",
        "\r\n",
        "print(\"qini_auc_score\",qini_auc_score(y_test, pred[:,0], treatment_test))\r\n",
        "\r\n",
        "\r\n",
        "print(\"uplift_at_30%\",uplift_at_k(y_test, pred, treatment_test))\r\n",
        "# print(y_train[0:10])\r\n",
        "# print(\"------------------\")\r\n",
        "# print(treatment_train[0:10])\r\n",
        "\r\n"
      ],
      "execution_count": null,
      "outputs": [
        {
          "output_type": "stream",
          "text": [
            "torch.Size([60011])\n",
            "(60011, 2)\n",
            "torch.Size([60011])\n",
            "qini_auc_score 0.0\n"
          ],
          "name": "stdout"
        },
        {
          "output_type": "error",
          "ename": "ValueError",
          "evalue": "ignored",
          "traceback": [
            "\u001b[0;31m---------------------------------------------------------------------------\u001b[0m",
            "\u001b[0;31mValueError\u001b[0m                                Traceback (most recent call last)",
            "\u001b[0;32m<ipython-input-37-cb1d815d83b5>\u001b[0m in \u001b[0;36m<module>\u001b[0;34m()\u001b[0m\n\u001b[1;32m     33\u001b[0m \u001b[0;34m\u001b[0m\u001b[0m\n\u001b[1;32m     34\u001b[0m \u001b[0;34m\u001b[0m\u001b[0m\n\u001b[0;32m---> 35\u001b[0;31m \u001b[0mprint\u001b[0m\u001b[0;34m(\u001b[0m\u001b[0;34m\"uplift_at_30%\"\u001b[0m\u001b[0;34m,\u001b[0m\u001b[0muplift_at_k\u001b[0m\u001b[0;34m(\u001b[0m\u001b[0my_test\u001b[0m\u001b[0;34m,\u001b[0m \u001b[0mpred\u001b[0m\u001b[0;34m,\u001b[0m \u001b[0mtreatment_test\u001b[0m\u001b[0;34m)\u001b[0m\u001b[0;34m)\u001b[0m\u001b[0;34m\u001b[0m\u001b[0;34m\u001b[0m\u001b[0m\n\u001b[0m\u001b[1;32m     36\u001b[0m \u001b[0;31m# print(y_train[0:10])\u001b[0m\u001b[0;34m\u001b[0m\u001b[0;34m\u001b[0m\u001b[0;34m\u001b[0m\u001b[0m\n\u001b[1;32m     37\u001b[0m \u001b[0;31m# print(\"------------------\")\u001b[0m\u001b[0;34m\u001b[0m\u001b[0;34m\u001b[0m\u001b[0;34m\u001b[0m\u001b[0m\n",
            "\u001b[0;32m/content/UPLIFT_modeling/uplift/metrics/ranking.py\u001b[0m in \u001b[0;36muplift_at_k\u001b[0;34m(y_target, prediction_score, treatment, rate)\u001b[0m\n\u001b[1;32m    194\u001b[0m     \u001b[0;31m# order = np.argsort(-prediction_score)\u001b[0m\u001b[0;34m\u001b[0m\u001b[0;34m\u001b[0m\u001b[0;34m\u001b[0m\u001b[0m\n\u001b[1;32m    195\u001b[0m     \u001b[0mtreatment_n\u001b[0m \u001b[0;34m=\u001b[0m \u001b[0mint\u001b[0m\u001b[0;34m(\u001b[0m\u001b[0;34m(\u001b[0m\u001b[0mtreatment\u001b[0m \u001b[0;34m==\u001b[0m \u001b[0;36m1\u001b[0m\u001b[0;34m)\u001b[0m\u001b[0;34m.\u001b[0m\u001b[0msum\u001b[0m\u001b[0;34m(\u001b[0m\u001b[0;34m)\u001b[0m \u001b[0;34m*\u001b[0m \u001b[0mrate\u001b[0m\u001b[0;34m)\u001b[0m\u001b[0;34m\u001b[0m\u001b[0;34m\u001b[0m\u001b[0m\n\u001b[0;32m--> 196\u001b[0;31m     \u001b[0mtreatment_p\u001b[0m \u001b[0;34m=\u001b[0m \u001b[0my_target\u001b[0m\u001b[0;34m[\u001b[0m\u001b[0morder\u001b[0m\u001b[0;34m]\u001b[0m\u001b[0;34m[\u001b[0m\u001b[0mtreatment\u001b[0m\u001b[0;34m[\u001b[0m\u001b[0morder\u001b[0m\u001b[0;34m]\u001b[0m \u001b[0;34m==\u001b[0m \u001b[0;36m1\u001b[0m\u001b[0;34m]\u001b[0m\u001b[0;34m[\u001b[0m\u001b[0;34m:\u001b[0m\u001b[0mtreatment_n\u001b[0m\u001b[0;34m]\u001b[0m\u001b[0;34m.\u001b[0m\u001b[0mmean\u001b[0m\u001b[0;34m(\u001b[0m\u001b[0;34m)\u001b[0m\u001b[0;34m\u001b[0m\u001b[0;34m\u001b[0m\u001b[0m\n\u001b[0m\u001b[1;32m    197\u001b[0m     \u001b[0mcontrol_n\u001b[0m \u001b[0;34m=\u001b[0m \u001b[0mint\u001b[0m\u001b[0;34m(\u001b[0m\u001b[0;34m(\u001b[0m\u001b[0mtreatment\u001b[0m \u001b[0;34m==\u001b[0m \u001b[0;36m0\u001b[0m\u001b[0;34m)\u001b[0m\u001b[0;34m.\u001b[0m\u001b[0msum\u001b[0m\u001b[0;34m(\u001b[0m\u001b[0;34m)\u001b[0m \u001b[0;34m*\u001b[0m \u001b[0mrate\u001b[0m\u001b[0;34m)\u001b[0m\u001b[0;34m\u001b[0m\u001b[0;34m\u001b[0m\u001b[0m\n\u001b[1;32m    198\u001b[0m     \u001b[0mcontrol_p\u001b[0m \u001b[0;34m=\u001b[0m \u001b[0my_target\u001b[0m\u001b[0;34m[\u001b[0m\u001b[0morder\u001b[0m\u001b[0;34m]\u001b[0m\u001b[0;34m[\u001b[0m\u001b[0mtreatment\u001b[0m\u001b[0;34m[\u001b[0m\u001b[0morder\u001b[0m\u001b[0;34m]\u001b[0m \u001b[0;34m==\u001b[0m \u001b[0;36m0\u001b[0m\u001b[0;34m]\u001b[0m\u001b[0;34m[\u001b[0m\u001b[0;34m:\u001b[0m\u001b[0mcontrol_n\u001b[0m\u001b[0;34m]\u001b[0m\u001b[0;34m.\u001b[0m\u001b[0mmean\u001b[0m\u001b[0;34m(\u001b[0m\u001b[0;34m)\u001b[0m\u001b[0;34m\u001b[0m\u001b[0;34m\u001b[0m\u001b[0m\n",
            "\u001b[0;31mValueError\u001b[0m: At least one stride in the given numpy array is negative, and tensors with negative strides are not currently supported. (You can probably work around this by making a copy of your array  with array.copy().) "
          ]
        }
      ]
    },
    {
      "cell_type": "code",
      "metadata": {
        "id": "yOQ_S5FGayLT",
        "colab": {
          "base_uri": "https://localhost:8080/",
          "height": 239
        },
        "outputId": "a56cba6c-6741-491b-b3fb-46a2a3df771d"
      },
      "source": [
        "from __future__ import print_function\n",
        "import torch\n",
        "from torch.autograd import Variable\n",
        "import torch.nn as nn\n",
        "import torch.nn.functional as F\n",
        "from torchsummary import summary\n",
        "import random\n",
        "import numpy as np\n",
        "import torch.optim as optim\n",
        "import matplotlib.pyplot as plt\n",
        "from statistics import mean\n",
        "\n",
        "batch_size = 55   # Number of samples in each batch\n",
        "epoch_num = 20      # Number of epochs to train the network\n",
        "lr = 0.001        # Learning rate\n",
        "import torch.nn.functional as F\n",
        "\n",
        "\n",
        "\n",
        "\n",
        "class Model(nn.Module):\n",
        "    def __init__(self):\n",
        "        super(Model, self).__init__()\n",
        "        self.fc1 = nn.Linear(334, 200)\n",
        "        self.fc2 = nn.Linear(200, 200)\n",
        "        self.fc3 = nn.Linear(200, 2)\n",
        "\n",
        "    def forward(self, x):\n",
        "        x = F.relu(self.fc1(x))\n",
        "        x = F.relu(self.fc2(x))\n",
        "        x = self.fc3(x)\n",
        "        return torch.exp(F.log_softmax(x,dim=1))\n",
        "        #return x\n",
        "\n",
        "\n",
        "\n",
        "model = Model()\n",
        "alpha = 0.8\n",
        "\n",
        "\n",
        "# calculate the number of batches per epoch\n",
        "batch_per_ep = X_train.shape[0] // batch_size\n",
        "\n",
        "# define the loss (criterion) and create an optimizer\n",
        "optimizer = optim.SGD(model.parameters(), lr=lr)\n",
        "\n",
        "\n",
        "\n",
        "\n",
        "\n",
        "\n",
        "\n",
        "Z_trans_test = torch.reshape(Z_trans_test, (X_test_1.shape[0],1))\n",
        "all_losses  = []\n",
        "min_losses =[]\n",
        "for ep in range(epoch_num):  # epochs loop\n",
        "    print(\"..........................epoch =\",ep,\"..........................\")\n",
        "    i = 0\n",
        "    for batch_n in range(batch_per_ep):  # batches loop\n",
        "        batch_loss = []\n",
        "       \n",
        "        \n",
        "        batch_1_feat = torch.FloatTensor(X_train_1[i:i+batch_size])\n",
        "        batch_0_feat = torch.FloatTensor(X_train_0[i:i+batch_size])\n",
        "        \n",
        "        batch_label = y_train[i:i+batch_size]\n",
        "        batch_Z_trans = Z_trans[i:i+batch_size]\n",
        "\n",
        "        # Reset gradients\n",
        "        # optimizer.zero_grad()\n",
        "\n",
        "        # Forward pass\n",
        "        mu_1 = model(batch_1_feat)\n",
        "        mu_0 = model(batch_0_feat)\n",
        "\n",
        "        mu_1_target_class = mu_1[:,1]\n",
        "        mu_0_target_class = mu_0[:,1]\n",
        "\n",
        "        treatment_batch = treatment_train[i:i+batch_size]\n",
        "        treatment_batch = torch.from_numpy(treatment_batch).int()\n",
        "        treatment_batch = Variable(treatment_batch)\n",
        "\n",
        "\n",
        "        \n",
        "        \n",
        "        ones = np.ones(shape = batch_size)\n",
        "        ones = torch.from_numpy(ones).float()\n",
        "        #implements mu = T * mu_1 + (1-T) * mu_0\n",
        "        uplift_pred_Y = treatment_batch * mu_1_target_class + (ones - treatment_batch) * mu_0_target_class \n",
        "\n",
        "\n",
        "        mu_0_target_class = torch.reshape(mu_0_target_class, (batch_size,1))\n",
        "        mu_1_target_class = torch.reshape(mu_1_target_class, (batch_size,1))\n",
        "        #convert to torch structure\n",
        "        batch_label = torch.from_numpy(batch_label).float()\n",
        "        batch_label = Variable(batch_label)\n",
        "\n",
        "       \n",
        "        #convert to torch structure\n",
        "        batch_Z_trans = batch_Z_trans.to_numpy()\n",
        "        batch_Z_trans = torch.from_numpy(batch_Z_trans).float()\n",
        "        batch_Z_trans = Variable(batch_Z_trans)\n",
        "\n",
        "        batch_Z_trans = torch.reshape(batch_Z_trans, (batch_size,1))\n",
        "        \n",
        "        #declare losses\n",
        "        loss_cross = nn.BCELoss(reduction = 'sum')\n",
        "        loss_MSE = nn.MSELoss()\n",
        "\n",
        "        #implements uplift_predicted = mu_1 - mu_0\n",
        "        uplift_pred = mu_1_target_class - mu_0_target_class \n",
        "\n",
        "        loss_contrastive =torch.mean(  (1-alpha) * loss_MSE(batch_Z_trans, uplift_pred) + alpha * loss_cross( uplift_pred_Y, batch_label))\n",
        "\n",
        "        batch_loss.append(loss_contrastive)\n",
        "        \n",
        "        # print(batch_n, loss_contrastive)\n",
        "\n",
        "\n",
        "        optimizer.zero_grad()\n",
        "        # Backward pass and updates\n",
        "        loss_contrastive.backward()                     # calculate the gradients\n",
        "        optimizer.step()                    # update the weights\n",
        "        i += batch_size\n",
        "    batch_loss  = list(batch_loss)\n",
        "    all_losses.append( sum(batch_loss) / len(batch_loss)) \n",
        "\n",
        "import matplotlib.pyplot as plt\n",
        "plt.plot(all_losses)\n",
        "plt.title('Contrastive Loss')\n",
        "plt.show()"
      ],
      "execution_count": null,
      "outputs": [
        {
          "output_type": "error",
          "ename": "TypeError",
          "evalue": "ignored",
          "traceback": [
            "\u001b[0;31m---------------------------------------------------------------------------\u001b[0m",
            "\u001b[0;31mTypeError\u001b[0m                                 Traceback (most recent call last)",
            "\u001b[0;32m<ipython-input-11-35d23d29b3ba>\u001b[0m in \u001b[0;36m<module>\u001b[0;34m()\u001b[0m\n\u001b[1;32m     51\u001b[0m \u001b[0;34m\u001b[0m\u001b[0m\n\u001b[1;32m     52\u001b[0m \u001b[0;34m\u001b[0m\u001b[0m\n\u001b[0;32m---> 53\u001b[0;31m \u001b[0mZ_trans_test\u001b[0m \u001b[0;34m=\u001b[0m \u001b[0mtorch\u001b[0m\u001b[0;34m.\u001b[0m\u001b[0mreshape\u001b[0m\u001b[0;34m(\u001b[0m\u001b[0mZ_trans_test\u001b[0m\u001b[0;34m,\u001b[0m \u001b[0;34m(\u001b[0m\u001b[0mX_test_1\u001b[0m\u001b[0;34m.\u001b[0m\u001b[0mshape\u001b[0m\u001b[0;34m[\u001b[0m\u001b[0;36m0\u001b[0m\u001b[0;34m]\u001b[0m\u001b[0;34m,\u001b[0m\u001b[0;36m1\u001b[0m\u001b[0;34m)\u001b[0m\u001b[0;34m)\u001b[0m\u001b[0;34m\u001b[0m\u001b[0;34m\u001b[0m\u001b[0m\n\u001b[0m\u001b[1;32m     54\u001b[0m \u001b[0mall_losses\u001b[0m  \u001b[0;34m=\u001b[0m \u001b[0;34m[\u001b[0m\u001b[0;34m]\u001b[0m\u001b[0;34m\u001b[0m\u001b[0;34m\u001b[0m\u001b[0m\n\u001b[1;32m     55\u001b[0m \u001b[0mmin_losses\u001b[0m \u001b[0;34m=\u001b[0m\u001b[0;34m[\u001b[0m\u001b[0;34m]\u001b[0m\u001b[0;34m\u001b[0m\u001b[0;34m\u001b[0m\u001b[0m\n",
            "\u001b[0;31mTypeError\u001b[0m: reshape(): argument 'input' (position 1) must be Tensor, not Series"
          ]
        }
      ]
    },
    {
      "cell_type": "code",
      "metadata": {
        "id": "vCOiW7WcMNUc"
      },
      "source": [
        "import matplotlib.pyplot as plt\n",
        "plt.plot(all_losses[:210000])\n",
        "plt.title('Contrastive Loss')\n",
        "plt.show()"
      ],
      "execution_count": null,
      "outputs": []
    }
  ]
}