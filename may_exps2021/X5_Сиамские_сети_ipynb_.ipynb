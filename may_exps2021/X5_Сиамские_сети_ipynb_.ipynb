{
  "nbformat": 4,
  "nbformat_minor": 0,
  "metadata": {
    "accelerator": "GPU",
    "colab": {
      "name": "X5_Сиамские_сети.ipynb\"",
      "provenance": [],
      "collapsed_sections": [],
      "toc_visible": true
    },
    "kernelspec": {
      "display_name": "Python 3",
      "name": "python3"
    }
  },
  "cells": [
    {
      "cell_type": "code",
      "metadata": {
        "id": "5QczigTPZQOR"
      },
      "source": [
        "import os\n",
        "os.environ['CUDA_LAUNCH_BLOCKING'] = \"1\""
      ],
      "execution_count": null,
      "outputs": []
    },
    {
      "cell_type": "code",
      "metadata": {
        "id": "OmAYk2rZZQKz"
      },
      "source": [
        ""
      ],
      "execution_count": null,
      "outputs": []
    },
    {
      "cell_type": "code",
      "metadata": {
        "id": "Z2SJ-abn1cFt"
      },
      "source": [
        "import numpy as np\n",
        "import pandas as pd\n",
        "from sklearn.metrics import auc\n",
        "from sklearn.utils.extmath import stable_cumsum\n",
        "from sklearn.utils.validation import check_consistent_length\n",
        "\n",
        "def uplift_curve(y_true, uplift, treatment):\n",
        "    \n",
        "\n",
        "    check_consistent_length(y_true, uplift, treatment)\n",
        "    \n",
        "    y_true, uplift, treatment = np.array(y_true), np.array(uplift), np.array(treatment)\n",
        "\n",
        "    desc_score_indices = np.argsort(uplift, kind=\"mergesort\")[::-1]\n",
        "    y_true, uplift, treatment = y_true[desc_score_indices], uplift[desc_score_indices], treatment[desc_score_indices]\n",
        "\n",
        "    y_true_ctrl, y_true_trmnt = y_true.copy(), y_true.copy()\n",
        "\n",
        "    y_true_ctrl[treatment == 1] = 0\n",
        "    y_true_trmnt[treatment == 0] = 0\n",
        "\n",
        "    distinct_value_indices = np.where(np.diff(uplift))[0]\n",
        "    threshold_indices = np.r_[distinct_value_indices, uplift.size - 1]\n",
        "\n",
        "    num_trmnt = stable_cumsum(treatment)[threshold_indices]\n",
        "    y_trmnt = stable_cumsum(y_true_trmnt)[threshold_indices]\n",
        "\n",
        "    num_all = threshold_indices + 1\n",
        "\n",
        "    num_ctrl = num_all - num_trmnt\n",
        "    y_ctrl = stable_cumsum(y_true_ctrl)[threshold_indices]\n",
        "\n",
        "    curve_values = (np.divide(y_trmnt, num_trmnt, out=np.zeros_like(y_trmnt), where=num_trmnt != 0) -\n",
        "                    np.divide(y_ctrl, num_ctrl, out=np.zeros_like(y_ctrl), where=num_ctrl != 0)) * num_all\n",
        "\n",
        "    if num_all.size == 0 or curve_values[0] != 0 or num_all[0] != 0:\n",
        "        # Add an extra threshold position if necessary\n",
        "        # to make sure that the curve starts at (0, 0)\n",
        "        num_all = np.r_[0, num_all]\n",
        "        curve_values = np.r_[0, curve_values]\n",
        "\n",
        "    return num_all, curve_values\n",
        "\n",
        "\n",
        "def perfect_uplift_curve(y_true, treatment):\n",
        " \n",
        "\n",
        "    check_consistent_length(y_true, treatment)\n",
        "    \n",
        "    y_true, treatment = np.array(y_true), np.array(treatment)\n",
        "\n",
        "    cr_num = np.sum((y_true == 1) & (treatment == 0))  # Control Responders\n",
        "    tn_num = np.sum((y_true == 0) & (treatment == 1))  # Treated Non-Responders\n",
        "\n",
        "    # express an ideal uplift curve through y_true and treatment\n",
        "    summand = y_true if cr_num > tn_num else treatment\n",
        "    perfect_uplift = 2 * (y_true == treatment) + summand\n",
        "\n",
        "    return uplift_curve(y_true, perfect_uplift, treatment)\n",
        "\n",
        "\n",
        "def uplift_auc_score(y_true, uplift, treatment):\n",
        "  \n",
        "\n",
        "    check_consistent_length(y_true, uplift, treatment)\n",
        "    \n",
        "    y_true, uplift, treatment = np.array(y_true), np.array(uplift), np.array(treatment)\n",
        "\n",
        "    x_actual, y_actual = uplift_curve(y_true, uplift, treatment)\n",
        "    x_perfect, y_perfect = perfect_uplift_curve(y_true, treatment)\n",
        "    x_baseline, y_baseline = np.array([0, x_perfect[-1]]), np.array([0, y_perfect[-1]])\n",
        "\n",
        "    auc_score_baseline = auc(x_baseline, y_baseline)\n",
        "    auc_score_perfect = auc(x_perfect, y_perfect) - auc_score_baseline\n",
        "    auc_score_actual = auc(x_actual, y_actual) - auc_score_baseline\n",
        "\n",
        "    return auc_score_actual / auc_score_perfect"
      ],
      "execution_count": null,
      "outputs": []
    },
    {
      "cell_type": "code",
      "metadata": {
        "id": "KsvphRCT4Xr_"
      },
      "source": [
        "import torch\n",
        "import torch.nn as nn\n",
        "import torch.optim as optim\n",
        "from torch.utils.data import Dataset, DataLoader\n",
        "\n",
        "import warnings\n",
        "import numpy as np\n",
        "from sklearn.utils.extmath import stable_cumsum\n",
        "from sklearn.utils.validation import check_consistent_length\n",
        "from sklearn.metrics import auc\n",
        "\n",
        "from torch.autograd import Variable\n",
        "\n",
        "\n",
        "from numpy import asarray\n",
        "from numpy import savez_compressed"
      ],
      "execution_count": null,
      "outputs": []
    },
    {
      "cell_type": "code",
      "metadata": {
        "colab": {
          "base_uri": "https://localhost:8080/"
        },
        "id": "zPX_jtIXxsxR",
        "outputId": "2d8d9fce-40da-41e1-db9d-37fda028bb18"
      },
      "source": [
        "!git clone https://github.com/pianonyy/UPLIFT_modeling.git"
      ],
      "execution_count": null,
      "outputs": [
        {
          "output_type": "stream",
          "text": [
            "Cloning into 'UPLIFT_modeling'...\n",
            "remote: Enumerating objects: 613, done.\u001b[K\n",
            "remote: Counting objects: 100% (347/347), done.\u001b[K\n",
            "remote: Compressing objects: 100% (256/256), done.\u001b[K\n",
            "remote: Total 613 (delta 175), reused 225 (delta 85), pack-reused 266\u001b[K\n",
            "Receiving objects: 100% (613/613), 17.41 MiB | 10.62 MiB/s, done.\n",
            "Resolving deltas: 100% (287/287), done.\n"
          ],
          "name": "stdout"
        }
      ]
    },
    {
      "cell_type": "code",
      "metadata": {
        "colab": {
          "base_uri": "https://localhost:8080/"
        },
        "id": "uvZ2ZOU9xxYf",
        "outputId": "58c30c6c-eb53-4506-f26e-84a7ab37f843"
      },
      "source": [
        "!pip install -e UPLIFT_modeling/"
      ],
      "execution_count": null,
      "outputs": [
        {
          "output_type": "stream",
          "text": [
            "Obtaining file:///content/UPLIFT_modeling\n",
            "Requirement already satisfied: numpy>=1.7 in /usr/local/lib/python3.7/dist-packages (from uplift==0.1) (1.19.5)\n",
            "Requirement already satisfied: scipy>=0.9 in /usr/local/lib/python3.7/dist-packages (from uplift==0.1) (1.4.1)\n",
            "Requirement already satisfied: cython in /usr/local/lib/python3.7/dist-packages (from uplift==0.1) (0.29.22)\n",
            "Requirement already satisfied: joblib in /usr/local/lib/python3.7/dist-packages (from uplift==0.1) (1.0.1)\n",
            "Installing collected packages: uplift\n",
            "  Running setup.py develop for uplift\n",
            "Successfully installed uplift\n"
          ],
          "name": "stdout"
        }
      ]
    },
    {
      "cell_type": "code",
      "metadata": {
        "id": "vqMZ388mVbhi"
      },
      "source": [
        "# функция для уменьшения объёма датасета за счёт изменения типов\n",
        "def reduce_mem_usage(df, verbose=True): \n",
        "    numerics = ['int8','int16', 'int32', 'int64', 'float16', 'float32', 'float64']\n",
        "    start_mem = df.memory_usage().sum() / 1024**2    \n",
        "    for col in df.columns:\n",
        "        col_type = df[col].dtypes\n",
        "        if col_type in numerics:\n",
        "            c_min = df[col].min()\n",
        "            c_max = df[col].max()\n",
        "            if str(col_type)[:3] == 'int':\n",
        "                if c_min > np.iinfo(np.int8).min and c_max < np.iinfo(np.int8).max:\n",
        "                    df[col] = df[col].astype(np.int8)\n",
        "                elif c_min > np.iinfo(np.int16).min and c_max < np.iinfo(np.int16).max:\n",
        "                    df[col] = df[col].astype(np.int16)\n",
        "                elif c_min > np.iinfo(np.int32).min and c_max < np.iinfo(np.int32).max:\n",
        "                    df[col] = df[col].astype(np.int32)\n",
        "                elif c_min > np.iinfo(np.int64).min and c_max < np.iinfo(np.int64).max:\n",
        "                    df[col] = df[col].astype(np.int64)  \n",
        "            else:\n",
        "                if c_min > np.finfo(np.float16).min and c_max < np.finfo(np.float16).max:\n",
        "                    df[col] = df[col].astype(np.float16)\n",
        "                elif c_min > np.finfo(np.float32).min and c_max < np.finfo(np.float32).max:\n",
        "                    df[col] = df[col].astype(np.float32)\n",
        "                else:\n",
        "                    df[col] = df[col].astype(np.float64)    \n",
        "    end_mem = df.memory_usage().sum() / 1024**2\n",
        "    if verbose: print('Mem. usage decreased to {:5.2f} Mb ({:.1f}% reduction)'.format(end_mem, 100 * (start_mem - end_mem) / start_mem))\n",
        "    return df"
      ],
      "execution_count": null,
      "outputs": []
    },
    {
      "cell_type": "code",
      "metadata": {
        "id": "UQSBY7CdGF-U"
      },
      "source": [
        "import logging\n",
        "from os.path import join as pjoin\n",
        "from typing import Tuple\n",
        "\n",
        "import pandas as pd\n",
        "from sklearn.preprocessing import LabelEncoder\n",
        "\n",
        "N_PURCHASES_ROWS = None\n",
        "DATA_PATH = '/content/drive/MyDrive/' \n",
        "logger = logging.getLogger(__name__)\n",
        "\n",
        "\n",
        "def load_clients() -> pd.DataFrame:\n",
        "    return pd.read_csv(\n",
        "        pjoin(DATA_PATH, 'clients.csv'),\n",
        "        parse_dates=['first_issue_date', 'first_redeem_date'],\n",
        "    )\n",
        "\n",
        "\n",
        "def prepare_clients() -> Tuple[pd.DataFrame, LabelEncoder]:\n",
        "    logger.info('Preparing clients...')\n",
        "    clients = load_clients()\n",
        "    client_encoder = LabelEncoder()\n",
        "    clients['client_id'] = client_encoder.fit_transform(clients['client_id'])\n",
        "    logger.info('Clients are ready')\n",
        "    return clients, client_encoder\n",
        "\n",
        "\n",
        "def load_products() -> pd.DataFrame:\n",
        "    return pd.read_csv(pjoin(DATA_PATH, 'products.csv'))\n",
        "\n",
        "\n",
        "def prepare_products() -> Tuple[pd.DataFrame, LabelEncoder]:\n",
        "    logger.info('Preparing products...')\n",
        "    products = load_products()\n",
        "    product_encoder = LabelEncoder()\n",
        "    products['product_id'] = product_encoder. \\\n",
        "        fit_transform(products['product_id'])\n",
        "\n",
        "    products.fillna(-1, inplace=True)\n",
        "\n",
        "    for col in [\n",
        "        'level_1', 'level_2', 'level_3', 'level_4',\n",
        "        'segment_id', 'brand_id', 'vendor_id',\n",
        "    ]:\n",
        "        products[col] = LabelEncoder().fit_transform(products[col].astype(str))\n",
        "    logger.info('Products are ready')\n",
        "    return products, product_encoder\n",
        "\n",
        "\n",
        "def load_purchases() -> pd.DataFrame:\n",
        "    logger.info('Loading purchases...')\n",
        "    purchases = pd.read_csv(\n",
        "        pjoin(DATA_PATH, 'purchases.csv'),\n",
        "        nrows=N_PURCHASES_ROWS,\n",
        "    )\n",
        "    logger.info('Purchases are loaded')\n",
        "    return purchases\n",
        "\n",
        "\n",
        "def prepare_purchases(\n",
        "        client_encoder: LabelEncoder,\n",
        "        product_encoder: LabelEncoder,\n",
        ") -> pd.DataFrame:\n",
        "    logger.info('Preparing purchases...')\n",
        "    purchases = load_purchases()\n",
        "\n",
        "    logger.info('Handling n/a values...')\n",
        "    purchases.dropna(\n",
        "        subset=['client_id', 'product_id'],\n",
        "        how='any',\n",
        "        inplace=True,\n",
        "    )\n",
        "    purchases.fillna(-1, inplace=True)\n",
        "\n",
        "    logger.info('Label encoding...')\n",
        "    purchases['client_id'] = client_encoder.transform(purchases['client_id'])\n",
        "    purchases['product_id'] = product_encoder.transform(purchases['product_id'])\n",
        "    for col in ['transaction_id', 'store_id']:\n",
        "        purchases[col] = LabelEncoder(). \\\n",
        "            fit_transform(purchases[col].astype(str))\n",
        "\n",
        "    logger.info('Date and time conversion...')\n",
        "    purchases['datetime'] = pd.to_datetime(\n",
        "        purchases['transaction_datetime'],\n",
        "        format='%Y-%m-%d %H:%M:%S',\n",
        "    )\n",
        "    purchases.drop(columns=['transaction_datetime'], inplace=True)\n",
        "\n",
        "    logger.info('Purchases are ready')\n",
        "    return purchases\n",
        "\n",
        "\n",
        "def load_train() -> pd.DataFrame:\n",
        "    return pd.read_csv(\n",
        "        pjoin(DATA_PATH, 'uplift_train.csv'),\n",
        "        index_col='client_id',\n",
        "    )\n",
        "\n",
        "\n",
        "def load_test() -> pd.DataFrame:\n",
        "    return pd.read_csv(\n",
        "        pjoin(DATA_PATH, 'uplift_test.csv'),\n",
        "        index_col='client_id',\n",
        "    )\n"
      ],
      "execution_count": null,
      "outputs": []
    },
    {
      "cell_type": "code",
      "metadata": {
        "colab": {
          "base_uri": "https://localhost:8080/"
        },
        "id": "J8JO4biyK97B",
        "outputId": "8a2c7b55-44bb-4f65-b9e4-3f87326a897e"
      },
      "source": [
        "!unzip /content/drive/MyDrive/features.zip"
      ],
      "execution_count": null,
      "outputs": [
        {
          "output_type": "stream",
          "text": [
            "Archive:  /content/drive/MyDrive/features.zip\n",
            "  inflating: features.pkl            \n"
          ],
          "name": "stdout"
        }
      ]
    },
    {
      "cell_type": "code",
      "metadata": {
        "colab": {
          "base_uri": "https://localhost:8080/"
        },
        "id": "Et_g8OCuS1Fi",
        "outputId": "280c50e7-cbe9-423d-fc75-736633855fbd"
      },
      "source": [
        "!pip install pickle5"
      ],
      "execution_count": null,
      "outputs": [
        {
          "output_type": "stream",
          "text": [
            "Requirement already satisfied: pickle5 in /usr/local/lib/python3.7/dist-packages (0.0.11)\n"
          ],
          "name": "stdout"
        }
      ]
    },
    {
      "cell_type": "code",
      "metadata": {
        "colab": {
          "base_uri": "https://localhost:8080/"
        },
        "id": "PV94X1S55omZ",
        "outputId": "e73b6c04-4724-414f-d717-b58dd079c00d"
      },
      "source": [
        "import pickle5\n",
        "\n",
        "RANDOM_STATE = 12\n",
        "\n",
        "from sklearn.model_selection import train_test_split\n",
        "\n",
        "train = load_train()\n",
        "indices_train = train.index\n",
        "with open('features.pkl', 'rb') as f:\n",
        "        features: pd.DataFrame = pickle5.load(f)\n",
        "features = reduce_mem_usage(features)\n",
        "features.set_index('client_id', inplace=True)\n",
        "X_train = features.loc[indices_train, :]\n",
        "\n",
        "\n",
        "\n",
        "treatment_train = train.loc[indices_train, 'treatment_flg'].values\n",
        "y_train = train.loc[indices_train, 'target'].values\n",
        "\n",
        "X_train['treatment'] = treatment_train\n",
        "X_train['target'] = y_train\n",
        "\n",
        "X_train.loc[(X_train['target'] == 1) & (X_train['treatment'] == 1),'Z_trans'] = 2\n",
        "X_train.loc[(X_train['target'] == 1) & (X_train['treatment'] == 0),'Z_trans'] =  -2\n",
        "X_train.loc[X_train['Z_trans'].isnull(), 'Z_trans'] = 0\n",
        "\n",
        "\n",
        "X_train.loc[(X_train['target'] == 1) & (X_train['treatment'] == 1),'Z_trans2'] = 1\n",
        "X_train.loc[(X_train['target'] == 0) & (X_train['treatment'] == 0),'Z_trans2'] =  1\n",
        "X_train.loc[X_train['Z_trans2'].isnull(), 'Z_trans2'] = 0\n",
        "\n",
        "print(X_train[['Z_trans2','treatment','target']])\n",
        "\n",
        "\n",
        "\n",
        "indices_learn, indices_valid = train_test_split(\n",
        "        X_train.index,\n",
        "        test_size=0.3,\n",
        "        random_state = RANDOM_STATE,\n",
        ")\n",
        "\n",
        "all = X_train.copy()\n",
        "X_train =all.loc[indices_learn,]\n",
        "X_test = all.loc[indices_valid,]\n",
        "\n",
        "\n",
        "treatment_train = X_train['treatment']\n",
        "y_train = X_train['target']\n",
        "Z_trans_train = X_train['Z_trans']\n",
        "Z_trans_train2=X_train['Z_trans2']\n",
        "\n",
        "treatment_test = X_test['treatment']\n",
        "y_test = X_test['target']\n",
        "Z_trans_test = X_test['Z_trans']\n",
        "\n",
        "\n",
        "X_train=X_train.drop('Z_trans',axis = 1)\n",
        "X_train=X_train.drop('target',axis = 1)\n",
        "X_train=X_train.drop('treatment',axis = 1)\n",
        "X_train=X_train.drop('Z_trans2',axis = 1)\n",
        "\n",
        "X_test=X_test.drop('Z_trans',axis = 1)\n",
        "X_test=X_test.drop('target',axis = 1)\n",
        "X_test=X_test.drop('treatment',axis = 1)\n",
        "X_test=X_test.drop('Z_trans2',axis = 1)\n",
        "\n",
        "\n",
        "# print(treatment_test)\n",
        "# print(treatment_train)\n",
        "\n",
        "print(\"propensity score in train:\", treatment_train[treatment_train == 1].shape[0] / treatment_train.shape[0])\n",
        "print(\"propensity score in test:\", treatment_test[treatment_test == 1].shape[0] / treatment_test.shape[0])\n",
        "\n",
        "print(X_train.shape)"
      ],
      "execution_count": null,
      "outputs": [
        {
          "output_type": "stream",
          "text": [
            "Mem. usage decreased to 258.74 Mb (67.8% reduction)\n",
            "            Z_trans2  treatment  target\n",
            "client_id                              \n",
            "000012768d       0.0          0       1\n",
            "000036f903       1.0          1       1\n",
            "00010925a5       1.0          1       1\n",
            "0001f552b0       1.0          1       1\n",
            "00020e7b18       1.0          1       1\n",
            "...              ...        ...     ...\n",
            "fffcb91f10       0.0          1       0\n",
            "fffd5cd0c6       1.0          1       1\n",
            "fffd63dfe3       1.0          1       1\n",
            "fffd8c9d7d       0.0          1       0\n",
            "fffe0abb97       1.0          0       0\n",
            "\n",
            "[200035 rows x 3 columns]\n",
            "propensity score in train: 0.49853596526309774\n",
            "propensity score in test: 0.5027911549549249\n",
            "(140024, 333)\n"
          ],
          "name": "stdout"
        }
      ]
    },
    {
      "cell_type": "code",
      "metadata": {
        "colab": {
          "base_uri": "https://localhost:8080/"
        },
        "id": "FF-j8cImlHJB",
        "outputId": "ef7f1136-263c-4961-eb56-09733690ecb6"
      },
      "source": [
        "for col in X_train.columns:\n",
        "    X_train[col] = X_train[col].clip(-100, 100)\n",
        "\n",
        "for "
      ],
      "execution_count": null,
      "outputs": [
        {
          "output_type": "stream",
          "text": [
            "/usr/local/lib/python3.7/dist-packages/numpy/core/fromnumeric.py:87: RuntimeWarning: overflow encountered in reduce\n",
            "  return ufunc.reduce(obj, axis, dtype, out, **passkwargs)\n",
            "/usr/local/lib/python3.7/dist-packages/numpy/core/_methods.py:47: RuntimeWarning: overflow encountered in reduce\n",
            "  return umr_sum(a, axis, dtype, out, keepdims, initial, where)\n"
          ],
          "name": "stderr"
        },
        {
          "output_type": "stream",
          "text": [
            "gender_M                  False\n",
            "gender_F                  False\n",
            "gender_U                  False\n",
            "age                       False\n",
            "days_from_min_to_issue     True\n",
            "                          ...  \n",
            "level_3_nunique           False\n",
            "level_4_nunique           False\n",
            "segment_id_nunique        False\n",
            "brand_id_nunique          False\n",
            "vendor_id_nunique         False\n",
            "Length: 333, dtype: bool\n"
          ],
          "name": "stdout"
        }
      ]
    },
    {
      "cell_type": "markdown",
      "metadata": {
        "id": "TXT5WJ4lbbck"
      },
      "source": [
        "# 100 epochs One model"
      ]
    },
    {
      "cell_type": "code",
      "metadata": {
        "id": "Uf4H8o8oTm4Z"
      },
      "source": [
        ""
      ],
      "execution_count": null,
      "outputs": []
    },
    {
      "cell_type": "code",
      "metadata": {
        "id": "tQ5Nf22CTnA8"
      },
      "source": [
        ""
      ],
      "execution_count": null,
      "outputs": []
    },
    {
      "cell_type": "code",
      "metadata": {
        "colab": {
          "base_uri": "https://localhost:8080/"
        },
        "id": "lEkkrFERTR6O",
        "outputId": "8a255eae-69ef-47d9-bf5d-6c0ccd0d122d"
      },
      "source": [
        "from sklearn.preprocessing import StandardScaler \n",
        "import numpy as np\n",
        "\n",
        "\n",
        "scaler = StandardScaler(with_std = True, with_mean = True)\n",
        "\n",
        "X_train_0 = X_train.copy()\n",
        "# X_train_0['treatment'] = 0\n",
        "\n",
        "X_train_1 = X_train.copy()\n",
        "# X_train_1['treatment'] = 1\n",
        "\n",
        "X_train_1 = X_train_1.astype('float32')\n",
        "X_train_1 = X_train_1.replace([np.inf, -np.inf], np.nan).fillna(0)\n",
        "X_train_1 = scaler.fit_transform(X_train_1)\n",
        "\n",
        "X_train_0 = X_train_0.astype('float32')\n",
        "X_train_0 = X_train_0.replace([np.inf, -np.inf], np.nan).fillna(0)\n",
        "X_train_0 = scaler.fit_transform(X_train_0)\n",
        "\n",
        "\n",
        "X_test_0 = X_test.copy()\n",
        "# X_test_0['treatment'] = 0\n",
        "\n",
        "X_test_1 = X_test.copy()\n",
        "# X_test_1['treatment'] = 1\n",
        "\n",
        "X_test_1 = X_test_1.astype('float32')\n",
        "X_test_1 = X_test_1.replace([np.inf, -np.inf], np.nan).fillna(0)\n",
        "X_test_1 = scaler.fit_transform(X_test_1)\n",
        "\n",
        "X_test_0 = X_test_0.astype('float32')\n",
        "X_test_0 = X_test_0.replace([np.inf, -np.inf], np.nan).fillna(0)\n",
        "X_test_0 = scaler.fit_transform(X_test_0)\n",
        "\n",
        "X_test_0 = np.c_[ X_test_0, np.zeros(X_test_0.shape[0]) ]\n",
        "X_test_1 = np.c_[ X_test_1, np.ones(X_test_1.shape[0]) ] \n",
        "\n",
        "X_train_0 = np.c_[ X_train_0, np.zeros(X_train_0.shape[0]) ]\n",
        "X_train_1 = np.c_[ X_train_1, np.ones(X_train_1.shape[0]) ]\n",
        "\n",
        "# X_train_0 = np.c_[ X_train_0, treatment_train ]\n",
        "# X_train_1 = np.c_[ X_train_1, treatment_train ]\n",
        "\n",
        "# X_train_0 = np.c_[ X_train_0, y_train ]\n",
        "# X_train_1 = np.c_[ X_train_1, y_train ]\n",
        "\n",
        "# X_train_0 = np.c_[ X_train_0, Z_trans_train ]\n",
        "# X_train_1 = np.c_[ X_train_1, Z_trans_train ]\n",
        "\n",
        "\n",
        "\n",
        "\n",
        "\n",
        "\n",
        "print(X_train_0, \"size = \", type(X_train_0))\n",
        "print(X_train_1, \"size = \", X_train_1.shape)\n",
        "\n",
        "print(X_test_0, \"size = \", X_test_0.shape)\n",
        "print(X_test_1, \"size = \", X_test_1.shape)\n",
        "\n",
        "\n",
        "# np.savetxt('train_0.txt', X_train_0, delimiter=',')\n",
        "# np.savetxt('train_1.txt', X_train_1, delimiter=',')"
      ],
      "execution_count": null,
      "outputs": [
        {
          "output_type": "stream",
          "text": [
            "/usr/local/lib/python3.7/dist-packages/numpy/lib/nanfunctions.py:1544: RuntimeWarning: overflow encountered in multiply\n",
            "  sqr = np.multiply(arr, arr, out=arr)\n",
            "/usr/local/lib/python3.7/dist-packages/numpy/lib/nanfunctions.py:1544: RuntimeWarning: overflow encountered in multiply\n",
            "  sqr = np.multiply(arr, arr, out=arr)\n",
            "/usr/local/lib/python3.7/dist-packages/numpy/lib/nanfunctions.py:1544: RuntimeWarning: overflow encountered in multiply\n",
            "  sqr = np.multiply(arr, arr, out=arr)\n",
            "/usr/local/lib/python3.7/dist-packages/numpy/lib/nanfunctions.py:1544: RuntimeWarning: overflow encountered in multiply\n",
            "  sqr = np.multiply(arr, arr, out=arr)\n"
          ],
          "name": "stderr"
        },
        {
          "output_type": "stream",
          "text": [
            "[[-0.44834757 -0.76292139  1.07323432 ... -0.63726395 -0.76138622\n",
            "   0.        ]\n",
            " [ 2.23041248 -0.76292139 -0.93176299 ...  0.31792825  0.18582669\n",
            "   0.        ]\n",
            " [-0.44834757 -0.76292139  1.07323432 ... -0.12555383 -0.28777978\n",
            "   0.        ]\n",
            " ...\n",
            " [-0.44834757 -0.76292139  1.07323432 ...  0.52261227  0.7024883\n",
            "   0.        ]\n",
            " [-0.44834757  1.31075096 -0.93176299 ... -0.70549196 -0.67527598\n",
            "   0.        ]\n",
            " [-0.44834757 -0.76292139  1.07323432 ...  0.59084028  1.00387418\n",
            "   0.        ]] size =  <class 'numpy.ndarray'>\n",
            "[[-0.44834757 -0.76292139  1.07323432 ... -0.63726395 -0.76138622\n",
            "   1.        ]\n",
            " [ 2.23041248 -0.76292139 -0.93176299 ...  0.31792825  0.18582669\n",
            "   1.        ]\n",
            " [-0.44834757 -0.76292139  1.07323432 ... -0.12555383 -0.28777978\n",
            "   1.        ]\n",
            " ...\n",
            " [-0.44834757 -0.76292139  1.07323432 ...  0.52261227  0.7024883\n",
            "   1.        ]\n",
            " [-0.44834757  1.31075096 -0.93176299 ... -0.70549196 -0.67527598\n",
            "   1.        ]\n",
            " [-0.44834757 -0.76292139  1.07323432 ...  0.59084028  1.00387418\n",
            "   1.        ]] size =  (140024, 334)\n",
            "[[-0.44917509 -0.76564211  1.07793105 ... -1.14727926 -1.23297393\n",
            "   0.        ]\n",
            " [-0.44917509  1.30609334 -0.92770314 ... -0.77350336 -0.80430514\n",
            "   0.        ]\n",
            " [-0.44917509 -0.76564211  1.07793105 ... -1.28319776 -1.27584076\n",
            "   0.        ]\n",
            " ...\n",
            " [-0.44917509  1.30609334 -0.92770314 ...  0.21190564  0.22449981\n",
            "   0.        ]\n",
            " [-0.44917509 -0.76564211  1.07793105 ...  0.07598715  0.05303232\n",
            "   0.        ]\n",
            " [-0.44917509 -0.76564211  1.07793105 ... -0.29778868 -0.37563643\n",
            "   0.        ]] size =  (60011, 334)\n",
            "[[-0.44917509 -0.76564211  1.07793105 ... -1.14727926 -1.23297393\n",
            "   1.        ]\n",
            " [-0.44917509  1.30609334 -0.92770314 ... -0.77350336 -0.80430514\n",
            "   1.        ]\n",
            " [-0.44917509 -0.76564211  1.07793105 ... -1.28319776 -1.27584076\n",
            "   1.        ]\n",
            " ...\n",
            " [-0.44917509  1.30609334 -0.92770314 ...  0.21190564  0.22449981\n",
            "   1.        ]\n",
            " [-0.44917509 -0.76564211  1.07793105 ...  0.07598715  0.05303232\n",
            "   1.        ]\n",
            " [-0.44917509 -0.76564211  1.07793105 ... -0.29778868 -0.37563643\n",
            "   1.        ]] size =  (60011, 334)\n"
          ],
          "name": "stdout"
        }
      ]
    },
    {
      "cell_type": "code",
      "metadata": {
        "id": "6H9vuwkoJpZ8"
      },
      "source": [
        "!7z a -tzip -mx5 -r0 /content/archive.zip train_0.txt train_1.txt"
      ],
      "execution_count": null,
      "outputs": []
    },
    {
      "cell_type": "code",
      "metadata": {
        "id": "ZCR8UhfJt3eI"
      },
      "source": [
        "class trainData(Dataset):\n",
        "    \n",
        "    def __init__(self, X_data_0,X_data_1,Z_trans,Z_trans2,treatment, y_data):\n",
        "        self.X_data_0 = X_data_0\n",
        "        self.X_data_1 = X_data_1\n",
        "        self.Z_trans = Z_trans\n",
        "        self.Z_trans2 = Z_trans2\n",
        "        self.treatment = treatment\n",
        "        self.y_data = y_data\n",
        "        \n",
        "    def __getitem__(self, index):\n",
        "        return self.X_data_0[index], self.X_data_1[index],self.Z_trans[index],self.Z_trans2[index], self.treatment[index], self.y_data[index]\n",
        "        \n",
        "    def __len__ (self):\n",
        "        return len(self.X_data_0)\n",
        "\n",
        "\n",
        "train_data = trainData(torch.FloatTensor(X_train_0),torch.FloatTensor(X_train_1),torch.FloatTensor(Z_trans_train),torch.FloatTensor(Z_trans_train2), torch.FloatTensor(treatment_train), \n",
        "                       torch.FloatTensor(y_train))\n",
        "## test data    \n",
        "\n",
        "class testData(Dataset):\n",
        "    \n",
        "    def __init__(self, X_data_0,X_data_1,Z_trans,treatment,y_data):\n",
        "        self.X_data_0 = X_data_0\n",
        "        self.X_data_1 = X_data_1\n",
        "        self.Z_trans = Z_trans\n",
        "        self.treatment = treatment\n",
        "        self.y_data = y_data\n",
        "        \n",
        "    def __getitem__(self, index):\n",
        "        return self.X_data_0[index], self.X_data_1[index],self.Z_trans[index], self.treatment[index], self.y_data[index]\n",
        "        \n",
        "    def __len__ (self):\n",
        "        return len(self.X_data_0)\n",
        "    \n",
        "\n",
        "test_data = testData(torch.FloatTensor(X_test_0),torch.FloatTensor(X_test_1), torch.FloatTensor(Z_trans_test),torch.FloatTensor(treatment_test), \n",
        "                       torch.FloatTensor(y_test))"
      ],
      "execution_count": null,
      "outputs": []
    },
    {
      "cell_type": "code",
      "metadata": {
        "id": "JPie3YGf9JGx"
      },
      "source": [
        "import torch\n",
        "from torch.autograd import Variable\n",
        "import torch.nn as nn\n",
        "import torch.nn.functional as F\n",
        "\n",
        "import random\n",
        "import numpy as np\n",
        "import torch.optim as optim\n",
        "import matplotlib.pyplot as plt\n",
        "from statistics import mean\n",
        "\n",
        "batch_size = 23 # 250-500  # Number of samples in each batch to do(/9)\n",
        "batch_size_test=60011  \n",
        "\n",
        "\n",
        "epoch_num = 20  # Number of epochs to train the network\n",
        "lr = 0.001        # Learning rate\n",
        "\n",
        "\n",
        "#140000 - train\n",
        "#60011 - test\n",
        "\n",
        "class Model(nn.Module):\n",
        "    def __init__(self):\n",
        "        super(Model, self).__init__()\n",
        "        self.fc1 = nn.Linear(333, 200)\n",
        "        self.fc2 = nn.Linear(200, 100)\n",
        "        self.fc3 = nn.Linear(100, 1)\n",
        "\n",
        "    def forward(self, x):\n",
        "        \n",
        "        x = F.relu(self.fc1(x))\n",
        "        x = F.relu(self.fc2(x))\n",
        "        x = self.fc3(x)\n",
        "        m = nn.Sigmoid()\n",
        "        return m(x)\n",
        "\n",
        "class Net(torch.nn.Module):\n",
        "    def __init__(self, n_feature, n_hidden, n_output):\n",
        "        super(Net, self).__init__()\n",
        "        self.hidden = torch.nn.Linear(n_feature, n_hidden)   # hidden layer\n",
        "        self.predict = torch.nn.Linear(n_hidden, n_output)   # output layer\n",
        "\n",
        "    def forward(self, x):\n",
        "        x = F.relu(self.hidden(x))      # activation function for hidden layer\n",
        "        x = self.predict(x)             # linear output\n",
        "        return x\n",
        "\n",
        "net = Net(n_feature=333, n_hidden=10, n_output=1)     # define the network\n",
        "# print(net)  # net architecture\n",
        "# optimizer = torch.optim.SGD(net.parameters(), lr=0.2)\n",
        "loss_func = torch.nn.MSELoss()  # this is for regression mean squared loss\n",
        "\n",
        "# class Model(nn.Module):\n",
        "#     def __init__(self):\n",
        "#         super(Model, self).__init__()\n",
        "        \n",
        "#         self.fc1 = nn.Linear(334, 290)\n",
        "#         self.fc2 = nn.Linear(290, 210)\n",
        "#         self.fc3 = nn.Linear(210, 170)\n",
        "#         self.fc4 = nn.Linear(170, 130)\n",
        "#         self.fc5 = nn.Linear(130, 90)\n",
        "#         self.fc6 = nn.Linear(90, 10)\n",
        "#         self.fc7 = nn.Linear(10, 1)\n",
        "\n",
        "\n",
        "#         # # ...\n",
        "#         # self.fc2 = nn.Linear(200, 100)\n",
        "\n",
        "\n",
        "#         # self.fc3 = nn.Linear(100, 1) # conv1d??\n",
        "\n",
        "#     def forward(self, x):\n",
        "        \n",
        "#         x = F.relu(self.fc1(x))  #leaky_relu ???\n",
        "#         x = F.relu(self.fc2(x))\n",
        "#         x = F.relu(self.fc3(x))  #leaky_relu ???\n",
        "#         x = F.relu(self.fc4(x))\n",
        "#         x = F.relu(self.fc5(x))  #leaky_relu ???\n",
        "#         x = F.relu(self.fc6(x))\n",
        "#         x = self.fc7(x)\n",
        "#         m = nn.Sigmoid()\n",
        "#         return m(x)\n",
        "        \n",
        "\n",
        "# class Model(nn.Module):\n",
        "#     def __init__(self): \n",
        "#         super(Model, self).__init__()\n",
        "#         self.classifier = nn.Sequential(\n",
        "#             nn.Linear(334, 200),\n",
        "#             nn.BatchNorm1d(200), #applying batch norm\n",
        "#             nn.ReLU(),\n",
        "#             nn.Linear(200, 100),\n",
        "#             nn.BatchNorm1d(100),\n",
        "#             nn.ReLU(),\n",
        "#             nn.Linear(100, 1)\n",
        "#         )\n",
        "             \n",
        "#     def forward(self, x):\n",
        "#         x = x.view(x.size(0), -1)\n",
        "#         x = self.classifier(x)\n",
        "#         m = nn.Sigmoid()\n",
        "#         return m(x)\n",
        "#         # return x\n",
        "\n",
        "model = Model()\n",
        "alpha = 0.3\n",
        "\n",
        "# device = torch.device(\"cuda:0\" if torch.cuda.is_available() else \"cpu\")\n",
        "# print(device)\n",
        "# model.to(device)\n",
        "# print(model)\n",
        "\n",
        "\n",
        "# #convert to torch structure\n",
        "# X_test_1_tensor = torch.FloatTensor(X_test_1) \n",
        "# X_test_0_tensor = torch.FloatTensor(X_test_0)\n",
        "\n",
        "\n",
        "# #convert to torch structure\n",
        "# treatment_test = treatment_test.to_numpy()\n",
        "# treatment_test = torch.from_numpy(treatment_test).int()\n",
        "# treatment_test = Variable(treatment_test)\n",
        "\n",
        "\n",
        "# #convert to torch structure\n",
        "# y_test = y_test.to_numpy()\n",
        "# y_test = torch.from_numpy(y_test).float()\n",
        "# y_test  = Variable(y_test)\n",
        "\n",
        "\n",
        "# #convert to torch structure\n",
        "# Z_trans_test = Z_trans_test.to_numpy()\n",
        "# Z_trans_test = torch.from_numpy(Z_trans_test).float()\n",
        "# Z_trans_test = Variable(Z_trans_test)\n",
        "\n",
        "\n",
        "#init loaders\n",
        "train_loader = DataLoader(dataset=train_data, batch_size=batch_size, shuffle=True)\n",
        "test_loader = DataLoader(dataset=test_data, batch_size=batch_size_test, shuffle=True)\n",
        "\n",
        "\n",
        "\n",
        "\n",
        "# define the loss (criterion) and create an optimizer\n",
        "optimizer = optim.Adam(model.parameters(),lr = lr)\n",
        "\n",
        "# sgd??   \n",
        "\n",
        "# define lists of losses to store\n",
        "all_losses  = []\n",
        "test_losses = []\n",
        "min_losses = []\n",
        "\n",
        "\n",
        "\n",
        "# epochs loop\n",
        "for ep in range(epoch_num):  \n",
        "    net.train()\n",
        "    print(\".......................... epoch =\",ep,\"..........................\")\n",
        "    batch_loss = []\n",
        "    # batches loop\n",
        "    for X_batch_0,X_batch_1,Z_batch,Z_batch2, treatment_batch, y_batch in train_loader:\n",
        "       \n",
        "       \n",
        "        \n",
        "        batch_1_feat = X_batch_1\n",
        "        batch_0_feat = X_batch_0\n",
        "        \n",
        "        batch_label = y_batch\n",
        "        batch_Z_trans = Z_batch\n",
        "        batch_Z_trans_2 = Z_batch2\n",
        "\n",
        "        optimizer.zero_grad()\n",
        "        # Forward pass (predict)\n",
        "        # mu_1_target_class = model(batch_1_feat)\n",
        "        mu_0_target_class = net(batch_0_feat)\n",
        "\n",
        "        #convert to torch structure\n",
        "        treatment_batch = treatment_batch\n",
        "\n",
        "        mu_0_target_class = torch.reshape(mu_0_target_class, shape = (-1,))\n",
        "        # mu_1_target_class = torch.reshape(mu_1_target_class, shape =(-1,) )\n",
        "        \n",
        "        #declare losses\n",
        "        loss_cross = nn.BCELoss(reduction = 'mean')\n",
        "        loss_MSE = nn.MSELoss()\n",
        "\n",
        "        #implements uplift_predicted = mu_1 - mu_0\n",
        "        # uplift_pred = mu_1_target_class - mu_0_target_class \n",
        "        output, counts = torch.unique(batch_Z_trans_2, return_counts = True)\n",
        "\n",
        "        \n",
        "        \n",
        "        \n",
        "        uplift_teor = 2 * counts[1] / (batch_Z_trans_2.shape[0]) - 1\n",
        "           \n",
        "\n",
        "        \n",
        "        \n",
        "        sum_of_losses =loss_func(Z_batch2, mu_0_target_class )\n",
        "        \n",
        "        batch_loss.append(sum_of_losses)\n",
        "        \n",
        "        # Backward pass and updates\n",
        "        sum_of_losses.backward()                     # calculate the gradients\n",
        "        optimizer.step()                    # update the weights\n",
        "       \n",
        "\n",
        "    \n",
        "    batch_loss  = list(batch_loss)\n",
        "    all_losses.append( sum(batch_loss) / len(batch_loss) ) \n",
        "\n",
        "    # #work with test dataset\n",
        "    # print('work with test dataset')\n",
        "    # batch_loss = []\n",
        "\n",
        "   \n",
        "    # model.eval()\n",
        "    \n",
        "    # for X_batch_0,X_batch_1,Z_batch,treatment_batch, y_batch in test_loader:\n",
        "        \n",
        "       \n",
        "        \n",
        "    #     batch_1_feat = X_batch_1\n",
        "    #     batch_0_feat = X_batch_0\n",
        "        \n",
        "    #     batch_label = y_batch\n",
        "    #     batch_Z_trans = Z_batch\n",
        "\n",
        "    #     # optimizer.zero_grad()\n",
        "    #     # Forward pass (predict)\n",
        "    #     mu_1_target_class = model(batch_1_feat)\n",
        "    #     mu_0_target_class = model(batch_0_feat)\n",
        "\n",
        "       \n",
        "       \n",
        "\n",
        "    #     mu_0_target_class = torch.reshape(mu_0_target_class, shape = (-1,))\n",
        "    #     mu_1_target_class = torch.reshape(mu_1_target_class, shape =(-1,) )\n",
        "        \n",
        "    #     # print(\"mu_0\", mu_0_target_class)\n",
        "    #     # print(\"mu_1\", mu_1_target_class)\n",
        "\n",
        "    #     ones = np.ones(shape = batch_size_test)\n",
        "    #     ones = torch.from_numpy(ones).float()\n",
        "        \n",
        "    \n",
        "\n",
        "        \n",
        "    #     loss_MSE = nn.MSELoss()\n",
        "\n",
        "    #     #implements uplift_predicted = mu_1 - mu_0\n",
        "    #     uplift_pred = mu_1_target_class - mu_0_target_class   \n",
        "        \n",
        "\n",
        "    #     # scatter plot for mse parametres to do !!!\n",
        "    #     sum_of_losses = torch.mean(  (1-alpha) * loss_MSE(batch_Z_trans, uplift_pred) + alpha * loss_cross( uplift_pred_Y, batch_label))\n",
        "       \n",
        "    #     batch_loss.append(sum_of_losses)\n",
        "        \n",
        "\n",
        "        \n",
        "    #     # print(batch_n, loss_contrastive)\n",
        "\n",
        "\n",
        "    #     # plot_qini_curve(batch_label.cpu().detach().numpy(), uplift_pred.cpu().detach().numpy(), treatment_batch.cpu().detach().numpy())\n",
        "    #     # print(qini_auc_score(batch_label.cpu().detach().numpy(), uplift_pred.cpu().detach().numpy(), treatment_batch.cpu().detach().numpy() ))\n",
        "        \n",
        "        \n",
        "        \n",
        "    # #     #end for\n",
        "    # batch_loss  = list(batch_loss)\n",
        "    # test_losses.append( sum(batch_loss) / len(batch_loss) ) \n",
        "    \n",
        "\n",
        "    \n",
        "   \n",
        "\n",
        "import matplotlib.pyplot as plt\n",
        "\n",
        "plt.plot(all_losses, color='green',label='train')\n",
        "plt.title('train vs test')\n",
        "plt.xlabel('epoch_num')\n",
        "plt.ylabel('loss sum')\n",
        "\n",
        "\n",
        "\n",
        "# plt.plot(test_losses, color='blue',label='test')\n",
        "plt.legend()\n",
        "\n",
        "\n",
        "plt.show()\n",
        "\n",
        "\n",
        "\n"
      ],
      "execution_count": null,
      "outputs": []
    },
    {
      "cell_type": "code",
      "metadata": {
        "id": "OYz6bZE2BtVr"
      },
      "source": [
        "from UPLIFT_modeling.uplift.metrics import Kendall_rank_correlation, qini_auc_score, uplift_at_k\n",
        "\n",
        "all_res_uplift = []\n",
        "all_res_auqc = []\n",
        "all_res_rank_correlation = []\n",
        "all_res_auuc = []\n",
        "\n",
        "for j in range( 1, 101, 1):\n",
        "\n",
        "    #logger.info(f\"Random state =:{j}\")\n",
        "    RANDOM_STATE = j\n",
        "    indices_learn_new, indices_valid_new = train_test_split(\n",
        "        indices_valid,\n",
        "        test_size=0.35,\n",
        "        random_state = RANDOM_STATE,\n",
        "    )\n",
        "   \n",
        "\n",
        "    X_valid = features.loc[indices_valid_new, :]\n",
        "    treatment_valid = train.loc[indices_valid_new, 'treatment_flg'].values\n",
        "    target_valid = train.loc[indices_valid_new, 'target'].values\n",
        "\n",
        "    X_valid_0 = X_valid.copy()\n",
        "    X_valid_1 = X_valid.copy()\n",
        "\n",
        "    X_valid_1 = X_valid_1.astype('float32')\n",
        "    X_valid_1 = X_valid_1.replace([np.inf, -np.inf], np.nan).fillna(0)\n",
        "    X_valid_1 = scaler.fit_transform(X_valid_1)\n",
        "\n",
        "    X_valid_0 = X_valid_0.astype('float32')\n",
        "    X_valid_0 = X_valid_0.replace([np.inf, -np.inf], np.nan).fillna(0)\n",
        "    X_valid_0 = scaler.fit_transform(X_valid_0)\n",
        "\n",
        "    # X_valid_0 = np.c_[ X_valid_0, np.zeros(X_valid_0.shape[0]) ]\n",
        "    X_valid_1 = np.c_[ X_valid_1, np.ones(X_valid_1.shape[0]) ] \n",
        "\n",
        "    net.eval()\n",
        "    # X_valid_1 = torch.FloatTensor(X_valid_1)\n",
        "    X_valid_0 = torch.FloatTensor(X_valid_0)\n",
        "    \n",
        "    # mu_1 = model(X_valid_1)\n",
        "    mu_0 = net(X_valid_0)\n",
        "    valid_pred = 2 * mu_0 - 1\n",
        "    \n",
        "    valid_pred = valid_pred.detach().numpy()\n",
        "    valid_pred = valid_pred.reshape((-1,)) \n",
        "  \n",
        "    valid_pred = pd.Series(valid_pred, index = indices_valid_new)\n",
        "    \n",
        "    # valid_pred = clf.predict(X_valid)\n",
        "    AUQC = qini_auc_score(target_valid, valid_pred, treatment_valid)\n",
        "   \n",
        "    valid_scores = uplift_at_k(target_valid, valid_pred, treatment_valid)\n",
        "    tau, p_value = Kendall_rank_correlation(target_valid, valid_pred, treatment_valid)\n",
        "    auuc = uplift_auc_score(target_valid, valid_pred, treatment_valid)\n",
        "    \n",
        "    all_res_uplift.append(valid_scores)\n",
        "    all_res_auqc.append(AUQC)\n",
        "    all_res_rank_correlation.append(tau)\n",
        "    all_res_auuc.append(auuc)\n",
        "    \n",
        "print('Число замеров', j)\n",
        "print('AUQC: mean: ', np.mean(all_res_auqc),\"| std: \", np.std(all_res_auqc, ddof=1))\n",
        "print('uplift30%: mean: ', np.mean(all_res_uplift),\"| std: \",np.std(all_res_uplift, ddof=1))\n",
        "print('Kendall_rank_correlation: mean: ',np.mean(all_res_rank_correlation), \"| std: \", np.std(all_res_rank_correlation,ddof=1))\n",
        "print('AUUC: mean: ',np.mean(all_res_auuc), \"| std: \", np.std(all_res_auuc,ddof=1))"
      ],
      "execution_count": null,
      "outputs": []
    },
    {
      "cell_type": "code",
      "metadata": {
        "id": "5QFze6m8QwSX"
      },
      "source": [
        "import matplotlib.pyplot as plt\n",
        "import numpy as np\n",
        "import pylab\n",
        "\n",
        "  \n",
        "from sklearn.utils.validation import check_consistent_length\n",
        "\n",
        "\n",
        "\n",
        "def plot_qini_curve(y_reactions, uplift_score, treatment, random=True, perfect=True):\n",
        "    \"\"\"Plot Qini curves from predictions.\"\"\"\n",
        "   \n",
        "    check_consistent_length(y_reactions, uplift_score, treatment)\n",
        "    y_reactions, uplift_score, treatment = np.array(y_reactions), np.array(uplift_score), np.array(treatment)\n",
        "\n",
        "   \n",
        "\n",
        "    x_actual, y_actual = qini_curve(y_reactions, uplift_score, treatment)\n",
        "\n",
        "    pylab.plot(x_actual, y_actual, label='Our model', color='green')\n",
        "    if random:\n",
        "        x_baseline, y_baseline = x_actual, x_actual * y_actual[-1] / len(y_reactions)\n",
        "        pylab.plot(x_baseline, y_baseline, label='Random model', color='black')\n",
        "        \n",
        "\n",
        "    if perfect:\n",
        "        x_perfect, y_perfect = perfect_qini_curve(y_reactions, treatment)\n",
        "        # print(\"1 point\", x_perfect[1], y_perfect[1])\n",
        "        # print(\"2 point\", x_perfect[2], y_perfect[2])\n",
        "        # print(\"3 point\", x_perfect[3], y_perfect[3])\n",
        "        pylab.plot(x_perfect, y_perfect, label='Perfect model', color='Red')\n",
        "        \n",
        "    #pylab.fill_between(x_perfect, y_baseline, y_perfect, color=\"blue\")\n",
        "    pylab.grid(True)\n",
        "    pylab.xlabel('Treat num')\n",
        "    pylab.ylabel('Uplift reactions')\n",
        "    pylab.title('Qini curve')\n",
        "    pylab.legend(loc='lower right')\n",
        "    return pylab\n",
        "\n",
        "\n"
      ],
      "execution_count": null,
      "outputs": []
    },
    {
      "cell_type": "code",
      "metadata": {
        "id": "x2aXU5-T8IK9"
      },
      "source": [
        ""
      ],
      "execution_count": null,
      "outputs": []
    },
    {
      "cell_type": "markdown",
      "metadata": {
        "id": "DpZxmbiJjDFZ"
      },
      "source": [
        "10 эпох\n",
        "\n"
      ]
    },
    {
      "cell_type": "code",
      "metadata": {
        "id": "PBAtmAFy43Go"
      },
      "source": [
        "import torch\n",
        "from torch.autograd import Variable\n",
        "import torch.nn as nn\n",
        "import torch.nn.functional as F\n",
        "\n",
        "import random\n",
        "import numpy as np\n",
        "import torch.optim as optim\n",
        "import matplotlib.pyplot as plt\n",
        "from statistics import mean\n",
        "\n",
        "batch_size = 23 # 250-500  # Number of samples in each batch to do(/9)\n",
        "batch_size_test=60011  \n",
        "\n",
        "\n",
        "epoch_num = 10  # Number of epochs to train the network\n",
        "lr = 0.001        # Learning rate\n",
        "\n",
        "\n",
        "#140000 - train\n",
        "#60011 - test\n",
        "\n",
        "class Model(nn.Module):\n",
        "    def __init__(self):\n",
        "        super(Model, self).__init__()\n",
        "        self.fc1 = nn.Linear(334, 200)\n",
        "        self.fc2 = nn.Linear(200, 100)\n",
        "        self.fc3 = nn.Linear(100, 1)\n",
        "\n",
        "    def forward(self, x):\n",
        "        \n",
        "        x = F.relu(self.fc1(x))\n",
        "        x = F.relu(self.fc2(x))\n",
        "        x = self.fc3(x)\n",
        "        m = nn.Sigmoid()\n",
        "        return m(x)\n",
        "\n",
        "# class Model(nn.Module):\n",
        "#     def __init__(self):\n",
        "#         super(Model, self).__init__()\n",
        "        \n",
        "#         self.fc1 = nn.Linear(334, 290)\n",
        "#         self.fc2 = nn.Linear(290, 210)\n",
        "#         self.fc3 = nn.Linear(210, 170)\n",
        "#         self.fc4 = nn.Linear(170, 130)\n",
        "#         self.fc5 = nn.Linear(130, 90)\n",
        "#         self.fc6 = nn.Linear(90, 10)\n",
        "#         self.fc7 = nn.Linear(10, 1)\n",
        "\n",
        "\n",
        "#         # # ...\n",
        "#         # self.fc2 = nn.Linear(200, 100)\n",
        "\n",
        "\n",
        "#         # self.fc3 = nn.Linear(100, 1) # conv1d??\n",
        "\n",
        "#     def forward(self, x):\n",
        "        \n",
        "#         x = F.relu(self.fc1(x))  #leaky_relu ???\n",
        "#         x = F.relu(self.fc2(x))\n",
        "#         x = F.relu(self.fc3(x))  #leaky_relu ???\n",
        "#         x = F.relu(self.fc4(x))\n",
        "#         x = F.relu(self.fc5(x))  #leaky_relu ???\n",
        "#         x = F.relu(self.fc6(x))\n",
        "#         x = self.fc7(x)\n",
        "#         m = nn.Sigmoid()\n",
        "#         return m(x)\n",
        "        \n",
        "\n",
        "# class Model(nn.Module):\n",
        "#     def __init__(self): \n",
        "#         super(Model, self).__init__()\n",
        "#         self.classifier = nn.Sequential(\n",
        "#             nn.Linear(334, 200),\n",
        "#             nn.BatchNorm1d(200), #applying batch norm\n",
        "#             nn.ReLU(),\n",
        "#             nn.Linear(200, 100),\n",
        "#             nn.BatchNorm1d(100),\n",
        "#             nn.ReLU(),\n",
        "#             nn.Linear(100, 1)\n",
        "#         )\n",
        "             \n",
        "#     def forward(self, x):\n",
        "#         x = x.view(x.size(0), -1)\n",
        "#         x = self.classifier(x)\n",
        "#         m = nn.Sigmoid()\n",
        "#         return m(x)\n",
        "#         # return x\n",
        "\n",
        "model = Model()\n",
        "alpha = 0.3\n",
        "\n",
        "# device = torch.device(\"cuda:0\" if torch.cuda.is_available() else \"cpu\")\n",
        "# print(device)\n",
        "# model.to(device)\n",
        "# print(model)\n",
        "\n",
        "\n",
        "# #convert to torch structure\n",
        "# X_test_1_tensor = torch.FloatTensor(X_test_1) \n",
        "# X_test_0_tensor = torch.FloatTensor(X_test_0)\n",
        "\n",
        "\n",
        "# #convert to torch structure\n",
        "# treatment_test = treatment_test.to_numpy()\n",
        "# treatment_test = torch.from_numpy(treatment_test).int()\n",
        "# treatment_test = Variable(treatment_test)\n",
        "\n",
        "\n",
        "# #convert to torch structure\n",
        "# y_test = y_test.to_numpy()\n",
        "# y_test = torch.from_numpy(y_test).float()\n",
        "# y_test  = Variable(y_test)\n",
        "\n",
        "\n",
        "# #convert to torch structure\n",
        "# Z_trans_test = Z_trans_test.to_numpy()\n",
        "# Z_trans_test = torch.from_numpy(Z_trans_test).float()\n",
        "# Z_trans_test = Variable(Z_trans_test)\n",
        "\n",
        "\n",
        "#init loaders\n",
        "train_loader = DataLoader(dataset=train_data, batch_size=batch_size, shuffle=True)\n",
        "test_loader = DataLoader(dataset=test_data, batch_size=batch_size_test, shuffle=True)\n",
        "\n",
        "\n",
        "\n",
        "\n",
        "# define the loss (criterion) and create an optimizer\n",
        "optimizer = optim.Adam(model.parameters(),lr = lr)\n",
        "\n",
        "# sgd??   \n",
        "\n",
        "# define lists of losses to store\n",
        "all_losses  = []\n",
        "test_losses = []\n",
        "min_losses = []\n",
        "\n",
        "\n",
        "\n",
        "# epochs loop\n",
        "for ep in range(epoch_num):  \n",
        "    model.train()\n",
        "    print(\".......................... epoch =\",ep,\"..........................\")\n",
        "    batch_loss = []\n",
        "    # batches loop\n",
        "    for X_batch_0,X_batch_1,Z_batch,treatment_batch, y_batch in train_loader:\n",
        "       \n",
        "       \n",
        "        \n",
        "        batch_1_feat = X_batch_1\n",
        "        batch_0_feat = X_batch_0\n",
        "        \n",
        "        batch_label = y_batch\n",
        "        batch_Z_trans = Z_batch\n",
        "\n",
        "        optimizer.zero_grad()\n",
        "        # Forward pass (predict)\n",
        "        mu_1_target_class = model(batch_1_feat)\n",
        "        mu_0_target_class = model(batch_0_feat)\n",
        "\n",
        "        #convert to torch structure\n",
        "        treatment_batch = treatment_batch\n",
        "       \n",
        "\n",
        "        mu_0_target_class = torch.reshape(mu_0_target_class, shape = (-1,))\n",
        "        mu_1_target_class = torch.reshape(mu_1_target_class, shape =(-1,) )\n",
        "        \n",
        "        # print(\"mu_0\", mu_0_target_class)\n",
        "        # print(\"mu_1\", mu_1_target_class)\n",
        "\n",
        "        ones = np.ones(shape = batch_size)\n",
        "        ones = torch.from_numpy(ones).float()\n",
        "        \n",
        "\n",
        "       \n",
        "        #implements mu = T * mu_1 + (1-T) * mu_0\n",
        "        uplift_pred_Y = treatment_batch * mu_1_target_class + (ones - treatment_batch) * mu_0_target_class \n",
        "\n",
        "        \n",
        "\n",
        "        \n",
        "       \n",
        "\n",
        "       \n",
        "        \n",
        "        \n",
        "        #declare losses\n",
        "        loss_cross = nn.BCELoss(reduction = 'mean')\n",
        "        loss_MSE = nn.MSELoss()\n",
        "\n",
        "        #implements uplift_predicted = mu_1 - mu_0\n",
        "        uplift_pred = mu_1_target_class - mu_0_target_class \n",
        "        \n",
        "        \n",
        "        # print(\"uplift_pred\", uplift_pred)\n",
        "\n",
        "        \n",
        "\n",
        "        \n",
        "\n",
        "        sum_of_losses = torch.mean(  (1-alpha) * loss_MSE(batch_Z_trans, uplift_pred) + alpha * loss_cross( uplift_pred_Y, batch_label))\n",
        "        # print(loss_contrastive)\n",
        "        batch_loss.append(sum_of_losses)\n",
        "        # print(\"train AUQC:\", qini_auc_score(batch_label.cpu().detach().numpy(), uplift_pred.cpu().detach().numpy(), treatment_batch.cpu().detach().numpy() ))\n",
        "\n",
        "        \n",
        "        # print(batch_n, loss_contrastive)\n",
        "\n",
        "\n",
        "        # plot_qini_curve(batch_label.cpu().detach().numpy(), uplift_pred.cpu().detach().numpy(), treatment_batch.cpu().detach().numpy())\n",
        "        # print(qini_auc_score(batch_label.cpu().detach().numpy(), uplift_pred.cpu().detach().numpy(), treatment_batch.cpu().detach().numpy() ))\n",
        "        \n",
        "        # Backward pass and updates\n",
        "        sum_of_losses.backward()                     # calculate the gradients\n",
        "        optimizer.step()                    # update the weights\n",
        "        # i += batch_size\n",
        "        #end for !!!!!!!!!!!!!!!!!!!\n",
        "\n",
        "    # plot_qini_curve(batch_label.cpu().detach().numpy(), uplift_pred.cpu().detach().numpy(), treatment_batch.cpu().detach().numpy())\n",
        "    # print(qini_auc_score(batch_label.cpu().detach().numpy(), uplift_pred.cpu().detach().numpy(), treatment_batch.cpu().detach().numpy() ))\n",
        "    batch_loss  = list(batch_loss)\n",
        "    all_losses.append( sum(batch_loss) / len(batch_loss) ) \n",
        "\n",
        "    # #work with test dataset\n",
        "    print('work with test dataset')\n",
        "    batch_loss = []\n",
        "\n",
        "   \n",
        "    model.eval()\n",
        "    \n",
        "    for X_batch_0,X_batch_1,Z_batch,treatment_batch, y_batch in test_loader:\n",
        "        \n",
        "       \n",
        "        \n",
        "        batch_1_feat = X_batch_1\n",
        "        batch_0_feat = X_batch_0\n",
        "        \n",
        "        batch_label = y_batch\n",
        "        batch_Z_trans = Z_batch\n",
        "\n",
        "        # optimizer.zero_grad()\n",
        "        # Forward pass (predict)\n",
        "        mu_1_target_class = model(batch_1_feat)\n",
        "        mu_0_target_class = model(batch_0_feat)\n",
        "\n",
        "       \n",
        "       \n",
        "\n",
        "        mu_0_target_class = torch.reshape(mu_0_target_class, shape = (-1,))\n",
        "        mu_1_target_class = torch.reshape(mu_1_target_class, shape =(-1,) )\n",
        "        \n",
        "        # print(\"mu_0\", mu_0_target_class)\n",
        "        # print(\"mu_1\", mu_1_target_class)\n",
        "\n",
        "        ones = np.ones(shape = batch_size_test)\n",
        "        ones = torch.from_numpy(ones).float()\n",
        "        \n",
        "     \n",
        "        #implements mu = T * mu_1 + (1-T) * mu_0\n",
        "        uplift_pred_Y = treatment_batch * mu_1_target_class + (ones - treatment_batch) * mu_0_target_class \n",
        "\n",
        "        #declare losses\n",
        "        loss_cross = nn.BCELoss(reduction = 'mean')\n",
        "        loss_MSE = nn.MSELoss()\n",
        "\n",
        "        #implements uplift_predicted = mu_1 - mu_0\n",
        "        uplift_pred = mu_1_target_class - mu_0_target_class   \n",
        "        \n",
        "\n",
        "        # scatter plot for mse parametres to do !!!\n",
        "        sum_of_losses = torch.mean(  (1-alpha) * loss_MSE(batch_Z_trans, uplift_pred) + alpha * loss_cross( uplift_pred_Y, batch_label))\n",
        "       \n",
        "        batch_loss.append(sum_of_losses)\n",
        "        \n",
        "\n",
        "        \n",
        "        # print(batch_n, loss_contrastive)\n",
        "\n",
        "\n",
        "        # plot_qini_curve(batch_label.cpu().detach().numpy(), uplift_pred.cpu().detach().numpy(), treatment_batch.cpu().detach().numpy())\n",
        "        # print(qini_auc_score(batch_label.cpu().detach().numpy(), uplift_pred.cpu().detach().numpy(), treatment_batch.cpu().detach().numpy() ))\n",
        "        \n",
        "        \n",
        "        \n",
        "    #     #end for\n",
        "    batch_loss  = list(batch_loss)\n",
        "    test_losses.append( sum(batch_loss) / len(batch_loss) ) \n",
        "    \n",
        "\n",
        "    \n",
        "   \n",
        "\n",
        "import matplotlib.pyplot as plt\n",
        "\n",
        "plt.plot(all_losses, color='green',label='train')\n",
        "plt.title('train vs test')\n",
        "plt.xlabel('epoch_num')\n",
        "plt.ylabel('loss sum')\n",
        "\n",
        "\n",
        "\n",
        "plt.plot(test_losses, color='blue',label='test')\n",
        "plt.legend()\n",
        "\n",
        "\n",
        "plt.show()\n",
        "\n",
        "\n",
        "\n"
      ],
      "execution_count": null,
      "outputs": []
    },
    {
      "cell_type": "markdown",
      "metadata": {
        "id": "ltIEM_3G_6AV"
      },
      "source": [
        "**4** эпохи (на этой модели получены цифры)"
      ]
    },
    {
      "cell_type": "code",
      "metadata": {
        "colab": {
          "base_uri": "https://localhost:8080/",
          "height": 430
        },
        "id": "ro0CHMRE_7k_",
        "outputId": "4db1563c-fa8f-4e68-88eb-46ce390b8fc3"
      },
      "source": [
        "import torch\n",
        "from torch.autograd import Variable\n",
        "import torch.nn as nn\n",
        "import torch.nn.functional as F\n",
        "\n",
        "import random\n",
        "import numpy as np\n",
        "import torch.optim as optim\n",
        "import matplotlib.pyplot as plt\n",
        "from statistics import mean\n",
        "\n",
        "batch_size = 23 # 250-500  # Number of samples in each batch to do(/9)\n",
        "batch_size_test=60011  \n",
        "\n",
        "\n",
        "epoch_num = 4  # Number of epochs to train the network\n",
        "lr = 0.001        # Learning rate\n",
        "\n",
        "\n",
        "#140000 - train\n",
        "#60011 - test\n",
        "\n",
        "class Model(nn.Module):\n",
        "    def __init__(self):\n",
        "        super(Model, self).__init__()\n",
        "        self.fc1 = nn.Linear(334, 200)\n",
        "        self.fc2 = nn.Linear(200, 100)\n",
        "        self.fc3 = nn.Linear(100, 1)\n",
        "\n",
        "    def forward(self, x):\n",
        "        \n",
        "        x = F.relu(self.fc1(x))\n",
        "        x = F.relu(self.fc2(x))\n",
        "        x = self.fc3(x)\n",
        "        m = nn.Sigmoid()\n",
        "        return m(x)\n",
        "\n",
        "# class Model(nn.Module):\n",
        "#     def __init__(self):\n",
        "#         super(Model, self).__init__()\n",
        "        \n",
        "#         self.fc1 = nn.Linear(334, 290)\n",
        "#         self.fc2 = nn.Linear(290, 210)\n",
        "#         self.fc3 = nn.Linear(210, 170)\n",
        "#         self.fc4 = nn.Linear(170, 130)\n",
        "#         self.fc5 = nn.Linear(130, 90)\n",
        "#         self.fc6 = nn.Linear(90, 10)\n",
        "#         self.fc7 = nn.Linear(10, 1)\n",
        "\n",
        "\n",
        "#         # # ...\n",
        "#         # self.fc2 = nn.Linear(200, 100)\n",
        "\n",
        "\n",
        "#         # self.fc3 = nn.Linear(100, 1) # conv1d??\n",
        "\n",
        "#     def forward(self, x):\n",
        "        \n",
        "#         x = F.relu(self.fc1(x))  #leaky_relu ???\n",
        "#         x = F.relu(self.fc2(x))\n",
        "#         x = F.relu(self.fc3(x))  #leaky_relu ???\n",
        "#         x = F.relu(self.fc4(x))\n",
        "#         x = F.relu(self.fc5(x))  #leaky_relu ???\n",
        "#         x = F.relu(self.fc6(x))\n",
        "#         x = self.fc7(x)\n",
        "#         m = nn.Sigmoid()\n",
        "#         return m(x)\n",
        "        \n",
        "\n",
        "# class Model(nn.Module):\n",
        "#     def __init__(self): \n",
        "#         super(Model, self).__init__()\n",
        "#         self.classifier = nn.Sequential(\n",
        "#             nn.Linear(334, 200),\n",
        "#             nn.BatchNorm1d(200), #applying batch norm\n",
        "#             nn.ReLU(),\n",
        "#             nn.Linear(200, 100),\n",
        "#             nn.BatchNorm1d(100),\n",
        "#             nn.ReLU(),\n",
        "#             nn.Linear(100, 1)\n",
        "#         )\n",
        "             \n",
        "#     def forward(self, x):\n",
        "#         x = x.view(x.size(0), -1)\n",
        "#         x = self.classifier(x)\n",
        "#         m = nn.Sigmoid()\n",
        "#         return m(x)\n",
        "#         # return x\n",
        "\n",
        "model = Model()\n",
        "alpha = 0.3\n",
        "\n",
        "# device = torch.device(\"cuda:0\" if torch.cuda.is_available() else \"cpu\")\n",
        "# print(device)\n",
        "# model.to(device)\n",
        "# print(model)\n",
        "\n",
        "\n",
        "# #convert to torch structure\n",
        "# X_test_1_tensor = torch.FloatTensor(X_test_1) \n",
        "# X_test_0_tensor = torch.FloatTensor(X_test_0)\n",
        "\n",
        "\n",
        "# #convert to torch structure\n",
        "# treatment_test = treatment_test.to_numpy()\n",
        "# treatment_test = torch.from_numpy(treatment_test).int()\n",
        "# treatment_test = Variable(treatment_test)\n",
        "\n",
        "\n",
        "# #convert to torch structure\n",
        "# y_test = y_test.to_numpy()\n",
        "# y_test = torch.from_numpy(y_test).float()\n",
        "# y_test  = Variable(y_test)\n",
        "\n",
        "\n",
        "# #convert to torch structure\n",
        "# Z_trans_test = Z_trans_test.to_numpy()\n",
        "# Z_trans_test = torch.from_numpy(Z_trans_test).float()\n",
        "# Z_trans_test = Variable(Z_trans_test)\n",
        "\n",
        "\n",
        "#init loaders\n",
        "train_loader = DataLoader(dataset=train_data, batch_size=batch_size, shuffle=True)\n",
        "test_loader = DataLoader(dataset=test_data, batch_size=batch_size_test, shuffle=True)\n",
        "\n",
        "\n",
        "\n",
        "\n",
        "# define the loss (criterion) and create an optimizer\n",
        "optimizer = optim.Adam(model.parameters(),lr = lr)\n",
        "\n",
        "# sgd??   \n",
        "\n",
        "# define lists of losses to store\n",
        "all_losses  = []\n",
        "test_losses = []\n",
        "min_losses = []\n",
        "\n",
        "\n",
        "\n",
        "# epochs loop\n",
        "for ep in range(epoch_num):  \n",
        "    model.train()\n",
        "    print(\".......................... epoch =\",ep,\"..........................\")\n",
        "    batch_loss = []\n",
        "    # batches loop\n",
        "    for X_batch_0,X_batch_1,Z_batch,Z_2,treatment_batch, y_batch in train_loader:\n",
        "       \n",
        "       \n",
        "        \n",
        "        batch_1_feat = X_batch_1\n",
        "        batch_0_feat = X_batch_0\n",
        "        \n",
        "        batch_label = y_batch\n",
        "        batch_Z_trans = Z_batch\n",
        "\n",
        "        optimizer.zero_grad()\n",
        "        # Forward pass (predict)\n",
        "        mu_1_target_class = model(batch_1_feat)\n",
        "        mu_0_target_class = model(batch_0_feat)\n",
        "\n",
        "        #convert to torch structure\n",
        "        treatment_batch = treatment_batch\n",
        "       \n",
        "\n",
        "        mu_0_target_class = torch.reshape(mu_0_target_class, shape = (-1,))\n",
        "        mu_1_target_class = torch.reshape(mu_1_target_class, shape =(-1,) )\n",
        "        \n",
        "        # print(\"mu_0\", mu_0_target_class)\n",
        "        # print(\"mu_1\", mu_1_target_class)\n",
        "\n",
        "        ones = np.ones(shape = batch_size)\n",
        "        ones = torch.from_numpy(ones).float()\n",
        "        \n",
        "\n",
        "       \n",
        "        #implements mu = T * mu_1 + (1-T) * mu_0\n",
        "        uplift_pred_Y = treatment_batch * mu_1_target_class + (ones - treatment_batch) * mu_0_target_class \n",
        "\n",
        "        \n",
        "\n",
        "        \n",
        "       \n",
        "\n",
        "       \n",
        "        \n",
        "        \n",
        "        #declare losses\n",
        "        loss_cross = nn.BCELoss(reduction = 'mean')\n",
        "        loss_MSE = nn.MSELoss()\n",
        "\n",
        "        #implements uplift_predicted = mu_1 - mu_0\n",
        "        uplift_pred = mu_1_target_class - mu_0_target_class \n",
        "        \n",
        "        \n",
        "        # print(\"uplift_pred\", uplift_pred)\n",
        "\n",
        "        \n",
        "\n",
        "        \n",
        "\n",
        "        sum_of_losses = torch.mean(  (1-alpha) * loss_MSE(batch_Z_trans, uplift_pred) + alpha * loss_cross( uplift_pred_Y, batch_label))\n",
        "        # print(loss_contrastive)\n",
        "        batch_loss.append(sum_of_losses)\n",
        "        # print(\"train AUQC:\", qini_auc_score(batch_label.cpu().detach().numpy(), uplift_pred.cpu().detach().numpy(), treatment_batch.cpu().detach().numpy() ))\n",
        "\n",
        "        \n",
        "        # print(batch_n, loss_contrastive)\n",
        "\n",
        "\n",
        "        # plot_qini_curve(batch_label.cpu().detach().numpy(), uplift_pred.cpu().detach().numpy(), treatment_batch.cpu().detach().numpy())\n",
        "        # print(qini_auc_score(batch_label.cpu().detach().numpy(), uplift_pred.cpu().detach().numpy(), treatment_batch.cpu().detach().numpy() ))\n",
        "        \n",
        "        # Backward pass and updates\n",
        "        sum_of_losses.backward()                     # calculate the gradients\n",
        "        optimizer.step()                    # update the weights\n",
        "        # i += batch_size\n",
        "        #end for !!!!!!!!!!!!!!!!!!!\n",
        "\n",
        "    # plot_qini_curve(batch_label.cpu().detach().numpy(), uplift_pred.cpu().detach().numpy(), treatment_batch.cpu().detach().numpy())\n",
        "    # print(qini_auc_score(batch_label.cpu().detach().numpy(), uplift_pred.cpu().detach().numpy(), treatment_batch.cpu().detach().numpy() ))\n",
        "    batch_loss  = list(batch_loss)\n",
        "    all_losses.append( sum(batch_loss) / len(batch_loss) ) \n",
        "\n",
        "    # #work with test dataset\n",
        "    print('work with test dataset')\n",
        "    batch_loss = []\n",
        "\n",
        "   \n",
        "    model.eval()\n",
        "    \n",
        "    for X_batch_0,X_batch_1,Z_batch,treatment_batch, y_batch in test_loader:\n",
        "        \n",
        "       \n",
        "        \n",
        "        batch_1_feat = X_batch_1\n",
        "        batch_0_feat = X_batch_0\n",
        "        \n",
        "        batch_label = y_batch\n",
        "        batch_Z_trans = Z_batch\n",
        "\n",
        "        # optimizer.zero_grad()\n",
        "        # Forward pass (predict)\n",
        "        mu_1_target_class = model(batch_1_feat)\n",
        "        mu_0_target_class = model(batch_0_feat)\n",
        "\n",
        "       \n",
        "       \n",
        "\n",
        "        mu_0_target_class = torch.reshape(mu_0_target_class, shape = (-1,))\n",
        "        mu_1_target_class = torch.reshape(mu_1_target_class, shape =(-1,) )\n",
        "        \n",
        "        # print(\"mu_0\", mu_0_target_class)\n",
        "        # print(\"mu_1\", mu_1_target_class)\n",
        "\n",
        "        ones = np.ones(shape = batch_size_test)\n",
        "        ones = torch.from_numpy(ones).float()\n",
        "        \n",
        "     \n",
        "        #implements mu = T * mu_1 + (1-T) * mu_0\n",
        "        uplift_pred_Y = treatment_batch * mu_1_target_class + (ones - treatment_batch) * mu_0_target_class \n",
        "\n",
        "        #declare losses\n",
        "        loss_cross = nn.BCELoss(reduction = 'mean')\n",
        "        loss_MSE = nn.MSELoss()\n",
        "\n",
        "        #implements uplift_predicted = mu_1 - mu_0\n",
        "        uplift_pred = mu_1_target_class - mu_0_target_class   \n",
        "        \n",
        "\n",
        "        # scatter plot for mse parametres to do !!!\n",
        "        sum_of_losses = torch.mean(  (1-alpha) * loss_MSE(batch_Z_trans, uplift_pred) + alpha * loss_cross( uplift_pred_Y, batch_label))\n",
        "       \n",
        "        batch_loss.append(sum_of_losses)\n",
        "        \n",
        "\n",
        "        \n",
        "        # print(batch_n, loss_contrastive)\n",
        "\n",
        "\n",
        "        # plot_qini_curve(batch_label.cpu().detach().numpy(), uplift_pred.cpu().detach().numpy(), treatment_batch.cpu().detach().numpy())\n",
        "        # print(qini_auc_score(batch_label.cpu().detach().numpy(), uplift_pred.cpu().detach().numpy(), treatment_batch.cpu().detach().numpy() ))\n",
        "        \n",
        "        \n",
        "        \n",
        "    #     #end for\n",
        "    batch_loss  = list(batch_loss)\n",
        "    test_losses.append( sum(batch_loss) / len(batch_loss) ) \n",
        "    \n",
        "\n",
        "    \n",
        "   \n",
        "\n",
        "import matplotlib.pyplot as plt\n",
        "\n",
        "plt.plot(all_losses, color='green',label='train')\n",
        "plt.title('train vs test')\n",
        "plt.xlabel('epoch_num')\n",
        "plt.ylabel('loss sum')\n",
        "\n",
        "\n",
        "\n",
        "plt.plot(test_losses, color='blue',label='test')\n",
        "plt.legend()\n",
        "\n",
        "\n",
        "plt.show()\n",
        "\n",
        "\n",
        "\n"
      ],
      "execution_count": null,
      "outputs": [
        {
          "output_type": "stream",
          "text": [
            ".......................... epoch = 0 ..........................\n",
            "work with test dataset\n",
            ".......................... epoch = 1 ..........................\n",
            "work with test dataset\n",
            ".......................... epoch = 2 ..........................\n",
            "work with test dataset\n",
            ".......................... epoch = 3 ..........................\n",
            "work with test dataset\n"
          ],
          "name": "stdout"
        },
        {
          "output_type": "display_data",
          "data": {
            "image/png": "[encoded data removed]",
            "text/plain": [
              "<Figure size 432x288 with 1 Axes>"
            ]
          },
          "metadata": {
            "tags": [],
            "needs_background": "light"
          }
        }
      ]
    },
    {
      "cell_type": "markdown",
      "metadata": {
        "id": "Fxf52gsqYnIF"
      },
      "source": [
        "neural network with dataloader (то, что работает ) "
      ]
    },
    {
      "cell_type": "code",
      "metadata": {
        "id": "D26MHedEYmpz"
      },
      "source": [
        "import torch\n",
        "from torch.autograd import Variable\n",
        "import torch.nn as nn\n",
        "import torch.nn.functional as F\n",
        "\n",
        "import random\n",
        "import numpy as np\n",
        "import torch.optim as optim\n",
        "import matplotlib.pyplot as plt\n",
        "from statistics import mean\n",
        "\n",
        "batch_size = 23 # 250-500  # Number of samples in each batch to do(/9)\n",
        "batch_size_test=60011  \n",
        "\n",
        "\n",
        "epoch_num = 4  # Number of epochs to train the network\n",
        "lr = 0.001        # Learning rate\n",
        "\n",
        "\n",
        "#140000 - train\n",
        "#60011 - test\n",
        "\n",
        "class Model(nn.Module):\n",
        "    def __init__(self):\n",
        "        super(Model, self).__init__()\n",
        "        self.fc1 = nn.Linear(334, 200)\n",
        "        self.fc2 = nn.Linear(200, 100)\n",
        "        self.fc3 = nn.Linear(100, 1)\n",
        "\n",
        "    def forward(self, x):\n",
        "        \n",
        "        x = F.relu(self.fc1(x))\n",
        "        x = F.relu(self.fc2(x))\n",
        "        x = self.fc3(x)\n",
        "        m = nn.Sigmoid()\n",
        "        return m(x)\n",
        "\n",
        "# class Model(nn.Module):\n",
        "#     def __init__(self):\n",
        "#         super(Model, self).__init__()\n",
        "        \n",
        "#         self.fc1 = nn.Linear(334, 290)\n",
        "#         self.fc2 = nn.Linear(290, 210)\n",
        "#         self.fc3 = nn.Linear(210, 170)\n",
        "#         self.fc4 = nn.Linear(170, 130)\n",
        "#         self.fc5 = nn.Linear(130, 90)\n",
        "#         self.fc6 = nn.Linear(90, 10)\n",
        "#         self.fc7 = nn.Linear(10, 1)\n",
        "\n",
        "\n",
        "#         # # ...\n",
        "#         # self.fc2 = nn.Linear(200, 100)\n",
        "\n",
        "\n",
        "#         # self.fc3 = nn.Linear(100, 1) # conv1d??\n",
        "\n",
        "#     def forward(self, x):\n",
        "        \n",
        "#         x = F.relu(self.fc1(x))  #leaky_relu ???\n",
        "#         x = F.relu(self.fc2(x))\n",
        "#         x = F.relu(self.fc3(x))  #leaky_relu ???\n",
        "#         x = F.relu(self.fc4(x))\n",
        "#         x = F.relu(self.fc5(x))  #leaky_relu ???\n",
        "#         x = F.relu(self.fc6(x))\n",
        "#         x = self.fc7(x)\n",
        "#         m = nn.Sigmoid()\n",
        "#         return m(x)\n",
        "        \n",
        "\n",
        "# class Model(nn.Module):\n",
        "#     def __init__(self): \n",
        "#         super(Model, self).__init__()\n",
        "#         self.classifier = nn.Sequential(\n",
        "#             nn.Linear(334, 200),\n",
        "#             nn.BatchNorm1d(200), #applying batch norm\n",
        "#             nn.ReLU(),\n",
        "#             nn.Linear(200, 100),\n",
        "#             nn.BatchNorm1d(100),\n",
        "#             nn.ReLU(),\n",
        "#             nn.Linear(100, 1)\n",
        "#         )\n",
        "             \n",
        "#     def forward(self, x):\n",
        "#         x = x.view(x.size(0), -1)\n",
        "#         x = self.classifier(x)\n",
        "#         m = nn.Sigmoid()\n",
        "#         return m(x)\n",
        "#         # return x\n",
        "\n",
        "model = Model()\n",
        "alpha = 0.3\n",
        "\n",
        "# device = torch.device(\"cuda:0\" if torch.cuda.is_available() else \"cpu\")\n",
        "# print(device)\n",
        "# model.to(device)\n",
        "# print(model)\n",
        "\n",
        "\n",
        "# #convert to torch structure\n",
        "# X_test_1_tensor = torch.FloatTensor(X_test_1) \n",
        "# X_test_0_tensor = torch.FloatTensor(X_test_0)\n",
        "\n",
        "\n",
        "# #convert to torch structure\n",
        "# treatment_test = treatment_test.to_numpy()\n",
        "# treatment_test = torch.from_numpy(treatment_test).int()\n",
        "# treatment_test = Variable(treatment_test)\n",
        "\n",
        "\n",
        "# #convert to torch structure\n",
        "# y_test = y_test.to_numpy()\n",
        "# y_test = torch.from_numpy(y_test).float()\n",
        "# y_test  = Variable(y_test)\n",
        "\n",
        "\n",
        "# #convert to torch structure\n",
        "# Z_trans_test = Z_trans_test.to_numpy()\n",
        "# Z_trans_test = torch.from_numpy(Z_trans_test).float()\n",
        "# Z_trans_test = Variable(Z_trans_test)\n",
        "\n",
        "\n",
        "#init loaders\n",
        "train_loader = DataLoader(dataset=train_data, batch_size=batch_size, shuffle=True)\n",
        "test_loader = DataLoader(dataset=test_data, batch_size=batch_size_test, shuffle=True)\n",
        "\n",
        "\n",
        "\n",
        "\n",
        "# define the loss (criterion) and create an optimizer\n",
        "optimizer = optim.Adam(model.parameters(),lr = lr)\n",
        "\n",
        "# sgd??   \n",
        "\n",
        "# define lists of losses to store\n",
        "all_losses  = []\n",
        "test_losses = []\n",
        "min_losses = []\n",
        "\n",
        "\n",
        "\n",
        "# epochs loop\n",
        "for ep in range(epoch_num):  \n",
        "    model.train()\n",
        "    print(\".......................... epoch =\",ep,\"..........................\")\n",
        "    batch_loss = []\n",
        "    # batches loop\n",
        "    for X_batch_0,X_batch_1,Z_batch,treatment_batch, y_batch in train_loader:\n",
        "       \n",
        "       \n",
        "        \n",
        "        batch_1_feat = X_batch_1\n",
        "        batch_0_feat = X_batch_0\n",
        "        \n",
        "        batch_label = y_batch\n",
        "        batch_Z_trans = Z_batch\n",
        "\n",
        "        optimizer.zero_grad()\n",
        "        # Forward pass (predict)\n",
        "        mu_1_target_class = model(batch_1_feat)\n",
        "        mu_0_target_class = model(batch_0_feat)\n",
        "\n",
        "        #convert to torch structure\n",
        "        treatment_batch = treatment_batch\n",
        "       \n",
        "\n",
        "        mu_0_target_class = torch.reshape(mu_0_target_class, shape = (-1,))\n",
        "        mu_1_target_class = torch.reshape(mu_1_target_class, shape =(-1,) )\n",
        "        \n",
        "        # print(\"mu_0\", mu_0_target_class)\n",
        "        # print(\"mu_1\", mu_1_target_class)\n",
        "\n",
        "        ones = np.ones(shape = batch_size)\n",
        "        ones = torch.from_numpy(ones).float()\n",
        "        \n",
        "\n",
        "       \n",
        "        #implements mu = T * mu_1 + (1-T) * mu_0\n",
        "        uplift_pred_Y = treatment_batch * mu_1_target_class + (ones - treatment_batch) * mu_0_target_class \n",
        "\n",
        "        \n",
        "\n",
        "        \n",
        "       \n",
        "\n",
        "       \n",
        "        \n",
        "        \n",
        "        #declare losses\n",
        "        loss_cross = nn.BCELoss(reduction = 'mean')\n",
        "        loss_MSE = nn.MSELoss()\n",
        "\n",
        "        #implements uplift_predicted = mu_1 - mu_0\n",
        "        uplift_pred = mu_1_target_class - mu_0_target_class \n",
        "        \n",
        "        \n",
        "        # print(\"uplift_pred\", uplift_pred)\n",
        "\n",
        "        \n",
        "\n",
        "        \n",
        "\n",
        "        sum_of_losses = torch.mean(  (1-alpha) * loss_MSE(batch_Z_trans, uplift_pred) + alpha * loss_cross( uplift_pred_Y, batch_label))\n",
        "        # print(loss_contrastive)\n",
        "        batch_loss.append(sum_of_losses)\n",
        "        # print(\"train AUQC:\", qini_auc_score(batch_label.cpu().detach().numpy(), uplift_pred.cpu().detach().numpy(), treatment_batch.cpu().detach().numpy() ))\n",
        "\n",
        "        \n",
        "        # print(batch_n, loss_contrastive)\n",
        "\n",
        "\n",
        "        # plot_qini_curve(batch_label.cpu().detach().numpy(), uplift_pred.cpu().detach().numpy(), treatment_batch.cpu().detach().numpy())\n",
        "        # print(qini_auc_score(batch_label.cpu().detach().numpy(), uplift_pred.cpu().detach().numpy(), treatment_batch.cpu().detach().numpy() ))\n",
        "        \n",
        "        # Backward pass and updates\n",
        "        sum_of_losses.backward()                     # calculate the gradients\n",
        "        optimizer.step()                    # update the weights\n",
        "        # i += batch_size\n",
        "        #end for !!!!!!!!!!!!!!!!!!!\n",
        "\n",
        "    # plot_qini_curve(batch_label.cpu().detach().numpy(), uplift_pred.cpu().detach().numpy(), treatment_batch.cpu().detach().numpy())\n",
        "    # print(qini_auc_score(batch_label.cpu().detach().numpy(), uplift_pred.cpu().detach().numpy(), treatment_batch.cpu().detach().numpy() ))\n",
        "    batch_loss  = list(batch_loss)\n",
        "    all_losses.append( sum(batch_loss) / len(batch_loss) ) \n",
        "\n",
        "    # #work with test dataset\n",
        "    print('work with test dataset')\n",
        "    batch_loss = []\n",
        "\n",
        "   \n",
        "    model.eval()\n",
        "    \n",
        "    for X_batch_0,X_batch_1,Z_batch,treatment_batch, y_batch in test_loader:\n",
        "        \n",
        "       \n",
        "        \n",
        "        batch_1_feat = X_batch_1\n",
        "        batch_0_feat = X_batch_0\n",
        "        \n",
        "        batch_label = y_batch\n",
        "        batch_Z_trans = Z_batch\n",
        "\n",
        "        # optimizer.zero_grad()\n",
        "        # Forward pass (predict)\n",
        "        mu_1_target_class = model(batch_1_feat)\n",
        "        mu_0_target_class = model(batch_0_feat)\n",
        "\n",
        "       \n",
        "       \n",
        "\n",
        "        mu_0_target_class = torch.reshape(mu_0_target_class, shape = (-1,))\n",
        "        mu_1_target_class = torch.reshape(mu_1_target_class, shape =(-1,) )\n",
        "        \n",
        "        # print(\"mu_0\", mu_0_target_class)\n",
        "        # print(\"mu_1\", mu_1_target_class)\n",
        "\n",
        "        ones = np.ones(shape = batch_size_test)\n",
        "        ones = torch.from_numpy(ones).float()\n",
        "        \n",
        "     \n",
        "        #implements mu = T * mu_1 + (1-T) * mu_0\n",
        "        uplift_pred_Y = treatment_batch * mu_1_target_class + (ones - treatment_batch) * mu_0_target_class \n",
        "\n",
        "        #declare losses\n",
        "        loss_cross = nn.BCELoss(reduction = 'mean')\n",
        "        loss_MSE = nn.MSELoss()\n",
        "\n",
        "        #implements uplift_predicted = mu_1 - mu_0\n",
        "        uplift_pred = mu_1_target_class - mu_0_target_class   \n",
        "        \n",
        "\n",
        "        # scatter plot for mse parametres to do !!!\n",
        "        sum_of_losses = torch.mean(  (1-alpha) * loss_MSE(batch_Z_trans, uplift_pred) + alpha * loss_cross( uplift_pred_Y, batch_label))\n",
        "       \n",
        "        batch_loss.append(sum_of_losses)\n",
        "        \n",
        "\n",
        "        \n",
        "        # print(batch_n, loss_contrastive)\n",
        "\n",
        "\n",
        "        # plot_qini_curve(batch_label.cpu().detach().numpy(), uplift_pred.cpu().detach().numpy(), treatment_batch.cpu().detach().numpy())\n",
        "        # print(qini_auc_score(batch_label.cpu().detach().numpy(), uplift_pred.cpu().detach().numpy(), treatment_batch.cpu().detach().numpy() ))\n",
        "        \n",
        "        \n",
        "        \n",
        "    #     #end for\n",
        "    batch_loss  = list(batch_loss)\n",
        "    test_losses.append( sum(batch_loss) / len(batch_loss) ) \n",
        "    \n",
        "\n",
        "    \n",
        "   \n",
        "\n",
        "import matplotlib.pyplot as plt\n",
        "\n",
        "plt.plot(all_losses, color='green',label='train')\n",
        "plt.title('train vs test')\n",
        "plt.xlabel('epoch_num')\n",
        "plt.ylabel('loss sum')\n",
        "\n",
        "\n",
        "\n",
        "plt.plot(test_losses, color='blue',label='test')\n",
        "plt.legend()\n",
        "\n",
        "\n",
        "plt.show()\n",
        "\n",
        "\n",
        "\n"
      ],
      "execution_count": null,
      "outputs": []
    },
    {
      "cell_type": "code",
      "metadata": {
        "colab": {
          "base_uri": "https://localhost:8080/"
        },
        "id": "RrwCYhMD614w",
        "outputId": "71ad7044-d241-4855-fec1-cd225ca7f8a3"
      },
      "source": [
        "from UPLIFT_modeling.uplift.metrics import Kendall_rank_correlation, qini_auc_score, uplift_at_k\n",
        "from scipy import stats \n",
        "\n",
        "all_res_uplift = []\n",
        "all_res_auqc = []\n",
        "all_res_rank_correlation = []\n",
        "all_res_auuc = []\n",
        "all_uplift_five = []\n",
        "\n",
        "for j in range( 1, 101, 1):\n",
        "\n",
        "    #logger.info(f\"Random state =:{j}\")\n",
        "    RANDOM_STATE = j\n",
        "    indices_learn_new, indices_valid_new = train_test_split(\n",
        "        indices_valid,\n",
        "        test_size=0.35,\n",
        "        random_state = RANDOM_STATE,\n",
        "    )\n",
        "   \n",
        "\n",
        "    X_valid = features.loc[indices_valid_new, :]\n",
        "    treatment_valid = train.loc[indices_valid_new, 'treatment_flg'].values\n",
        "    target_valid = train.loc[indices_valid_new, 'target'].values\n",
        "\n",
        "    X_valid_0 = X_valid.copy()\n",
        "    X_valid_1 = X_valid.copy()\n",
        "\n",
        "    X_valid_1 = X_valid_1.astype('float32')\n",
        "    X_valid_1 = X_valid_1.replace([np.inf, -np.inf], np.nan).fillna(0)\n",
        "    X_valid_1 = scaler.fit_transform(X_valid_1)\n",
        "\n",
        "    X_valid_0 = X_valid_0.astype('float32')\n",
        "    X_valid_0 = X_valid_0.replace([np.inf, -np.inf], np.nan).fillna(0)\n",
        "    X_valid_0 = scaler.fit_transform(X_valid_0)\n",
        "\n",
        "    X_valid_0 = np.c_[ X_valid_0, np.zeros(X_valid_0.shape[0]) ]\n",
        "    X_valid_1 = np.c_[ X_valid_1, np.ones(X_valid_1.shape[0]) ] \n",
        "\n",
        "    model.eval()\n",
        "    X_valid_1 = torch.FloatTensor(X_valid_1)\n",
        "    X_valid_0 = torch.FloatTensor(X_valid_0)\n",
        "    \n",
        "    mu_1 = model(X_valid_1)\n",
        "    mu_0 = model(X_valid_0)\n",
        "    valid_pred = mu_1-mu_0\n",
        "    \n",
        "    valid_pred = valid_pred.detach().numpy()\n",
        "    valid_pred = valid_pred.reshape((-1,)) \n",
        "  \n",
        "    valid_pred = pd.Series(valid_pred, index = indices_valid_new)\n",
        "    \n",
        "    # valid_pred = clf.predict(X_valid)\n",
        "    AUQC = qini_auc_score(target_valid, valid_pred, treatment_valid)\n",
        "   \n",
        "    valid_scores = uplift_at_k(target_valid, valid_pred, treatment_valid)\n",
        "    uplift_five = uplift_at_k(target_valid, valid_pred, treatment_valid, rate = 0.05)\n",
        "    tau, p_value = Kendall_rank_correlation(target_valid, valid_pred, treatment_valid)\n",
        "    auuc = uplift_auc_score(target_valid, valid_pred, treatment_valid)\n",
        "    \n",
        "    all_res_uplift.append(valid_scores)\n",
        "    all_res_auqc.append(AUQC)\n",
        "    all_res_rank_correlation.append(tau)\n",
        "    all_res_auuc.append(auuc)\n",
        "    all_uplift_five.append(uplift_five)\n",
        "    \n",
        "print('Число замеров', j)\n",
        "print('AUQC: mean: ', np.mean(all_res_auqc),\"| std: \", np.std(all_res_auqc, ddof=1))\n",
        "print('uplift30%: mean: ', np.mean(all_res_uplift),\"| std: \",np.std(all_res_uplift, ddof=1))\n",
        "print('Kendall_rank_correlation: mean: ',np.mean(all_res_rank_correlation), \"| std: \", np.std(all_res_rank_correlation,ddof=1))\n",
        "print('AUUC: mean: ',np.mean(all_res_auuc), \"| std: \", np.std(all_res_auuc,ddof=1))\n",
        "print('uplift5%: mean: ', np.mean(all_uplift_five),\"| sem: \", stats.sem(all_uplift_five))"
      ],
      "execution_count": null,
      "outputs": [
        {
          "output_type": "stream",
          "text": [
            "/usr/local/lib/python3.7/dist-packages/numpy/lib/nanfunctions.py:1544: RuntimeWarning:\n",
            "\n",
            "overflow encountered in multiply\n",
            "\n",
            "/usr/local/lib/python3.7/dist-packages/numpy/lib/nanfunctions.py:1544: RuntimeWarning:\n",
            "\n",
            "overflow encountered in multiply\n",
            "\n"
          ],
          "name": "stderr"
        },
        {
          "output_type": "stream",
          "text": [
            "Kendal uplift rank correlation =  0.4666666666666666 with p_value =  0.07255015432098766\n"
          ],
          "name": "stdout"
        },
        {
          "output_type": "stream",
          "text": [
            "/usr/local/lib/python3.7/dist-packages/numpy/lib/nanfunctions.py:1544: RuntimeWarning:\n",
            "\n",
            "overflow encountered in multiply\n",
            "\n",
            "/usr/local/lib/python3.7/dist-packages/numpy/lib/nanfunctions.py:1544: RuntimeWarning:\n",
            "\n",
            "overflow encountered in multiply\n",
            "\n"
          ],
          "name": "stderr"
        },
        {
          "output_type": "stream",
          "text": [
            "Kendal uplift rank correlation =  0.6444444444444444 with p_value =  0.009148478835978836\n"
          ],
          "name": "stdout"
        },
        {
          "output_type": "stream",
          "text": [
            "/usr/local/lib/python3.7/dist-packages/numpy/lib/nanfunctions.py:1544: RuntimeWarning:\n",
            "\n",
            "overflow encountered in multiply\n",
            "\n",
            "/usr/local/lib/python3.7/dist-packages/numpy/lib/nanfunctions.py:1544: RuntimeWarning:\n",
            "\n",
            "overflow encountered in multiply\n",
            "\n"
          ],
          "name": "stderr"
        },
        {
          "output_type": "stream",
          "text": [
            "Kendal uplift rank correlation =  0.28888888888888886 with p_value =  0.2912483465608466\n"
          ],
          "name": "stdout"
        },
        {
          "output_type": "stream",
          "text": [
            "/usr/local/lib/python3.7/dist-packages/numpy/lib/nanfunctions.py:1544: RuntimeWarning:\n",
            "\n",
            "overflow encountered in multiply\n",
            "\n",
            "/usr/local/lib/python3.7/dist-packages/numpy/lib/nanfunctions.py:1544: RuntimeWarning:\n",
            "\n",
            "overflow encountered in multiply\n",
            "\n"
          ],
          "name": "stderr"
        },
        {
          "output_type": "stream",
          "text": [
            "Kendal uplift rank correlation =  0.37777777777777777 with p_value =  0.1557418430335097\n"
          ],
          "name": "stdout"
        },
        {
          "output_type": "stream",
          "text": [
            "/usr/local/lib/python3.7/dist-packages/numpy/lib/nanfunctions.py:1544: RuntimeWarning:\n",
            "\n",
            "overflow encountered in multiply\n",
            "\n",
            "/usr/local/lib/python3.7/dist-packages/numpy/lib/nanfunctions.py:1544: RuntimeWarning:\n",
            "\n",
            "overflow encountered in multiply\n",
            "\n"
          ],
          "name": "stderr"
        },
        {
          "output_type": "stream",
          "text": [
            "Kendal uplift rank correlation =  0.15555555555555553 with p_value =  0.6006536596119929\n"
          ],
          "name": "stdout"
        },
        {
          "output_type": "stream",
          "text": [
            "/usr/local/lib/python3.7/dist-packages/numpy/lib/nanfunctions.py:1544: RuntimeWarning:\n",
            "\n",
            "overflow encountered in multiply\n",
            "\n",
            "/usr/local/lib/python3.7/dist-packages/numpy/lib/nanfunctions.py:1544: RuntimeWarning:\n",
            "\n",
            "overflow encountered in multiply\n",
            "\n"
          ],
          "name": "stderr"
        },
        {
          "output_type": "stream",
          "text": [
            "Kendal uplift rank correlation =  0.5111111111111111 with p_value =  0.04662257495590829\n"
          ],
          "name": "stdout"
        },
        {
          "output_type": "stream",
          "text": [
            "/usr/local/lib/python3.7/dist-packages/numpy/lib/nanfunctions.py:1544: RuntimeWarning:\n",
            "\n",
            "overflow encountered in multiply\n",
            "\n",
            "/usr/local/lib/python3.7/dist-packages/numpy/lib/nanfunctions.py:1544: RuntimeWarning:\n",
            "\n",
            "overflow encountered in multiply\n",
            "\n"
          ],
          "name": "stderr"
        },
        {
          "output_type": "stream",
          "text": [
            "Kendal uplift rank correlation =  0.37777777777777777 with p_value =  0.1557418430335097\n"
          ],
          "name": "stdout"
        },
        {
          "output_type": "stream",
          "text": [
            "/usr/local/lib/python3.7/dist-packages/numpy/lib/nanfunctions.py:1544: RuntimeWarning:\n",
            "\n",
            "overflow encountered in multiply\n",
            "\n",
            "/usr/local/lib/python3.7/dist-packages/numpy/lib/nanfunctions.py:1544: RuntimeWarning:\n",
            "\n",
            "overflow encountered in multiply\n",
            "\n"
          ],
          "name": "stderr"
        },
        {
          "output_type": "stream",
          "text": [
            "Kendal uplift rank correlation =  0.5111111111111111 with p_value =  0.04662257495590829\n"
          ],
          "name": "stdout"
        },
        {
          "output_type": "stream",
          "text": [
            "/usr/local/lib/python3.7/dist-packages/numpy/lib/nanfunctions.py:1544: RuntimeWarning:\n",
            "\n",
            "overflow encountered in multiply\n",
            "\n",
            "/usr/local/lib/python3.7/dist-packages/numpy/lib/nanfunctions.py:1544: RuntimeWarning:\n",
            "\n",
            "overflow encountered in multiply\n",
            "\n"
          ],
          "name": "stderr"
        },
        {
          "output_type": "stream",
          "text": [
            "Kendal uplift rank correlation =  0.24444444444444444 with p_value =  0.38071979717813054\n"
          ],
          "name": "stdout"
        },
        {
          "output_type": "stream",
          "text": [
            "/usr/local/lib/python3.7/dist-packages/numpy/lib/nanfunctions.py:1544: RuntimeWarning:\n",
            "\n",
            "overflow encountered in multiply\n",
            "\n",
            "/usr/local/lib/python3.7/dist-packages/numpy/lib/nanfunctions.py:1544: RuntimeWarning:\n",
            "\n",
            "overflow encountered in multiply\n",
            "\n"
          ],
          "name": "stderr"
        },
        {
          "output_type": "stream",
          "text": [
            "Kendal uplift rank correlation =  0.1111111111111111 with p_value =  0.7274895282186948\n"
          ],
          "name": "stdout"
        },
        {
          "output_type": "stream",
          "text": [
            "/usr/local/lib/python3.7/dist-packages/numpy/lib/nanfunctions.py:1544: RuntimeWarning:\n",
            "\n",
            "overflow encountered in multiply\n",
            "\n",
            "/usr/local/lib/python3.7/dist-packages/numpy/lib/nanfunctions.py:1544: RuntimeWarning:\n",
            "\n",
            "overflow encountered in multiply\n",
            "\n"
          ],
          "name": "stderr"
        },
        {
          "output_type": "stream",
          "text": [
            "Kendal uplift rank correlation =  0.5111111111111111 with p_value =  0.04662257495590829\n"
          ],
          "name": "stdout"
        },
        {
          "output_type": "stream",
          "text": [
            "/usr/local/lib/python3.7/dist-packages/numpy/lib/nanfunctions.py:1544: RuntimeWarning:\n",
            "\n",
            "overflow encountered in multiply\n",
            "\n",
            "/usr/local/lib/python3.7/dist-packages/numpy/lib/nanfunctions.py:1544: RuntimeWarning:\n",
            "\n",
            "overflow encountered in multiply\n",
            "\n"
          ],
          "name": "stderr"
        },
        {
          "output_type": "stream",
          "text": [
            "Kendal uplift rank correlation =  0.7333333333333333 with p_value =  0.002212852733686067\n"
          ],
          "name": "stdout"
        },
        {
          "output_type": "stream",
          "text": [
            "/usr/local/lib/python3.7/dist-packages/numpy/lib/nanfunctions.py:1544: RuntimeWarning:\n",
            "\n",
            "overflow encountered in multiply\n",
            "\n",
            "/usr/local/lib/python3.7/dist-packages/numpy/lib/nanfunctions.py:1544: RuntimeWarning:\n",
            "\n",
            "overflow encountered in multiply\n",
            "\n"
          ],
          "name": "stderr"
        },
        {
          "output_type": "stream",
          "text": [
            "Kendal uplift rank correlation =  0.5555555555555555 with p_value =  0.02860945767195767\n"
          ],
          "name": "stdout"
        },
        {
          "output_type": "stream",
          "text": [
            "/usr/local/lib/python3.7/dist-packages/numpy/lib/nanfunctions.py:1544: RuntimeWarning:\n",
            "\n",
            "overflow encountered in multiply\n",
            "\n",
            "/usr/local/lib/python3.7/dist-packages/numpy/lib/nanfunctions.py:1544: RuntimeWarning:\n",
            "\n",
            "overflow encountered in multiply\n",
            "\n"
          ],
          "name": "stderr"
        },
        {
          "output_type": "stream",
          "text": [
            "Kendal uplift rank correlation =  0.3333333333333333 with p_value =  0.21637345679012346\n"
          ],
          "name": "stdout"
        },
        {
          "output_type": "stream",
          "text": [
            "/usr/local/lib/python3.7/dist-packages/numpy/lib/nanfunctions.py:1544: RuntimeWarning:\n",
            "\n",
            "overflow encountered in multiply\n",
            "\n",
            "/usr/local/lib/python3.7/dist-packages/numpy/lib/nanfunctions.py:1544: RuntimeWarning:\n",
            "\n",
            "overflow encountered in multiply\n",
            "\n"
          ],
          "name": "stderr"
        },
        {
          "output_type": "stream",
          "text": [
            "Kendal uplift rank correlation =  0.37777777777777777 with p_value =  0.1557418430335097\n"
          ],
          "name": "stdout"
        },
        {
          "output_type": "stream",
          "text": [
            "/usr/local/lib/python3.7/dist-packages/numpy/lib/nanfunctions.py:1544: RuntimeWarning:\n",
            "\n",
            "overflow encountered in multiply\n",
            "\n",
            "/usr/local/lib/python3.7/dist-packages/numpy/lib/nanfunctions.py:1544: RuntimeWarning:\n",
            "\n",
            "overflow encountered in multiply\n",
            "\n"
          ],
          "name": "stderr"
        },
        {
          "output_type": "stream",
          "text": [
            "Kendal uplift rank correlation =  0.5555555555555555 with p_value =  0.02860945767195767\n"
          ],
          "name": "stdout"
        },
        {
          "output_type": "stream",
          "text": [
            "/usr/local/lib/python3.7/dist-packages/numpy/lib/nanfunctions.py:1544: RuntimeWarning:\n",
            "\n",
            "overflow encountered in multiply\n",
            "\n",
            "/usr/local/lib/python3.7/dist-packages/numpy/lib/nanfunctions.py:1544: RuntimeWarning:\n",
            "\n",
            "overflow encountered in multiply\n",
            "\n"
          ],
          "name": "stderr"
        },
        {
          "output_type": "stream",
          "text": [
            "Kendal uplift rank correlation =  0.28888888888888886 with p_value =  0.2912483465608466\n"
          ],
          "name": "stdout"
        },
        {
          "output_type": "stream",
          "text": [
            "/usr/local/lib/python3.7/dist-packages/numpy/lib/nanfunctions.py:1544: RuntimeWarning:\n",
            "\n",
            "overflow encountered in multiply\n",
            "\n",
            "/usr/local/lib/python3.7/dist-packages/numpy/lib/nanfunctions.py:1544: RuntimeWarning:\n",
            "\n",
            "overflow encountered in multiply\n",
            "\n"
          ],
          "name": "stderr"
        },
        {
          "output_type": "stream",
          "text": [
            "Kendal uplift rank correlation =  0.6444444444444444 with p_value =  0.009148478835978836\n"
          ],
          "name": "stdout"
        },
        {
          "output_type": "stream",
          "text": [
            "/usr/local/lib/python3.7/dist-packages/numpy/lib/nanfunctions.py:1544: RuntimeWarning:\n",
            "\n",
            "overflow encountered in multiply\n",
            "\n",
            "/usr/local/lib/python3.7/dist-packages/numpy/lib/nanfunctions.py:1544: RuntimeWarning:\n",
            "\n",
            "overflow encountered in multiply\n",
            "\n"
          ],
          "name": "stderr"
        },
        {
          "output_type": "stream",
          "text": [
            "Kendal uplift rank correlation =  0.28888888888888886 with p_value =  0.2912483465608466\n"
          ],
          "name": "stdout"
        },
        {
          "output_type": "stream",
          "text": [
            "/usr/local/lib/python3.7/dist-packages/numpy/lib/nanfunctions.py:1544: RuntimeWarning:\n",
            "\n",
            "overflow encountered in multiply\n",
            "\n",
            "/usr/local/lib/python3.7/dist-packages/numpy/lib/nanfunctions.py:1544: RuntimeWarning:\n",
            "\n",
            "overflow encountered in multiply\n",
            "\n"
          ],
          "name": "stderr"
        },
        {
          "output_type": "stream",
          "text": [
            "Kendal uplift rank correlation =  0.4666666666666666 with p_value =  0.07255015432098766\n"
          ],
          "name": "stdout"
        },
        {
          "output_type": "stream",
          "text": [
            "/usr/local/lib/python3.7/dist-packages/numpy/lib/nanfunctions.py:1544: RuntimeWarning:\n",
            "\n",
            "overflow encountered in multiply\n",
            "\n",
            "/usr/local/lib/python3.7/dist-packages/numpy/lib/nanfunctions.py:1544: RuntimeWarning:\n",
            "\n",
            "overflow encountered in multiply\n",
            "\n"
          ],
          "name": "stderr"
        },
        {
          "output_type": "stream",
          "text": [
            "Kendal uplift rank correlation =  0.5111111111111111 with p_value =  0.04662257495590829\n"
          ],
          "name": "stdout"
        },
        {
          "output_type": "stream",
          "text": [
            "/usr/local/lib/python3.7/dist-packages/numpy/lib/nanfunctions.py:1544: RuntimeWarning:\n",
            "\n",
            "overflow encountered in multiply\n",
            "\n",
            "/usr/local/lib/python3.7/dist-packages/numpy/lib/nanfunctions.py:1544: RuntimeWarning:\n",
            "\n",
            "overflow encountered in multiply\n",
            "\n"
          ],
          "name": "stderr"
        },
        {
          "output_type": "stream",
          "text": [
            "Kendal uplift rank correlation =  0.5111111111111111 with p_value =  0.04662257495590829\n"
          ],
          "name": "stdout"
        },
        {
          "output_type": "stream",
          "text": [
            "/usr/local/lib/python3.7/dist-packages/numpy/lib/nanfunctions.py:1544: RuntimeWarning:\n",
            "\n",
            "overflow encountered in multiply\n",
            "\n",
            "/usr/local/lib/python3.7/dist-packages/numpy/lib/nanfunctions.py:1544: RuntimeWarning:\n",
            "\n",
            "overflow encountered in multiply\n",
            "\n"
          ],
          "name": "stderr"
        },
        {
          "output_type": "stream",
          "text": [
            "Kendal uplift rank correlation =  0.1111111111111111 with p_value =  0.7274895282186948\n"
          ],
          "name": "stdout"
        },
        {
          "output_type": "stream",
          "text": [
            "/usr/local/lib/python3.7/dist-packages/numpy/lib/nanfunctions.py:1544: RuntimeWarning:\n",
            "\n",
            "overflow encountered in multiply\n",
            "\n",
            "/usr/local/lib/python3.7/dist-packages/numpy/lib/nanfunctions.py:1544: RuntimeWarning:\n",
            "\n",
            "overflow encountered in multiply\n",
            "\n"
          ],
          "name": "stderr"
        },
        {
          "output_type": "stream",
          "text": [
            "Kendal uplift rank correlation =  0.37777777777777777 with p_value =  0.1557418430335097\n"
          ],
          "name": "stdout"
        },
        {
          "output_type": "stream",
          "text": [
            "/usr/local/lib/python3.7/dist-packages/numpy/lib/nanfunctions.py:1544: RuntimeWarning:\n",
            "\n",
            "overflow encountered in multiply\n",
            "\n",
            "/usr/local/lib/python3.7/dist-packages/numpy/lib/nanfunctions.py:1544: RuntimeWarning:\n",
            "\n",
            "overflow encountered in multiply\n",
            "\n"
          ],
          "name": "stderr"
        },
        {
          "output_type": "stream",
          "text": [
            "Kendal uplift rank correlation =  0.6444444444444444 with p_value =  0.009148478835978836\n"
          ],
          "name": "stdout"
        },
        {
          "output_type": "stream",
          "text": [
            "/usr/local/lib/python3.7/dist-packages/numpy/lib/nanfunctions.py:1544: RuntimeWarning:\n",
            "\n",
            "overflow encountered in multiply\n",
            "\n",
            "/usr/local/lib/python3.7/dist-packages/numpy/lib/nanfunctions.py:1544: RuntimeWarning:\n",
            "\n",
            "overflow encountered in multiply\n",
            "\n"
          ],
          "name": "stderr"
        },
        {
          "output_type": "stream",
          "text": [
            "Kendal uplift rank correlation =  0.24444444444444444 with p_value =  0.38071979717813054\n"
          ],
          "name": "stdout"
        },
        {
          "output_type": "stream",
          "text": [
            "/usr/local/lib/python3.7/dist-packages/numpy/lib/nanfunctions.py:1544: RuntimeWarning:\n",
            "\n",
            "overflow encountered in multiply\n",
            "\n",
            "/usr/local/lib/python3.7/dist-packages/numpy/lib/nanfunctions.py:1544: RuntimeWarning:\n",
            "\n",
            "overflow encountered in multiply\n",
            "\n"
          ],
          "name": "stderr"
        },
        {
          "output_type": "stream",
          "text": [
            "Kendal uplift rank correlation =  0.3333333333333333 with p_value =  0.21637345679012346\n"
          ],
          "name": "stdout"
        },
        {
          "output_type": "stream",
          "text": [
            "/usr/local/lib/python3.7/dist-packages/numpy/lib/nanfunctions.py:1544: RuntimeWarning:\n",
            "\n",
            "overflow encountered in multiply\n",
            "\n",
            "/usr/local/lib/python3.7/dist-packages/numpy/lib/nanfunctions.py:1544: RuntimeWarning:\n",
            "\n",
            "overflow encountered in multiply\n",
            "\n"
          ],
          "name": "stderr"
        },
        {
          "output_type": "stream",
          "text": [
            "Kendal uplift rank correlation =  0.5555555555555555 with p_value =  0.02860945767195767\n"
          ],
          "name": "stdout"
        },
        {
          "output_type": "stream",
          "text": [
            "/usr/local/lib/python3.7/dist-packages/numpy/lib/nanfunctions.py:1544: RuntimeWarning:\n",
            "\n",
            "overflow encountered in multiply\n",
            "\n",
            "/usr/local/lib/python3.7/dist-packages/numpy/lib/nanfunctions.py:1544: RuntimeWarning:\n",
            "\n",
            "overflow encountered in multiply\n",
            "\n"
          ],
          "name": "stderr"
        },
        {
          "output_type": "stream",
          "text": [
            "Kendal uplift rank correlation =  0.3333333333333333 with p_value =  0.21637345679012346\n"
          ],
          "name": "stdout"
        },
        {
          "output_type": "stream",
          "text": [
            "/usr/local/lib/python3.7/dist-packages/numpy/lib/nanfunctions.py:1544: RuntimeWarning:\n",
            "\n",
            "overflow encountered in multiply\n",
            "\n",
            "/usr/local/lib/python3.7/dist-packages/numpy/lib/nanfunctions.py:1544: RuntimeWarning:\n",
            "\n",
            "overflow encountered in multiply\n",
            "\n"
          ],
          "name": "stderr"
        },
        {
          "output_type": "stream",
          "text": [
            "Kendal uplift rank correlation =  0.28888888888888886 with p_value =  0.2912483465608466\n"
          ],
          "name": "stdout"
        },
        {
          "output_type": "stream",
          "text": [
            "/usr/local/lib/python3.7/dist-packages/numpy/lib/nanfunctions.py:1544: RuntimeWarning:\n",
            "\n",
            "overflow encountered in multiply\n",
            "\n",
            "/usr/local/lib/python3.7/dist-packages/numpy/lib/nanfunctions.py:1544: RuntimeWarning:\n",
            "\n",
            "overflow encountered in multiply\n",
            "\n"
          ],
          "name": "stderr"
        },
        {
          "output_type": "stream",
          "text": [
            "Kendal uplift rank correlation =  0.19999999999999998 with p_value =  0.4843127204585538\n"
          ],
          "name": "stdout"
        },
        {
          "output_type": "stream",
          "text": [
            "/usr/local/lib/python3.7/dist-packages/numpy/lib/nanfunctions.py:1544: RuntimeWarning:\n",
            "\n",
            "overflow encountered in multiply\n",
            "\n",
            "/usr/local/lib/python3.7/dist-packages/numpy/lib/nanfunctions.py:1544: RuntimeWarning:\n",
            "\n",
            "overflow encountered in multiply\n",
            "\n"
          ],
          "name": "stderr"
        },
        {
          "output_type": "stream",
          "text": [
            "Kendal uplift rank correlation =  0.5111111111111111 with p_value =  0.04662257495590829\n"
          ],
          "name": "stdout"
        },
        {
          "output_type": "stream",
          "text": [
            "/usr/local/lib/python3.7/dist-packages/numpy/lib/nanfunctions.py:1544: RuntimeWarning:\n",
            "\n",
            "overflow encountered in multiply\n",
            "\n",
            "/usr/local/lib/python3.7/dist-packages/numpy/lib/nanfunctions.py:1544: RuntimeWarning:\n",
            "\n",
            "overflow encountered in multiply\n",
            "\n"
          ],
          "name": "stderr"
        },
        {
          "output_type": "stream",
          "text": [
            "Kendal uplift rank correlation =  0.6444444444444444 with p_value =  0.009148478835978836\n"
          ],
          "name": "stdout"
        },
        {
          "output_type": "stream",
          "text": [
            "/usr/local/lib/python3.7/dist-packages/numpy/lib/nanfunctions.py:1544: RuntimeWarning:\n",
            "\n",
            "overflow encountered in multiply\n",
            "\n",
            "/usr/local/lib/python3.7/dist-packages/numpy/lib/nanfunctions.py:1544: RuntimeWarning:\n",
            "\n",
            "overflow encountered in multiply\n",
            "\n"
          ],
          "name": "stderr"
        },
        {
          "output_type": "stream",
          "text": [
            "Kendal uplift rank correlation =  0.4666666666666666 with p_value =  0.07255015432098766\n"
          ],
          "name": "stdout"
        },
        {
          "output_type": "stream",
          "text": [
            "/usr/local/lib/python3.7/dist-packages/numpy/lib/nanfunctions.py:1544: RuntimeWarning:\n",
            "\n",
            "overflow encountered in multiply\n",
            "\n",
            "/usr/local/lib/python3.7/dist-packages/numpy/lib/nanfunctions.py:1544: RuntimeWarning:\n",
            "\n",
            "overflow encountered in multiply\n",
            "\n"
          ],
          "name": "stderr"
        },
        {
          "output_type": "stream",
          "text": [
            "Kendal uplift rank correlation =  -0.06666666666666667 with p_value =  0.8618005952380953\n"
          ],
          "name": "stdout"
        },
        {
          "output_type": "stream",
          "text": [
            "/usr/local/lib/python3.7/dist-packages/numpy/lib/nanfunctions.py:1544: RuntimeWarning:\n",
            "\n",
            "overflow encountered in multiply\n",
            "\n",
            "/usr/local/lib/python3.7/dist-packages/numpy/lib/nanfunctions.py:1544: RuntimeWarning:\n",
            "\n",
            "overflow encountered in multiply\n",
            "\n"
          ],
          "name": "stderr"
        },
        {
          "output_type": "stream",
          "text": [
            "Kendal uplift rank correlation =  0.5555555555555555 with p_value =  0.02860945767195767\n"
          ],
          "name": "stdout"
        },
        {
          "output_type": "stream",
          "text": [
            "/usr/local/lib/python3.7/dist-packages/numpy/lib/nanfunctions.py:1544: RuntimeWarning:\n",
            "\n",
            "overflow encountered in multiply\n",
            "\n",
            "/usr/local/lib/python3.7/dist-packages/numpy/lib/nanfunctions.py:1544: RuntimeWarning:\n",
            "\n",
            "overflow encountered in multiply\n",
            "\n"
          ],
          "name": "stderr"
        },
        {
          "output_type": "stream",
          "text": [
            "Kendal uplift rank correlation =  0.4666666666666666 with p_value =  0.07255015432098766\n"
          ],
          "name": "stdout"
        },
        {
          "output_type": "stream",
          "text": [
            "/usr/local/lib/python3.7/dist-packages/numpy/lib/nanfunctions.py:1544: RuntimeWarning:\n",
            "\n",
            "overflow encountered in multiply\n",
            "\n",
            "/usr/local/lib/python3.7/dist-packages/numpy/lib/nanfunctions.py:1544: RuntimeWarning:\n",
            "\n",
            "overflow encountered in multiply\n",
            "\n"
          ],
          "name": "stderr"
        },
        {
          "output_type": "stream",
          "text": [
            "Kendal uplift rank correlation =  0.37777777777777777 with p_value =  0.1557418430335097\n"
          ],
          "name": "stdout"
        },
        {
          "output_type": "stream",
          "text": [
            "/usr/local/lib/python3.7/dist-packages/numpy/lib/nanfunctions.py:1544: RuntimeWarning:\n",
            "\n",
            "overflow encountered in multiply\n",
            "\n",
            "/usr/local/lib/python3.7/dist-packages/numpy/lib/nanfunctions.py:1544: RuntimeWarning:\n",
            "\n",
            "overflow encountered in multiply\n",
            "\n"
          ],
          "name": "stderr"
        },
        {
          "output_type": "stream",
          "text": [
            "Kendal uplift rank correlation =  0.4666666666666666 with p_value =  0.07255015432098766\n"
          ],
          "name": "stdout"
        },
        {
          "output_type": "stream",
          "text": [
            "/usr/local/lib/python3.7/dist-packages/numpy/lib/nanfunctions.py:1544: RuntimeWarning:\n",
            "\n",
            "overflow encountered in multiply\n",
            "\n",
            "/usr/local/lib/python3.7/dist-packages/numpy/lib/nanfunctions.py:1544: RuntimeWarning:\n",
            "\n",
            "overflow encountered in multiply\n",
            "\n"
          ],
          "name": "stderr"
        },
        {
          "output_type": "stream",
          "text": [
            "Kendal uplift rank correlation =  0.4222222222222222 with p_value =  0.10831349206349207\n"
          ],
          "name": "stdout"
        },
        {
          "output_type": "stream",
          "text": [
            "/usr/local/lib/python3.7/dist-packages/numpy/lib/nanfunctions.py:1544: RuntimeWarning:\n",
            "\n",
            "overflow encountered in multiply\n",
            "\n",
            "/usr/local/lib/python3.7/dist-packages/numpy/lib/nanfunctions.py:1544: RuntimeWarning:\n",
            "\n",
            "overflow encountered in multiply\n",
            "\n"
          ],
          "name": "stderr"
        },
        {
          "output_type": "stream",
          "text": [
            "Kendal uplift rank correlation =  0.37777777777777777 with p_value =  0.1557418430335097\n"
          ],
          "name": "stdout"
        },
        {
          "output_type": "stream",
          "text": [
            "/usr/local/lib/python3.7/dist-packages/numpy/lib/nanfunctions.py:1544: RuntimeWarning:\n",
            "\n",
            "overflow encountered in multiply\n",
            "\n",
            "/usr/local/lib/python3.7/dist-packages/numpy/lib/nanfunctions.py:1544: RuntimeWarning:\n",
            "\n",
            "overflow encountered in multiply\n",
            "\n"
          ],
          "name": "stderr"
        },
        {
          "output_type": "stream",
          "text": [
            "Kendal uplift rank correlation =  0.6 with p_value =  0.016666115520282188\n"
          ],
          "name": "stdout"
        },
        {
          "output_type": "stream",
          "text": [
            "/usr/local/lib/python3.7/dist-packages/numpy/lib/nanfunctions.py:1544: RuntimeWarning:\n",
            "\n",
            "overflow encountered in multiply\n",
            "\n",
            "/usr/local/lib/python3.7/dist-packages/numpy/lib/nanfunctions.py:1544: RuntimeWarning:\n",
            "\n",
            "overflow encountered in multiply\n",
            "\n"
          ],
          "name": "stderr"
        },
        {
          "output_type": "stream",
          "text": [
            "Kendal uplift rank correlation =  0.4666666666666666 with p_value =  0.07255015432098766\n"
          ],
          "name": "stdout"
        },
        {
          "output_type": "stream",
          "text": [
            "/usr/local/lib/python3.7/dist-packages/numpy/lib/nanfunctions.py:1544: RuntimeWarning:\n",
            "\n",
            "overflow encountered in multiply\n",
            "\n",
            "/usr/local/lib/python3.7/dist-packages/numpy/lib/nanfunctions.py:1544: RuntimeWarning:\n",
            "\n",
            "overflow encountered in multiply\n",
            "\n"
          ],
          "name": "stderr"
        },
        {
          "output_type": "stream",
          "text": [
            "Kendal uplift rank correlation =  0.1111111111111111 with p_value =  0.7274895282186948\n"
          ],
          "name": "stdout"
        },
        {
          "output_type": "stream",
          "text": [
            "/usr/local/lib/python3.7/dist-packages/numpy/lib/nanfunctions.py:1544: RuntimeWarning:\n",
            "\n",
            "overflow encountered in multiply\n",
            "\n",
            "/usr/local/lib/python3.7/dist-packages/numpy/lib/nanfunctions.py:1544: RuntimeWarning:\n",
            "\n",
            "overflow encountered in multiply\n",
            "\n"
          ],
          "name": "stderr"
        },
        {
          "output_type": "stream",
          "text": [
            "Kendal uplift rank correlation =  0.4666666666666666 with p_value =  0.07255015432098766\n"
          ],
          "name": "stdout"
        },
        {
          "output_type": "stream",
          "text": [
            "/usr/local/lib/python3.7/dist-packages/numpy/lib/nanfunctions.py:1544: RuntimeWarning:\n",
            "\n",
            "overflow encountered in multiply\n",
            "\n",
            "/usr/local/lib/python3.7/dist-packages/numpy/lib/nanfunctions.py:1544: RuntimeWarning:\n",
            "\n",
            "overflow encountered in multiply\n",
            "\n"
          ],
          "name": "stderr"
        },
        {
          "output_type": "stream",
          "text": [
            "Kendal uplift rank correlation =  0.5555555555555555 with p_value =  0.02860945767195767\n"
          ],
          "name": "stdout"
        },
        {
          "output_type": "stream",
          "text": [
            "/usr/local/lib/python3.7/dist-packages/numpy/lib/nanfunctions.py:1544: RuntimeWarning:\n",
            "\n",
            "overflow encountered in multiply\n",
            "\n",
            "/usr/local/lib/python3.7/dist-packages/numpy/lib/nanfunctions.py:1544: RuntimeWarning:\n",
            "\n",
            "overflow encountered in multiply\n",
            "\n"
          ],
          "name": "stderr"
        },
        {
          "output_type": "stream",
          "text": [
            "Kendal uplift rank correlation =  0.37777777777777777 with p_value =  0.1557418430335097\n"
          ],
          "name": "stdout"
        },
        {
          "output_type": "stream",
          "text": [
            "/usr/local/lib/python3.7/dist-packages/numpy/lib/nanfunctions.py:1544: RuntimeWarning:\n",
            "\n",
            "overflow encountered in multiply\n",
            "\n",
            "/usr/local/lib/python3.7/dist-packages/numpy/lib/nanfunctions.py:1544: RuntimeWarning:\n",
            "\n",
            "overflow encountered in multiply\n",
            "\n"
          ],
          "name": "stderr"
        },
        {
          "output_type": "stream",
          "text": [
            "Kendal uplift rank correlation =  0.6 with p_value =  0.016666115520282188\n"
          ],
          "name": "stdout"
        },
        {
          "output_type": "stream",
          "text": [
            "/usr/local/lib/python3.7/dist-packages/numpy/lib/nanfunctions.py:1544: RuntimeWarning:\n",
            "\n",
            "overflow encountered in multiply\n",
            "\n",
            "/usr/local/lib/python3.7/dist-packages/numpy/lib/nanfunctions.py:1544: RuntimeWarning:\n",
            "\n",
            "overflow encountered in multiply\n",
            "\n"
          ],
          "name": "stderr"
        },
        {
          "output_type": "stream",
          "text": [
            "Kendal uplift rank correlation =  0.19999999999999998 with p_value =  0.4843127204585538\n"
          ],
          "name": "stdout"
        },
        {
          "output_type": "stream",
          "text": [
            "/usr/local/lib/python3.7/dist-packages/numpy/lib/nanfunctions.py:1544: RuntimeWarning:\n",
            "\n",
            "overflow encountered in multiply\n",
            "\n",
            "/usr/local/lib/python3.7/dist-packages/numpy/lib/nanfunctions.py:1544: RuntimeWarning:\n",
            "\n",
            "overflow encountered in multiply\n",
            "\n"
          ],
          "name": "stderr"
        },
        {
          "output_type": "stream",
          "text": [
            "Kendal uplift rank correlation =  0.6 with p_value =  0.016666115520282188\n"
          ],
          "name": "stdout"
        },
        {
          "output_type": "stream",
          "text": [
            "/usr/local/lib/python3.7/dist-packages/numpy/lib/nanfunctions.py:1544: RuntimeWarning:\n",
            "\n",
            "overflow encountered in multiply\n",
            "\n",
            "/usr/local/lib/python3.7/dist-packages/numpy/lib/nanfunctions.py:1544: RuntimeWarning:\n",
            "\n",
            "overflow encountered in multiply\n",
            "\n"
          ],
          "name": "stderr"
        },
        {
          "output_type": "stream",
          "text": [
            "Kendal uplift rank correlation =  0.3333333333333333 with p_value =  0.21637345679012346\n"
          ],
          "name": "stdout"
        },
        {
          "output_type": "stream",
          "text": [
            "/usr/local/lib/python3.7/dist-packages/numpy/lib/nanfunctions.py:1544: RuntimeWarning:\n",
            "\n",
            "overflow encountered in multiply\n",
            "\n",
            "/usr/local/lib/python3.7/dist-packages/numpy/lib/nanfunctions.py:1544: RuntimeWarning:\n",
            "\n",
            "overflow encountered in multiply\n",
            "\n"
          ],
          "name": "stderr"
        },
        {
          "output_type": "stream",
          "text": [
            "Kendal uplift rank correlation =  0.6444444444444444 with p_value =  0.009148478835978836\n"
          ],
          "name": "stdout"
        },
        {
          "output_type": "stream",
          "text": [
            "/usr/local/lib/python3.7/dist-packages/numpy/lib/nanfunctions.py:1544: RuntimeWarning:\n",
            "\n",
            "overflow encountered in multiply\n",
            "\n",
            "/usr/local/lib/python3.7/dist-packages/numpy/lib/nanfunctions.py:1544: RuntimeWarning:\n",
            "\n",
            "overflow encountered in multiply\n",
            "\n"
          ],
          "name": "stderr"
        },
        {
          "output_type": "stream",
          "text": [
            "Kendal uplift rank correlation =  0.3333333333333333 with p_value =  0.21637345679012346\n"
          ],
          "name": "stdout"
        },
        {
          "output_type": "stream",
          "text": [
            "/usr/local/lib/python3.7/dist-packages/numpy/lib/nanfunctions.py:1544: RuntimeWarning:\n",
            "\n",
            "overflow encountered in multiply\n",
            "\n",
            "/usr/local/lib/python3.7/dist-packages/numpy/lib/nanfunctions.py:1544: RuntimeWarning:\n",
            "\n",
            "overflow encountered in multiply\n",
            "\n"
          ],
          "name": "stderr"
        },
        {
          "output_type": "stream",
          "text": [
            "Kendal uplift rank correlation =  0.24444444444444444 with p_value =  0.38071979717813054\n"
          ],
          "name": "stdout"
        },
        {
          "output_type": "stream",
          "text": [
            "/usr/local/lib/python3.7/dist-packages/numpy/lib/nanfunctions.py:1544: RuntimeWarning:\n",
            "\n",
            "overflow encountered in multiply\n",
            "\n",
            "/usr/local/lib/python3.7/dist-packages/numpy/lib/nanfunctions.py:1544: RuntimeWarning:\n",
            "\n",
            "overflow encountered in multiply\n",
            "\n"
          ],
          "name": "stderr"
        },
        {
          "output_type": "stream",
          "text": [
            "Kendal uplift rank correlation =  0.5111111111111111 with p_value =  0.04662257495590829\n"
          ],
          "name": "stdout"
        },
        {
          "output_type": "stream",
          "text": [
            "/usr/local/lib/python3.7/dist-packages/numpy/lib/nanfunctions.py:1544: RuntimeWarning:\n",
            "\n",
            "overflow encountered in multiply\n",
            "\n",
            "/usr/local/lib/python3.7/dist-packages/numpy/lib/nanfunctions.py:1544: RuntimeWarning:\n",
            "\n",
            "overflow encountered in multiply\n",
            "\n"
          ],
          "name": "stderr"
        },
        {
          "output_type": "stream",
          "text": [
            "Kendal uplift rank correlation =  0.1111111111111111 with p_value =  0.7274895282186948\n"
          ],
          "name": "stdout"
        },
        {
          "output_type": "stream",
          "text": [
            "/usr/local/lib/python3.7/dist-packages/numpy/lib/nanfunctions.py:1544: RuntimeWarning:\n",
            "\n",
            "overflow encountered in multiply\n",
            "\n",
            "/usr/local/lib/python3.7/dist-packages/numpy/lib/nanfunctions.py:1544: RuntimeWarning:\n",
            "\n",
            "overflow encountered in multiply\n",
            "\n"
          ],
          "name": "stderr"
        },
        {
          "output_type": "stream",
          "text": [
            "Kendal uplift rank correlation =  0.7777777777777777 with p_value =  0.0009463183421516755\n"
          ],
          "name": "stdout"
        },
        {
          "output_type": "stream",
          "text": [
            "/usr/local/lib/python3.7/dist-packages/numpy/lib/nanfunctions.py:1544: RuntimeWarning:\n",
            "\n",
            "overflow encountered in multiply\n",
            "\n",
            "/usr/local/lib/python3.7/dist-packages/numpy/lib/nanfunctions.py:1544: RuntimeWarning:\n",
            "\n",
            "overflow encountered in multiply\n",
            "\n"
          ],
          "name": "stderr"
        },
        {
          "output_type": "stream",
          "text": [
            "Kendal uplift rank correlation =  0.28888888888888886 with p_value =  0.2912483465608466\n"
          ],
          "name": "stdout"
        },
        {
          "output_type": "stream",
          "text": [
            "/usr/local/lib/python3.7/dist-packages/numpy/lib/nanfunctions.py:1544: RuntimeWarning:\n",
            "\n",
            "overflow encountered in multiply\n",
            "\n",
            "/usr/local/lib/python3.7/dist-packages/numpy/lib/nanfunctions.py:1544: RuntimeWarning:\n",
            "\n",
            "overflow encountered in multiply\n",
            "\n"
          ],
          "name": "stderr"
        },
        {
          "output_type": "stream",
          "text": [
            "Kendal uplift rank correlation =  0.4666666666666666 with p_value =  0.07255015432098766\n"
          ],
          "name": "stdout"
        },
        {
          "output_type": "stream",
          "text": [
            "/usr/local/lib/python3.7/dist-packages/numpy/lib/nanfunctions.py:1544: RuntimeWarning:\n",
            "\n",
            "overflow encountered in multiply\n",
            "\n",
            "/usr/local/lib/python3.7/dist-packages/numpy/lib/nanfunctions.py:1544: RuntimeWarning:\n",
            "\n",
            "overflow encountered in multiply\n",
            "\n"
          ],
          "name": "stderr"
        },
        {
          "output_type": "stream",
          "text": [
            "Kendal uplift rank correlation =  0.6 with p_value =  0.016666115520282188\n"
          ],
          "name": "stdout"
        },
        {
          "output_type": "stream",
          "text": [
            "/usr/local/lib/python3.7/dist-packages/numpy/lib/nanfunctions.py:1544: RuntimeWarning:\n",
            "\n",
            "overflow encountered in multiply\n",
            "\n",
            "/usr/local/lib/python3.7/dist-packages/numpy/lib/nanfunctions.py:1544: RuntimeWarning:\n",
            "\n",
            "overflow encountered in multiply\n",
            "\n"
          ],
          "name": "stderr"
        },
        {
          "output_type": "stream",
          "text": [
            "Kendal uplift rank correlation =  0.3333333333333333 with p_value =  0.21637345679012346\n"
          ],
          "name": "stdout"
        },
        {
          "output_type": "stream",
          "text": [
            "/usr/local/lib/python3.7/dist-packages/numpy/lib/nanfunctions.py:1544: RuntimeWarning:\n",
            "\n",
            "overflow encountered in multiply\n",
            "\n",
            "/usr/local/lib/python3.7/dist-packages/numpy/lib/nanfunctions.py:1544: RuntimeWarning:\n",
            "\n",
            "overflow encountered in multiply\n",
            "\n"
          ],
          "name": "stderr"
        },
        {
          "output_type": "stream",
          "text": [
            "Kendal uplift rank correlation =  0.28888888888888886 with p_value =  0.2912483465608466\n"
          ],
          "name": "stdout"
        },
        {
          "output_type": "stream",
          "text": [
            "/usr/local/lib/python3.7/dist-packages/numpy/lib/nanfunctions.py:1544: RuntimeWarning:\n",
            "\n",
            "overflow encountered in multiply\n",
            "\n",
            "/usr/local/lib/python3.7/dist-packages/numpy/lib/nanfunctions.py:1544: RuntimeWarning:\n",
            "\n",
            "overflow encountered in multiply\n",
            "\n"
          ],
          "name": "stderr"
        },
        {
          "output_type": "stream",
          "text": [
            "Kendal uplift rank correlation =  0.37777777777777777 with p_value =  0.1557418430335097\n"
          ],
          "name": "stdout"
        },
        {
          "output_type": "stream",
          "text": [
            "/usr/local/lib/python3.7/dist-packages/numpy/lib/nanfunctions.py:1544: RuntimeWarning:\n",
            "\n",
            "overflow encountered in multiply\n",
            "\n",
            "/usr/local/lib/python3.7/dist-packages/numpy/lib/nanfunctions.py:1544: RuntimeWarning:\n",
            "\n",
            "overflow encountered in multiply\n",
            "\n"
          ],
          "name": "stderr"
        },
        {
          "output_type": "stream",
          "text": [
            "Kendal uplift rank correlation =  0.24444444444444444 with p_value =  0.38071979717813054\n"
          ],
          "name": "stdout"
        },
        {
          "output_type": "stream",
          "text": [
            "/usr/local/lib/python3.7/dist-packages/numpy/lib/nanfunctions.py:1544: RuntimeWarning:\n",
            "\n",
            "overflow encountered in multiply\n",
            "\n",
            "/usr/local/lib/python3.7/dist-packages/numpy/lib/nanfunctions.py:1544: RuntimeWarning:\n",
            "\n",
            "overflow encountered in multiply\n",
            "\n"
          ],
          "name": "stderr"
        },
        {
          "output_type": "stream",
          "text": [
            "Kendal uplift rank correlation =  0.24444444444444444 with p_value =  0.38071979717813054\n"
          ],
          "name": "stdout"
        },
        {
          "output_type": "stream",
          "text": [
            "/usr/local/lib/python3.7/dist-packages/numpy/lib/nanfunctions.py:1544: RuntimeWarning:\n",
            "\n",
            "overflow encountered in multiply\n",
            "\n",
            "/usr/local/lib/python3.7/dist-packages/numpy/lib/nanfunctions.py:1544: RuntimeWarning:\n",
            "\n",
            "overflow encountered in multiply\n",
            "\n"
          ],
          "name": "stderr"
        },
        {
          "output_type": "stream",
          "text": [
            "Kendal uplift rank correlation =  0.3333333333333333 with p_value =  0.21637345679012346\n"
          ],
          "name": "stdout"
        },
        {
          "output_type": "stream",
          "text": [
            "/usr/local/lib/python3.7/dist-packages/numpy/lib/nanfunctions.py:1544: RuntimeWarning:\n",
            "\n",
            "overflow encountered in multiply\n",
            "\n",
            "/usr/local/lib/python3.7/dist-packages/numpy/lib/nanfunctions.py:1544: RuntimeWarning:\n",
            "\n",
            "overflow encountered in multiply\n",
            "\n"
          ],
          "name": "stderr"
        },
        {
          "output_type": "stream",
          "text": [
            "Kendal uplift rank correlation =  0.4222222222222222 with p_value =  0.10831349206349207\n"
          ],
          "name": "stdout"
        },
        {
          "output_type": "stream",
          "text": [
            "/usr/local/lib/python3.7/dist-packages/numpy/lib/nanfunctions.py:1544: RuntimeWarning:\n",
            "\n",
            "overflow encountered in multiply\n",
            "\n",
            "/usr/local/lib/python3.7/dist-packages/numpy/lib/nanfunctions.py:1544: RuntimeWarning:\n",
            "\n",
            "overflow encountered in multiply\n",
            "\n"
          ],
          "name": "stderr"
        },
        {
          "output_type": "stream",
          "text": [
            "Kendal uplift rank correlation =  0.19999999999999998 with p_value =  0.4843127204585538\n"
          ],
          "name": "stdout"
        },
        {
          "output_type": "stream",
          "text": [
            "/usr/local/lib/python3.7/dist-packages/numpy/lib/nanfunctions.py:1544: RuntimeWarning:\n",
            "\n",
            "overflow encountered in multiply\n",
            "\n",
            "/usr/local/lib/python3.7/dist-packages/numpy/lib/nanfunctions.py:1544: RuntimeWarning:\n",
            "\n",
            "overflow encountered in multiply\n",
            "\n"
          ],
          "name": "stderr"
        },
        {
          "output_type": "stream",
          "text": [
            "Kendal uplift rank correlation =  0.6888888888888888 with p_value =  0.00468694885361552\n"
          ],
          "name": "stdout"
        },
        {
          "output_type": "stream",
          "text": [
            "/usr/local/lib/python3.7/dist-packages/numpy/lib/nanfunctions.py:1544: RuntimeWarning:\n",
            "\n",
            "overflow encountered in multiply\n",
            "\n",
            "/usr/local/lib/python3.7/dist-packages/numpy/lib/nanfunctions.py:1544: RuntimeWarning:\n",
            "\n",
            "overflow encountered in multiply\n",
            "\n"
          ],
          "name": "stderr"
        },
        {
          "output_type": "stream",
          "text": [
            "Kendal uplift rank correlation =  0.4222222222222222 with p_value =  0.10831349206349207\n"
          ],
          "name": "stdout"
        },
        {
          "output_type": "stream",
          "text": [
            "/usr/local/lib/python3.7/dist-packages/numpy/lib/nanfunctions.py:1544: RuntimeWarning:\n",
            "\n",
            "overflow encountered in multiply\n",
            "\n",
            "/usr/local/lib/python3.7/dist-packages/numpy/lib/nanfunctions.py:1544: RuntimeWarning:\n",
            "\n",
            "overflow encountered in multiply\n",
            "\n"
          ],
          "name": "stderr"
        },
        {
          "output_type": "stream",
          "text": [
            "Kendal uplift rank correlation =  0.19999999999999998 with p_value =  0.4843127204585538\n"
          ],
          "name": "stdout"
        },
        {
          "output_type": "stream",
          "text": [
            "/usr/local/lib/python3.7/dist-packages/numpy/lib/nanfunctions.py:1544: RuntimeWarning:\n",
            "\n",
            "overflow encountered in multiply\n",
            "\n",
            "/usr/local/lib/python3.7/dist-packages/numpy/lib/nanfunctions.py:1544: RuntimeWarning:\n",
            "\n",
            "overflow encountered in multiply\n",
            "\n"
          ],
          "name": "stderr"
        },
        {
          "output_type": "stream",
          "text": [
            "Kendal uplift rank correlation =  0.37777777777777777 with p_value =  0.1557418430335097\n"
          ],
          "name": "stdout"
        },
        {
          "output_type": "stream",
          "text": [
            "/usr/local/lib/python3.7/dist-packages/numpy/lib/nanfunctions.py:1544: RuntimeWarning:\n",
            "\n",
            "overflow encountered in multiply\n",
            "\n",
            "/usr/local/lib/python3.7/dist-packages/numpy/lib/nanfunctions.py:1544: RuntimeWarning:\n",
            "\n",
            "overflow encountered in multiply\n",
            "\n"
          ],
          "name": "stderr"
        },
        {
          "output_type": "stream",
          "text": [
            "Kendal uplift rank correlation =  0.1111111111111111 with p_value =  0.7274895282186948\n"
          ],
          "name": "stdout"
        },
        {
          "output_type": "stream",
          "text": [
            "/usr/local/lib/python3.7/dist-packages/numpy/lib/nanfunctions.py:1544: RuntimeWarning:\n",
            "\n",
            "overflow encountered in multiply\n",
            "\n",
            "/usr/local/lib/python3.7/dist-packages/numpy/lib/nanfunctions.py:1544: RuntimeWarning:\n",
            "\n",
            "overflow encountered in multiply\n",
            "\n"
          ],
          "name": "stderr"
        },
        {
          "output_type": "stream",
          "text": [
            "Kendal uplift rank correlation =  0.5555555555555555 with p_value =  0.02860945767195767\n"
          ],
          "name": "stdout"
        },
        {
          "output_type": "stream",
          "text": [
            "/usr/local/lib/python3.7/dist-packages/numpy/lib/nanfunctions.py:1544: RuntimeWarning:\n",
            "\n",
            "overflow encountered in multiply\n",
            "\n",
            "/usr/local/lib/python3.7/dist-packages/numpy/lib/nanfunctions.py:1544: RuntimeWarning:\n",
            "\n",
            "overflow encountered in multiply\n",
            "\n"
          ],
          "name": "stderr"
        },
        {
          "output_type": "stream",
          "text": [
            "Kendal uplift rank correlation =  0.24444444444444444 with p_value =  0.38071979717813054\n"
          ],
          "name": "stdout"
        },
        {
          "output_type": "stream",
          "text": [
            "/usr/local/lib/python3.7/dist-packages/numpy/lib/nanfunctions.py:1544: RuntimeWarning:\n",
            "\n",
            "overflow encountered in multiply\n",
            "\n",
            "/usr/local/lib/python3.7/dist-packages/numpy/lib/nanfunctions.py:1544: RuntimeWarning:\n",
            "\n",
            "overflow encountered in multiply\n",
            "\n"
          ],
          "name": "stderr"
        },
        {
          "output_type": "stream",
          "text": [
            "Kendal uplift rank correlation =  0.4666666666666666 with p_value =  0.07255015432098766\n"
          ],
          "name": "stdout"
        },
        {
          "output_type": "stream",
          "text": [
            "/usr/local/lib/python3.7/dist-packages/numpy/lib/nanfunctions.py:1544: RuntimeWarning:\n",
            "\n",
            "overflow encountered in multiply\n",
            "\n",
            "/usr/local/lib/python3.7/dist-packages/numpy/lib/nanfunctions.py:1544: RuntimeWarning:\n",
            "\n",
            "overflow encountered in multiply\n",
            "\n"
          ],
          "name": "stderr"
        },
        {
          "output_type": "stream",
          "text": [
            "Kendal uplift rank correlation =  0.6 with p_value =  0.016666115520282188\n"
          ],
          "name": "stdout"
        },
        {
          "output_type": "stream",
          "text": [
            "/usr/local/lib/python3.7/dist-packages/numpy/lib/nanfunctions.py:1544: RuntimeWarning:\n",
            "\n",
            "overflow encountered in multiply\n",
            "\n",
            "/usr/local/lib/python3.7/dist-packages/numpy/lib/nanfunctions.py:1544: RuntimeWarning:\n",
            "\n",
            "overflow encountered in multiply\n",
            "\n"
          ],
          "name": "stderr"
        },
        {
          "output_type": "stream",
          "text": [
            "Kendal uplift rank correlation =  0.5111111111111111 with p_value =  0.04662257495590829\n"
          ],
          "name": "stdout"
        },
        {
          "output_type": "stream",
          "text": [
            "/usr/local/lib/python3.7/dist-packages/numpy/lib/nanfunctions.py:1544: RuntimeWarning:\n",
            "\n",
            "overflow encountered in multiply\n",
            "\n",
            "/usr/local/lib/python3.7/dist-packages/numpy/lib/nanfunctions.py:1544: RuntimeWarning:\n",
            "\n",
            "overflow encountered in multiply\n",
            "\n"
          ],
          "name": "stderr"
        },
        {
          "output_type": "stream",
          "text": [
            "Kendal uplift rank correlation =  0.6444444444444444 with p_value =  0.009148478835978836\n"
          ],
          "name": "stdout"
        },
        {
          "output_type": "stream",
          "text": [
            "/usr/local/lib/python3.7/dist-packages/numpy/lib/nanfunctions.py:1544: RuntimeWarning:\n",
            "\n",
            "overflow encountered in multiply\n",
            "\n",
            "/usr/local/lib/python3.7/dist-packages/numpy/lib/nanfunctions.py:1544: RuntimeWarning:\n",
            "\n",
            "overflow encountered in multiply\n",
            "\n"
          ],
          "name": "stderr"
        },
        {
          "output_type": "stream",
          "text": [
            "Kendal uplift rank correlation =  0.28888888888888886 with p_value =  0.2912483465608466\n"
          ],
          "name": "stdout"
        },
        {
          "output_type": "stream",
          "text": [
            "/usr/local/lib/python3.7/dist-packages/numpy/lib/nanfunctions.py:1544: RuntimeWarning:\n",
            "\n",
            "overflow encountered in multiply\n",
            "\n",
            "/usr/local/lib/python3.7/dist-packages/numpy/lib/nanfunctions.py:1544: RuntimeWarning:\n",
            "\n",
            "overflow encountered in multiply\n",
            "\n"
          ],
          "name": "stderr"
        },
        {
          "output_type": "stream",
          "text": [
            "Kendal uplift rank correlation =  0.5111111111111111 with p_value =  0.04662257495590829\n"
          ],
          "name": "stdout"
        },
        {
          "output_type": "stream",
          "text": [
            "/usr/local/lib/python3.7/dist-packages/numpy/lib/nanfunctions.py:1544: RuntimeWarning:\n",
            "\n",
            "overflow encountered in multiply\n",
            "\n",
            "/usr/local/lib/python3.7/dist-packages/numpy/lib/nanfunctions.py:1544: RuntimeWarning:\n",
            "\n",
            "overflow encountered in multiply\n",
            "\n"
          ],
          "name": "stderr"
        },
        {
          "output_type": "stream",
          "text": [
            "Kendal uplift rank correlation =  0.5555555555555555 with p_value =  0.02860945767195767\n"
          ],
          "name": "stdout"
        },
        {
          "output_type": "stream",
          "text": [
            "/usr/local/lib/python3.7/dist-packages/numpy/lib/nanfunctions.py:1544: RuntimeWarning:\n",
            "\n",
            "overflow encountered in multiply\n",
            "\n",
            "/usr/local/lib/python3.7/dist-packages/numpy/lib/nanfunctions.py:1544: RuntimeWarning:\n",
            "\n",
            "overflow encountered in multiply\n",
            "\n"
          ],
          "name": "stderr"
        },
        {
          "output_type": "stream",
          "text": [
            "Kendal uplift rank correlation =  0.3333333333333333 with p_value =  0.21637345679012346\n"
          ],
          "name": "stdout"
        },
        {
          "output_type": "stream",
          "text": [
            "/usr/local/lib/python3.7/dist-packages/numpy/lib/nanfunctions.py:1544: RuntimeWarning:\n",
            "\n",
            "overflow encountered in multiply\n",
            "\n",
            "/usr/local/lib/python3.7/dist-packages/numpy/lib/nanfunctions.py:1544: RuntimeWarning:\n",
            "\n",
            "overflow encountered in multiply\n",
            "\n"
          ],
          "name": "stderr"
        },
        {
          "output_type": "stream",
          "text": [
            "Kendal uplift rank correlation =  0.5555555555555555 with p_value =  0.02860945767195767\n"
          ],
          "name": "stdout"
        },
        {
          "output_type": "stream",
          "text": [
            "/usr/local/lib/python3.7/dist-packages/numpy/lib/nanfunctions.py:1544: RuntimeWarning:\n",
            "\n",
            "overflow encountered in multiply\n",
            "\n",
            "/usr/local/lib/python3.7/dist-packages/numpy/lib/nanfunctions.py:1544: RuntimeWarning:\n",
            "\n",
            "overflow encountered in multiply\n",
            "\n"
          ],
          "name": "stderr"
        },
        {
          "output_type": "stream",
          "text": [
            "Kendal uplift rank correlation =  0.5111111111111111 with p_value =  0.04662257495590829\n"
          ],
          "name": "stdout"
        },
        {
          "output_type": "stream",
          "text": [
            "/usr/local/lib/python3.7/dist-packages/numpy/lib/nanfunctions.py:1544: RuntimeWarning:\n",
            "\n",
            "overflow encountered in multiply\n",
            "\n",
            "/usr/local/lib/python3.7/dist-packages/numpy/lib/nanfunctions.py:1544: RuntimeWarning:\n",
            "\n",
            "overflow encountered in multiply\n",
            "\n"
          ],
          "name": "stderr"
        },
        {
          "output_type": "stream",
          "text": [
            "Kendal uplift rank correlation =  0.19999999999999998 with p_value =  0.4843127204585538\n"
          ],
          "name": "stdout"
        },
        {
          "output_type": "stream",
          "text": [
            "/usr/local/lib/python3.7/dist-packages/numpy/lib/nanfunctions.py:1544: RuntimeWarning:\n",
            "\n",
            "overflow encountered in multiply\n",
            "\n",
            "/usr/local/lib/python3.7/dist-packages/numpy/lib/nanfunctions.py:1544: RuntimeWarning:\n",
            "\n",
            "overflow encountered in multiply\n",
            "\n"
          ],
          "name": "stderr"
        },
        {
          "output_type": "stream",
          "text": [
            "Kendal uplift rank correlation =  0.4666666666666666 with p_value =  0.07255015432098766\n"
          ],
          "name": "stdout"
        },
        {
          "output_type": "stream",
          "text": [
            "/usr/local/lib/python3.7/dist-packages/numpy/lib/nanfunctions.py:1544: RuntimeWarning:\n",
            "\n",
            "overflow encountered in multiply\n",
            "\n",
            "/usr/local/lib/python3.7/dist-packages/numpy/lib/nanfunctions.py:1544: RuntimeWarning:\n",
            "\n",
            "overflow encountered in multiply\n",
            "\n"
          ],
          "name": "stderr"
        },
        {
          "output_type": "stream",
          "text": [
            "Kendal uplift rank correlation =  0.15555555555555553 with p_value =  0.6006536596119929\n"
          ],
          "name": "stdout"
        },
        {
          "output_type": "stream",
          "text": [
            "/usr/local/lib/python3.7/dist-packages/numpy/lib/nanfunctions.py:1544: RuntimeWarning:\n",
            "\n",
            "overflow encountered in multiply\n",
            "\n",
            "/usr/local/lib/python3.7/dist-packages/numpy/lib/nanfunctions.py:1544: RuntimeWarning:\n",
            "\n",
            "overflow encountered in multiply\n",
            "\n"
          ],
          "name": "stderr"
        },
        {
          "output_type": "stream",
          "text": [
            "Kendal uplift rank correlation =  0.3333333333333333 with p_value =  0.21637345679012346\n"
          ],
          "name": "stdout"
        },
        {
          "output_type": "stream",
          "text": [
            "/usr/local/lib/python3.7/dist-packages/numpy/lib/nanfunctions.py:1544: RuntimeWarning:\n",
            "\n",
            "overflow encountered in multiply\n",
            "\n",
            "/usr/local/lib/python3.7/dist-packages/numpy/lib/nanfunctions.py:1544: RuntimeWarning:\n",
            "\n",
            "overflow encountered in multiply\n",
            "\n"
          ],
          "name": "stderr"
        },
        {
          "output_type": "stream",
          "text": [
            "Kendal uplift rank correlation =  0.19999999999999998 with p_value =  0.4843127204585538\n"
          ],
          "name": "stdout"
        },
        {
          "output_type": "stream",
          "text": [
            "/usr/local/lib/python3.7/dist-packages/numpy/lib/nanfunctions.py:1544: RuntimeWarning:\n",
            "\n",
            "overflow encountered in multiply\n",
            "\n",
            "/usr/local/lib/python3.7/dist-packages/numpy/lib/nanfunctions.py:1544: RuntimeWarning:\n",
            "\n",
            "overflow encountered in multiply\n",
            "\n"
          ],
          "name": "stderr"
        },
        {
          "output_type": "stream",
          "text": [
            "Kendal uplift rank correlation =  0.6 with p_value =  0.016666115520282188\n"
          ],
          "name": "stdout"
        },
        {
          "output_type": "stream",
          "text": [
            "/usr/local/lib/python3.7/dist-packages/numpy/lib/nanfunctions.py:1544: RuntimeWarning:\n",
            "\n",
            "overflow encountered in multiply\n",
            "\n",
            "/usr/local/lib/python3.7/dist-packages/numpy/lib/nanfunctions.py:1544: RuntimeWarning:\n",
            "\n",
            "overflow encountered in multiply\n",
            "\n"
          ],
          "name": "stderr"
        },
        {
          "output_type": "stream",
          "text": [
            "Kendal uplift rank correlation =  0.6888888888888888 with p_value =  0.00468694885361552\n"
          ],
          "name": "stdout"
        },
        {
          "output_type": "stream",
          "text": [
            "/usr/local/lib/python3.7/dist-packages/numpy/lib/nanfunctions.py:1544: RuntimeWarning:\n",
            "\n",
            "overflow encountered in multiply\n",
            "\n",
            "/usr/local/lib/python3.7/dist-packages/numpy/lib/nanfunctions.py:1544: RuntimeWarning:\n",
            "\n",
            "overflow encountered in multiply\n",
            "\n"
          ],
          "name": "stderr"
        },
        {
          "output_type": "stream",
          "text": [
            "Kendal uplift rank correlation =  0.4222222222222222 with p_value =  0.10831349206349207\n"
          ],
          "name": "stdout"
        },
        {
          "output_type": "stream",
          "text": [
            "/usr/local/lib/python3.7/dist-packages/numpy/lib/nanfunctions.py:1544: RuntimeWarning:\n",
            "\n",
            "overflow encountered in multiply\n",
            "\n",
            "/usr/local/lib/python3.7/dist-packages/numpy/lib/nanfunctions.py:1544: RuntimeWarning:\n",
            "\n",
            "overflow encountered in multiply\n",
            "\n"
          ],
          "name": "stderr"
        },
        {
          "output_type": "stream",
          "text": [
            "Kendal uplift rank correlation =  0.3333333333333333 with p_value =  0.21637345679012346\n"
          ],
          "name": "stdout"
        },
        {
          "output_type": "stream",
          "text": [
            "/usr/local/lib/python3.7/dist-packages/numpy/lib/nanfunctions.py:1544: RuntimeWarning:\n",
            "\n",
            "overflow encountered in multiply\n",
            "\n",
            "/usr/local/lib/python3.7/dist-packages/numpy/lib/nanfunctions.py:1544: RuntimeWarning:\n",
            "\n",
            "overflow encountered in multiply\n",
            "\n"
          ],
          "name": "stderr"
        },
        {
          "output_type": "stream",
          "text": [
            "Kendal uplift rank correlation =  0.6 with p_value =  0.016666115520282188\n"
          ],
          "name": "stdout"
        },
        {
          "output_type": "stream",
          "text": [
            "/usr/local/lib/python3.7/dist-packages/numpy/lib/nanfunctions.py:1544: RuntimeWarning:\n",
            "\n",
            "overflow encountered in multiply\n",
            "\n",
            "/usr/local/lib/python3.7/dist-packages/numpy/lib/nanfunctions.py:1544: RuntimeWarning:\n",
            "\n",
            "overflow encountered in multiply\n",
            "\n"
          ],
          "name": "stderr"
        },
        {
          "output_type": "stream",
          "text": [
            "Kendal uplift rank correlation =  0.37777777777777777 with p_value =  0.1557418430335097\n"
          ],
          "name": "stdout"
        },
        {
          "output_type": "stream",
          "text": [
            "/usr/local/lib/python3.7/dist-packages/numpy/lib/nanfunctions.py:1544: RuntimeWarning:\n",
            "\n",
            "overflow encountered in multiply\n",
            "\n",
            "/usr/local/lib/python3.7/dist-packages/numpy/lib/nanfunctions.py:1544: RuntimeWarning:\n",
            "\n",
            "overflow encountered in multiply\n",
            "\n"
          ],
          "name": "stderr"
        },
        {
          "output_type": "stream",
          "text": [
            "Kendal uplift rank correlation =  0.5555555555555555 with p_value =  0.02860945767195767\n"
          ],
          "name": "stdout"
        },
        {
          "output_type": "stream",
          "text": [
            "/usr/local/lib/python3.7/dist-packages/numpy/lib/nanfunctions.py:1544: RuntimeWarning:\n",
            "\n",
            "overflow encountered in multiply\n",
            "\n",
            "/usr/local/lib/python3.7/dist-packages/numpy/lib/nanfunctions.py:1544: RuntimeWarning:\n",
            "\n",
            "overflow encountered in multiply\n",
            "\n"
          ],
          "name": "stderr"
        },
        {
          "output_type": "stream",
          "text": [
            "Kendal uplift rank correlation =  0.5111111111111111 with p_value =  0.04662257495590829\n"
          ],
          "name": "stdout"
        },
        {
          "output_type": "stream",
          "text": [
            "/usr/local/lib/python3.7/dist-packages/numpy/lib/nanfunctions.py:1544: RuntimeWarning:\n",
            "\n",
            "overflow encountered in multiply\n",
            "\n",
            "/usr/local/lib/python3.7/dist-packages/numpy/lib/nanfunctions.py:1544: RuntimeWarning:\n",
            "\n",
            "overflow encountered in multiply\n",
            "\n"
          ],
          "name": "stderr"
        },
        {
          "output_type": "stream",
          "text": [
            "Kendal uplift rank correlation =  -0.06666666666666667 with p_value =  0.8618005952380953\n"
          ],
          "name": "stdout"
        },
        {
          "output_type": "stream",
          "text": [
            "/usr/local/lib/python3.7/dist-packages/numpy/lib/nanfunctions.py:1544: RuntimeWarning:\n",
            "\n",
            "overflow encountered in multiply\n",
            "\n",
            "/usr/local/lib/python3.7/dist-packages/numpy/lib/nanfunctions.py:1544: RuntimeWarning:\n",
            "\n",
            "overflow encountered in multiply\n",
            "\n"
          ],
          "name": "stderr"
        },
        {
          "output_type": "stream",
          "text": [
            "Kendal uplift rank correlation =  0.37777777777777777 with p_value =  0.1557418430335097\n",
            "Число замеров 100\n",
            "AUQC: mean:  777131.8653513716 | std:  328689.23536077485\n",
            "uplift30%: mean:  0.050638668929862816 | std:  0.009732383082024293\n",
            "Kendall_rank_correlation: mean:  0.4084444444444445 | std:  0.1725025414995196\n",
            "AUUC: mean:  0.013102329277765614 | std:  0.005318736325047605\n",
            "uplift5%: mean:  0.09984563427452942 | sem:  0.002756289052032478\n"
          ],
          "name": "stdout"
        }
      ]
    },
    {
      "cell_type": "markdown",
      "metadata": {
        "id": "Y94zpWH6zi8f"
      },
      "source": [
        "#Uplift 5 % сиамские сети"
      ]
    },
    {
      "cell_type": "code",
      "metadata": {
        "colab": {
          "base_uri": "https://localhost:8080/"
        },
        "id": "0Ax-jBhu6oHg",
        "outputId": "200a4f6c-7ac0-478d-e70a-d500d92bf46f"
      },
      "source": [
        "from UPLIFT_modeling.uplift.metrics import Kendall_rank_correlation, qini_auc_score, uplift_at_k\n",
        "from scipy import stats \n",
        "\n",
        "all_res_uplift = []\n",
        "all_res_auqc = []\n",
        "all_res_rank_correlation = []\n",
        "all_res_auuc = []\n",
        "all_uplift_five = []s\n",
        "\n",
        "for j in range( 1, 101, 1):\n",
        "\n",
        "    #logger.info(f\"Random state =:{j}\")\n",
        "    RANDOM_STATE = j\n",
        "    indices_learn_new, indices_valid_new = train_test_split(\n",
        "        indices_valid,\n",
        "        test_size=0.35,\n",
        "        random_state = RANDOM_STATE,\n",
        "    )\n",
        "   \n",
        "\n",
        "    X_valid = features.loc[indices_valid_new, :]\n",
        "    treatment_valid = train.loc[indices_valid_new, 'treatment_flg'].values\n",
        "    target_valid = train.loc[indices_valid_new, 'target'].values\n",
        "\n",
        "    X_valid_0 = X_valid.copy()\n",
        "    X_valid_1 = X_valid.copy()\n",
        "\n",
        "    X_valid_1 = X_valid_1.astype('float32')\n",
        "    X_valid_1 = X_valid_1.replace([np.inf, -np.inf], np.nan).fillna(0)\n",
        "    X_valid_1 = scaler.fit_transform(X_valid_1)\n",
        "\n",
        "    X_valid_0 = X_valid_0.astype('float32')\n",
        "    X_valid_0 = X_valid_0.replace([np.inf, -np.inf], np.nan).fillna(0)\n",
        "    X_valid_0 = scaler.fit_transform(X_valid_0)\n",
        "\n",
        "    X_valid_0 = np.c_[ X_valid_0, np.zeros(X_valid_0.shape[0]) ]\n",
        "    X_valid_1 = np.c_[ X_valid_1, np.ones(X_valid_1.shape[0]) ] \n",
        "\n",
        "    model.eval()\n",
        "    X_valid_1 = torch.FloatTensor(X_valid_1)\n",
        "    X_valid_0 = torch.FloatTensor(X_valid_0)\n",
        "    \n",
        "    mu_1 = model(X_valid_1)\n",
        "    mu_0 = model(X_valid_0)\n",
        "    valid_pred = mu_1-mu_0\n",
        "    \n",
        "    valid_pred = valid_pred.detach().numpy()\n",
        "    valid_pred = valid_pred.reshape((-1,)) \n",
        "  \n",
        "    valid_pred = pd.Series(valid_pred, index = indices_valid_new)\n",
        "    \n",
        "    # valid_pred = clf.predict(X_valid)\n",
        "    AUQC = qini_auc_score(target_valid, valid_pred, treatment_valid)\n",
        "   \n",
        "    valid_scores = uplift_at_k(target_valid, valid_pred, treatment_valid)\n",
        "    uplift_five = uplift_at_k(target_valid, valid_pred, treatment_valid, rate = 0.05)\n",
        "    tau, p_value = Kendall_rank_correlation(target_valid, valid_pred, treatment_valid)\n",
        "    auuc = uplift_auc_score(target_valid, valid_pred, treatment_valid)\n",
        "    \n",
        "    all_res_uplift.append(valid_scores)\n",
        "    all_res_auqc.append(AUQC)\n",
        "    all_res_rank_correlation.append(tau)\n",
        "    all_res_auuc.append(auuc)\n",
        "    all_uplift_five.append(uplift_five)\n",
        "    \n",
        "\n",
        "print('uplift5%: mean: ', np.mean(all_uplift_five),\"| sem: \", stats.sem(all_uplift_five))"
      ],
      "execution_count": null,
      "outputs": [
        {
          "output_type": "stream",
          "text": [
            "/usr/local/lib/python3.7/dist-packages/numpy/lib/nanfunctions.py:1544: RuntimeWarning:\n",
            "\n",
            "overflow encountered in multiply\n",
            "\n",
            "/usr/local/lib/python3.7/dist-packages/numpy/lib/nanfunctions.py:1544: RuntimeWarning:\n",
            "\n",
            "overflow encountered in multiply\n",
            "\n"
          ],
          "name": "stderr"
        },
        {
          "output_type": "stream",
          "text": [
            "Kendal uplift rank correlation =  0.4666666666666666 with p_value =  0.07255015432098766\n"
          ],
          "name": "stdout"
        },
        {
          "output_type": "stream",
          "text": [
            "/usr/local/lib/python3.7/dist-packages/numpy/lib/nanfunctions.py:1544: RuntimeWarning:\n",
            "\n",
            "overflow encountered in multiply\n",
            "\n",
            "/usr/local/lib/python3.7/dist-packages/numpy/lib/nanfunctions.py:1544: RuntimeWarning:\n",
            "\n",
            "overflow encountered in multiply\n",
            "\n"
          ],
          "name": "stderr"
        },
        {
          "output_type": "stream",
          "text": [
            "Kendal uplift rank correlation =  0.6444444444444444 with p_value =  0.009148478835978836\n"
          ],
          "name": "stdout"
        },
        {
          "output_type": "stream",
          "text": [
            "/usr/local/lib/python3.7/dist-packages/numpy/lib/nanfunctions.py:1544: RuntimeWarning:\n",
            "\n",
            "overflow encountered in multiply\n",
            "\n",
            "/usr/local/lib/python3.7/dist-packages/numpy/lib/nanfunctions.py:1544: RuntimeWarning:\n",
            "\n",
            "overflow encountered in multiply\n",
            "\n"
          ],
          "name": "stderr"
        },
        {
          "output_type": "stream",
          "text": [
            "Kendal uplift rank correlation =  0.28888888888888886 with p_value =  0.2912483465608466\n"
          ],
          "name": "stdout"
        },
        {
          "output_type": "stream",
          "text": [
            "/usr/local/lib/python3.7/dist-packages/numpy/lib/nanfunctions.py:1544: RuntimeWarning:\n",
            "\n",
            "overflow encountered in multiply\n",
            "\n",
            "/usr/local/lib/python3.7/dist-packages/numpy/lib/nanfunctions.py:1544: RuntimeWarning:\n",
            "\n",
            "overflow encountered in multiply\n",
            "\n"
          ],
          "name": "stderr"
        },
        {
          "output_type": "stream",
          "text": [
            "Kendal uplift rank correlation =  0.37777777777777777 with p_value =  0.1557418430335097\n"
          ],
          "name": "stdout"
        },
        {
          "output_type": "stream",
          "text": [
            "/usr/local/lib/python3.7/dist-packages/numpy/lib/nanfunctions.py:1544: RuntimeWarning:\n",
            "\n",
            "overflow encountered in multiply\n",
            "\n",
            "/usr/local/lib/python3.7/dist-packages/numpy/lib/nanfunctions.py:1544: RuntimeWarning:\n",
            "\n",
            "overflow encountered in multiply\n",
            "\n"
          ],
          "name": "stderr"
        },
        {
          "output_type": "stream",
          "text": [
            "Kendal uplift rank correlation =  0.15555555555555553 with p_value =  0.6006536596119929\n"
          ],
          "name": "stdout"
        },
        {
          "output_type": "stream",
          "text": [
            "/usr/local/lib/python3.7/dist-packages/numpy/lib/nanfunctions.py:1544: RuntimeWarning:\n",
            "\n",
            "overflow encountered in multiply\n",
            "\n",
            "/usr/local/lib/python3.7/dist-packages/numpy/lib/nanfunctions.py:1544: RuntimeWarning:\n",
            "\n",
            "overflow encountered in multiply\n",
            "\n"
          ],
          "name": "stderr"
        },
        {
          "output_type": "stream",
          "text": [
            "Kendal uplift rank correlation =  0.5111111111111111 with p_value =  0.04662257495590829\n"
          ],
          "name": "stdout"
        },
        {
          "output_type": "stream",
          "text": [
            "/usr/local/lib/python3.7/dist-packages/numpy/lib/nanfunctions.py:1544: RuntimeWarning:\n",
            "\n",
            "overflow encountered in multiply\n",
            "\n",
            "/usr/local/lib/python3.7/dist-packages/numpy/lib/nanfunctions.py:1544: RuntimeWarning:\n",
            "\n",
            "overflow encountered in multiply\n",
            "\n"
          ],
          "name": "stderr"
        },
        {
          "output_type": "stream",
          "text": [
            "Kendal uplift rank correlation =  0.37777777777777777 with p_value =  0.1557418430335097\n"
          ],
          "name": "stdout"
        },
        {
          "output_type": "stream",
          "text": [
            "/usr/local/lib/python3.7/dist-packages/numpy/lib/nanfunctions.py:1544: RuntimeWarning:\n",
            "\n",
            "overflow encountered in multiply\n",
            "\n",
            "/usr/local/lib/python3.7/dist-packages/numpy/lib/nanfunctions.py:1544: RuntimeWarning:\n",
            "\n",
            "overflow encountered in multiply\n",
            "\n"
          ],
          "name": "stderr"
        },
        {
          "output_type": "stream",
          "text": [
            "Kendal uplift rank correlation =  0.5111111111111111 with p_value =  0.04662257495590829\n"
          ],
          "name": "stdout"
        },
        {
          "output_type": "stream",
          "text": [
            "/usr/local/lib/python3.7/dist-packages/numpy/lib/nanfunctions.py:1544: RuntimeWarning:\n",
            "\n",
            "overflow encountered in multiply\n",
            "\n",
            "/usr/local/lib/python3.7/dist-packages/numpy/lib/nanfunctions.py:1544: RuntimeWarning:\n",
            "\n",
            "overflow encountered in multiply\n",
            "\n"
          ],
          "name": "stderr"
        },
        {
          "output_type": "stream",
          "text": [
            "Kendal uplift rank correlation =  0.24444444444444444 with p_value =  0.38071979717813054\n"
          ],
          "name": "stdout"
        },
        {
          "output_type": "stream",
          "text": [
            "/usr/local/lib/python3.7/dist-packages/numpy/lib/nanfunctions.py:1544: RuntimeWarning:\n",
            "\n",
            "overflow encountered in multiply\n",
            "\n",
            "/usr/local/lib/python3.7/dist-packages/numpy/lib/nanfunctions.py:1544: RuntimeWarning:\n",
            "\n",
            "overflow encountered in multiply\n",
            "\n"
          ],
          "name": "stderr"
        },
        {
          "output_type": "stream",
          "text": [
            "Kendal uplift rank correlation =  0.1111111111111111 with p_value =  0.7274895282186948\n"
          ],
          "name": "stdout"
        },
        {
          "output_type": "stream",
          "text": [
            "/usr/local/lib/python3.7/dist-packages/numpy/lib/nanfunctions.py:1544: RuntimeWarning:\n",
            "\n",
            "overflow encountered in multiply\n",
            "\n",
            "/usr/local/lib/python3.7/dist-packages/numpy/lib/nanfunctions.py:1544: RuntimeWarning:\n",
            "\n",
            "overflow encountered in multiply\n",
            "\n"
          ],
          "name": "stderr"
        },
        {
          "output_type": "stream",
          "text": [
            "Kendal uplift rank correlation =  0.5111111111111111 with p_value =  0.04662257495590829\n"
          ],
          "name": "stdout"
        },
        {
          "output_type": "stream",
          "text": [
            "/usr/local/lib/python3.7/dist-packages/numpy/lib/nanfunctions.py:1544: RuntimeWarning:\n",
            "\n",
            "overflow encountered in multiply\n",
            "\n",
            "/usr/local/lib/python3.7/dist-packages/numpy/lib/nanfunctions.py:1544: RuntimeWarning:\n",
            "\n",
            "overflow encountered in multiply\n",
            "\n"
          ],
          "name": "stderr"
        },
        {
          "output_type": "stream",
          "text": [
            "Kendal uplift rank correlation =  0.7333333333333333 with p_value =  0.002212852733686067\n"
          ],
          "name": "stdout"
        },
        {
          "output_type": "stream",
          "text": [
            "/usr/local/lib/python3.7/dist-packages/numpy/lib/nanfunctions.py:1544: RuntimeWarning:\n",
            "\n",
            "overflow encountered in multiply\n",
            "\n",
            "/usr/local/lib/python3.7/dist-packages/numpy/lib/nanfunctions.py:1544: RuntimeWarning:\n",
            "\n",
            "overflow encountered in multiply\n",
            "\n"
          ],
          "name": "stderr"
        },
        {
          "output_type": "stream",
          "text": [
            "Kendal uplift rank correlation =  0.5555555555555555 with p_value =  0.02860945767195767\n"
          ],
          "name": "stdout"
        },
        {
          "output_type": "stream",
          "text": [
            "/usr/local/lib/python3.7/dist-packages/numpy/lib/nanfunctions.py:1544: RuntimeWarning:\n",
            "\n",
            "overflow encountered in multiply\n",
            "\n",
            "/usr/local/lib/python3.7/dist-packages/numpy/lib/nanfunctions.py:1544: RuntimeWarning:\n",
            "\n",
            "overflow encountered in multiply\n",
            "\n"
          ],
          "name": "stderr"
        },
        {
          "output_type": "stream",
          "text": [
            "Kendal uplift rank correlation =  0.3333333333333333 with p_value =  0.21637345679012346\n"
          ],
          "name": "stdout"
        },
        {
          "output_type": "stream",
          "text": [
            "/usr/local/lib/python3.7/dist-packages/numpy/lib/nanfunctions.py:1544: RuntimeWarning:\n",
            "\n",
            "overflow encountered in multiply\n",
            "\n",
            "/usr/local/lib/python3.7/dist-packages/numpy/lib/nanfunctions.py:1544: RuntimeWarning:\n",
            "\n",
            "overflow encountered in multiply\n",
            "\n"
          ],
          "name": "stderr"
        },
        {
          "output_type": "stream",
          "text": [
            "Kendal uplift rank correlation =  0.37777777777777777 with p_value =  0.1557418430335097\n"
          ],
          "name": "stdout"
        },
        {
          "output_type": "stream",
          "text": [
            "/usr/local/lib/python3.7/dist-packages/numpy/lib/nanfunctions.py:1544: RuntimeWarning:\n",
            "\n",
            "overflow encountered in multiply\n",
            "\n",
            "/usr/local/lib/python3.7/dist-packages/numpy/lib/nanfunctions.py:1544: RuntimeWarning:\n",
            "\n",
            "overflow encountered in multiply\n",
            "\n"
          ],
          "name": "stderr"
        },
        {
          "output_type": "stream",
          "text": [
            "Kendal uplift rank correlation =  0.5555555555555555 with p_value =  0.02860945767195767\n"
          ],
          "name": "stdout"
        },
        {
          "output_type": "stream",
          "text": [
            "/usr/local/lib/python3.7/dist-packages/numpy/lib/nanfunctions.py:1544: RuntimeWarning:\n",
            "\n",
            "overflow encountered in multiply\n",
            "\n",
            "/usr/local/lib/python3.7/dist-packages/numpy/lib/nanfunctions.py:1544: RuntimeWarning:\n",
            "\n",
            "overflow encountered in multiply\n",
            "\n"
          ],
          "name": "stderr"
        },
        {
          "output_type": "stream",
          "text": [
            "Kendal uplift rank correlation =  0.28888888888888886 with p_value =  0.2912483465608466\n"
          ],
          "name": "stdout"
        },
        {
          "output_type": "stream",
          "text": [
            "/usr/local/lib/python3.7/dist-packages/numpy/lib/nanfunctions.py:1544: RuntimeWarning:\n",
            "\n",
            "overflow encountered in multiply\n",
            "\n",
            "/usr/local/lib/python3.7/dist-packages/numpy/lib/nanfunctions.py:1544: RuntimeWarning:\n",
            "\n",
            "overflow encountered in multiply\n",
            "\n"
          ],
          "name": "stderr"
        },
        {
          "output_type": "stream",
          "text": [
            "Kendal uplift rank correlation =  0.6444444444444444 with p_value =  0.009148478835978836\n"
          ],
          "name": "stdout"
        },
        {
          "output_type": "stream",
          "text": [
            "/usr/local/lib/python3.7/dist-packages/numpy/lib/nanfunctions.py:1544: RuntimeWarning:\n",
            "\n",
            "overflow encountered in multiply\n",
            "\n",
            "/usr/local/lib/python3.7/dist-packages/numpy/lib/nanfunctions.py:1544: RuntimeWarning:\n",
            "\n",
            "overflow encountered in multiply\n",
            "\n"
          ],
          "name": "stderr"
        },
        {
          "output_type": "stream",
          "text": [
            "Kendal uplift rank correlation =  0.28888888888888886 with p_value =  0.2912483465608466\n"
          ],
          "name": "stdout"
        },
        {
          "output_type": "stream",
          "text": [
            "/usr/local/lib/python3.7/dist-packages/numpy/lib/nanfunctions.py:1544: RuntimeWarning:\n",
            "\n",
            "overflow encountered in multiply\n",
            "\n",
            "/usr/local/lib/python3.7/dist-packages/numpy/lib/nanfunctions.py:1544: RuntimeWarning:\n",
            "\n",
            "overflow encountered in multiply\n",
            "\n"
          ],
          "name": "stderr"
        },
        {
          "output_type": "stream",
          "text": [
            "Kendal uplift rank correlation =  0.4666666666666666 with p_value =  0.07255015432098766\n"
          ],
          "name": "stdout"
        },
        {
          "output_type": "stream",
          "text": [
            "/usr/local/lib/python3.7/dist-packages/numpy/lib/nanfunctions.py:1544: RuntimeWarning:\n",
            "\n",
            "overflow encountered in multiply\n",
            "\n",
            "/usr/local/lib/python3.7/dist-packages/numpy/lib/nanfunctions.py:1544: RuntimeWarning:\n",
            "\n",
            "overflow encountered in multiply\n",
            "\n"
          ],
          "name": "stderr"
        },
        {
          "output_type": "stream",
          "text": [
            "Kendal uplift rank correlation =  0.5111111111111111 with p_value =  0.04662257495590829\n"
          ],
          "name": "stdout"
        },
        {
          "output_type": "stream",
          "text": [
            "/usr/local/lib/python3.7/dist-packages/numpy/lib/nanfunctions.py:1544: RuntimeWarning:\n",
            "\n",
            "overflow encountered in multiply\n",
            "\n",
            "/usr/local/lib/python3.7/dist-packages/numpy/lib/nanfunctions.py:1544: RuntimeWarning:\n",
            "\n",
            "overflow encountered in multiply\n",
            "\n"
          ],
          "name": "stderr"
        },
        {
          "output_type": "stream",
          "text": [
            "Kendal uplift rank correlation =  0.5111111111111111 with p_value =  0.04662257495590829\n"
          ],
          "name": "stdout"
        },
        {
          "output_type": "stream",
          "text": [
            "/usr/local/lib/python3.7/dist-packages/numpy/lib/nanfunctions.py:1544: RuntimeWarning:\n",
            "\n",
            "overflow encountered in multiply\n",
            "\n",
            "/usr/local/lib/python3.7/dist-packages/numpy/lib/nanfunctions.py:1544: RuntimeWarning:\n",
            "\n",
            "overflow encountered in multiply\n",
            "\n"
          ],
          "name": "stderr"
        },
        {
          "output_type": "stream",
          "text": [
            "Kendal uplift rank correlation =  0.1111111111111111 with p_value =  0.7274895282186948\n"
          ],
          "name": "stdout"
        },
        {
          "output_type": "stream",
          "text": [
            "/usr/local/lib/python3.7/dist-packages/numpy/lib/nanfunctions.py:1544: RuntimeWarning:\n",
            "\n",
            "overflow encountered in multiply\n",
            "\n",
            "/usr/local/lib/python3.7/dist-packages/numpy/lib/nanfunctions.py:1544: RuntimeWarning:\n",
            "\n",
            "overflow encountered in multiply\n",
            "\n"
          ],
          "name": "stderr"
        },
        {
          "output_type": "stream",
          "text": [
            "Kendal uplift rank correlation =  0.37777777777777777 with p_value =  0.1557418430335097\n"
          ],
          "name": "stdout"
        },
        {
          "output_type": "stream",
          "text": [
            "/usr/local/lib/python3.7/dist-packages/numpy/lib/nanfunctions.py:1544: RuntimeWarning:\n",
            "\n",
            "overflow encountered in multiply\n",
            "\n",
            "/usr/local/lib/python3.7/dist-packages/numpy/lib/nanfunctions.py:1544: RuntimeWarning:\n",
            "\n",
            "overflow encountered in multiply\n",
            "\n"
          ],
          "name": "stderr"
        },
        {
          "output_type": "stream",
          "text": [
            "Kendal uplift rank correlation =  0.6444444444444444 with p_value =  0.009148478835978836\n"
          ],
          "name": "stdout"
        },
        {
          "output_type": "stream",
          "text": [
            "/usr/local/lib/python3.7/dist-packages/numpy/lib/nanfunctions.py:1544: RuntimeWarning:\n",
            "\n",
            "overflow encountered in multiply\n",
            "\n",
            "/usr/local/lib/python3.7/dist-packages/numpy/lib/nanfunctions.py:1544: RuntimeWarning:\n",
            "\n",
            "overflow encountered in multiply\n",
            "\n"
          ],
          "name": "stderr"
        },
        {
          "output_type": "stream",
          "text": [
            "Kendal uplift rank correlation =  0.24444444444444444 with p_value =  0.38071979717813054\n"
          ],
          "name": "stdout"
        },
        {
          "output_type": "stream",
          "text": [
            "/usr/local/lib/python3.7/dist-packages/numpy/lib/nanfunctions.py:1544: RuntimeWarning:\n",
            "\n",
            "overflow encountered in multiply\n",
            "\n",
            "/usr/local/lib/python3.7/dist-packages/numpy/lib/nanfunctions.py:1544: RuntimeWarning:\n",
            "\n",
            "overflow encountered in multiply\n",
            "\n"
          ],
          "name": "stderr"
        },
        {
          "output_type": "stream",
          "text": [
            "Kendal uplift rank correlation =  0.3333333333333333 with p_value =  0.21637345679012346\n"
          ],
          "name": "stdout"
        },
        {
          "output_type": "stream",
          "text": [
            "/usr/local/lib/python3.7/dist-packages/numpy/lib/nanfunctions.py:1544: RuntimeWarning:\n",
            "\n",
            "overflow encountered in multiply\n",
            "\n",
            "/usr/local/lib/python3.7/dist-packages/numpy/lib/nanfunctions.py:1544: RuntimeWarning:\n",
            "\n",
            "overflow encountered in multiply\n",
            "\n"
          ],
          "name": "stderr"
        },
        {
          "output_type": "stream",
          "text": [
            "Kendal uplift rank correlation =  0.5555555555555555 with p_value =  0.02860945767195767\n"
          ],
          "name": "stdout"
        },
        {
          "output_type": "stream",
          "text": [
            "/usr/local/lib/python3.7/dist-packages/numpy/lib/nanfunctions.py:1544: RuntimeWarning:\n",
            "\n",
            "overflow encountered in multiply\n",
            "\n",
            "/usr/local/lib/python3.7/dist-packages/numpy/lib/nanfunctions.py:1544: RuntimeWarning:\n",
            "\n",
            "overflow encountered in multiply\n",
            "\n"
          ],
          "name": "stderr"
        },
        {
          "output_type": "stream",
          "text": [
            "Kendal uplift rank correlation =  0.3333333333333333 with p_value =  0.21637345679012346\n"
          ],
          "name": "stdout"
        },
        {
          "output_type": "stream",
          "text": [
            "/usr/local/lib/python3.7/dist-packages/numpy/lib/nanfunctions.py:1544: RuntimeWarning:\n",
            "\n",
            "overflow encountered in multiply\n",
            "\n",
            "/usr/local/lib/python3.7/dist-packages/numpy/lib/nanfunctions.py:1544: RuntimeWarning:\n",
            "\n",
            "overflow encountered in multiply\n",
            "\n"
          ],
          "name": "stderr"
        },
        {
          "output_type": "stream",
          "text": [
            "Kendal uplift rank correlation =  0.28888888888888886 with p_value =  0.2912483465608466\n"
          ],
          "name": "stdout"
        },
        {
          "output_type": "stream",
          "text": [
            "/usr/local/lib/python3.7/dist-packages/numpy/lib/nanfunctions.py:1544: RuntimeWarning:\n",
            "\n",
            "overflow encountered in multiply\n",
            "\n",
            "/usr/local/lib/python3.7/dist-packages/numpy/lib/nanfunctions.py:1544: RuntimeWarning:\n",
            "\n",
            "overflow encountered in multiply\n",
            "\n"
          ],
          "name": "stderr"
        },
        {
          "output_type": "stream",
          "text": [
            "Kendal uplift rank correlation =  0.19999999999999998 with p_value =  0.4843127204585538\n"
          ],
          "name": "stdout"
        },
        {
          "output_type": "stream",
          "text": [
            "/usr/local/lib/python3.7/dist-packages/numpy/lib/nanfunctions.py:1544: RuntimeWarning:\n",
            "\n",
            "overflow encountered in multiply\n",
            "\n",
            "/usr/local/lib/python3.7/dist-packages/numpy/lib/nanfunctions.py:1544: RuntimeWarning:\n",
            "\n",
            "overflow encountered in multiply\n",
            "\n"
          ],
          "name": "stderr"
        },
        {
          "output_type": "stream",
          "text": [
            "Kendal uplift rank correlation =  0.5111111111111111 with p_value =  0.04662257495590829\n"
          ],
          "name": "stdout"
        },
        {
          "output_type": "stream",
          "text": [
            "/usr/local/lib/python3.7/dist-packages/numpy/lib/nanfunctions.py:1544: RuntimeWarning:\n",
            "\n",
            "overflow encountered in multiply\n",
            "\n",
            "/usr/local/lib/python3.7/dist-packages/numpy/lib/nanfunctions.py:1544: RuntimeWarning:\n",
            "\n",
            "overflow encountered in multiply\n",
            "\n"
          ],
          "name": "stderr"
        },
        {
          "output_type": "stream",
          "text": [
            "Kendal uplift rank correlation =  0.6444444444444444 with p_value =  0.009148478835978836\n"
          ],
          "name": "stdout"
        },
        {
          "output_type": "stream",
          "text": [
            "/usr/local/lib/python3.7/dist-packages/numpy/lib/nanfunctions.py:1544: RuntimeWarning:\n",
            "\n",
            "overflow encountered in multiply\n",
            "\n",
            "/usr/local/lib/python3.7/dist-packages/numpy/lib/nanfunctions.py:1544: RuntimeWarning:\n",
            "\n",
            "overflow encountered in multiply\n",
            "\n"
          ],
          "name": "stderr"
        },
        {
          "output_type": "stream",
          "text": [
            "Kendal uplift rank correlation =  0.4666666666666666 with p_value =  0.07255015432098766\n"
          ],
          "name": "stdout"
        },
        {
          "output_type": "stream",
          "text": [
            "/usr/local/lib/python3.7/dist-packages/numpy/lib/nanfunctions.py:1544: RuntimeWarning:\n",
            "\n",
            "overflow encountered in multiply\n",
            "\n",
            "/usr/local/lib/python3.7/dist-packages/numpy/lib/nanfunctions.py:1544: RuntimeWarning:\n",
            "\n",
            "overflow encountered in multiply\n",
            "\n"
          ],
          "name": "stderr"
        },
        {
          "output_type": "stream",
          "text": [
            "Kendal uplift rank correlation =  -0.06666666666666667 with p_value =  0.8618005952380953\n"
          ],
          "name": "stdout"
        },
        {
          "output_type": "stream",
          "text": [
            "/usr/local/lib/python3.7/dist-packages/numpy/lib/nanfunctions.py:1544: RuntimeWarning:\n",
            "\n",
            "overflow encountered in multiply\n",
            "\n",
            "/usr/local/lib/python3.7/dist-packages/numpy/lib/nanfunctions.py:1544: RuntimeWarning:\n",
            "\n",
            "overflow encountered in multiply\n",
            "\n"
          ],
          "name": "stderr"
        },
        {
          "output_type": "stream",
          "text": [
            "Kendal uplift rank correlation =  0.5555555555555555 with p_value =  0.02860945767195767\n"
          ],
          "name": "stdout"
        },
        {
          "output_type": "stream",
          "text": [
            "/usr/local/lib/python3.7/dist-packages/numpy/lib/nanfunctions.py:1544: RuntimeWarning:\n",
            "\n",
            "overflow encountered in multiply\n",
            "\n",
            "/usr/local/lib/python3.7/dist-packages/numpy/lib/nanfunctions.py:1544: RuntimeWarning:\n",
            "\n",
            "overflow encountered in multiply\n",
            "\n"
          ],
          "name": "stderr"
        },
        {
          "output_type": "stream",
          "text": [
            "Kendal uplift rank correlation =  0.4666666666666666 with p_value =  0.07255015432098766\n"
          ],
          "name": "stdout"
        },
        {
          "output_type": "stream",
          "text": [
            "/usr/local/lib/python3.7/dist-packages/numpy/lib/nanfunctions.py:1544: RuntimeWarning:\n",
            "\n",
            "overflow encountered in multiply\n",
            "\n",
            "/usr/local/lib/python3.7/dist-packages/numpy/lib/nanfunctions.py:1544: RuntimeWarning:\n",
            "\n",
            "overflow encountered in multiply\n",
            "\n"
          ],
          "name": "stderr"
        },
        {
          "output_type": "stream",
          "text": [
            "Kendal uplift rank correlation =  0.37777777777777777 with p_value =  0.1557418430335097\n"
          ],
          "name": "stdout"
        },
        {
          "output_type": "stream",
          "text": [
            "/usr/local/lib/python3.7/dist-packages/numpy/lib/nanfunctions.py:1544: RuntimeWarning:\n",
            "\n",
            "overflow encountered in multiply\n",
            "\n",
            "/usr/local/lib/python3.7/dist-packages/numpy/lib/nanfunctions.py:1544: RuntimeWarning:\n",
            "\n",
            "overflow encountered in multiply\n",
            "\n"
          ],
          "name": "stderr"
        },
        {
          "output_type": "stream",
          "text": [
            "Kendal uplift rank correlation =  0.4666666666666666 with p_value =  0.07255015432098766\n"
          ],
          "name": "stdout"
        },
        {
          "output_type": "stream",
          "text": [
            "/usr/local/lib/python3.7/dist-packages/numpy/lib/nanfunctions.py:1544: RuntimeWarning:\n",
            "\n",
            "overflow encountered in multiply\n",
            "\n",
            "/usr/local/lib/python3.7/dist-packages/numpy/lib/nanfunctions.py:1544: RuntimeWarning:\n",
            "\n",
            "overflow encountered in multiply\n",
            "\n"
          ],
          "name": "stderr"
        },
        {
          "output_type": "stream",
          "text": [
            "Kendal uplift rank correlation =  0.4222222222222222 with p_value =  0.10831349206349207\n"
          ],
          "name": "stdout"
        },
        {
          "output_type": "stream",
          "text": [
            "/usr/local/lib/python3.7/dist-packages/numpy/lib/nanfunctions.py:1544: RuntimeWarning:\n",
            "\n",
            "overflow encountered in multiply\n",
            "\n",
            "/usr/local/lib/python3.7/dist-packages/numpy/lib/nanfunctions.py:1544: RuntimeWarning:\n",
            "\n",
            "overflow encountered in multiply\n",
            "\n"
          ],
          "name": "stderr"
        },
        {
          "output_type": "stream",
          "text": [
            "Kendal uplift rank correlation =  0.37777777777777777 with p_value =  0.1557418430335097\n"
          ],
          "name": "stdout"
        },
        {
          "output_type": "stream",
          "text": [
            "/usr/local/lib/python3.7/dist-packages/numpy/lib/nanfunctions.py:1544: RuntimeWarning:\n",
            "\n",
            "overflow encountered in multiply\n",
            "\n",
            "/usr/local/lib/python3.7/dist-packages/numpy/lib/nanfunctions.py:1544: RuntimeWarning:\n",
            "\n",
            "overflow encountered in multiply\n",
            "\n"
          ],
          "name": "stderr"
        },
        {
          "output_type": "stream",
          "text": [
            "Kendal uplift rank correlation =  0.6 with p_value =  0.016666115520282188\n"
          ],
          "name": "stdout"
        },
        {
          "output_type": "stream",
          "text": [
            "/usr/local/lib/python3.7/dist-packages/numpy/lib/nanfunctions.py:1544: RuntimeWarning:\n",
            "\n",
            "overflow encountered in multiply\n",
            "\n",
            "/usr/local/lib/python3.7/dist-packages/numpy/lib/nanfunctions.py:1544: RuntimeWarning:\n",
            "\n",
            "overflow encountered in multiply\n",
            "\n"
          ],
          "name": "stderr"
        },
        {
          "output_type": "stream",
          "text": [
            "Kendal uplift rank correlation =  0.4666666666666666 with p_value =  0.07255015432098766\n"
          ],
          "name": "stdout"
        },
        {
          "output_type": "stream",
          "text": [
            "/usr/local/lib/python3.7/dist-packages/numpy/lib/nanfunctions.py:1544: RuntimeWarning:\n",
            "\n",
            "overflow encountered in multiply\n",
            "\n",
            "/usr/local/lib/python3.7/dist-packages/numpy/lib/nanfunctions.py:1544: RuntimeWarning:\n",
            "\n",
            "overflow encountered in multiply\n",
            "\n"
          ],
          "name": "stderr"
        },
        {
          "output_type": "stream",
          "text": [
            "Kendal uplift rank correlation =  0.1111111111111111 with p_value =  0.7274895282186948\n"
          ],
          "name": "stdout"
        },
        {
          "output_type": "stream",
          "text": [
            "/usr/local/lib/python3.7/dist-packages/numpy/lib/nanfunctions.py:1544: RuntimeWarning:\n",
            "\n",
            "overflow encountered in multiply\n",
            "\n",
            "/usr/local/lib/python3.7/dist-packages/numpy/lib/nanfunctions.py:1544: RuntimeWarning:\n",
            "\n",
            "overflow encountered in multiply\n",
            "\n"
          ],
          "name": "stderr"
        },
        {
          "output_type": "stream",
          "text": [
            "Kendal uplift rank correlation =  0.4666666666666666 with p_value =  0.07255015432098766\n"
          ],
          "name": "stdout"
        },
        {
          "output_type": "stream",
          "text": [
            "/usr/local/lib/python3.7/dist-packages/numpy/lib/nanfunctions.py:1544: RuntimeWarning:\n",
            "\n",
            "overflow encountered in multiply\n",
            "\n",
            "/usr/local/lib/python3.7/dist-packages/numpy/lib/nanfunctions.py:1544: RuntimeWarning:\n",
            "\n",
            "overflow encountered in multiply\n",
            "\n"
          ],
          "name": "stderr"
        },
        {
          "output_type": "stream",
          "text": [
            "Kendal uplift rank correlation =  0.5555555555555555 with p_value =  0.02860945767195767\n"
          ],
          "name": "stdout"
        },
        {
          "output_type": "stream",
          "text": [
            "/usr/local/lib/python3.7/dist-packages/numpy/lib/nanfunctions.py:1544: RuntimeWarning:\n",
            "\n",
            "overflow encountered in multiply\n",
            "\n",
            "/usr/local/lib/python3.7/dist-packages/numpy/lib/nanfunctions.py:1544: RuntimeWarning:\n",
            "\n",
            "overflow encountered in multiply\n",
            "\n"
          ],
          "name": "stderr"
        },
        {
          "output_type": "stream",
          "text": [
            "Kendal uplift rank correlation =  0.37777777777777777 with p_value =  0.1557418430335097\n"
          ],
          "name": "stdout"
        },
        {
          "output_type": "stream",
          "text": [
            "/usr/local/lib/python3.7/dist-packages/numpy/lib/nanfunctions.py:1544: RuntimeWarning:\n",
            "\n",
            "overflow encountered in multiply\n",
            "\n",
            "/usr/local/lib/python3.7/dist-packages/numpy/lib/nanfunctions.py:1544: RuntimeWarning:\n",
            "\n",
            "overflow encountered in multiply\n",
            "\n"
          ],
          "name": "stderr"
        },
        {
          "output_type": "stream",
          "text": [
            "Kendal uplift rank correlation =  0.6 with p_value =  0.016666115520282188\n"
          ],
          "name": "stdout"
        },
        {
          "output_type": "stream",
          "text": [
            "/usr/local/lib/python3.7/dist-packages/numpy/lib/nanfunctions.py:1544: RuntimeWarning:\n",
            "\n",
            "overflow encountered in multiply\n",
            "\n",
            "/usr/local/lib/python3.7/dist-packages/numpy/lib/nanfunctions.py:1544: RuntimeWarning:\n",
            "\n",
            "overflow encountered in multiply\n",
            "\n"
          ],
          "name": "stderr"
        },
        {
          "output_type": "stream",
          "text": [
            "Kendal uplift rank correlation =  0.19999999999999998 with p_value =  0.4843127204585538\n"
          ],
          "name": "stdout"
        },
        {
          "output_type": "stream",
          "text": [
            "/usr/local/lib/python3.7/dist-packages/numpy/lib/nanfunctions.py:1544: RuntimeWarning:\n",
            "\n",
            "overflow encountered in multiply\n",
            "\n",
            "/usr/local/lib/python3.7/dist-packages/numpy/lib/nanfunctions.py:1544: RuntimeWarning:\n",
            "\n",
            "overflow encountered in multiply\n",
            "\n"
          ],
          "name": "stderr"
        },
        {
          "output_type": "stream",
          "text": [
            "Kendal uplift rank correlation =  0.6 with p_value =  0.016666115520282188\n"
          ],
          "name": "stdout"
        },
        {
          "output_type": "stream",
          "text": [
            "/usr/local/lib/python3.7/dist-packages/numpy/lib/nanfunctions.py:1544: RuntimeWarning:\n",
            "\n",
            "overflow encountered in multiply\n",
            "\n",
            "/usr/local/lib/python3.7/dist-packages/numpy/lib/nanfunctions.py:1544: RuntimeWarning:\n",
            "\n",
            "overflow encountered in multiply\n",
            "\n"
          ],
          "name": "stderr"
        },
        {
          "output_type": "stream",
          "text": [
            "Kendal uplift rank correlation =  0.3333333333333333 with p_value =  0.21637345679012346\n"
          ],
          "name": "stdout"
        },
        {
          "output_type": "stream",
          "text": [
            "/usr/local/lib/python3.7/dist-packages/numpy/lib/nanfunctions.py:1544: RuntimeWarning:\n",
            "\n",
            "overflow encountered in multiply\n",
            "\n",
            "/usr/local/lib/python3.7/dist-packages/numpy/lib/nanfunctions.py:1544: RuntimeWarning:\n",
            "\n",
            "overflow encountered in multiply\n",
            "\n"
          ],
          "name": "stderr"
        },
        {
          "output_type": "stream",
          "text": [
            "Kendal uplift rank correlation =  0.6444444444444444 with p_value =  0.009148478835978836\n"
          ],
          "name": "stdout"
        },
        {
          "output_type": "stream",
          "text": [
            "/usr/local/lib/python3.7/dist-packages/numpy/lib/nanfunctions.py:1544: RuntimeWarning:\n",
            "\n",
            "overflow encountered in multiply\n",
            "\n",
            "/usr/local/lib/python3.7/dist-packages/numpy/lib/nanfunctions.py:1544: RuntimeWarning:\n",
            "\n",
            "overflow encountered in multiply\n",
            "\n"
          ],
          "name": "stderr"
        },
        {
          "output_type": "stream",
          "text": [
            "Kendal uplift rank correlation =  0.3333333333333333 with p_value =  0.21637345679012346\n"
          ],
          "name": "stdout"
        },
        {
          "output_type": "stream",
          "text": [
            "/usr/local/lib/python3.7/dist-packages/numpy/lib/nanfunctions.py:1544: RuntimeWarning:\n",
            "\n",
            "overflow encountered in multiply\n",
            "\n",
            "/usr/local/lib/python3.7/dist-packages/numpy/lib/nanfunctions.py:1544: RuntimeWarning:\n",
            "\n",
            "overflow encountered in multiply\n",
            "\n"
          ],
          "name": "stderr"
        },
        {
          "output_type": "stream",
          "text": [
            "Kendal uplift rank correlation =  0.24444444444444444 with p_value =  0.38071979717813054\n"
          ],
          "name": "stdout"
        },
        {
          "output_type": "stream",
          "text": [
            "/usr/local/lib/python3.7/dist-packages/numpy/lib/nanfunctions.py:1544: RuntimeWarning:\n",
            "\n",
            "overflow encountered in multiply\n",
            "\n",
            "/usr/local/lib/python3.7/dist-packages/numpy/lib/nanfunctions.py:1544: RuntimeWarning:\n",
            "\n",
            "overflow encountered in multiply\n",
            "\n"
          ],
          "name": "stderr"
        },
        {
          "output_type": "stream",
          "text": [
            "Kendal uplift rank correlation =  0.5111111111111111 with p_value =  0.04662257495590829\n"
          ],
          "name": "stdout"
        },
        {
          "output_type": "stream",
          "text": [
            "/usr/local/lib/python3.7/dist-packages/numpy/lib/nanfunctions.py:1544: RuntimeWarning:\n",
            "\n",
            "overflow encountered in multiply\n",
            "\n",
            "/usr/local/lib/python3.7/dist-packages/numpy/lib/nanfunctions.py:1544: RuntimeWarning:\n",
            "\n",
            "overflow encountered in multiply\n",
            "\n"
          ],
          "name": "stderr"
        },
        {
          "output_type": "stream",
          "text": [
            "Kendal uplift rank correlation =  0.1111111111111111 with p_value =  0.7274895282186948\n"
          ],
          "name": "stdout"
        },
        {
          "output_type": "stream",
          "text": [
            "/usr/local/lib/python3.7/dist-packages/numpy/lib/nanfunctions.py:1544: RuntimeWarning:\n",
            "\n",
            "overflow encountered in multiply\n",
            "\n",
            "/usr/local/lib/python3.7/dist-packages/numpy/lib/nanfunctions.py:1544: RuntimeWarning:\n",
            "\n",
            "overflow encountered in multiply\n",
            "\n"
          ],
          "name": "stderr"
        },
        {
          "output_type": "stream",
          "text": [
            "Kendal uplift rank correlation =  0.7777777777777777 with p_value =  0.0009463183421516755\n"
          ],
          "name": "stdout"
        },
        {
          "output_type": "stream",
          "text": [
            "/usr/local/lib/python3.7/dist-packages/numpy/lib/nanfunctions.py:1544: RuntimeWarning:\n",
            "\n",
            "overflow encountered in multiply\n",
            "\n",
            "/usr/local/lib/python3.7/dist-packages/numpy/lib/nanfunctions.py:1544: RuntimeWarning:\n",
            "\n",
            "overflow encountered in multiply\n",
            "\n"
          ],
          "name": "stderr"
        },
        {
          "output_type": "stream",
          "text": [
            "Kendal uplift rank correlation =  0.28888888888888886 with p_value =  0.2912483465608466\n"
          ],
          "name": "stdout"
        },
        {
          "output_type": "stream",
          "text": [
            "/usr/local/lib/python3.7/dist-packages/numpy/lib/nanfunctions.py:1544: RuntimeWarning:\n",
            "\n",
            "overflow encountered in multiply\n",
            "\n",
            "/usr/local/lib/python3.7/dist-packages/numpy/lib/nanfunctions.py:1544: RuntimeWarning:\n",
            "\n",
            "overflow encountered in multiply\n",
            "\n"
          ],
          "name": "stderr"
        },
        {
          "output_type": "stream",
          "text": [
            "Kendal uplift rank correlation =  0.4666666666666666 with p_value =  0.07255015432098766\n"
          ],
          "name": "stdout"
        },
        {
          "output_type": "stream",
          "text": [
            "/usr/local/lib/python3.7/dist-packages/numpy/lib/nanfunctions.py:1544: RuntimeWarning:\n",
            "\n",
            "overflow encountered in multiply\n",
            "\n",
            "/usr/local/lib/python3.7/dist-packages/numpy/lib/nanfunctions.py:1544: RuntimeWarning:\n",
            "\n",
            "overflow encountered in multiply\n",
            "\n"
          ],
          "name": "stderr"
        },
        {
          "output_type": "stream",
          "text": [
            "Kendal uplift rank correlation =  0.6 with p_value =  0.016666115520282188\n"
          ],
          "name": "stdout"
        },
        {
          "output_type": "stream",
          "text": [
            "/usr/local/lib/python3.7/dist-packages/numpy/lib/nanfunctions.py:1544: RuntimeWarning:\n",
            "\n",
            "overflow encountered in multiply\n",
            "\n",
            "/usr/local/lib/python3.7/dist-packages/numpy/lib/nanfunctions.py:1544: RuntimeWarning:\n",
            "\n",
            "overflow encountered in multiply\n",
            "\n"
          ],
          "name": "stderr"
        },
        {
          "output_type": "stream",
          "text": [
            "Kendal uplift rank correlation =  0.3333333333333333 with p_value =  0.21637345679012346\n"
          ],
          "name": "stdout"
        },
        {
          "output_type": "stream",
          "text": [
            "/usr/local/lib/python3.7/dist-packages/numpy/lib/nanfunctions.py:1544: RuntimeWarning:\n",
            "\n",
            "overflow encountered in multiply\n",
            "\n",
            "/usr/local/lib/python3.7/dist-packages/numpy/lib/nanfunctions.py:1544: RuntimeWarning:\n",
            "\n",
            "overflow encountered in multiply\n",
            "\n"
          ],
          "name": "stderr"
        },
        {
          "output_type": "stream",
          "text": [
            "Kendal uplift rank correlation =  0.28888888888888886 with p_value =  0.2912483465608466\n"
          ],
          "name": "stdout"
        },
        {
          "output_type": "stream",
          "text": [
            "/usr/local/lib/python3.7/dist-packages/numpy/lib/nanfunctions.py:1544: RuntimeWarning:\n",
            "\n",
            "overflow encountered in multiply\n",
            "\n",
            "/usr/local/lib/python3.7/dist-packages/numpy/lib/nanfunctions.py:1544: RuntimeWarning:\n",
            "\n",
            "overflow encountered in multiply\n",
            "\n"
          ],
          "name": "stderr"
        },
        {
          "output_type": "stream",
          "text": [
            "Kendal uplift rank correlation =  0.37777777777777777 with p_value =  0.1557418430335097\n"
          ],
          "name": "stdout"
        },
        {
          "output_type": "stream",
          "text": [
            "/usr/local/lib/python3.7/dist-packages/numpy/lib/nanfunctions.py:1544: RuntimeWarning:\n",
            "\n",
            "overflow encountered in multiply\n",
            "\n",
            "/usr/local/lib/python3.7/dist-packages/numpy/lib/nanfunctions.py:1544: RuntimeWarning:\n",
            "\n",
            "overflow encountered in multiply\n",
            "\n"
          ],
          "name": "stderr"
        },
        {
          "output_type": "stream",
          "text": [
            "Kendal uplift rank correlation =  0.24444444444444444 with p_value =  0.38071979717813054\n"
          ],
          "name": "stdout"
        },
        {
          "output_type": "stream",
          "text": [
            "/usr/local/lib/python3.7/dist-packages/numpy/lib/nanfunctions.py:1544: RuntimeWarning:\n",
            "\n",
            "overflow encountered in multiply\n",
            "\n",
            "/usr/local/lib/python3.7/dist-packages/numpy/lib/nanfunctions.py:1544: RuntimeWarning:\n",
            "\n",
            "overflow encountered in multiply\n",
            "\n"
          ],
          "name": "stderr"
        },
        {
          "output_type": "stream",
          "text": [
            "Kendal uplift rank correlation =  0.24444444444444444 with p_value =  0.38071979717813054\n"
          ],
          "name": "stdout"
        },
        {
          "output_type": "stream",
          "text": [
            "/usr/local/lib/python3.7/dist-packages/numpy/lib/nanfunctions.py:1544: RuntimeWarning:\n",
            "\n",
            "overflow encountered in multiply\n",
            "\n",
            "/usr/local/lib/python3.7/dist-packages/numpy/lib/nanfunctions.py:1544: RuntimeWarning:\n",
            "\n",
            "overflow encountered in multiply\n",
            "\n"
          ],
          "name": "stderr"
        },
        {
          "output_type": "stream",
          "text": [
            "Kendal uplift rank correlation =  0.3333333333333333 with p_value =  0.21637345679012346\n"
          ],
          "name": "stdout"
        },
        {
          "output_type": "stream",
          "text": [
            "/usr/local/lib/python3.7/dist-packages/numpy/lib/nanfunctions.py:1544: RuntimeWarning:\n",
            "\n",
            "overflow encountered in multiply\n",
            "\n",
            "/usr/local/lib/python3.7/dist-packages/numpy/lib/nanfunctions.py:1544: RuntimeWarning:\n",
            "\n",
            "overflow encountered in multiply\n",
            "\n"
          ],
          "name": "stderr"
        },
        {
          "output_type": "stream",
          "text": [
            "Kendal uplift rank correlation =  0.4222222222222222 with p_value =  0.10831349206349207\n"
          ],
          "name": "stdout"
        },
        {
          "output_type": "stream",
          "text": [
            "/usr/local/lib/python3.7/dist-packages/numpy/lib/nanfunctions.py:1544: RuntimeWarning:\n",
            "\n",
            "overflow encountered in multiply\n",
            "\n",
            "/usr/local/lib/python3.7/dist-packages/numpy/lib/nanfunctions.py:1544: RuntimeWarning:\n",
            "\n",
            "overflow encountered in multiply\n",
            "\n"
          ],
          "name": "stderr"
        },
        {
          "output_type": "stream",
          "text": [
            "Kendal uplift rank correlation =  0.19999999999999998 with p_value =  0.4843127204585538\n"
          ],
          "name": "stdout"
        },
        {
          "output_type": "stream",
          "text": [
            "/usr/local/lib/python3.7/dist-packages/numpy/lib/nanfunctions.py:1544: RuntimeWarning:\n",
            "\n",
            "overflow encountered in multiply\n",
            "\n",
            "/usr/local/lib/python3.7/dist-packages/numpy/lib/nanfunctions.py:1544: RuntimeWarning:\n",
            "\n",
            "overflow encountered in multiply\n",
            "\n"
          ],
          "name": "stderr"
        },
        {
          "output_type": "stream",
          "text": [
            "Kendal uplift rank correlation =  0.6888888888888888 with p_value =  0.00468694885361552\n"
          ],
          "name": "stdout"
        },
        {
          "output_type": "stream",
          "text": [
            "/usr/local/lib/python3.7/dist-packages/numpy/lib/nanfunctions.py:1544: RuntimeWarning:\n",
            "\n",
            "overflow encountered in multiply\n",
            "\n",
            "/usr/local/lib/python3.7/dist-packages/numpy/lib/nanfunctions.py:1544: RuntimeWarning:\n",
            "\n",
            "overflow encountered in multiply\n",
            "\n"
          ],
          "name": "stderr"
        },
        {
          "output_type": "stream",
          "text": [
            "Kendal uplift rank correlation =  0.4222222222222222 with p_value =  0.10831349206349207\n"
          ],
          "name": "stdout"
        },
        {
          "output_type": "stream",
          "text": [
            "/usr/local/lib/python3.7/dist-packages/numpy/lib/nanfunctions.py:1544: RuntimeWarning:\n",
            "\n",
            "overflow encountered in multiply\n",
            "\n",
            "/usr/local/lib/python3.7/dist-packages/numpy/lib/nanfunctions.py:1544: RuntimeWarning:\n",
            "\n",
            "overflow encountered in multiply\n",
            "\n"
          ],
          "name": "stderr"
        },
        {
          "output_type": "stream",
          "text": [
            "Kendal uplift rank correlation =  0.19999999999999998 with p_value =  0.4843127204585538\n"
          ],
          "name": "stdout"
        },
        {
          "output_type": "stream",
          "text": [
            "/usr/local/lib/python3.7/dist-packages/numpy/lib/nanfunctions.py:1544: RuntimeWarning:\n",
            "\n",
            "overflow encountered in multiply\n",
            "\n",
            "/usr/local/lib/python3.7/dist-packages/numpy/lib/nanfunctions.py:1544: RuntimeWarning:\n",
            "\n",
            "overflow encountered in multiply\n",
            "\n"
          ],
          "name": "stderr"
        },
        {
          "output_type": "stream",
          "text": [
            "Kendal uplift rank correlation =  0.37777777777777777 with p_value =  0.1557418430335097\n"
          ],
          "name": "stdout"
        },
        {
          "output_type": "stream",
          "text": [
            "/usr/local/lib/python3.7/dist-packages/numpy/lib/nanfunctions.py:1544: RuntimeWarning:\n",
            "\n",
            "overflow encountered in multiply\n",
            "\n",
            "/usr/local/lib/python3.7/dist-packages/numpy/lib/nanfunctions.py:1544: RuntimeWarning:\n",
            "\n",
            "overflow encountered in multiply\n",
            "\n"
          ],
          "name": "stderr"
        },
        {
          "output_type": "stream",
          "text": [
            "Kendal uplift rank correlation =  0.1111111111111111 with p_value =  0.7274895282186948\n"
          ],
          "name": "stdout"
        },
        {
          "output_type": "stream",
          "text": [
            "/usr/local/lib/python3.7/dist-packages/numpy/lib/nanfunctions.py:1544: RuntimeWarning:\n",
            "\n",
            "overflow encountered in multiply\n",
            "\n",
            "/usr/local/lib/python3.7/dist-packages/numpy/lib/nanfunctions.py:1544: RuntimeWarning:\n",
            "\n",
            "overflow encountered in multiply\n",
            "\n"
          ],
          "name": "stderr"
        },
        {
          "output_type": "stream",
          "text": [
            "Kendal uplift rank correlation =  0.5555555555555555 with p_value =  0.02860945767195767\n"
          ],
          "name": "stdout"
        },
        {
          "output_type": "stream",
          "text": [
            "/usr/local/lib/python3.7/dist-packages/numpy/lib/nanfunctions.py:1544: RuntimeWarning:\n",
            "\n",
            "overflow encountered in multiply\n",
            "\n",
            "/usr/local/lib/python3.7/dist-packages/numpy/lib/nanfunctions.py:1544: RuntimeWarning:\n",
            "\n",
            "overflow encountered in multiply\n",
            "\n"
          ],
          "name": "stderr"
        },
        {
          "output_type": "stream",
          "text": [
            "Kendal uplift rank correlation =  0.24444444444444444 with p_value =  0.38071979717813054\n"
          ],
          "name": "stdout"
        },
        {
          "output_type": "stream",
          "text": [
            "/usr/local/lib/python3.7/dist-packages/numpy/lib/nanfunctions.py:1544: RuntimeWarning:\n",
            "\n",
            "overflow encountered in multiply\n",
            "\n",
            "/usr/local/lib/python3.7/dist-packages/numpy/lib/nanfunctions.py:1544: RuntimeWarning:\n",
            "\n",
            "overflow encountered in multiply\n",
            "\n"
          ],
          "name": "stderr"
        },
        {
          "output_type": "stream",
          "text": [
            "Kendal uplift rank correlation =  0.4666666666666666 with p_value =  0.07255015432098766\n"
          ],
          "name": "stdout"
        },
        {
          "output_type": "stream",
          "text": [
            "/usr/local/lib/python3.7/dist-packages/numpy/lib/nanfunctions.py:1544: RuntimeWarning:\n",
            "\n",
            "overflow encountered in multiply\n",
            "\n",
            "/usr/local/lib/python3.7/dist-packages/numpy/lib/nanfunctions.py:1544: RuntimeWarning:\n",
            "\n",
            "overflow encountered in multiply\n",
            "\n"
          ],
          "name": "stderr"
        },
        {
          "output_type": "stream",
          "text": [
            "Kendal uplift rank correlation =  0.6 with p_value =  0.016666115520282188\n"
          ],
          "name": "stdout"
        },
        {
          "output_type": "stream",
          "text": [
            "/usr/local/lib/python3.7/dist-packages/numpy/lib/nanfunctions.py:1544: RuntimeWarning:\n",
            "\n",
            "overflow encountered in multiply\n",
            "\n",
            "/usr/local/lib/python3.7/dist-packages/numpy/lib/nanfunctions.py:1544: RuntimeWarning:\n",
            "\n",
            "overflow encountered in multiply\n",
            "\n"
          ],
          "name": "stderr"
        },
        {
          "output_type": "stream",
          "text": [
            "Kendal uplift rank correlation =  0.5111111111111111 with p_value =  0.04662257495590829\n"
          ],
          "name": "stdout"
        },
        {
          "output_type": "stream",
          "text": [
            "/usr/local/lib/python3.7/dist-packages/numpy/lib/nanfunctions.py:1544: RuntimeWarning:\n",
            "\n",
            "overflow encountered in multiply\n",
            "\n",
            "/usr/local/lib/python3.7/dist-packages/numpy/lib/nanfunctions.py:1544: RuntimeWarning:\n",
            "\n",
            "overflow encountered in multiply\n",
            "\n"
          ],
          "name": "stderr"
        },
        {
          "output_type": "stream",
          "text": [
            "Kendal uplift rank correlation =  0.6444444444444444 with p_value =  0.009148478835978836\n"
          ],
          "name": "stdout"
        },
        {
          "output_type": "stream",
          "text": [
            "/usr/local/lib/python3.7/dist-packages/numpy/lib/nanfunctions.py:1544: RuntimeWarning:\n",
            "\n",
            "overflow encountered in multiply\n",
            "\n",
            "/usr/local/lib/python3.7/dist-packages/numpy/lib/nanfunctions.py:1544: RuntimeWarning:\n",
            "\n",
            "overflow encountered in multiply\n",
            "\n"
          ],
          "name": "stderr"
        },
        {
          "output_type": "stream",
          "text": [
            "Kendal uplift rank correlation =  0.28888888888888886 with p_value =  0.2912483465608466\n"
          ],
          "name": "stdout"
        },
        {
          "output_type": "stream",
          "text": [
            "/usr/local/lib/python3.7/dist-packages/numpy/lib/nanfunctions.py:1544: RuntimeWarning:\n",
            "\n",
            "overflow encountered in multiply\n",
            "\n",
            "/usr/local/lib/python3.7/dist-packages/numpy/lib/nanfunctions.py:1544: RuntimeWarning:\n",
            "\n",
            "overflow encountered in multiply\n",
            "\n"
          ],
          "name": "stderr"
        },
        {
          "output_type": "stream",
          "text": [
            "Kendal uplift rank correlation =  0.5111111111111111 with p_value =  0.04662257495590829\n"
          ],
          "name": "stdout"
        },
        {
          "output_type": "stream",
          "text": [
            "/usr/local/lib/python3.7/dist-packages/numpy/lib/nanfunctions.py:1544: RuntimeWarning:\n",
            "\n",
            "overflow encountered in multiply\n",
            "\n",
            "/usr/local/lib/python3.7/dist-packages/numpy/lib/nanfunctions.py:1544: RuntimeWarning:\n",
            "\n",
            "overflow encountered in multiply\n",
            "\n"
          ],
          "name": "stderr"
        },
        {
          "output_type": "stream",
          "text": [
            "Kendal uplift rank correlation =  0.5555555555555555 with p_value =  0.02860945767195767\n"
          ],
          "name": "stdout"
        },
        {
          "output_type": "stream",
          "text": [
            "/usr/local/lib/python3.7/dist-packages/numpy/lib/nanfunctions.py:1544: RuntimeWarning:\n",
            "\n",
            "overflow encountered in multiply\n",
            "\n",
            "/usr/local/lib/python3.7/dist-packages/numpy/lib/nanfunctions.py:1544: RuntimeWarning:\n",
            "\n",
            "overflow encountered in multiply\n",
            "\n"
          ],
          "name": "stderr"
        },
        {
          "output_type": "stream",
          "text": [
            "Kendal uplift rank correlation =  0.3333333333333333 with p_value =  0.21637345679012346\n"
          ],
          "name": "stdout"
        },
        {
          "output_type": "stream",
          "text": [
            "/usr/local/lib/python3.7/dist-packages/numpy/lib/nanfunctions.py:1544: RuntimeWarning:\n",
            "\n",
            "overflow encountered in multiply\n",
            "\n",
            "/usr/local/lib/python3.7/dist-packages/numpy/lib/nanfunctions.py:1544: RuntimeWarning:\n",
            "\n",
            "overflow encountered in multiply\n",
            "\n"
          ],
          "name": "stderr"
        },
        {
          "output_type": "stream",
          "text": [
            "Kendal uplift rank correlation =  0.5555555555555555 with p_value =  0.02860945767195767\n"
          ],
          "name": "stdout"
        },
        {
          "output_type": "stream",
          "text": [
            "/usr/local/lib/python3.7/dist-packages/numpy/lib/nanfunctions.py:1544: RuntimeWarning:\n",
            "\n",
            "overflow encountered in multiply\n",
            "\n",
            "/usr/local/lib/python3.7/dist-packages/numpy/lib/nanfunctions.py:1544: RuntimeWarning:\n",
            "\n",
            "overflow encountered in multiply\n",
            "\n"
          ],
          "name": "stderr"
        },
        {
          "output_type": "stream",
          "text": [
            "Kendal uplift rank correlation =  0.5111111111111111 with p_value =  0.04662257495590829\n"
          ],
          "name": "stdout"
        },
        {
          "output_type": "stream",
          "text": [
            "/usr/local/lib/python3.7/dist-packages/numpy/lib/nanfunctions.py:1544: RuntimeWarning:\n",
            "\n",
            "overflow encountered in multiply\n",
            "\n",
            "/usr/local/lib/python3.7/dist-packages/numpy/lib/nanfunctions.py:1544: RuntimeWarning:\n",
            "\n",
            "overflow encountered in multiply\n",
            "\n"
          ],
          "name": "stderr"
        },
        {
          "output_type": "stream",
          "text": [
            "Kendal uplift rank correlation =  0.19999999999999998 with p_value =  0.4843127204585538\n"
          ],
          "name": "stdout"
        },
        {
          "output_type": "stream",
          "text": [
            "/usr/local/lib/python3.7/dist-packages/numpy/lib/nanfunctions.py:1544: RuntimeWarning:\n",
            "\n",
            "overflow encountered in multiply\n",
            "\n",
            "/usr/local/lib/python3.7/dist-packages/numpy/lib/nanfunctions.py:1544: RuntimeWarning:\n",
            "\n",
            "overflow encountered in multiply\n",
            "\n"
          ],
          "name": "stderr"
        },
        {
          "output_type": "stream",
          "text": [
            "Kendal uplift rank correlation =  0.4666666666666666 with p_value =  0.07255015432098766\n"
          ],
          "name": "stdout"
        },
        {
          "output_type": "stream",
          "text": [
            "/usr/local/lib/python3.7/dist-packages/numpy/lib/nanfunctions.py:1544: RuntimeWarning:\n",
            "\n",
            "overflow encountered in multiply\n",
            "\n",
            "/usr/local/lib/python3.7/dist-packages/numpy/lib/nanfunctions.py:1544: RuntimeWarning:\n",
            "\n",
            "overflow encountered in multiply\n",
            "\n"
          ],
          "name": "stderr"
        },
        {
          "output_type": "stream",
          "text": [
            "Kendal uplift rank correlation =  0.15555555555555553 with p_value =  0.6006536596119929\n"
          ],
          "name": "stdout"
        },
        {
          "output_type": "stream",
          "text": [
            "/usr/local/lib/python3.7/dist-packages/numpy/lib/nanfunctions.py:1544: RuntimeWarning:\n",
            "\n",
            "overflow encountered in multiply\n",
            "\n",
            "/usr/local/lib/python3.7/dist-packages/numpy/lib/nanfunctions.py:1544: RuntimeWarning:\n",
            "\n",
            "overflow encountered in multiply\n",
            "\n"
          ],
          "name": "stderr"
        },
        {
          "output_type": "stream",
          "text": [
            "Kendal uplift rank correlation =  0.3333333333333333 with p_value =  0.21637345679012346\n"
          ],
          "name": "stdout"
        },
        {
          "output_type": "stream",
          "text": [
            "/usr/local/lib/python3.7/dist-packages/numpy/lib/nanfunctions.py:1544: RuntimeWarning:\n",
            "\n",
            "overflow encountered in multiply\n",
            "\n",
            "/usr/local/lib/python3.7/dist-packages/numpy/lib/nanfunctions.py:1544: RuntimeWarning:\n",
            "\n",
            "overflow encountered in multiply\n",
            "\n"
          ],
          "name": "stderr"
        },
        {
          "output_type": "stream",
          "text": [
            "Kendal uplift rank correlation =  0.19999999999999998 with p_value =  0.4843127204585538\n"
          ],
          "name": "stdout"
        },
        {
          "output_type": "stream",
          "text": [
            "/usr/local/lib/python3.7/dist-packages/numpy/lib/nanfunctions.py:1544: RuntimeWarning:\n",
            "\n",
            "overflow encountered in multiply\n",
            "\n",
            "/usr/local/lib/python3.7/dist-packages/numpy/lib/nanfunctions.py:1544: RuntimeWarning:\n",
            "\n",
            "overflow encountered in multiply\n",
            "\n"
          ],
          "name": "stderr"
        },
        {
          "output_type": "stream",
          "text": [
            "Kendal uplift rank correlation =  0.6 with p_value =  0.016666115520282188\n"
          ],
          "name": "stdout"
        },
        {
          "output_type": "stream",
          "text": [
            "/usr/local/lib/python3.7/dist-packages/numpy/lib/nanfunctions.py:1544: RuntimeWarning:\n",
            "\n",
            "overflow encountered in multiply\n",
            "\n",
            "/usr/local/lib/python3.7/dist-packages/numpy/lib/nanfunctions.py:1544: RuntimeWarning:\n",
            "\n",
            "overflow encountered in multiply\n",
            "\n"
          ],
          "name": "stderr"
        },
        {
          "output_type": "stream",
          "text": [
            "Kendal uplift rank correlation =  0.6888888888888888 with p_value =  0.00468694885361552\n"
          ],
          "name": "stdout"
        },
        {
          "output_type": "stream",
          "text": [
            "/usr/local/lib/python3.7/dist-packages/numpy/lib/nanfunctions.py:1544: RuntimeWarning:\n",
            "\n",
            "overflow encountered in multiply\n",
            "\n",
            "/usr/local/lib/python3.7/dist-packages/numpy/lib/nanfunctions.py:1544: RuntimeWarning:\n",
            "\n",
            "overflow encountered in multiply\n",
            "\n"
          ],
          "name": "stderr"
        },
        {
          "output_type": "stream",
          "text": [
            "Kendal uplift rank correlation =  0.4222222222222222 with p_value =  0.10831349206349207\n"
          ],
          "name": "stdout"
        },
        {
          "output_type": "stream",
          "text": [
            "/usr/local/lib/python3.7/dist-packages/numpy/lib/nanfunctions.py:1544: RuntimeWarning:\n",
            "\n",
            "overflow encountered in multiply\n",
            "\n",
            "/usr/local/lib/python3.7/dist-packages/numpy/lib/nanfunctions.py:1544: RuntimeWarning:\n",
            "\n",
            "overflow encountered in multiply\n",
            "\n"
          ],
          "name": "stderr"
        },
        {
          "output_type": "stream",
          "text": [
            "Kendal uplift rank correlation =  0.3333333333333333 with p_value =  0.21637345679012346\n"
          ],
          "name": "stdout"
        },
        {
          "output_type": "stream",
          "text": [
            "/usr/local/lib/python3.7/dist-packages/numpy/lib/nanfunctions.py:1544: RuntimeWarning:\n",
            "\n",
            "overflow encountered in multiply\n",
            "\n",
            "/usr/local/lib/python3.7/dist-packages/numpy/lib/nanfunctions.py:1544: RuntimeWarning:\n",
            "\n",
            "overflow encountered in multiply\n",
            "\n"
          ],
          "name": "stderr"
        },
        {
          "output_type": "stream",
          "text": [
            "Kendal uplift rank correlation =  0.6 with p_value =  0.016666115520282188\n"
          ],
          "name": "stdout"
        },
        {
          "output_type": "stream",
          "text": [
            "/usr/local/lib/python3.7/dist-packages/numpy/lib/nanfunctions.py:1544: RuntimeWarning:\n",
            "\n",
            "overflow encountered in multiply\n",
            "\n",
            "/usr/local/lib/python3.7/dist-packages/numpy/lib/nanfunctions.py:1544: RuntimeWarning:\n",
            "\n",
            "overflow encountered in multiply\n",
            "\n"
          ],
          "name": "stderr"
        },
        {
          "output_type": "stream",
          "text": [
            "Kendal uplift rank correlation =  0.37777777777777777 with p_value =  0.1557418430335097\n"
          ],
          "name": "stdout"
        },
        {
          "output_type": "stream",
          "text": [
            "/usr/local/lib/python3.7/dist-packages/numpy/lib/nanfunctions.py:1544: RuntimeWarning:\n",
            "\n",
            "overflow encountered in multiply\n",
            "\n",
            "/usr/local/lib/python3.7/dist-packages/numpy/lib/nanfunctions.py:1544: RuntimeWarning:\n",
            "\n",
            "overflow encountered in multiply\n",
            "\n"
          ],
          "name": "stderr"
        },
        {
          "output_type": "stream",
          "text": [
            "Kendal uplift rank correlation =  0.5555555555555555 with p_value =  0.02860945767195767\n"
          ],
          "name": "stdout"
        },
        {
          "output_type": "stream",
          "text": [
            "/usr/local/lib/python3.7/dist-packages/numpy/lib/nanfunctions.py:1544: RuntimeWarning:\n",
            "\n",
            "overflow encountered in multiply\n",
            "\n",
            "/usr/local/lib/python3.7/dist-packages/numpy/lib/nanfunctions.py:1544: RuntimeWarning:\n",
            "\n",
            "overflow encountered in multiply\n",
            "\n"
          ],
          "name": "stderr"
        },
        {
          "output_type": "stream",
          "text": [
            "Kendal uplift rank correlation =  0.5111111111111111 with p_value =  0.04662257495590829\n"
          ],
          "name": "stdout"
        },
        {
          "output_type": "stream",
          "text": [
            "/usr/local/lib/python3.7/dist-packages/numpy/lib/nanfunctions.py:1544: RuntimeWarning:\n",
            "\n",
            "overflow encountered in multiply\n",
            "\n",
            "/usr/local/lib/python3.7/dist-packages/numpy/lib/nanfunctions.py:1544: RuntimeWarning:\n",
            "\n",
            "overflow encountered in multiply\n",
            "\n"
          ],
          "name": "stderr"
        },
        {
          "output_type": "stream",
          "text": [
            "Kendal uplift rank correlation =  -0.06666666666666667 with p_value =  0.8618005952380953\n"
          ],
          "name": "stdout"
        },
        {
          "output_type": "stream",
          "text": [
            "/usr/local/lib/python3.7/dist-packages/numpy/lib/nanfunctions.py:1544: RuntimeWarning:\n",
            "\n",
            "overflow encountered in multiply\n",
            "\n",
            "/usr/local/lib/python3.7/dist-packages/numpy/lib/nanfunctions.py:1544: RuntimeWarning:\n",
            "\n",
            "overflow encountered in multiply\n",
            "\n"
          ],
          "name": "stderr"
        },
        {
          "output_type": "stream",
          "text": [
            "Kendal uplift rank correlation =  0.37777777777777777 with p_value =  0.1557418430335097\n",
            "uplift5%: mean:  0.09984563427452942 | sem:  0.002756289052032478\n"
          ],
          "name": "stdout"
        }
      ]
    },
    {
      "cell_type": "code",
      "metadata": {
        "id": "Te0hK3Mv3Hkh"
      },
      "source": [
        "def uplift_at_k(y_target, prediction_score, treatment, rate=0.3):\n",
        "\n",
        "    check_consistent_length(y_target, prediction_score, treatment)\n",
        "    prediction_score = np.array(prediction_score)\n",
        "    order = np.argsort(prediction_score, kind='mergesort')[::-1]\n",
        "    # order = np.argsort(-prediction_score)\n",
        "    treatment_n = int((treatment == 1).sum() * rate)\n",
        "    treatment_p = y_target[order][treatment[order] == 1][:treatment_n].mean()\n",
        "    control_n = int((treatment == 0).sum() * rate)\n",
        "    control_p = y_target[order][treatment[order] == 0][:control_n].mean()\n",
        "    score = treatment_p - control_p\n",
        "    return score\n"
      ],
      "execution_count": null,
      "outputs": []
    },
    {
      "cell_type": "code",
      "metadata": {
        "id": "mMrXSfMTiVDd"
      },
      "source": [
        "X_test_1 = torch.FloatTensor(X_test_1)\n",
        "X_test_0 = torch.FloatTensor(X_test_0)\n",
        "\n",
        "model.eval()\n",
        "\n",
        "mu_1 = model(X_test_1)\n",
        "mu_0 = model(X_test_0)\n",
        "\n",
        "pred = mu_1-mu_0\n",
        "\n",
        "# print(pred)\n",
        "\n",
        "# print(torch.min(pred))\n",
        "\n",
        "pred = pred.detach().numpy()\n",
        "\n",
        "# print(pred)\n",
        "# print(y_test)\n",
        "\n",
        "pred = pred.reshape((-1,)) \n",
        "# print(pred)\n",
        "  \n",
        "pred = pd.Series(pred, index = y_test.index)\n",
        "\n",
        "print(\"qini_auc_score\",qini_auc_score(y_test, pred, treatment_test))\n",
        "\n",
        "\n",
        "print(\"uplift_at_30%\",uplift_at_k(y_test, pred, treatment_test))\n",
        "# print(y_train[0:10])\n",
        "# print(\"------------------\")\n",
        "# print(treatment_train[0:10])\n",
        "\n",
        "\n",
        "\n",
        "\n"
      ],
      "execution_count": null,
      "outputs": []
    },
    {
      "cell_type": "code",
      "metadata": {
        "id": "ZYSyNf7N6WVp"
      },
      "source": [
        "from UPLIFT_modeling.uplift.metrics import qini_curve\n",
        "x,y = qini_curve(y_test, pred, treatment_test)\n",
        "plt.plot(x, y)\n",
        "plt.plot([ x[0], x[len(x)-1] ], [ y[0], y[len(y) - 1  ]] )\n",
        "\n",
        "plt.title('alpha=0.3 - лучший результат')"
      ],
      "execution_count": null,
      "outputs": []
    },
    {
      "cell_type": "code",
      "metadata": {
        "id": "embVSUfReUlH"
      },
      "source": [
        "from UPLIFT_modeling.uplift.vizualization import plot_qini_curve\n",
        "plot_qini_curve(y_test, pred, treatment_test)"
      ],
      "execution_count": null,
      "outputs": []
    },
    {
      "cell_type": "markdown",
      "metadata": {
        "id": "e3pG4SIWxshm"
      },
      "source": [
        "6912405.144559544 alpha = 0.2\n",
        "\n",
        "alpha = 0.0  0\n",
        "\n",
        "alpha = 0.1 663*10^4   0.048\n",
        "\n",
        "alpha = 0.2   760*10^4\n",
        "\n",
        "alpha = 0.3    804*10^4   0.053\n",
        "\n",
        "alpha = 0.4   605*10^4  0.049\n",
        "\n",
        "alpha = 0.5   688*10^4 0.054\n",
        "\n",
        "alpha = 0.6   635*10^4 0.047\n",
        "\n",
        "alpha = 0.7  728*10^4  0.057\n",
        "\n",
        "alpha = 0.8  379*10^4 0.051\n",
        "\n",
        "alpha = 0.9 365*10^4 0.044\n",
        "\n",
        "alpha = 1.0 145*10^4  0.042\n"
      ]
    },
    {
      "cell_type": "code",
      "metadata": {
        "id": "EUxzIshC0lpL"
      },
      "source": [
        "import matplotlib.pyplot as plt\n",
        "\n",
        "\n",
        "plt.plot(['0.0','0.1','0.2','0.3','0.4','0.5','0.6','0.7','0.8','0.9','1.0'], [0, 663, 760, 804, 605,688,635,728,379,365,145])\n",
        "plt.title('Сравнение вкладов каждого из лосс')\n",
        "plt.xlabel('alpha')\n",
        "plt.ylabel('площадь под qini кривой (auqc)')\n",
        "\n",
        "plt.show()"
      ],
      "execution_count": null,
      "outputs": []
    },
    {
      "cell_type": "code",
      "metadata": {
        "id": "JPMlwkGzDX2m"
      },
      "source": [
        "X_train_1 = torch.FloatTensor(X_train_1)\n",
        "X_train_0 = torch.FloatTensor(X_train_0)\n",
        "\n",
        "\n",
        "\n",
        "\n",
        "\n",
        "model.eval()\n",
        "\n",
        "mu_1 = model(X_train_1)\n",
        "mu_0 = model(X_train_0)\n",
        "\n",
        "pred = mu_1-mu_0\n",
        "\n",
        "print(pred)\n",
        "\n",
        "pred = pred.detach().numpy()\n",
        "print(qini_auc_score(y_train, pred, treatment_train))\n",
        "\n",
        "# print(y_train[0:10])\n",
        "# print(\"------------------\")\n",
        "# print(treatment_train[0:10])\n",
        "# plot_qini_curve(y_train, pred, treatment_train)\n",
        "\n",
        "# tm_uplift_at_k = uplift_at_k(y_true=y_train, uplift=pred, treatment=treatment_train,\n",
        "#                              strategy='overall', k=0.3)\n",
        "\n",
        "print(tm_uplift_at_k)\n",
        "\n",
        "# print(torch.max(pred))"
      ],
      "execution_count": null,
      "outputs": []
    },
    {
      "cell_type": "markdown",
      "metadata": {
        "id": "cz4cLfVvZHIL"
      },
      "source": [
        "proposing network with sigmoid\n",
        "\n",
        "\n",
        "\n"
      ]
    },
    {
      "cell_type": "code",
      "metadata": {
        "id": "i3IxOEpZZEXc"
      },
      "source": [
        "import torch\n",
        "from torch.autograd import Variable\n",
        "import torch.nn as nn\n",
        "import torch.nn.functional as F\n",
        "\n",
        "import random\n",
        "import numpy as np\n",
        "import torch.optim as optim\n",
        "import matplotlib.pyplot as plt\n",
        "from statistics import mean\n",
        "\n",
        "batch_size = 35006   # Number of samples in each batch\n",
        "epoch_num = 40   # Number of epochs to train the network\n",
        "lr = 0.0001        # Learning rate\n",
        "\n",
        "\n",
        "\n",
        "\n",
        "\n",
        "class Model(nn.Module):\n",
        "    def __init__(self):\n",
        "        super(Model, self).__init__()\n",
        "        self.fc1 = nn.Linear(334, 200)\n",
        "        self.fc2 = nn.Linear(200, 100)\n",
        "        self.fc3 = nn.Linear(100, 1)\n",
        "\n",
        "    def forward(self, x):\n",
        "        \n",
        "        x = F.relu(self.fc1(x))\n",
        "        x = F.relu(self.fc2(x))\n",
        "        x = self.fc3(x)\n",
        "        m = nn.Sigmoid()\n",
        "        return m(x)\n",
        "        \n",
        "\n",
        "model = Model()\n",
        "alpha = 0.8\n",
        "\n",
        "# device = torch.device(\"cuda:0\" if torch.cuda.is_available() else \"cpu\")\n",
        "# print(device)\n",
        "# model.to(device)\n",
        "# print(model)\n",
        "\n",
        "\n",
        "# #convert to torch structure\n",
        "# X_test_1_tensor = torch.FloatTensor(X_test_1) \n",
        "# X_test_0_tensor = torch.FloatTensor(X_test_0)\n",
        "\n",
        "\n",
        "# #convert to torch structure\n",
        "# treatment_test = treatment_test.to_numpy()\n",
        "# treatment_test = torch.from_numpy(treatment_test).int()\n",
        "# treatment_test = Variable(treatment_test)\n",
        "\n",
        "\n",
        "# #convert to torch structure\n",
        "# y_test = y_test.to_numpy()\n",
        "# y_test = torch.from_numpy(y_test).float()\n",
        "# y_test  = Variable(y_test)\n",
        "\n",
        "\n",
        "# #convert to torch structure\n",
        "# Z_trans_test = Z_trans_test.to_numpy()\n",
        "# Z_trans_test = torch.from_numpy(Z_trans_test).float()\n",
        "# Z_trans_test = Variable(Z_trans_test)\n",
        "\n",
        "\n",
        "#init loaders\n",
        "# train_loader = DataLoader(dataset=train_data, batch_size=batch_size, shuffle=True)\n",
        "# test_loader = DataLoader(dataset=test_data, batch_size=1)\n",
        "\n",
        "\n",
        "# calculate the number of batches per epoch\n",
        "batch_per_ep = X_train.shape[0] // batch_size\n",
        "\n",
        "# define the loss (criterion) and create an optimizer\n",
        "optimizer = optim.Adam(model.parameters())\n",
        "\n",
        "# define lists of losses to store\n",
        "all_losses  = []\n",
        "test_losses = []\n",
        "min_losses = []\n",
        "\n",
        "\n",
        "model.train()\n",
        "# epochs loop\n",
        "for ep in range(epoch_num):  \n",
        "    print(\".......................... epoch =\",ep,\"..........................\")\n",
        "    i = 0\n",
        "    # batches loop\n",
        "    for batch_n in range(batch_per_ep):  \n",
        "        batch_loss = []\n",
        "       \n",
        "        \n",
        "        batch_1_feat = torch.FloatTensor(X_train_1[i:i+batch_size])\n",
        "        batch_0_feat = torch.FloatTensor(X_train_0[i:i+batch_size])\n",
        "        \n",
        "        batch_label = y_train[i:i+batch_size]\n",
        "        batch_Z_trans = Z_trans_train[i:i+batch_size]\n",
        "\n",
        "        optimizer.zero_grad()\n",
        "        # Forward pass (predict)\n",
        "        mu_1_target_class = model(batch_1_feat)\n",
        "        mu_0_target_class = model(batch_0_feat)\n",
        "\n",
        "        #convert to torch structure\n",
        "        treatment_batch = treatment_train[i:i+batch_size]\n",
        "        treatment_batch = treatment_batch.to_numpy()\n",
        "        treatment_batch = torch.from_numpy(treatment_batch).int()\n",
        "        treatment_batch = Variable(treatment_batch)\n",
        "\n",
        "        mu_0_target_class = torch.reshape(mu_0_target_class, shape = (-1,))\n",
        "        mu_1_target_class = torch.reshape(mu_1_target_class, shape =(-1,) )\n",
        "        \n",
        "        # print(\"mu_0\", mu_0_target_class)\n",
        "        # print(\"mu_1\", mu_1_target_class)\n",
        "\n",
        "        ones = np.ones(shape = batch_size)\n",
        "        ones = torch.from_numpy(ones).float()\n",
        "        \n",
        "\n",
        "       \n",
        "        #implements mu = T * mu_1 + (1-T) * mu_0\n",
        "        uplift_pred_Y = treatment_batch * mu_1_target_class + (ones - treatment_batch) * mu_0_target_class \n",
        "\n",
        "        \n",
        "\n",
        "        \n",
        "        #convert to torch structure\n",
        "        batch_label = batch_label.to_numpy()\n",
        "        batch_label = torch.from_numpy(batch_label).float()\n",
        "        batch_label = Variable(batch_label)\n",
        "\n",
        "       \n",
        "        #convert to torch structure\n",
        "        batch_Z_trans = batch_Z_trans.to_numpy()\n",
        "        batch_Z_trans = torch.from_numpy(batch_Z_trans).float()\n",
        "        batch_Z_trans = Variable(batch_Z_trans)\n",
        "        batch_Z_trans = torch.reshape(batch_Z_trans, shape = (-1,))\n",
        "        \n",
        "        #declare losses\n",
        "        loss_cross = nn.BCELoss(reduction = 'mean')\n",
        "        loss_MSE = nn.MSELoss()\n",
        "\n",
        "        #implements uplift_predicted = mu_1 - mu_0\n",
        "        uplift_pred = mu_1_target_class - mu_0_target_class \n",
        "        \n",
        "        \n",
        "        # print(\"uplift_pred\", uplift_pred)\n",
        "\n",
        "        \n",
        "\n",
        "        \n",
        "\n",
        "        sum_of_losses = torch.mean(  (1-alpha) * loss_MSE(batch_Z_trans, uplift_pred) + alpha * loss_cross( uplift_pred_Y, batch_label))\n",
        "        # print(loss_contrastive)\n",
        "        batch_loss.append(sum_of_losses)\n",
        "        # print(\"train AUQC:\", qini_auc_score(batch_label.cpu().detach().numpy(), uplift_pred.cpu().detach().numpy(), treatment_batch.cpu().detach().numpy() ))\n",
        "\n",
        "        \n",
        "        # print(batch_n, loss_contrastive)\n",
        "\n",
        "\n",
        "        # plot_qini_curve(batch_label.cpu().detach().numpy(), uplift_pred.cpu().detach().numpy(), treatment_batch.cpu().detach().numpy())\n",
        "        # print(qini_auc_score(batch_label.cpu().detach().numpy(), uplift_pred.cpu().detach().numpy(), treatment_batch.cpu().detach().numpy() ))\n",
        "        \n",
        "        # Backward pass and updates\n",
        "        sum_of_losses.backward()                     # calculate the gradients\n",
        "        optimizer.step()                    # update the weights\n",
        "        i += batch_size\n",
        "        #end for !!!!!!!!!!!!!!!!!!!\n",
        "\n",
        "    # plot_qini_curve(batch_label.cpu().detach().numpy(), uplift_pred.cpu().detach().numpy(), treatment_batch.cpu().detach().numpy())\n",
        "    print(qini_auc_score(batch_label.cpu().detach().numpy(), uplift_pred.cpu().detach().numpy(), treatment_batch.cpu().detach().numpy() ))\n",
        "    batch_loss  = list(batch_loss)\n",
        "    all_losses.append( sum(batch_loss) / len(batch_loss) ) \n",
        "\n",
        "    # #work with test dataset\n",
        "\n",
        "    # mu_1 = model(X_test_1_tensor)\n",
        "    # mu_0 = model(X_test_0_tensor)\n",
        "\n",
        "    # mu_1_target_class = mu_1\n",
        "    # mu_0_target_class = mu_0\n",
        "\n",
        "    # ones = np.ones(shape = X_test_1.shape[0])\n",
        "    # ones = torch.from_numpy(ones).float()\n",
        "\n",
        "    # #implements mu = T * mu_1 + (1-T) * mu_0\n",
        "    # uplift_pred_Y = treatment_test * mu_1_target_class + (ones - treatment_test) * mu_0_target_class \n",
        "\n",
        "    # mu_0_target_class = torch.reshape(mu_0_target_class, (-1,))\n",
        "    # mu_1_target_class = torch.reshape(mu_1_target_class, (-1,))\n",
        "    \n",
        "\n",
        "    \n",
        "   \n",
        "    \n",
        "    # #declare losses\n",
        "    # loss_cross = nn.BCELoss(reduction = 'mean')\n",
        "    # loss_MSE = nn.MSELoss()\n",
        "\n",
        "    # #implements uplift_predicted = mu_1 - mu_0\n",
        "    # uplift_pred = mu_1_target_class - mu_0_target_class \n",
        "\n",
        "    # sum_of_losses =torch.mean(  (1-alpha) * loss_MSE(Z_trans_test, uplift_pred) + alpha * loss_cross( uplift_pred_Y, y_test) )\n",
        "    # test_losses.append(sum_of_losses)\n",
        "\n",
        "import matplotlib.pyplot as plt\n",
        "\n",
        "plt.plot(all_losses, color='green')\n",
        "plt.title('sum_of_losses')\n",
        "plt.show()\n",
        "\n",
        "# plt.plot(test_losses, color='blue')\n",
        "# plt.title('sum_of_losses')\n",
        "# plt.show()\n",
        "\n",
        "\n",
        "\n"
      ],
      "execution_count": null,
      "outputs": []
    },
    {
      "cell_type": "code",
      "metadata": {
        "id": "QpsL9Oq8PKVN"
      },
      "source": [
        "X_train_1 = torch.FloatTensor(X_train_1)\n",
        "X_train_0 = torch.FloatTensor(X_train_0)\n",
        "\n",
        "\n",
        "\n",
        "model.eval()\n",
        "\n",
        "mu_1 = model(X_train_1)\n",
        "mu_0 = model(X_train_0)\n",
        "\n",
        "pred = mu_1-mu_0\n",
        "print(qini_auc_score(y_train, pred.detach().numpy(), treatment_train))\n",
        "\n",
        "print(pred)\n",
        "print(torch.max(pred))"
      ],
      "execution_count": null,
      "outputs": []
    },
    {
      "cell_type": "markdown",
      "metadata": {
        "id": "gFLXT97dapoc"
      },
      "source": [
        "example of siamese network!!!!\n",
        "2 out, softmax two classification\n",
        "\n",
        "\n",
        " "
      ]
    },
    {
      "cell_type": "code",
      "metadata": {
        "id": "qzEBJvdtZdi-"
      },
      "source": [
        "from __future__ import print_function\n",
        "import torch\n",
        "from torch.autograd import Variable\n",
        "import torch.nn as nn\n",
        "import torch.nn.functional as F\n",
        "\n",
        "import random\n",
        "import numpy as np\n",
        "import torch.optim as optim\n",
        "import matplotlib.pyplot as plt\n",
        "from statistics import mean\n",
        "\n",
        "batch_size = 55   # Number of samples in each batch\n",
        "epoch_num = 12      # Number of epochs to train the network\n",
        "lr = 0.001        # Learning rate\n",
        "import torch.nn.functional as F\n",
        "\n",
        "\n",
        "\n",
        "\n",
        "class Model(nn.Module):\n",
        "    def __init__(self):\n",
        "        super(Model, self).__init__()\n",
        "        self.fc1 = nn.Linear(334, 200)\n",
        "        self.fc2 = nn.Linear(200, 100)\n",
        "        self.fc3 = nn.Linear(100, 2)\n",
        "\n",
        "    def forward(self, x):\n",
        "        x = F.relu(self.fc1(x))\n",
        "        x = F.relu(self.fc2(x))\n",
        "        x = self.fc3(x)\n",
        "        return torch.exp(F.log_softmax(x,dim=1))    # F.log_softmax = log( exp(x_i) / exp(x).sum() )\n",
        "        #return x\n",
        "\n",
        "\n",
        "\n",
        "model = Model()\n",
        "alpha = 0.3\n",
        "\n",
        "\n",
        "# calculate the number of batches per epoch\n",
        "batch_per_ep = X_train.shape[0] // batch_size\n",
        "\n",
        "# define the loss (criterion) and create an optimizer\n",
        "optimizer = optim.SGD(model.parameters(), lr=lr)\n",
        "\n",
        "X_test_1_tensor = torch.FloatTensor(X_test_1)\n",
        "X_test_0_tensor = torch.FloatTensor(X_test_0)\n",
        "\n",
        "treatment_test = treatment_test.to_numpy()\n",
        "treatment_test = torch.from_numpy(treatment_test).int()\n",
        "treatment_test = Variable(treatment_test)\n",
        "\n",
        "y_test = y_test.to_numpy()\n",
        "y_test = torch.from_numpy(y_test ).float()\n",
        "y_test  = Variable(y_test )\n",
        "\n",
        "\n",
        "#convert to torch structure\n",
        "Z_trans_test = Z_trans_test.to_numpy()\n",
        "Z_trans_test = torch.from_numpy(Z_trans_test).float()\n",
        "Z_trans_test = Variable(Z_trans_test)\n",
        "\n",
        "Z_trans_test = torch.reshape(Z_trans_test, (X_test_1.shape[0],1))\n",
        "\n",
        "all_losses  = []\n",
        "test_losses = []\n",
        "min_losses = []\n",
        "\n",
        "for ep in range(epoch_num):  # epochs loop\n",
        "    print(\"..........................epoch =\",ep,\"..........................\")\n",
        "    i = 0\n",
        "    for batch_n in range(batch_per_ep):  # batches loop\n",
        "        batch_loss = []\n",
        "       \n",
        "        \n",
        "        batch_1_feat = torch.FloatTensor(X_train_1[i:i+batch_size])\n",
        "        batch_0_feat = torch.FloatTensor(X_train_0[i:i+batch_size])\n",
        "        \n",
        "        batch_label = y_train[i:i+batch_size]\n",
        "        batch_Z_trans = Z_trans_train[i:i+batch_size]\n",
        "\n",
        "        # Reset gradients\n",
        "        # optimizer.zero_grad()\n",
        "\n",
        "        # Forward pass\n",
        "        mu_1 = model(batch_1_feat)\n",
        "        mu_0 = model(batch_0_feat)\n",
        "\n",
        "        mu_1_target_class = mu_1[:,1]\n",
        "        mu_0_target_class = mu_0[:,1]\n",
        "\n",
        "        treatment_batch = treatment_train[i:i+batch_size]\n",
        "        treatment_batch = treatment_batch.to_numpy()\n",
        "        treatment_batch = torch.from_numpy(treatment_batch).int()\n",
        "        treatment_batch = Variable(treatment_batch)\n",
        "\n",
        "\n",
        "        \n",
        "        \n",
        "        ones = np.ones(shape = batch_size)\n",
        "        ones = torch.from_numpy(ones).float()\n",
        "        #implements mu = T * mu_1 + (1-T) * mu_0\n",
        "        uplift_pred_Y = treatment_batch * mu_1_target_class + (ones - treatment_batch) * mu_0_target_class \n",
        "\n",
        "\n",
        "        mu_0_target_class = torch.reshape(mu_0_target_class, (batch_size,1))\n",
        "        mu_1_target_class = torch.reshape(mu_1_target_class, (batch_size,1))\n",
        "        #convert to torch structure\n",
        "        batch_label = batch_label.to_numpy()\n",
        "        batch_label = torch.from_numpy(batch_label).float()\n",
        "        batch_label = Variable(batch_label)\n",
        "\n",
        "       \n",
        "        #convert to torch structure\n",
        "        batch_Z_trans = batch_Z_trans.to_numpy()\n",
        "        batch_Z_trans = torch.from_numpy(batch_Z_trans).float()\n",
        "        batch_Z_trans = Variable(batch_Z_trans)\n",
        "\n",
        "        batch_Z_trans = torch.reshape(batch_Z_trans, (batch_size,1))\n",
        "        \n",
        "        #declare losses\n",
        "        loss_cross = nn.BCELoss(reduction = 'sum')\n",
        "        loss_MSE = nn.MSELoss()\n",
        "\n",
        "        #implements uplift_predicted = mu_1 - mu_0\n",
        "        uplift_pred = mu_1_target_class - mu_0_target_class \n",
        "        \n",
        "\n",
        "        \n",
        "        loss_contrastive = torch.mean(  (1-alpha) * loss_MSE(batch_Z_trans, uplift_pred) + alpha * loss_cross( uplift_pred_Y, batch_label))\n",
        "        \n",
        "        batch_loss.append(loss_contrastive)\n",
        "        \n",
        "\n",
        "        \n",
        "        # print(batch_n, loss_contrastive)\n",
        "\n",
        "\n",
        "        optimizer.zero_grad()\n",
        "        # Backward pass and updates\n",
        "        loss_contrastive.backward()                     # calculate the gradients\n",
        "        optimizer.step()                    # update the weights\n",
        "        i += batch_size\n",
        "        #end for!!!!!!!!!!!!!!!!!!!\n",
        "\n",
        "    batch_loss  = list(batch_loss)\n",
        "    all_losses.append( sum(batch_loss) / len(batch_loss)) \n",
        "    #work with test dataset\n",
        "\n",
        "    mu_1 = model(X_test_1_tensor)\n",
        "    mu_0 = model(X_test_0_tensor)\n",
        "\n",
        "    mu_1_target_class = mu_1[:,1]\n",
        "    mu_0_target_class = mu_0[:,1]\n",
        "\n",
        "    ones = np.ones(shape = X_test_1.shape[0])\n",
        "    ones = torch.from_numpy(ones).float()\n",
        "\n",
        "    #implements mu = T * mu_1 + (1-T) * mu_0\n",
        "    uplift_pred_Y = treatment_test * mu_1_target_class + (ones - treatment_test) * mu_0_target_class \n",
        "\n",
        "    mu_0_target_class = torch.reshape(mu_0_target_class, (X_test_1.shape[0],1))\n",
        "    mu_1_target_class = torch.reshape(mu_1_target_class, (X_test_1.shape[0],1))\n",
        "    \n",
        "\n",
        "    \n",
        "   \n",
        "    \n",
        "    #declare losses\n",
        "    loss_cross = nn.BCELoss(reduction = 'sum')\n",
        "    loss_MSE = nn.MSELoss()\n",
        "\n",
        "    #implements uplift_predicted = mu_1 - mu_0\n",
        "    uplift_pred = mu_1_target_class - mu_0_target_class \n",
        "\n",
        "    loss_contrastive =torch.mean(  (1-alpha) * loss_MSE(Z_trans_test, uplift_pred) + alpha * loss_cross( uplift_pred_Y, y_test))\n",
        "    test_losses.append(loss_contrastive)\n",
        "    \n",
        "    # print(qini_auc_score(y_test.cpu().detach().numpy(), uplift_pred.cpu().detach().numpy(), treatment_test.cpu().detach().numpy() ))\n",
        "\n",
        "import matplotlib.pyplot as plt\n",
        "plt.plot(all_losses,color='blue')\n",
        "# plt.plot(test_losses, color='green')\n",
        "plt.title('Contrastive Loss')\n",
        "plt.show()\n",
        "\n",
        "plt.plot(all_losses,color='blue')\n",
        "plt.show()"
      ],
      "execution_count": null,
      "outputs": []
    },
    {
      "cell_type": "code",
      "metadata": {
        "id": "oqmylLF-06iI"
      },
      "source": [
        "\n",
        "from UPLIFT_modeling.uplift.metrics import uplift_at_k,qini_auc_score\n",
        "\n",
        "X_test_1 = torch.FloatTensor(X_test_1)\n",
        "X_test_0 = torch.FloatTensor(X_test_0)\n",
        "\n",
        "model.eval()\n",
        "\n",
        "mu_1 = model(X_test_1)\n",
        "mu_0 = model(X_test_0)\n",
        "\n",
        "pred = mu_1-mu_0\n",
        "\n",
        "\n",
        "\n",
        "pred = pred.detach().numpy()\n",
        "\n",
        "\n",
        "\n",
        "\n",
        "\n",
        "# pred = pred.reshape((-1,)) \n",
        "\n",
        "  \n",
        "# pred = pd.Series(pred, index = y_test.index)\n",
        "\n",
        "\n",
        "print(y_test.shape)\n",
        "print(pred.shape)\n",
        "print(treatment_test.shape)\n",
        "\n",
        "print(\"qini_auc_score\",qini_auc_score(y_test, pred[:,0], treatment_test))\n",
        "\n",
        "\n",
        "print(\"uplift_at_30%\",uplift_at_k(y_test, pred, treatment_test))\n",
        "# print(y_train[0:10])\n",
        "# print(\"------------------\")\n",
        "# print(treatment_train[0:10])\n",
        "\n"
      ],
      "execution_count": null,
      "outputs": []
    },
    {
      "cell_type": "code",
      "metadata": {
        "id": "yOQ_S5FGayLT"
      },
      "source": [
        "from __future__ import print_function\n",
        "import torch\n",
        "from torch.autograd import Variable\n",
        "import torch.nn as nn\n",
        "import torch.nn.functional as F\n",
        "from torchsummary import summary\n",
        "import random\n",
        "import numpy as np\n",
        "import torch.optim as optim\n",
        "import matplotlib.pyplot as plt\n",
        "from statistics import mean\n",
        "\n",
        "batch_size = 55   # Number of samples in each batch\n",
        "epoch_num = 20      # Number of epochs to train the network\n",
        "lr = 0.001        # Learning rate\n",
        "import torch.nn.functional as F\n",
        "\n",
        "\n",
        "\n",
        "\n",
        "class Model(nn.Module):\n",
        "    def __init__(self):\n",
        "        super(Model, self).__init__()\n",
        "        self.fc1 = nn.Linear(334, 200)\n",
        "        self.fc2 = nn.Linear(200, 200)\n",
        "        self.fc3 = nn.Linear(200, 2)\n",
        "\n",
        "    def forward(self, x):\n",
        "        x = F.relu(self.fc1(x))\n",
        "        x = F.relu(self.fc2(x))\n",
        "        x = self.fc3(x)\n",
        "        return torch.exp(F.log_softmax(x,dim=1))\n",
        "        #return x\n",
        "\n",
        "\n",
        "\n",
        "model = Model()\n",
        "alpha = 0.8\n",
        "\n",
        "\n",
        "# calculate the number of batches per epoch\n",
        "batch_per_ep = X_train.shape[0] // batch_size\n",
        "\n",
        "# define the loss (criterion) and create an optimizer\n",
        "optimizer = optim.SGD(model.parameters(), lr=lr)\n",
        "\n",
        "\n",
        "\n",
        "\n",
        "\n",
        "\n",
        "\n",
        "Z_trans_test = torch.reshape(Z_trans_test, (X_test_1.shape[0],1))\n",
        "all_losses  = []\n",
        "min_losses =[]\n",
        "for ep in range(epoch_num):  # epochs loop\n",
        "    print(\"..........................epoch =\",ep,\"..........................\")\n",
        "    i = 0\n",
        "    for batch_n in range(batch_per_ep):  # batches loop\n",
        "        batch_loss = []\n",
        "       \n",
        "        \n",
        "        batch_1_feat = torch.FloatTensor(X_train_1[i:i+batch_size])\n",
        "        batch_0_feat = torch.FloatTensor(X_train_0[i:i+batch_size])\n",
        "        \n",
        "        batch_label = y_train[i:i+batch_size]\n",
        "        batch_Z_trans = Z_trans[i:i+batch_size]\n",
        "\n",
        "        # Reset gradients\n",
        "        # optimizer.zero_grad()\n",
        "\n",
        "        # Forward pass\n",
        "        mu_1 = model(batch_1_feat)\n",
        "        mu_0 = model(batch_0_feat)\n",
        "\n",
        "        mu_1_target_class = mu_1[:,1]\n",
        "        mu_0_target_class = mu_0[:,1]\n",
        "\n",
        "        treatment_batch = treatment_train[i:i+batch_size]\n",
        "        treatment_batch = torch.from_numpy(treatment_batch).int()\n",
        "        treatment_batch = Variable(treatment_batch)\n",
        "\n",
        "\n",
        "        \n",
        "        \n",
        "        ones = np.ones(shape = batch_size)\n",
        "        ones = torch.from_numpy(ones).float()\n",
        "        #implements mu = T * mu_1 + (1-T) * mu_0\n",
        "        uplift_pred_Y = treatment_batch * mu_1_target_class + (ones - treatment_batch) * mu_0_target_class \n",
        "\n",
        "\n",
        "        mu_0_target_class = torch.reshape(mu_0_target_class, (batch_size,1))\n",
        "        mu_1_target_class = torch.reshape(mu_1_target_class, (batch_size,1))\n",
        "        #convert to torch structure\n",
        "        batch_label = torch.from_numpy(batch_label).float()\n",
        "        batch_label = Variable(batch_label)\n",
        "\n",
        "       \n",
        "        #convert to torch structure\n",
        "        batch_Z_trans = batch_Z_trans.to_numpy()\n",
        "        batch_Z_trans = torch.from_numpy(batch_Z_trans).float()\n",
        "        batch_Z_trans = Variable(batch_Z_trans)\n",
        "\n",
        "        batch_Z_trans = torch.reshape(batch_Z_trans, (batch_size,1))\n",
        "        \n",
        "        #declare losses\n",
        "        loss_cross = nn.BCELoss(reduction = 'sum')\n",
        "        loss_MSE = nn.MSELoss()\n",
        "\n",
        "        #implements uplift_predicted = mu_1 - mu_0\n",
        "        uplift_pred = mu_1_target_class - mu_0_target_class \n",
        "\n",
        "        loss_contrastive =torch.mean(  (1-alpha) * loss_MSE(batch_Z_trans, uplift_pred) + alpha * loss_cross( uplift_pred_Y, batch_label))\n",
        "\n",
        "        batch_loss.append(loss_contrastive)\n",
        "        \n",
        "        # print(batch_n, loss_contrastive)\n",
        "\n",
        "\n",
        "        optimizer.zero_grad()\n",
        "        # Backward pass and updates\n",
        "        loss_contrastive.backward()                     # calculate the gradients\n",
        "        optimizer.step()                    # update the weights\n",
        "        i += batch_size\n",
        "    batch_loss  = list(batch_loss)\n",
        "    all_losses.append( sum(batch_loss) / len(batch_loss)) \n",
        "\n",
        "import matplotlib.pyplot as plt\n",
        "plt.plot(all_losses)\n",
        "plt.title('Contrastive Loss')\n",
        "plt.show()"
      ],
      "execution_count": null,
      "outputs": []
    },
    {
      "cell_type": "code",
      "metadata": {
        "id": "vCOiW7WcMNUc"
      },
      "source": [
        "import matplotlib.pyplot as plt\n",
        "plt.plot(all_losses[:210000])\n",
        "plt.title('Contrastive Loss')\n",
        "plt.show()"
      ],
      "execution_count": null,
      "outputs": []
    }
  ]
}